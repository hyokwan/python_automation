{
 "cells": [
  {
   "cell_type": "markdown",
   "id": "2ec4de3b-856d-4799-a2f0-91a2fb22a790",
   "metadata": {},
   "source": [
    "# 5.업체목록"
   ]
  },
  {
   "cell_type": "code",
   "execution_count": 1,
   "id": "48c62120-e0e1-4b51-bb8b-0dc20d7215c2",
   "metadata": {},
   "outputs": [],
   "source": [
    "### 기본라이브러리 정의"
   ]
  },
  {
   "cell_type": "code",
   "execution_count": 2,
   "id": "e612a735-180a-4bd2-9478-a0867ccbe1d1",
   "metadata": {
    "tags": []
   },
   "outputs": [
    {
     "data": {
      "text/plain": [
       "'../output/건설사업정보시스템/업체 목록/업체 목록.csv'"
      ]
     },
     "execution_count": 2,
     "metadata": {},
     "output_type": "execute_result"
    }
   ],
   "source": [
    "from common import commonFunc as cf\n",
    "import pandas as pd\n",
    "import pickle\n",
    "pd.set_option('display.max_columns', None)\n",
    "metadata = pd.read_excel(\"../input/datalake_meta22.xlsx\")\n",
    "\n",
    "SITENAME = \"건설사업정보시스템\"\n",
    "DATANAME= \"업체 목록\"\n",
    "### APIKEY 불러오기 ###\n",
    "with open(\"../input/calsapikey.pickle\",\"rb\") as fr:\n",
    "    APIKEY = pickle.load(fr)\n",
    "\n",
    "targetData = metadata.loc[metadata.자료명==DATANAME]\n",
    "preSetFolder = targetData[\"저장폴더\"].values[0]\n",
    "\n",
    "preSetFolder"
   ]
  },
  {
   "cell_type": "code",
   "execution_count": 3,
   "id": "affaa8c7-1400-4596-86bc-da25fcaf7dcb",
   "metadata": {},
   "outputs": [],
   "source": [
    "APIKEYLEN = len(APIKEY)"
   ]
  },
  {
   "cell_type": "code",
   "execution_count": 4,
   "id": "ad2b8762-c22a-40a7-a364-0384cae3952c",
   "metadata": {},
   "outputs": [
    {
     "data": {
      "text/plain": [
       "'selectIoCmProjCorpInfoList'"
      ]
     },
     "execution_count": 4,
     "metadata": {},
     "output_type": "execute_result"
    }
   ],
   "source": [
    "##### 파라미터 설정 #####\n",
    "URL = targetData[\"URL\"].values[0]\n",
    "SERVICENAME = targetData[\"서비스키\"].values[0]\n",
    "SERVICENAME = SERVICENAME.split(\".\")[0]\n",
    "SERVICENAME"
   ]
  },
  {
   "cell_type": "code",
   "execution_count": 5,
   "id": "c9757522-f86a-4dfa-9a3c-de8661c307af",
   "metadata": {},
   "outputs": [
    {
     "data": {
      "text/plain": [
       "['serviceKey', 'type', 'pageNo', 'numOfRows', 'sortField', 'sortOrder']"
      ]
     },
     "execution_count": 5,
     "metadata": {},
     "output_type": "execute_result"
    }
   ],
   "source": [
    "REQPARAM = targetData[\"요청변수\"].values[0]\n",
    "REQPARAM = REQPARAM.split(\",\")\n",
    "PRIMARYKEY = targetData[\"기본키\"].values[0]\n",
    "REQPARAM"
   ]
  },
  {
   "cell_type": "code",
   "execution_count": 6,
   "id": "45b41cf4-0bee-48c5-a163-f3605d7fbcb6",
   "metadata": {},
   "outputs": [],
   "source": [
    "# 페이지번호 설정\n",
    "PAGEYN=1\n",
    "if REQPARAM.count(\"pageNo\") == 0:\n",
    "    PAGEYN = 0\n",
    "else:\n",
    "    PAGEYN = 1\n",
    "### 기본정보 설정 및 파라미터 설정 ###"
   ]
  },
  {
   "cell_type": "code",
   "execution_count": 7,
   "id": "d089fa5a-6182-459b-b4aa-740f1f2800cd",
   "metadata": {},
   "outputs": [],
   "source": [
    "JSONKEY = \"items\"\n",
    "DUMMY = 0"
   ]
  },
  {
   "cell_type": "code",
   "execution_count": 8,
   "id": "bad92636-1350-4d5e-8f5c-60c45d123808",
   "metadata": {},
   "outputs": [
    {
     "name": "stdout",
     "output_type": "stream",
     "text": [
      "업체 목록 정보 new 모드 2 \n"
     ]
    }
   ],
   "source": [
    "newParam = []\n",
    "mode = 2\n",
    "if newParam==[]:\n",
    "    mode=2\n",
    "    print(\"{} 정보 new 모드 {} \".format(DATANAME, mode))"
   ]
  },
  {
   "cell_type": "code",
   "execution_count": 9,
   "id": "197c95d5-2cb1-467f-b738-cb7f169d111f",
   "metadata": {},
   "outputs": [],
   "source": [
    "pageNo = 1\n",
    "numOfRows = 1000\n"
   ]
  },
  {
   "cell_type": "code",
   "execution_count": 10,
   "id": "a9a150f6-575a-4e4e-b757-a3cc56765c27",
   "metadata": {
    "scrolled": true,
    "tags": []
   },
   "outputs": [
    {
     "name": "stdout",
     "output_type": "stream",
     "text": [
      "1 page scraping start apicall iter: 1 / used 11067238-08C1-4FDE-857B-4C865C85F2A7\n",
      "totalCount 1525\n",
      "2 page scraping start apicall iter: 2 / used 9D486CED-81E4-4884-96FF-BB1F14A9223B\n",
      "3 page scraping start apicall iter: 3 / used 11067238-08C1-4FDE-857B-4C865C85F2A7\n",
      "3 page is empty\n",
      "dataframe업체 목록, param:{'serviceKey': '11067238-08C1-4FDE-857B-4C865C85F2A7', 'pageNo': 3, 'numOfRows': 1000, 'type': 'json'} rows: 4 completed\n",
      "             cmnm         brn      rprnnm                           cwknm\n",
      "0       영진종합건설(주)  5048111829         하태준    봉화-법전간(법전우회도로) 4차선 확장 및 포장공사\n",
      "1         한솔건설(주)  2148178654         남정우             영주-감천간 도로 확장 및 포장공사\n",
      "2        (주) 한맥기술  1388101375    대표이사 이경훈                현동-내서 도로4차선 축조공사\n",
      "3         삼성건설(주)  6088106544         정종기                현동-내서 도로4차선 축조공사\n",
      "4         (주)삼전건설  6098108526         정연문                현동-내서 도로4차선 축조공사\n",
      "..            ...         ...         ...                             ...\n",
      "520  주식회사 경동엔지니어링  3128111675  대표이사 강 재 홍         안성천 평택지구 하천환경정비사업 외 28건\n",
      "521       조원건설(주)  4088134834    대표이사 노항섭               안성천 평택지구 하천환경정비사업\n",
      "522  주식회사 예향엔지니어링  1318658983         이창현  영산강 등 7개 국가하천 실시간 모니터링 체계 구축사업\n",
      "523     (유)미래원 토건  4188113632  대표이사 송 치 숙         양구서천 양구지구 하천환경정비사업 외 1건\n",
      "524     다인산업개발(주)  5038154872         류대하         화포천 화포1지구 하천환경정비사업 외 1건\n",
      "\n",
      "[1525 rows x 4 columns]\n",
      "------------------------------------------\n",
      "             cmnm         brn      rprnnm                           cwknm\n",
      "0       영진종합건설(주)  5048111829         하태준    봉화-법전간(법전우회도로) 4차선 확장 및 포장공사\n",
      "1         한솔건설(주)  2148178654         남정우             영주-감천간 도로 확장 및 포장공사\n",
      "2        (주) 한맥기술  1388101375    대표이사 이경훈                현동-내서 도로4차선 축조공사\n",
      "3         삼성건설(주)  6088106544         정종기                현동-내서 도로4차선 축조공사\n",
      "4         (주)삼전건설  6098108526         정연문                현동-내서 도로4차선 축조공사\n",
      "..            ...         ...         ...                             ...\n",
      "520  주식회사 경동엔지니어링  3128111675  대표이사 강 재 홍         안성천 평택지구 하천환경정비사업 외 28건\n",
      "521       조원건설(주)  4088134834    대표이사 노항섭               안성천 평택지구 하천환경정비사업\n",
      "522  주식회사 예향엔지니어링  1318658983         이창현  영산강 등 7개 국가하천 실시간 모니터링 체계 구축사업\n",
      "523     (유)미래원 토건  4188113632  대표이사 송 치 숙         양구서천 양구지구 하천환경정비사업 외 1건\n",
      "524     다인산업개발(주)  5038154872         류대하         화포천 화포1지구 하천환경정비사업 외 1건\n",
      "\n",
      "[1525 rows x 4 columns]\n"
     ]
    }
   ],
   "source": [
    "resultDfMerged = pd.DataFrame()\n",
    "resultDf = pd.DataFrame()\n",
    "\n",
    "pageList = [] # 4/28 추가\n",
    "APICALL = 0 #4/28 추가\n",
    "\n",
    "for i in range(0, 1):\n",
    "    apiNo = i%APIKEYLEN\n",
    "    BASEPARAM={\"serviceKey\":APIKEY[0],\"pageNo\": pageNo,\"numOfRows\": numOfRows, \"type\":\"json\"}\n",
    "#     resultDf = myscrapy(URL,SITENAME,DATANAME,SERVICENAME,BASEPARAM,PAGEYN, JSONKEY, DUMMY)\n",
    "    scrapyResult = cf.scrapy(URL,SITENAME,DATANAME,SERVICENAME,BASEPARAM,PAGEYN,APIKEY,APICALL) #신규 4/28\n",
    "    resultDf = scrapyResult[0]\n",
    "    pageList.append( scrapyResult[1] )\n",
    "    APICALL = scrapyResult[2] \n",
    "    print(resultDf)\n",
    "    resultDfMerged = resultDfMerged.append(resultDf)\n",
    "    print(\"------------------------------------------\")\n",
    "    print(resultDfMerged)  \n",
    "\n",
    "        "
   ]
  },
  {
   "cell_type": "markdown",
   "id": "19a5fb35-f468-4d22-a7c6-ef8077674892",
   "metadata": {
    "tags": []
   },
   "source": [
    "### 2. 디렉토리에 저장 (로컬임시"
   ]
  },
  {
   "cell_type": "code",
   "execution_count": 11,
   "id": "11a967eb-be20-4c98-a88f-b844a80ff2ae",
   "metadata": {},
   "outputs": [
    {
     "name": "stdout",
     "output_type": "stream",
     "text": [
      "업체 목록 save compled\n"
     ]
    }
   ],
   "source": [
    "# 데이터 저장\n",
    "cf.savedata(resultDfMerged, SITENAME,DATANAME,SERVICENAME, mode)"
   ]
  },
  {
   "cell_type": "code",
   "execution_count": 12,
   "id": "eef09f47-f8ec-4ed5-a9e4-016b2dfbf97d",
   "metadata": {},
   "outputs": [],
   "source": [
    "# 파라미터 저장\n",
    "# 기존사용된 파라미터 정보에 추가 파라미터 append 후 저장\n",
    "# ptlcmnoList = orgParam + ptlcmnoList\n",
    "# 파라미터 없는경우 ptlcmnoList = []\n",
    "ptlcmnoList = []\n",
    "paramList = [ptlcmnoList,pageList]\n",
    "# 최종 파라미터 저장\n",
    "cf.saveparam(paramList, SITENAME,DATANAME,SERVICENAME)"
   ]
  }
 ],
 "metadata": {
  "kernelspec": {
   "display_name": "Python 3 (ipykernel)",
   "language": "python",
   "name": "python3"
  },
  "language_info": {
   "codemirror_mode": {
    "name": "ipython",
    "version": 3
   },
   "file_extension": ".py",
   "mimetype": "text/x-python",
   "name": "python",
   "nbconvert_exporter": "python",
   "pygments_lexer": "ipython3",
   "version": "3.9.7"
  }
 },
 "nbformat": 4,
 "nbformat_minor": 5
}
