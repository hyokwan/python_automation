{
 "cells": [
  {
   "cell_type": "markdown",
   "metadata": {
    "tags": []
   },
   "source": [
    "## 시설물 유지보수대장 목록"
   ]
  },
  {
   "cell_type": "code",
   "execution_count": 2,
   "metadata": {},
   "outputs": [
    {
     "data": {
      "text/plain": [
       "'../output/건설사업정보시스템/시설물 유지보수대장 목록/selectIoFmCwkRegsList.csv'"
      ]
     },
     "execution_count": 2,
     "metadata": {},
     "output_type": "execute_result"
    }
   ],
   "source": [
    "from common import commonFunc as cf\n",
    "import pandas as pd\n",
    "import pickle\n",
    "\n",
    "pd.set_option('display.max_columns', None)\n",
    "metadata = pd.read_excel(\"../input/datalake_meta22.xlsx\")\n",
    "\n",
    "SITENAME = \"건설사업정보시스템\"\n",
    "DATANAME= \"시설물 유지보수대장 목록\"\n",
    "with open(\"../input/calsapikey.pickle\",\"rb\") as fr:\n",
    "    APIKEY = pickle.load(fr)\n",
    "\n",
    "targetData = metadata.loc[metadata.자료명==DATANAME]\n",
    "preSetFolder = targetData[\"저장폴더\"].values[0]\n",
    "\n",
    "preSetFolder"
   ]
  },
  {
   "cell_type": "code",
   "execution_count": 3,
   "metadata": {},
   "outputs": [],
   "source": [
    "# 개별 시설물 유지보수대장목록 수\n",
    "g_totalCount = 0"
   ]
  },
  {
   "cell_type": "code",
   "execution_count": 4,
   "metadata": {},
   "outputs": [
    {
     "data": {
      "text/plain": [
       "'selectIoFmCwkRegsList'"
      ]
     },
     "execution_count": 4,
     "metadata": {},
     "output_type": "execute_result"
    }
   ],
   "source": [
    "##### 파라미터 설정 #####\n",
    "URL = targetData[\"URL\"].values[0]\n",
    "SERVICENAME = targetData[\"서비스키\"].values[0]\n",
    "SERVICENAME = SERVICENAME.split(\".\")[0]\n",
    "SERVICENAME"
   ]
  },
  {
   "cell_type": "code",
   "execution_count": 6,
   "metadata": {},
   "outputs": [
    {
     "data": {
      "text/plain": [
       "['serviceKey',\n",
       " 'type',\n",
       " 'pageNo',\n",
       " 'numOfRows',\n",
       " 'sortField',\n",
       " 'sortOrder',\n",
       " 'searchCwkEdYr',\n",
       " 'searchCwkNm']"
      ]
     },
     "execution_count": 6,
     "metadata": {},
     "output_type": "execute_result"
    }
   ],
   "source": [
    "REQPARAM = targetData[\"요청변수\"].values[0]\n",
    "REQPARAM = REQPARAM.split(\",\")\n",
    "PRIMARYKEY = targetData[\"기본키\"].values[0]\n",
    "REQPARAM"
   ]
  },
  {
   "cell_type": "code",
   "execution_count": 7,
   "metadata": {},
   "outputs": [
    {
     "data": {
      "text/plain": [
       "1"
      ]
     },
     "execution_count": 7,
     "metadata": {},
     "output_type": "execute_result"
    }
   ],
   "source": [
    "# 페이지번호 설정\n",
    "PAGEYN=1\n",
    "if REQPARAM.count(\"pageNo\") == 0:\n",
    "    PAGEYN = 0\n",
    "else:\n",
    "    PAGEYN = 1\n",
    "### 기본정보 설정 및 파라미터 설정 ###\n",
    "PAGEYN"
   ]
  },
  {
   "cell_type": "code",
   "execution_count": 8,
   "metadata": {},
   "outputs": [],
   "source": [
    "JSONKEY = \"items\"\n",
    "DUMMY = 0"
   ]
  },
  {
   "cell_type": "code",
   "execution_count": 9,
   "metadata": {},
   "outputs": [
    {
     "name": "stdout",
     "output_type": "stream",
     "text": [
      "시설물 유지보수대장 목록 정보 new 모드 2 \n"
     ]
    }
   ],
   "source": [
    "newParam = []\n",
    "mode = 2\n",
    "if newParam==[]:\n",
    "    mode=2\n",
    "    print(\"{} 정보 new 모드 {} \".format(DATANAME, mode))"
   ]
  },
  {
   "cell_type": "markdown",
   "metadata": {},
   "source": [
    "## 시설물 유지보수대장 목록 전용 스크랩 함수"
   ]
  },
  {
   "cell_type": "code",
   "execution_count": 10,
   "metadata": {},
   "outputs": [],
   "source": [
    "\n",
    "numOfRows = 1000\n",
    "pageNo = 1"
   ]
  },
  {
   "cell_type": "code",
   "execution_count": 11,
   "metadata": {},
   "outputs": [],
   "source": [
    "class noDataFound(Exception): pass  # declare a label\n"
   ]
  },
  {
   "cell_type": "code",
   "execution_count": 14,
   "metadata": {},
   "outputs": [
    {
     "name": "stdout",
     "output_type": "stream",
     "text": [
      "1 page scraping start apicall iter: 1 / used 49099D1D-E565-48E1-8A6F-D5F47135EA34\n",
      "1 page is empty\n",
      "dataframe시설물 유지보수대장 목록, param:{'serviceKey': '49099D1D-E565-48E1-8A6F-D5F47135EA34', 'pageNo': 1, 'numOfRows': 1000, 'type': 'json'} rows: 0 completed\n",
      "NO DATA FOUND, CHECK CALS API\n",
      "exception handled\n"
     ]
    }
   ],
   "source": [
    "resultDfMerged = pd.DataFrame()\n",
    "resultDf = pd.DataFrame()\n",
    "pageList = [] # 4/28 추가\n",
    "APICALL = 0 #4/28 추가\n",
    "\n",
    "i = 0\n",
    "try:\n",
    "    for i in range(0, 1):\n",
    "#         pageNo = 1\n",
    "#         global g_totalCount\n",
    "#         g_totalCount = 0\n",
    "#         print(\"i=\",i)\n",
    "\n",
    "        # 25번 도로시설물 관리현황 정보의 검색결과 패턴을 비교하였을때 items에만 결과를 줄 것으로 예상\n",
    "        BASEPARAM={\"serviceKey\":APIKEY[0],\"pageNo\": pageNo, 'numOfRows':numOfRows, \"type\":\"json\"}\n",
    "#             resultDf = myscrapy(URL,SITENAME,DATANAME,SERVICENAME,BASEPARAM,PAGEYN, JSONKEY, DUMMY)\n",
    "        scrapyResult = cf.scrapy(URL,SITENAME,DATANAME,SERVICENAME,BASEPARAM,PAGEYN,APIKEY,APICALL) #신규 4/28\n",
    "        resultDf = scrapyResult[0]\n",
    "        pageList.append( scrapyResult[1] )\n",
    "        APICALL = scrapyResult[2] \n",
    "        if resultDf.empty: # 정상 데이터가 없는 경우\n",
    "            print(\"NO DATA FOUND, CHECK CALS API\")\n",
    "            raise noDataFound()\n",
    "        print(resultDf)\n",
    "        resultDfMerged = resultDfMerged.append(resultDf)\n",
    "            \n",
    "            \n",
    "#             else:\n",
    "#                 resultDfMerged = resultDfMerged.append(resultDf) \n",
    "#                 g_totalCount -= numOfRows\n",
    "#                 print(\"g_totalCount : \", g_totalCount, \" numOfRows : \", numOfRows)\n",
    "#                 if(g_totalCount <= 0):\n",
    "#                     break\n",
    "#                 pageNo += 1\n",
    "        \n",
    "except noDataFound:\n",
    "    print(\"exception handled\")\n",
    "    \n",
    "        "
   ]
  },
  {
   "cell_type": "code",
   "execution_count": 18,
   "metadata": {},
   "outputs": [
    {
     "data": {
      "text/html": [
       "<div>\n",
       "<style scoped>\n",
       "    .dataframe tbody tr th:only-of-type {\n",
       "        vertical-align: middle;\n",
       "    }\n",
       "\n",
       "    .dataframe tbody tr th {\n",
       "        vertical-align: top;\n",
       "    }\n",
       "\n",
       "    .dataframe thead th {\n",
       "        text-align: right;\n",
       "    }\n",
       "</style>\n",
       "<table border=\"1\" class=\"dataframe\">\n",
       "  <thead>\n",
       "    <tr style=\"text-align: right;\">\n",
       "      <th></th>\n",
       "    </tr>\n",
       "  </thead>\n",
       "  <tbody>\n",
       "  </tbody>\n",
       "</table>\n",
       "</div>"
      ],
      "text/plain": [
       "Empty DataFrame\n",
       "Columns: []\n",
       "Index: []"
      ]
     },
     "execution_count": 18,
     "metadata": {},
     "output_type": "execute_result"
    }
   ],
   "source": [
    "resultDfMerged"
   ]
  },
  {
   "cell_type": "code",
   "execution_count": 16,
   "metadata": {},
   "outputs": [
    {
     "name": "stdout",
     "output_type": "stream",
     "text": [
      "시설물 유지보수대장 목록 save compled\n"
     ]
    }
   ],
   "source": [
    "cf.savedata(resultDfMerged, SITENAME,DATANAME,SERVICENAME,mode)"
   ]
  },
  {
   "cell_type": "code",
   "execution_count": 17,
   "metadata": {},
   "outputs": [
    {
     "data": {
      "text/plain": [
       "(0, 0)"
      ]
     },
     "execution_count": 17,
     "metadata": {},
     "output_type": "execute_result"
    }
   ],
   "source": [
    "resultDfMerged.shape"
   ]
  },
  {
   "cell_type": "code",
   "execution_count": 19,
   "metadata": {},
   "outputs": [],
   "source": [
    "# 파라미터 저장 : 요청 키가 없는 API이므로, pageList만 저장\n",
    "\n",
    "# 기존사용된 파라미터 정보에 추가 파라미터 append 후 저장\n",
    "# ptlcmnoList = orgParam + ptlcmnoList\n",
    "# 파라미터 없는경우 ptlcmnoList = []\n",
    "ptlcmnoList = []\n",
    "paramList = [ptlcmnoList,pageList]\n",
    "# # 최종 파라미터 저장\n",
    "cf.saveparam(paramList, SITENAME,DATANAME,SERVICENAME)"
   ]
  },
  {
   "cell_type": "code",
   "execution_count": null,
   "metadata": {},
   "outputs": [],
   "source": []
  }
 ],
 "metadata": {
  "kernelspec": {
   "display_name": "Python 3",
   "language": "python",
   "name": "python3"
  },
  "language_info": {
   "codemirror_mode": {
    "name": "ipython",
    "version": 3
   },
   "file_extension": ".py",
   "mimetype": "text/x-python",
   "name": "python",
   "nbconvert_exporter": "python",
   "pygments_lexer": "ipython3",
   "version": "3.8.5"
  }
 },
 "nbformat": 4,
 "nbformat_minor": 5
}
