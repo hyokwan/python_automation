{
 "cells": [
  {
   "cell_type": "code",
   "execution_count": 1,
   "id": "ffcfb78a-ff52-4751-a942-f73fffb05548",
   "metadata": {},
   "outputs": [],
   "source": [
    "import pickle"
   ]
  },
  {
   "cell_type": "code",
   "execution_count": 2,
   "id": "17c051ae-e780-4ec2-b3cf-b63626e90c17",
   "metadata": {},
   "outputs": [],
   "source": [
    "APIKEY = \"5E24C9F4-66EA-4ADB-87F6-70D8AC71DAEA\""
   ]
  },
  {
   "cell_type": "code",
   "execution_count": 3,
   "id": "7fafee45-d25c-4f34-b9a4-3fe426aea42c",
   "metadata": {},
   "outputs": [],
   "source": [
    "### 피클 파일 저장하기 (바이너리) ###\n",
    "with open(\"../input/calsapikey.pickle\",\"wb\") as fw:\n",
    "    pickle.dump(APIKEY,fw)"
   ]
  },
  {
   "cell_type": "code",
   "execution_count": 4,
   "id": "02144302-9c88-4946-8502-00a700eb74d4",
   "metadata": {},
   "outputs": [],
   "source": [
    "# ### 피클 파일 불러오기 (바이너리) ###\n",
    "# with open(\"../input/calsapikey.pickle\",\"rb\") as fr:\n",
    "#     data = pickle.load(fr)"
   ]
  }
 ],
 "metadata": {
  "kernelspec": {
   "display_name": "Python 3 (ipykernel)",
   "language": "python",
   "name": "python3"
  },
  "language_info": {
   "codemirror_mode": {
    "name": "ipython",
    "version": 3
   },
   "file_extension": ".py",
   "mimetype": "text/x-python",
   "name": "python",
   "nbconvert_exporter": "python",
   "pygments_lexer": "ipython3",
   "version": "3.9.7"
  }
 },
 "nbformat": 4,
 "nbformat_minor": 5
}
