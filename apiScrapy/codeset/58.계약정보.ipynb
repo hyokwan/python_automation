{
 "cells": [
  {
   "cell_type": "markdown",
   "id": "9055afc7-238b-473c-8263-30cac133b34e",
   "metadata": {},
   "source": [
    "### ** 포털공사관리번호 필요 ptlCmno (설계VE 목록 조회)"
   ]
  },
  {
   "cell_type": "markdown",
   "id": "188a22ab-e12d-4535-9d05-02ddba10cd47",
   "metadata": {},
   "source": [
    "### 1. 기본 수집정보 불러오기"
   ]
  },
  {
   "cell_type": "code",
   "execution_count": 8,
   "id": "acecaed0-d48c-4784-9875-56f28f6f63ad",
   "metadata": {},
   "outputs": [],
   "source": [
    "### 기본라이브러리 정의\n",
    "from common import commonFunc as cf\n",
    "import pandas as pd\n",
    "import pickle\n",
    "\n",
    "metadata = pd.read_excel(\"../input/datalake_meta22.xlsx\")\n",
    "\n",
    "### 기본정보 설정 및 파라미터 설정 ###\n",
    "SITENAME = \"건설사업정보시스템\"\n",
    "DATANAME= \"설계VE 계약정보\"\n",
    "# APIKEY = \"1EFCBE0D-3203-4485-A7BA-5F5DB2B476BF\"\n",
    "### APIKEY 불러오기 ###\n",
    "with open(\"../input/calsapikey.pickle\",\"rb\") as fr:\n",
    "    APIKEY = pickle.load(fr)"
   ]
  },
  {
   "cell_type": "code",
   "execution_count": 9,
   "id": "408938c7-3895-44be-8a98-dae39e2bbcb4",
   "metadata": {},
   "outputs": [
    {
     "data": {
      "text/plain": [
       "'5E24C9F4-66EA-4ADB-87F6-70D8AC71DAEA'"
      ]
     },
     "execution_count": 9,
     "metadata": {},
     "output_type": "execute_result"
    }
   ],
   "source": [
    "APIKEY"
   ]
  },
  {
   "cell_type": "code",
   "execution_count": 10,
   "id": "bbb3c8f2-5ac8-417e-9239-519eef62b5dd",
   "metadata": {},
   "outputs": [],
   "source": [
    "targetData = metadata.loc[metadata.자료명==DATANAME]\n",
    "URL = targetData[\"URL\"].values[0]\n",
    "SERVICENAME = targetData[\"서비스키\"].values[0]\n",
    "SERVICENAME = SERVICENAME.split(\".\")[0]\n",
    "REQPARAM = targetData[\"요청변수\"].values[0]\n",
    "REQPARAM = REQPARAM.split(\",\")\n",
    "PRIMARYKEY = targetData[\"기본키\"].values[0]\n",
    "### 기본정보 설정 및 파라미터 설정 ###"
   ]
  },
  {
   "cell_type": "markdown",
   "id": "1102edfa-e693-43ab-87e5-c35044b42389",
   "metadata": {
    "tags": []
   },
   "source": [
    "### 2. 입력 파라미터 정보 불러오기"
   ]
  },
  {
   "cell_type": "code",
   "execution_count": 11,
   "id": "c5dcf92d-5cea-4eb7-8ef2-56acea7c713d",
   "metadata": {},
   "outputs": [],
   "source": [
    "### 기본정보 설정 및 파라미터 설정 ###\n",
    "PREDATANAME= \"설계VE 목록 조회\"\n",
    "preData = metadata.loc[metadata.자료명==PREDATANAME]\n",
    "\n",
    "preDt = preData.저장폴더.values[0]\n",
    "preDtResult = pd.read_csv(preDt, encoding=\"ms949\")\n",
    "newParam = preDtResult.ptlcmno.drop_duplicates().tolist()"
   ]
  },
  {
   "cell_type": "code",
   "execution_count": 12,
   "id": "76b91a6f-a341-42aa-a46a-4487922ac35f",
   "metadata": {},
   "outputs": [],
   "source": [
    "# 페이지번호 설정\n",
    "PAGEYN=1\n",
    "if REQPARAM.count(\"pageyn\") == 0:\n",
    "    PAGEYN = 0\n",
    "else:\n",
    "    PAGEYN = 1\n",
    "### 기본정보 설정 및 파라미터 설정 ###"
   ]
  },
  {
   "cell_type": "markdown",
   "id": "386ee97b-6d6f-4348-9cdd-56bf47dba6a1",
   "metadata": {},
   "source": [
    "### [추가] 3. 파라미터정보 불러오기"
   ]
  },
  {
   "cell_type": "code",
   "execution_count": 13,
   "id": "c5413b16-397f-46ff-92e7-6d2c10d170b3",
   "metadata": {},
   "outputs": [
    {
     "name": "stdout",
     "output_type": "stream",
     "text": [
      "[Errno 2] No such file or directory: '../output\\\\건설사업정보시스템\\\\설계VE 계약정보\\\\selectIoPtVeContractCorpList.pickle'\n",
      "설계VE 계약정보 정보 new 모드 2 \n"
     ]
    }
   ],
   "source": [
    "orgParam = []\n",
    "\n",
    "try:\n",
    "    orgParam = cf.loadparam(SITENAME,DATANAME,SERVICENAME)\n",
    "    outData = cf.loaddata(SITENAME,DATANAME,SERVICENAME)\n",
    "## 파일이 없는경우\n",
    "except Exception as e:\n",
    "    orgParam = []\n",
    "    print(e)\n",
    "\n",
    "ptlcmnoList = list( set(newParam) - set(orgParam) )\n",
    "# 모드: 0=종료 1=append 2=새로생성\n",
    "mode = 2\n",
    "\n",
    "# 업데이트 할 내용이 없으면 종료\n",
    "if ptlcmnoList == []:\n",
    "    mode = 0\n",
    "    print(\"{} 정보 quit모드 {} \".format(DATANAME, mode))\n",
    "    quit()\n",
    "# orgParam == []\n",
    "elif orgParam == []:\n",
    "    mode = 2\n",
    "    print(\"{} 정보 new 모드 {} \".format(DATANAME, mode))\n",
    "# 이외에는 append 모드\n",
    "else:\n",
    "    mode = 1\n",
    "    print(\"{} 정보 append 모드 {} \".format(DATANAME, mode))"
   ]
  },
  {
   "cell_type": "markdown",
   "id": "d16c40ad-60fc-406f-84d6-ec58a5f864f4",
   "metadata": {},
   "source": [
    "### 데이터 수집"
   ]
  },
  {
   "cell_type": "code",
   "execution_count": null,
   "id": "a2b7d8aa-6cae-43be-8a93-908d426172be",
   "metadata": {
    "scrolled": true,
    "tags": []
   },
   "outputs": [
    {
     "name": "stdout",
     "output_type": "stream",
     "text": [
      "1 page scraping start\n",
      "Empty DataFrame\n",
      "Columns: []\n",
      "Index: []\n",
      "SERVER ERROR  RATE_LIMIT_ERROR\n",
      "dataframe설계VE 계약정보, param:{'serviceKey': '5E24C9F4-66EA-4ADB-87F6-70D8AC71DAEA', 'type': 'json', 'ptlCmno': 'B3800072020022'} rows: 0 completed\n"
     ]
    }
   ],
   "source": [
    "### 개별 코드 작업 영역 ###\n",
    "### baseparam은 수동설정필요\n",
    "\n",
    "ptlcmnoListLen = len(ptlcmnoList)\n",
    "resultDfMerged = pd.DataFrame()\n",
    "for i in range(0, ptlcmnoListLen):\n",
    "    BASEPARAM={\"serviceKey\":APIKEY, \"type\":\"json\", \"ptlCmno\": ptlcmnoList[i]}\n",
    "    resultDf = cf.scrapy(URL,SITENAME,DATANAME,SERVICENAME,BASEPARAM,PAGEYN)\n",
    "    resultDfMerged = resultDfMerged.append(resultDf)"
   ]
  },
  {
   "cell_type": "markdown",
   "id": "dba36e5f-56a1-4511-9af9-de606e31e287",
   "metadata": {},
   "source": [
    "### [추가] 파라미터 정보 추가저장"
   ]
  },
  {
   "cell_type": "code",
   "execution_count": null,
   "id": "be628344-6b52-4b48-81d1-dce235b4b403",
   "metadata": {},
   "outputs": [],
   "source": [
    "cf.savedata(resultDfMerged, SITENAME,DATANAME,SERVICENAME, mode)\n",
    "\n",
    "resultDfMerged.shape"
   ]
  },
  {
   "cell_type": "code",
   "execution_count": null,
   "id": "d3f1fcf3-fc3a-4f8c-ae46-9dd2e9f250de",
   "metadata": {},
   "outputs": [],
   "source": [
    "# 기존사용된 파라미터 정보에 추가 파라미터 append 후 저장\n",
    "ptlcmnoList = orgParam + ptlcmnoList\n",
    "\n",
    "# 최종 파라미터 저장\n",
    "cf.saveparam(ptlcmnoList, SITENAME,DATANAME,SERVICENAME)"
   ]
  }
 ],
 "metadata": {
  "kernelspec": {
   "display_name": "Python 3 (ipykernel)",
   "language": "python",
   "name": "python3"
  },
  "language_info": {
   "codemirror_mode": {
    "name": "ipython",
    "version": 3
   },
   "file_extension": ".py",
   "mimetype": "text/x-python",
   "name": "python",
   "nbconvert_exporter": "python",
   "pygments_lexer": "ipython3",
   "version": "3.9.7"
  }
 },
 "nbformat": 4,
 "nbformat_minor": 5
}
