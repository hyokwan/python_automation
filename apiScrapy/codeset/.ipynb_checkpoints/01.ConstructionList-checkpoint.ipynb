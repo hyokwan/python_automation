{
 "cells": [
  {
   "cell_type": "code",
   "execution_count": 1,
   "id": "48c62120-e0e1-4b51-bb8b-0dc20d7215c2",
   "metadata": {},
   "outputs": [],
   "source": [
    "### 기본라이브러리 정의"
   ]
  },
  {
   "cell_type": "code",
   "execution_count": 2,
   "id": "95c78be8-2ab0-4e92-8fbd-0c194d2af445",
   "metadata": {},
   "outputs": [],
   "source": [
    "from common import commonFunc as cf\n",
    "import pandas as pd"
   ]
  },
  {
   "cell_type": "code",
   "execution_count": 3,
   "id": "18fb31ba-f03f-4029-b7e3-4f7be1eefbf5",
   "metadata": {},
   "outputs": [],
   "source": [
    "metadata = pd.read_excel(\"../input/datalake_meta22.xlsx\")"
   ]
  },
  {
   "cell_type": "code",
   "execution_count": 6,
   "id": "e612a735-180a-4bd2-9478-a0867ccbe1d1",
   "metadata": {},
   "outputs": [
    {
     "ename": "AttributeError",
     "evalue": "'float' object has no attribute 'split'",
     "output_type": "error",
     "traceback": [
      "\u001b[1;31m---------------------------------------------------------\u001b[0m",
      "\u001b[1;31mAttributeError\u001b[0m          Traceback (most recent call last)",
      "\u001b[1;32m~\\AppData\\Local\\Temp/ipykernel_7560/1930693445.py\u001b[0m in \u001b[0;36m<module>\u001b[1;34m\u001b[0m\n\u001b[0;32m      9\u001b[0m \u001b[0mSERVICENAME\u001b[0m \u001b[1;33m=\u001b[0m \u001b[0mSERVICENAME\u001b[0m\u001b[1;33m.\u001b[0m\u001b[0msplit\u001b[0m\u001b[1;33m(\u001b[0m\u001b[1;34m\".\"\u001b[0m\u001b[1;33m)\u001b[0m\u001b[1;33m[\u001b[0m\u001b[1;36m0\u001b[0m\u001b[1;33m]\u001b[0m\u001b[1;33m\u001b[0m\u001b[1;33m\u001b[0m\u001b[0m\n\u001b[0;32m     10\u001b[0m \u001b[0mREQPARAM\u001b[0m \u001b[1;33m=\u001b[0m \u001b[0mtargetData\u001b[0m\u001b[1;33m[\u001b[0m\u001b[1;34m\"요청변수\"\u001b[0m\u001b[1;33m]\u001b[0m\u001b[1;33m.\u001b[0m\u001b[0mvalues\u001b[0m\u001b[1;33m[\u001b[0m\u001b[1;36m0\u001b[0m\u001b[1;33m]\u001b[0m\u001b[1;33m\u001b[0m\u001b[1;33m\u001b[0m\u001b[0m\n\u001b[1;32m---> 11\u001b[1;33m \u001b[0mREQPARAM\u001b[0m \u001b[1;33m=\u001b[0m \u001b[0mREQPARAM\u001b[0m\u001b[1;33m.\u001b[0m\u001b[0msplit\u001b[0m\u001b[1;33m(\u001b[0m\u001b[1;34m\",\"\u001b[0m\u001b[1;33m)\u001b[0m\u001b[1;33m\u001b[0m\u001b[1;33m\u001b[0m\u001b[0m\n\u001b[0m\u001b[0;32m     12\u001b[0m \u001b[0mPRIMARYKEY\u001b[0m \u001b[1;33m=\u001b[0m \u001b[0mtargetData\u001b[0m\u001b[1;33m[\u001b[0m\u001b[1;34m\"기본키\"\u001b[0m\u001b[1;33m]\u001b[0m\u001b[1;33m.\u001b[0m\u001b[0mvalues\u001b[0m\u001b[1;33m[\u001b[0m\u001b[1;36m0\u001b[0m\u001b[1;33m]\u001b[0m\u001b[1;33m\u001b[0m\u001b[1;33m\u001b[0m\u001b[0m\n\u001b[0;32m     13\u001b[0m \u001b[1;33m\u001b[0m\u001b[0m\n",
      "\u001b[1;31mAttributeError\u001b[0m: 'float' object has no attribute 'split'"
     ]
    }
   ],
   "source": [
    "### 기본정보 설정 및 파라미터 설정 ###\n",
    "SITENAME = \"건설사업정보시스템\"\n",
    "DATANAME= \"공사정보 목록\"\n",
    "APIKEY = \"1EFCBE0D-3203-4485-A7BA-5F5DB2B476BF\"\n",
    "\n",
    "targetData = metadata.loc[metadata.자료명==DATANAME]\n",
    "URL = targetData[\"URL\"].values[0]\n",
    "SERVICENAME = targetData[\"서비스키\"].values[0]\n",
    "SERVICENAME = SERVICENAME.split(\".\")[0]\n",
    "REQPARAM = targetData[\"요청변수\"].values[0]\n",
    "REQPARAM = REQPARAM.split(\",\")\n",
    "PRIMARYKEY = targetData[\"기본키\"].values[0]\n",
    "\n",
    "# 페이지번호 설정\n",
    "PAGEYN=1\n",
    "if REQPARAM.count(\"pageyn\") == 0:\n",
    "    PAGEYN = 0\n",
    "else:\n",
    "    PAGEYN = 1\n",
    "### 기본정보 설정 및 파라미터 설정 ###"
   ]
  },
  {
   "cell_type": "code",
   "execution_count": null,
   "id": "0945b012-f43d-4ee0-bd93-9b840d97a130",
   "metadata": {},
   "outputs": [
    {
     "name": "stdout",
     "output_type": "stream",
     "text": [
      "1 page scraping start\n",
      "2 page scraping start\n",
      "3 page scraping start\n",
      "4 page scraping start\n",
      "5 page scraping start\n",
      "6 page scraping start\n"
     ]
    }
   ],
   "source": [
    "# URL = 'https://www.calspia.go.kr/io/openapi/cm/selectIoCmConstructionList.do'\n",
    "BASEPARAM={\"serviceKey\":APIKEY, \"type\":\"json\"}\n",
    "resultDf = cf.scrapy(URL,SITENAME,DATANAME,SERVICENAME,BASEPARAM,1)"
   ]
  },
  {
   "cell_type": "markdown",
   "id": "19a5fb35-f468-4d22-a7c6-ef8077674892",
   "metadata": {
    "tags": []
   },
   "source": [
    "### 2. 디렉토리에 저장 (로컬임시"
   ]
  },
  {
   "cell_type": "code",
   "execution_count": 10,
   "id": "11a967eb-be20-4c98-a88f-b844a80ff2ae",
   "metadata": {},
   "outputs": [
    {
     "name": "stdout",
     "output_type": "stream",
     "text": [
      "공사정보 목록 save compled\n"
     ]
    }
   ],
   "source": [
    "cf.savedata(resultDf, SITENAME,DATANAME,SERVICENAME)"
   ]
  }
 ],
 "metadata": {
  "kernelspec": {
   "display_name": "Python 3 (ipykernel)",
   "language": "python",
   "name": "python3"
  },
  "language_info": {
   "codemirror_mode": {
    "name": "ipython",
    "version": 3
   },
   "file_extension": ".py",
   "mimetype": "text/x-python",
   "name": "python",
   "nbconvert_exporter": "python",
   "pygments_lexer": "ipython3",
   "version": "3.9.7"
  }
 },
 "nbformat": 4,
 "nbformat_minor": 5
}
