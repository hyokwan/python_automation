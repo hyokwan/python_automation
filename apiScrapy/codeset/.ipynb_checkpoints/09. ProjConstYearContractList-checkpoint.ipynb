{
 "cells": [
  {
   "cell_type": "markdown",
   "id": "44f3317f-d72c-4c4e-86c5-c3795964e29e",
   "metadata": {},
   "source": [
    "# 9. 연도별 공사계약 목록"
   ]
  },
  {
   "cell_type": "code",
   "execution_count": 8,
   "id": "d11a6a6c-231d-4b18-b5dc-983e7fb737b9",
   "metadata": {},
   "outputs": [],
   "source": [
    "from common import commonFunc as cf\n",
    "import pandas as pd\n",
    "pd.set_option('display.max_columns', None)\n",
    "metadata = pd.read_excel(\"../input/datalake_meta22.xlsx\")"
   ]
  },
  {
   "cell_type": "code",
   "execution_count": null,
   "id": "25c2bab6-feba-4941-9fa5-d3ed00b740b1",
   "metadata": {},
   "outputs": [],
   "source": [
    "### 기본정보 설정 및 파라미터 설정 ###\n",
    "SITENAME = \"건설사업정보시스템\"\n",
    "DATANAME= \"연도별 공사계약 목록\"\n",
    "APIKEY = \"1EFCBE0D-3203-4485-A7BA-5F5DB2B476BF\"\n",
    "\n",
    "targetData = metadata.loc[metadata.자료명==DATANAME]\n",
    "URL = targetData[\"URL\"].values[0]\n",
    "SERVICENAME = targetData[\"서비스키\"].values[0]\n",
    "SERVICENAME = SERVICENAME.split(\".\")[0]\n",
    "REQPARAM = targetData[\"요청변수\"].values[0]\n",
    "REQPARAM = REQPARAM.split(\",\")\n",
    "PRIMARYKEY = targetData[\"기본키\"].values[0]\n",
    "\n",
    "# 페이지번호 설정\n",
    "PAGEYN=1\n",
    "if REQPARAM.count(\"pageyn\") == 0:\n",
    "    PAGEYN = 0\n",
    "else:\n",
    "    PAGEYN = 1\n",
    "### 기본정보 설정 및 파라미터 설정 ###"
   ]
  },
  {
   "cell_type": "code",
   "execution_count": null,
   "id": "ea6a45a0-6ac7-438c-b424-03d14dd2c0c8",
   "metadata": {},
   "outputs": [],
   "source": [
    "### 개별 코드 작업 영역 ###\n",
    "### baseparam은 수동설정필요\n",
    "\n",
    "sptNoLen = len(sptNoList)\n",
    "resultDfMerged = pd.DataFrame()\n",
    "for i in range(0, sptNoLen):\n",
    "    BASEPARAM={\"serviceKey\":APIKEY, \"type\":\"json\", \"sptNo\": sptNoList[i]}\n",
    "    resultDf = cf.scrapy(URL,SITENAME,DATANAME,SERVICENAME,BASEPARAM,PAGEYN)\n",
    "    resultDfMerged = resultDfMerged.append(resultDf)"
   ]
  },
  {
   "cell_type": "code",
   "execution_count": null,
   "id": "fe075120-53f8-497e-a0db-48c1b4ede159",
   "metadata": {},
   "outputs": [],
   "source": [
    "cf.savedata(resultDfMerged, SITENAME,DATANAME,SERVICENAME)"
   ]
  }
 ],
 "metadata": {
  "kernelspec": {
   "display_name": "Python 3 (ipykernel)",
   "language": "python",
   "name": "python3"
  },
  "language_info": {
   "codemirror_mode": {
    "name": "ipython",
    "version": 3
   },
   "file_extension": ".py",
   "mimetype": "text/x-python",
   "name": "python",
   "nbconvert_exporter": "python",
   "pygments_lexer": "ipython3",
   "version": "3.9.7"
  }
 },
 "nbformat": 4,
 "nbformat_minor": 5
}
