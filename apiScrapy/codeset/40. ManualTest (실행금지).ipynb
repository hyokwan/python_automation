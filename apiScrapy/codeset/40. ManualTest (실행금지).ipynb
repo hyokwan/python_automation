{
 "cells": [
  {
   "cell_type": "markdown",
   "metadata": {
    "tags": []
   },
   "source": [
    "# 테스트 코드 집합"
   ]
  },
  {
   "cell_type": "code",
   "execution_count": null,
   "metadata": {},
   "outputs": [],
   "source": [
    "from common import commonFunc as cf\n",
    "import pandas as pd\n",
    "import pickle\n",
    "pd.set_option('display.max_columns', None)\n",
    "metadata = pd.read_excel(\"../input/datalake_meta22.xlsx\")\n",
    "\n",
    "SITENAME = \"건설사업정보시스템\"\n",
    "DATANAME= \"품질검사성적서 등록 목록\"\n",
    "\n",
    "targetData = metadata.loc[metadata.자료명==DATANAME]\n",
    "preSetFolder = targetData[\"저장폴더\"].values[0]\n",
    "\n",
    "preSetFolder"
   ]
  },
  {
   "cell_type": "code",
   "execution_count": null,
   "metadata": {},
   "outputs": [],
   "source": [
    "targetData = metadata.loc[metadata.자료명==DATANAME]\n",
    "URL = targetData[\"URL\"].values[0]\n",
    "SERVICENAME = targetData[\"서비스키\"].values[0]\n",
    "SERVICENAME = SERVICENAME.split(\".\")[0]\n",
    "SERVICENAME"
   ]
  },
  {
   "cell_type": "code",
   "execution_count": null,
   "metadata": {},
   "outputs": [],
   "source": [
    "orgParam=[]\n",
    "try:\n",
    "    orgParam = cf.loadparam(SITENAME,DATANAME,SERVICENAME)\n",
    "    print(orgParam)\n",
    "    \n",
    "except Exception as e:\n",
    "    print(e)\n",
    "\n",
    "my_set = set(orgParam) #집합set으로 변환\n",
    "orgParam = list(my_set) #list로 변환\n",
    "print(orgParam)    \n",
    "# orgParam = orgParam[0:orgParam.index('8e6aacd7e51d05562713062cc3b10621964ea009e52e96f40e7d1d0394a76a0f')]\n",
    "# orgParam = orgParam[0:len(orgParam)-1]    \n",
    "\n",
    "cf.saveparam(orgParam, SITENAME,DATANAME,SERVICENAME)\n",
    "print(\"saved\")"
   ]
  },
  {
   "cell_type": "code",
   "execution_count": null,
   "metadata": {},
   "outputs": [],
   "source": []
  },
  {
   "cell_type": "code",
   "execution_count": null,
   "metadata": {},
   "outputs": [],
   "source": [
    "def saveLastSearchDate(paramStartDate):\n",
    "    cf.saveparam(paramStartDate, SITENAME, DATANAME, SERVICENAME+\"_LASTSEARCHDATE\")\n",
    "    print(\"Last Search Date {} is saved.\".format(paramStartDate))\n",
    "def loadLastSearchDate():\n",
    "    ret = cf.loadparam(SITENAME, DATANAME, SERVICENAME+\"_LASTSEARCHDATE\")\n",
    "    print(ret+\" is loaded\")"
   ]
  },
  {
   "cell_type": "code",
   "execution_count": null,
   "metadata": {},
   "outputs": [],
   "source": [
    "import datetime\n",
    "\n",
    "currentDateTime = datetime.datetime.now()\n",
    "date = currentDateTime.date()\n",
    "endYr = date.strftime(\"%Y\")\n",
    "endMonth = date.strftime(\"%m\")\n",
    "endDay = date.strftime(\"%d\")\n",
    "# 2001년 이전 데이터는 없음, 초기 데이터 수신 후 이후부터는 시작점: 이전 검색일, 종료점: 검색 당년.당월.당일 로 셋팅해야 함\n",
    "startYr = 2001 \n",
    "print(\"{} {} {}\".format(endYr,endMonth,endDay))\n",
    "print(endYr+endMonth+endDay)\n",
    "startDate = 20010101\n",
    "try:\n",
    "    startDate = loadLastSearchDate()\n",
    "except Exception as e:\n",
    "    print(e)\n",
    "    \n",
    "endDate = endYr+endMonth+endDay\n",
    "startDate\n",
    "saveLastSearchDate(endDate)"
   ]
  },
  {
   "cell_type": "code",
   "execution_count": null,
   "metadata": {},
   "outputs": [],
   "source": [
    "from common import commonFunc as cf\n",
    "import pandas as pd\n",
    "import pickle\n",
    "pd.set_option('display.max_columns', None)\n",
    "metadata = pd.read_excel(\"../input/datalake_meta22.xlsx\")\n",
    "\n",
    "SITENAME = \"건설사업정보시스템\"\n",
    "DATANAME= \"품질검사성적서 등록 목록\"\n",
    "### APIKEY 불러오기 ###\n",
    "with open(\"../input/calsapikey.pickle\",\"rb\") as fr:\n",
    "    APIKEY = pickle.load(fr)\n",
    "\n",
    "targetData = metadata.loc[metadata.자료명==DATANAME]\n",
    "preSetFolder = targetData[\"저장폴더\"].values[0]\n",
    "\n",
    "targetData = metadata.loc[metadata.자료명==DATANAME]\n",
    "\n",
    "##### 파라미터 설정 #####\n",
    "URL = targetData[\"URL\"].values[0]\n",
    "SERVICENAME = targetData[\"서비스키\"].values[0]\n",
    "SERVICENAME = SERVICENAME.split(\".\")[0]\n",
    "REQPARAM = targetData[\"요청변수\"].values[0]\n",
    "REQPARAM = REQPARAM.split(\",\")\n",
    "PRIMARYKEY = targetData[\"기본키\"].values[0]"
   ]
  },
  {
   "cell_type": "code",
   "execution_count": null,
   "metadata": {},
   "outputs": [],
   "source": [
    "#임시 \n",
    "imsiDf = pd.read_csv(\\\n",
    "         \"../output/건설사업정보시스템/건설자재 품질검사 등록정보/selectIoPmQtlTsitStsList_old_threadResult.csv\",low_memory=False, encoding=\"ms949\")\n",
    "dfCombi = imsiDf.loc[:,[\"cstrnm\"]].drop_duplicates()\n",
    "dfCombi.reset_index(inplace=True, drop=True)\n",
    "print(dfCombi)"
   ]
  },
  {
   "cell_type": "code",
   "execution_count": null,
   "metadata": {},
   "outputs": [],
   "source": [
    "def saveLastSearchDateByName(resultDf):\n",
    "    cf.savedata(resultDf, SITENAME,DATANAME,SERVICENAME+\"_LastSearchDateByName\")\n",
    "    print(\"Last Search Date {} is saved.\")"
   ]
  },
  {
   "cell_type": "code",
   "execution_count": null,
   "metadata": {},
   "outputs": [],
   "source": [
    "dfCombi = dfCombi.iloc[0:12000]\n",
    "\n",
    "dfCombi['lstSrchDate'] = list('20200425' for _ in range(dfCombi.shape[0]))  \n",
    "saveLastSearchDateByName(dfCombi)\n",
    "dfCombi"
   ]
  },
  {
   "cell_type": "code",
   "execution_count": null,
   "metadata": {},
   "outputs": [],
   "source": [
    "mydf = dfCombi.cstrnm.str.len() <= 1"
   ]
  },
  {
   "cell_type": "code",
   "execution_count": null,
   "metadata": {},
   "outputs": [],
   "source": [
    "dfCombi[mydf].head(20)"
   ]
  },
  {
   "cell_type": "code",
   "execution_count": null,
   "metadata": {},
   "outputs": [],
   "source": [
    "searchCstrNm = dfCombi.loc[75].cstrnm\n",
    "searchCstrNm"
   ]
  },
  {
   "cell_type": "code",
   "execution_count": null,
   "metadata": {},
   "outputs": [],
   "source": [
    "print(len(searchCstrNm))"
   ]
  },
  {
   "cell_type": "code",
   "execution_count": null,
   "metadata": {},
   "outputs": [],
   "source": []
  }
 ],
 "metadata": {
  "kernelspec": {
   "display_name": "Python 3",
   "language": "python",
   "name": "python3"
  },
  "language_info": {
   "codemirror_mode": {
    "name": "ipython",
    "version": 3
   },
   "file_extension": ".py",
   "mimetype": "text/x-python",
   "name": "python",
   "nbconvert_exporter": "python",
   "pygments_lexer": "ipython3",
   "version": "3.8.5"
  }
 },
 "nbformat": 4,
 "nbformat_minor": 5
}
