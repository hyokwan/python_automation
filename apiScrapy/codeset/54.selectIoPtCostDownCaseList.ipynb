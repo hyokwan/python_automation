{
 "cells": [
  {
   "cell_type": "markdown",
   "metadata": {},
   "source": [
    "### ** 포털공사관리번호 필요 ptlCmno (설계VE 목록 조회)"
   ]
  },
  {
   "cell_type": "markdown",
   "metadata": {},
   "source": [
    "### 1. 기본 수집정보 불러오기"
   ]
  },
  {
   "cell_type": "code",
   "execution_count": 1,
   "metadata": {},
   "outputs": [],
   "source": [
    "### 기본라이브러리 정의\n",
    "from common import commonFunc as cf\n",
    "import pandas as pd\n",
    "import pickle\n",
    "\n",
    "metadata = pd.read_excel(\"../input/datalake_meta22.xlsx\")\n",
    "\n",
    "### 기본정보 설정 및 파라미터 설정 ###\n",
    "SITENAME = \"건설사업정보시스템\"\n",
    "DATANAME= \"건설공사 원가절감사례 목록 조회\"\n",
    "# 기존: APIKEY = \"1EFCBE0D-3203-4485-A7BA-5F5DB2B476BF\"\n",
    "### APIKEY 불러오기 ###\n",
    "with open(\"../input/calsapikey.pickle\",\"rb\") as fr:\n",
    "    APIKEY = pickle.load(fr)"
   ]
  },
  {
   "cell_type": "code",
   "execution_count": 2,
   "metadata": {},
   "outputs": [],
   "source": [
    "APIKEYLEN = len(APIKEY)"
   ]
  },
  {
   "cell_type": "code",
   "execution_count": 3,
   "metadata": {},
   "outputs": [
    {
     "data": {
      "text/plain": [
       "['0974320D-C689-4543-8464-10DE1E5505A9',\n",
       " '49099D1D-E565-48E1-8A6F-D5F47135EA34']"
      ]
     },
     "execution_count": 3,
     "metadata": {},
     "output_type": "execute_result"
    }
   ],
   "source": [
    "APIKEY"
   ]
  },
  {
   "cell_type": "code",
   "execution_count": 4,
   "metadata": {},
   "outputs": [],
   "source": [
    "targetData = metadata.loc[metadata.자료명==DATANAME]\n",
    "URL = targetData[\"URL\"].values[0]\n",
    "SERVICENAME = targetData[\"서비스키\"].values[0]\n",
    "SERVICENAME = SERVICENAME.split(\".\")[0]\n",
    "REQPARAM = targetData[\"요청변수\"].values[0]\n",
    "REQPARAM = REQPARAM.split(\",\")\n",
    "PRIMARYKEY = targetData[\"기본키\"].values[0]\n",
    "### 기본정보 설정 및 파라미터 설정 ###"
   ]
  },
  {
   "cell_type": "markdown",
   "metadata": {
    "tags": []
   },
   "source": [
    "### 2. 입력 파라미터 정보 불러오기"
   ]
  },
  {
   "cell_type": "code",
   "execution_count": 5,
   "metadata": {},
   "outputs": [
    {
     "data": {
      "text/plain": [
       "['serviceKey',\n",
       " 'type',\n",
       " 'pageNo',\n",
       " 'numOfRows',\n",
       " 'sortField',\n",
       " 'sortOrder',\n",
       " 'searchIciDivCode',\n",
       " 'searchStrBcDivCodeList',\n",
       " 'searchSSourceNm',\n",
       " 'searchMainTitle']"
      ]
     },
     "execution_count": 5,
     "metadata": {},
     "output_type": "execute_result"
    }
   ],
   "source": [
    "REQPARAM"
   ]
  },
  {
   "cell_type": "code",
   "execution_count": 6,
   "metadata": {},
   "outputs": [],
   "source": [
    "# 페이지번호 설정\n",
    "PAGEYN=1\n",
    "if REQPARAM.count(\"pageNo\") == 0:\n",
    "    PAGEYN = 0\n",
    "else:\n",
    "    PAGEYN = 1\n",
    "### 기본정보 설정 및 파라미터 설정 ###"
   ]
  },
  {
   "cell_type": "code",
   "execution_count": 7,
   "metadata": {},
   "outputs": [
    {
     "data": {
      "text/plain": [
       "1"
      ]
     },
     "execution_count": 7,
     "metadata": {},
     "output_type": "execute_result"
    }
   ],
   "source": [
    "PAGEYN"
   ]
  },
  {
   "cell_type": "markdown",
   "metadata": {},
   "source": [
    "### 입력파라미터 불러오기"
   ]
  },
  {
   "cell_type": "code",
   "execution_count": 8,
   "metadata": {},
   "outputs": [
    {
     "name": "stdout",
     "output_type": "stream",
     "text": [
      "건설공사 원가절감사례 목록 조회 정보 new 모드 2 \n"
     ]
    }
   ],
   "source": [
    "newParam = []\n",
    "if newParam==[]:\n",
    "    mode=2\n",
    "    print(\"{} 정보 new 모드 {} \".format(DATANAME, mode))"
   ]
  },
  {
   "cell_type": "markdown",
   "metadata": {},
   "source": [
    "### [추가] 3. 파라미터정보 불러오기"
   ]
  },
  {
   "cell_type": "code",
   "execution_count": 9,
   "metadata": {},
   "outputs": [],
   "source": [
    "# orgParam = []\n",
    "# try:\n",
    "#     # 기존 데이터 및 파라미터 정보 불러오기\n",
    "#     # 리스트로 불러오기로 변경 0425\n",
    "#     orgParam = cf.loadparam(SITENAME,DATANAME,SERVICENAME)[0]\n",
    "#     outData = cf.loaddata(SITENAME,DATANAME,SERVICENAME)\n",
    "# ## 파일이 없는경우\n",
    "# except Exception as e:\n",
    "#     orgParam = []\n",
    "#     print(e)\n",
    "\n",
    "# ptlcmnoList = list( set(newParam) - set(orgParam) )\n",
    "# # 모드: 0=종료 1=append 2=새로생성\n",
    "# mode = 2\n",
    "\n",
    "# # 업데이트 할 내용이 없으면 종료\n",
    "# if ptlcmnoList == []:\n",
    "#     mode = 0\n",
    "#     print(\"{} 정보 quit모드 {} \".format(DATANAME, mode))\n",
    "#     quit()\n",
    "# # orgParam == []\n",
    "# elif orgParam == []:\n",
    "#     mode = 2\n",
    "#     print(\"{} 정보 new 모드 {} \".format(DATANAME, mode))\n",
    "# # 이외에는 append 모드\n",
    "# else:\n",
    "#     mode = 1\n",
    "#     print(\"{} 정보 append 모드 {} \".format(DATANAME, mode))"
   ]
  },
  {
   "cell_type": "markdown",
   "metadata": {},
   "source": [
    "### 데이터 수집"
   ]
  },
  {
   "cell_type": "code",
   "execution_count": 11,
   "metadata": {
    "scrolled": true,
    "tags": []
   },
   "outputs": [
    {
     "name": "stdout",
     "output_type": "stream",
     "text": [
      "1 page scraping start apicall iter: 1 / used 49099D1D-E565-48E1-8A6F-D5F47135EA34\n",
      "2 page scraping start apicall iter: 2 / used 9D486CED-81E4-4884-96FF-BB1F14A9223B\n",
      "3 page scraping start apicall iter: 3 / used 0974320D-C689-4543-8464-10DE1E5505A9\n",
      "4 page scraping start apicall iter: 4 / used 49099D1D-E565-48E1-8A6F-D5F47135EA34\n",
      "5 page scraping start apicall iter: 5 / used 9D486CED-81E4-4884-96FF-BB1F14A9223B\n",
      "6 page scraping start apicall iter: 6 / used 0974320D-C689-4543-8464-10DE1E5505A9\n",
      "7 page scraping start apicall iter: 7 / used 49099D1D-E565-48E1-8A6F-D5F47135EA34\n",
      "8 page scraping start apicall iter: 8 / used 9D486CED-81E4-4884-96FF-BB1F14A9223B\n",
      "9 page scraping start apicall iter: 9 / used 0974320D-C689-4543-8464-10DE1E5505A9\n",
      "10 page scraping start apicall iter: 10 / used 49099D1D-E565-48E1-8A6F-D5F47135EA34\n",
      "11 page scraping start apicall iter: 11 / used 9D486CED-81E4-4884-96FF-BB1F14A9223B\n",
      "12 page scraping start apicall iter: 12 / used 0974320D-C689-4543-8464-10DE1E5505A9\n",
      "13 page scraping start apicall iter: 13 / used 49099D1D-E565-48E1-8A6F-D5F47135EA34\n",
      "14 page scraping start apicall iter: 14 / used 9D486CED-81E4-4884-96FF-BB1F14A9223B\n",
      "15 page scraping start apicall iter: 15 / used 0974320D-C689-4543-8464-10DE1E5505A9\n",
      "16 page scraping start apicall iter: 16 / used 49099D1D-E565-48E1-8A6F-D5F47135EA34\n",
      "17 page scraping start apicall iter: 17 / used 9D486CED-81E4-4884-96FF-BB1F14A9223B\n",
      "18 page scraping start apicall iter: 18 / used 0974320D-C689-4543-8464-10DE1E5505A9\n",
      "19 page scraping start apicall iter: 19 / used 49099D1D-E565-48E1-8A6F-D5F47135EA34\n",
      "20 page scraping start apicall iter: 20 / used 9D486CED-81E4-4884-96FF-BB1F14A9223B\n",
      "21 page scraping start apicall iter: 21 / used 0974320D-C689-4543-8464-10DE1E5505A9\n",
      "22 page scraping start apicall iter: 22 / used 49099D1D-E565-48E1-8A6F-D5F47135EA34\n",
      "23 page scraping start apicall iter: 23 / used 9D486CED-81E4-4884-96FF-BB1F14A9223B\n",
      "24 page scraping start apicall iter: 24 / used 0974320D-C689-4543-8464-10DE1E5505A9\n",
      "25 page scraping start apicall iter: 25 / used 49099D1D-E565-48E1-8A6F-D5F47135EA34\n",
      "26 page scraping start apicall iter: 26 / used 9D486CED-81E4-4884-96FF-BB1F14A9223B\n",
      "27 page scraping start apicall iter: 27 / used 0974320D-C689-4543-8464-10DE1E5505A9\n",
      "28 page scraping start apicall iter: 28 / used 49099D1D-E565-48E1-8A6F-D5F47135EA34\n",
      "29 page scraping start apicall iter: 29 / used 9D486CED-81E4-4884-96FF-BB1F14A9223B\n",
      "30 page scraping start apicall iter: 30 / used 0974320D-C689-4543-8464-10DE1E5505A9\n",
      "31 page scraping start apicall iter: 31 / used 49099D1D-E565-48E1-8A6F-D5F47135EA34\n",
      "32 page scraping start apicall iter: 32 / used 9D486CED-81E4-4884-96FF-BB1F14A9223B\n",
      "33 page scraping start apicall iter: 33 / used 0974320D-C689-4543-8464-10DE1E5505A9\n",
      "34 page scraping start apicall iter: 34 / used 49099D1D-E565-48E1-8A6F-D5F47135EA34\n",
      "35 page scraping start apicall iter: 35 / used 9D486CED-81E4-4884-96FF-BB1F14A9223B\n",
      "36 page scraping start apicall iter: 36 / used 0974320D-C689-4543-8464-10DE1E5505A9\n",
      "37 page scraping start apicall iter: 37 / used 49099D1D-E565-48E1-8A6F-D5F47135EA34\n",
      "38 page scraping start apicall iter: 38 / used 9D486CED-81E4-4884-96FF-BB1F14A9223B\n",
      "39 page scraping start apicall iter: 39 / used 0974320D-C689-4543-8464-10DE1E5505A9\n",
      "40 page scraping start apicall iter: 40 / used 49099D1D-E565-48E1-8A6F-D5F47135EA34\n",
      "41 page scraping start apicall iter: 41 / used 9D486CED-81E4-4884-96FF-BB1F14A9223B\n",
      "42 page scraping start apicall iter: 42 / used 0974320D-C689-4543-8464-10DE1E5505A9\n",
      "43 page scraping start apicall iter: 43 / used 49099D1D-E565-48E1-8A6F-D5F47135EA34\n",
      "44 page scraping start apicall iter: 44 / used 9D486CED-81E4-4884-96FF-BB1F14A9223B\n",
      "45 page scraping start apicall iter: 45 / used 0974320D-C689-4543-8464-10DE1E5505A9\n",
      "46 page scraping start apicall iter: 46 / used 49099D1D-E565-48E1-8A6F-D5F47135EA34\n",
      "47 page scraping start apicall iter: 47 / used 9D486CED-81E4-4884-96FF-BB1F14A9223B\n",
      "48 page scraping start apicall iter: 48 / used 0974320D-C689-4543-8464-10DE1E5505A9\n",
      "49 page scraping start apicall iter: 49 / used 49099D1D-E565-48E1-8A6F-D5F47135EA34\n",
      "50 page scraping start apicall iter: 50 / used 9D486CED-81E4-4884-96FF-BB1F14A9223B\n",
      "51 page scraping start apicall iter: 51 / used 0974320D-C689-4543-8464-10DE1E5505A9\n",
      "52 page scraping start apicall iter: 52 / used 49099D1D-E565-48E1-8A6F-D5F47135EA34\n",
      "53 page scraping start apicall iter: 53 / used 9D486CED-81E4-4884-96FF-BB1F14A9223B\n",
      "54 page scraping start apicall iter: 54 / used 0974320D-C689-4543-8464-10DE1E5505A9\n",
      "55 page scraping start apicall iter: 55 / used 49099D1D-E565-48E1-8A6F-D5F47135EA34\n",
      "56 page scraping start apicall iter: 56 / used 9D486CED-81E4-4884-96FF-BB1F14A9223B\n",
      "57 page scraping start apicall iter: 57 / used 0974320D-C689-4543-8464-10DE1E5505A9\n",
      "58 page scraping start apicall iter: 58 / used 49099D1D-E565-48E1-8A6F-D5F47135EA34\n",
      "59 page scraping start apicall iter: 59 / used 9D486CED-81E4-4884-96FF-BB1F14A9223B\n",
      "60 page scraping start apicall iter: 60 / used 0974320D-C689-4543-8464-10DE1E5505A9\n",
      "61 page scraping start apicall iter: 61 / used 49099D1D-E565-48E1-8A6F-D5F47135EA34\n",
      "62 page scraping start apicall iter: 62 / used 9D486CED-81E4-4884-96FF-BB1F14A9223B\n",
      "63 page scraping start apicall iter: 63 / used 0974320D-C689-4543-8464-10DE1E5505A9\n",
      "64 page scraping start apicall iter: 64 / used 49099D1D-E565-48E1-8A6F-D5F47135EA34\n",
      "65 page scraping start apicall iter: 65 / used 9D486CED-81E4-4884-96FF-BB1F14A9223B\n",
      "66 page scraping start apicall iter: 66 / used 0974320D-C689-4543-8464-10DE1E5505A9\n",
      "67 page scraping start apicall iter: 67 / used 49099D1D-E565-48E1-8A6F-D5F47135EA34\n",
      "68 page scraping start apicall iter: 68 / used 9D486CED-81E4-4884-96FF-BB1F14A9223B\n",
      "69 page scraping start apicall iter: 69 / used 0974320D-C689-4543-8464-10DE1E5505A9\n",
      "70 page scraping start apicall iter: 70 / used 49099D1D-E565-48E1-8A6F-D5F47135EA34\n",
      "71 page scraping start apicall iter: 71 / used 9D486CED-81E4-4884-96FF-BB1F14A9223B\n",
      "72 page scraping start apicall iter: 72 / used 0974320D-C689-4543-8464-10DE1E5505A9\n",
      "73 page scraping start apicall iter: 73 / used 49099D1D-E565-48E1-8A6F-D5F47135EA34\n",
      "74 page scraping start apicall iter: 74 / used 9D486CED-81E4-4884-96FF-BB1F14A9223B\n",
      "75 page scraping start apicall iter: 75 / used 0974320D-C689-4543-8464-10DE1E5505A9\n",
      "76 page scraping start apicall iter: 76 / used 49099D1D-E565-48E1-8A6F-D5F47135EA34\n",
      "77 page scraping start apicall iter: 77 / used 9D486CED-81E4-4884-96FF-BB1F14A9223B\n",
      "78 page scraping start apicall iter: 78 / used 0974320D-C689-4543-8464-10DE1E5505A9\n",
      "79 page scraping start apicall iter: 79 / used 49099D1D-E565-48E1-8A6F-D5F47135EA34\n",
      "80 page scraping start apicall iter: 80 / used 9D486CED-81E4-4884-96FF-BB1F14A9223B\n",
      "81 page scraping start apicall iter: 81 / used 0974320D-C689-4543-8464-10DE1E5505A9\n",
      "82 page scraping start apicall iter: 82 / used 49099D1D-E565-48E1-8A6F-D5F47135EA34\n",
      "83 page scraping start apicall iter: 83 / used 9D486CED-81E4-4884-96FF-BB1F14A9223B\n",
      "84 page scraping start apicall iter: 84 / used 0974320D-C689-4543-8464-10DE1E5505A9\n",
      "85 page scraping start apicall iter: 85 / used 49099D1D-E565-48E1-8A6F-D5F47135EA34\n",
      "86 page scraping start apicall iter: 86 / used 9D486CED-81E4-4884-96FF-BB1F14A9223B\n",
      "87 page scraping start apicall iter: 87 / used 0974320D-C689-4543-8464-10DE1E5505A9\n",
      "88 page scraping start apicall iter: 88 / used 49099D1D-E565-48E1-8A6F-D5F47135EA34\n",
      "89 page scraping start apicall iter: 89 / used 9D486CED-81E4-4884-96FF-BB1F14A9223B\n",
      "90 page scraping start apicall iter: 90 / used 0974320D-C689-4543-8464-10DE1E5505A9\n",
      "91 page scraping start apicall iter: 91 / used 49099D1D-E565-48E1-8A6F-D5F47135EA34\n",
      "92 page scraping start apicall iter: 92 / used 9D486CED-81E4-4884-96FF-BB1F14A9223B\n",
      "93 page scraping start apicall iter: 93 / used 0974320D-C689-4543-8464-10DE1E5505A9\n",
      "94 page scraping start apicall iter: 94 / used 49099D1D-E565-48E1-8A6F-D5F47135EA34\n",
      "95 page scraping start apicall iter: 95 / used 9D486CED-81E4-4884-96FF-BB1F14A9223B\n",
      "96 page scraping start apicall iter: 96 / used 0974320D-C689-4543-8464-10DE1E5505A9\n",
      "97 page scraping start apicall iter: 97 / used 49099D1D-E565-48E1-8A6F-D5F47135EA34\n",
      "98 page scraping start apicall iter: 98 / used 9D486CED-81E4-4884-96FF-BB1F14A9223B\n",
      "99 page scraping start apicall iter: 99 / used 0974320D-C689-4543-8464-10DE1E5505A9\n",
      "100 page scraping start apicall iter: 100 / used 49099D1D-E565-48E1-8A6F-D5F47135EA34\n",
      "101 page scraping start apicall iter: 101 / used 9D486CED-81E4-4884-96FF-BB1F14A9223B\n",
      "102 page scraping start apicall iter: 102 / used 0974320D-C689-4543-8464-10DE1E5505A9\n",
      "103 page scraping start apicall iter: 103 / used 49099D1D-E565-48E1-8A6F-D5F47135EA34\n",
      "104 page scraping start apicall iter: 104 / used 9D486CED-81E4-4884-96FF-BB1F14A9223B\n",
      "105 page scraping start apicall iter: 105 / used 0974320D-C689-4543-8464-10DE1E5505A9\n",
      "106 page scraping start apicall iter: 106 / used 49099D1D-E565-48E1-8A6F-D5F47135EA34\n",
      "107 page scraping start apicall iter: 107 / used 9D486CED-81E4-4884-96FF-BB1F14A9223B\n",
      "108 page scraping start apicall iter: 108 / used 0974320D-C689-4543-8464-10DE1E5505A9\n",
      "109 page scraping start apicall iter: 109 / used 49099D1D-E565-48E1-8A6F-D5F47135EA34\n",
      "110 page scraping start apicall iter: 110 / used 9D486CED-81E4-4884-96FF-BB1F14A9223B\n",
      "111 page scraping start apicall iter: 111 / used 0974320D-C689-4543-8464-10DE1E5505A9\n",
      "112 page scraping start apicall iter: 112 / used 49099D1D-E565-48E1-8A6F-D5F47135EA34\n",
      "113 page scraping start apicall iter: 113 / used 9D486CED-81E4-4884-96FF-BB1F14A9223B\n",
      "114 page scraping start apicall iter: 114 / used 0974320D-C689-4543-8464-10DE1E5505A9\n",
      "115 page scraping start apicall iter: 115 / used 49099D1D-E565-48E1-8A6F-D5F47135EA34\n",
      "116 page scraping start apicall iter: 116 / used 9D486CED-81E4-4884-96FF-BB1F14A9223B\n",
      "117 page scraping start apicall iter: 117 / used 0974320D-C689-4543-8464-10DE1E5505A9\n",
      "118 page scraping start apicall iter: 118 / used 49099D1D-E565-48E1-8A6F-D5F47135EA34\n",
      "119 page scraping start apicall iter: 119 / used 9D486CED-81E4-4884-96FF-BB1F14A9223B\n",
      "120 page scraping start apicall iter: 120 / used 0974320D-C689-4543-8464-10DE1E5505A9\n",
      "121 page scraping start apicall iter: 121 / used 49099D1D-E565-48E1-8A6F-D5F47135EA34\n",
      "122 page scraping start apicall iter: 122 / used 9D486CED-81E4-4884-96FF-BB1F14A9223B\n",
      "123 page scraping start apicall iter: 123 / used 0974320D-C689-4543-8464-10DE1E5505A9\n",
      "124 page scraping start apicall iter: 124 / used 49099D1D-E565-48E1-8A6F-D5F47135EA34\n",
      "125 page scraping start apicall iter: 125 / used 9D486CED-81E4-4884-96FF-BB1F14A9223B\n",
      "126 page scraping start apicall iter: 126 / used 0974320D-C689-4543-8464-10DE1E5505A9\n",
      "127 page scraping start apicall iter: 127 / used 49099D1D-E565-48E1-8A6F-D5F47135EA34\n",
      "128 page scraping start apicall iter: 128 / used 9D486CED-81E4-4884-96FF-BB1F14A9223B\n",
      "129 page scraping start apicall iter: 129 / used 0974320D-C689-4543-8464-10DE1E5505A9\n",
      "130 page scraping start apicall iter: 130 / used 49099D1D-E565-48E1-8A6F-D5F47135EA34\n",
      "131 page scraping start apicall iter: 131 / used 9D486CED-81E4-4884-96FF-BB1F14A9223B\n",
      "132 page scraping start apicall iter: 132 / used 0974320D-C689-4543-8464-10DE1E5505A9\n",
      "133 page scraping start apicall iter: 133 / used 49099D1D-E565-48E1-8A6F-D5F47135EA34\n",
      "134 page scraping start apicall iter: 134 / used 9D486CED-81E4-4884-96FF-BB1F14A9223B\n",
      "135 page scraping start apicall iter: 135 / used 0974320D-C689-4543-8464-10DE1E5505A9\n",
      "136 page scraping start apicall iter: 136 / used 49099D1D-E565-48E1-8A6F-D5F47135EA34\n",
      "137 page scraping start apicall iter: 137 / used 9D486CED-81E4-4884-96FF-BB1F14A9223B\n",
      "138 page scraping start apicall iter: 138 / used 0974320D-C689-4543-8464-10DE1E5505A9\n",
      "139 page scraping start apicall iter: 139 / used 49099D1D-E565-48E1-8A6F-D5F47135EA34\n",
      "140 page scraping start apicall iter: 140 / used 9D486CED-81E4-4884-96FF-BB1F14A9223B\n",
      "141 page scraping start apicall iter: 141 / used 0974320D-C689-4543-8464-10DE1E5505A9\n",
      "142 page scraping start apicall iter: 142 / used 49099D1D-E565-48E1-8A6F-D5F47135EA34\n",
      "143 page scraping start apicall iter: 143 / used 9D486CED-81E4-4884-96FF-BB1F14A9223B\n",
      "144 page scraping start apicall iter: 144 / used 0974320D-C689-4543-8464-10DE1E5505A9\n",
      "145 page scraping start apicall iter: 145 / used 49099D1D-E565-48E1-8A6F-D5F47135EA34\n",
      "146 page scraping start apicall iter: 146 / used 9D486CED-81E4-4884-96FF-BB1F14A9223B\n",
      "147 page scraping start apicall iter: 147 / used 0974320D-C689-4543-8464-10DE1E5505A9\n",
      "148 page scraping start apicall iter: 148 / used 49099D1D-E565-48E1-8A6F-D5F47135EA34\n",
      "149 page scraping start apicall iter: 149 / used 9D486CED-81E4-4884-96FF-BB1F14A9223B\n",
      "150 page scraping start apicall iter: 150 / used 0974320D-C689-4543-8464-10DE1E5505A9\n",
      "151 page scraping start apicall iter: 151 / used 49099D1D-E565-48E1-8A6F-D5F47135EA34\n",
      "152 page scraping start apicall iter: 152 / used 9D486CED-81E4-4884-96FF-BB1F14A9223B\n",
      "153 page scraping start apicall iter: 153 / used 0974320D-C689-4543-8464-10DE1E5505A9\n",
      "154 page scraping start apicall iter: 154 / used 49099D1D-E565-48E1-8A6F-D5F47135EA34\n",
      "155 page scraping start apicall iter: 155 / used 9D486CED-81E4-4884-96FF-BB1F14A9223B\n",
      "156 page scraping start apicall iter: 156 / used 0974320D-C689-4543-8464-10DE1E5505A9\n",
      "157 page scraping start apicall iter: 157 / used 49099D1D-E565-48E1-8A6F-D5F47135EA34\n",
      "158 page scraping start apicall iter: 158 / used 9D486CED-81E4-4884-96FF-BB1F14A9223B\n",
      "159 page scraping start apicall iter: 159 / used 0974320D-C689-4543-8464-10DE1E5505A9\n",
      "160 page scraping start apicall iter: 160 / used 49099D1D-E565-48E1-8A6F-D5F47135EA34\n",
      "161 page scraping start apicall iter: 161 / used 9D486CED-81E4-4884-96FF-BB1F14A9223B\n",
      "162 page scraping start apicall iter: 162 / used 0974320D-C689-4543-8464-10DE1E5505A9\n",
      "162 page is empty\n",
      "dataframe건설공사 원가절감사례 목록 조회, param:{'serviceKey': '0974320D-C689-4543-8464-10DE1E5505A9', 'type': 'json', 'pageNo': 162} rows: 8 completed\n"
     ]
    }
   ],
   "source": [
    "### 개별 코드 작업 영역 ###\n",
    "### baseparam은 수동설정필요\n",
    "\n",
    "# ptlcmnoListLen = len(ptlcmnoList)\n",
    "APICALL = 0 #4/28 추가\n",
    "\n",
    "resultDfMerged = pd.DataFrame()\n",
    "pageList = [] # 4/28 추가\n",
    "for i in range(0, 1):\n",
    "    apiNo = i%APIKEYLEN\n",
    "    BASEPARAM={\"serviceKey\":APIKEY[0], \"type\":\"json\"}\n",
    "    # scrapyResult = cf.scrapy(URL,SITENAME,DATANAME,SERVICENAME,BASEPARAM,PAGEYN) # 주석\n",
    "    scrapyResult = cf.scrapy(URL,SITENAME,DATANAME,SERVICENAME,BASEPARAM,PAGEYN,APIKEY,APICALL) #신규 4/28\n",
    "    resultDf = scrapyResult[0]\n",
    "    pageList.append( scrapyResult[1] )\n",
    "    APICALL = scrapyResult[2] \n",
    "    resultDfMerged = resultDfMerged.append(resultDf)"
   ]
  },
  {
   "cell_type": "markdown",
   "metadata": {},
   "source": [
    "### [추가] 파라미터 정보 추가저장"
   ]
  },
  {
   "cell_type": "code",
   "execution_count": 12,
   "metadata": {},
   "outputs": [
    {
     "name": "stdout",
     "output_type": "stream",
     "text": [
      "건설공사 원가절감사례 목록 조회 save compled\n"
     ]
    },
    {
     "data": {
      "text/plain": [
       "(1608, 8)"
      ]
     },
     "execution_count": 12,
     "metadata": {},
     "output_type": "execute_result"
    }
   ],
   "source": [
    "# 데이터 저장\n",
    "cf.savedata(resultDfMerged, SITENAME,DATANAME,SERVICENAME, mode)\n",
    "\n",
    "resultDfMerged.shape"
   ]
  },
  {
   "cell_type": "code",
   "execution_count": 16,
   "metadata": {},
   "outputs": [],
   "source": [
    "# 파라미터 저장\n",
    "# 기존사용된 파라미터 정보에 추가 파라미터 append 후 저장\n",
    "# ptlcmnoList = orgParam + ptlcmnoList\n",
    "# 파라미터 없는경우 ptlcmnoList = []\n",
    "ptlcmnoList = []\n",
    "paramList = [ptlcmnoList,pageList]\n",
    "# 최종 파라미터 저장\n",
    "cf.saveparam(paramList, SITENAME,DATANAME,SERVICENAME)"
   ]
  },
  {
   "cell_type": "code",
   "execution_count": null,
   "metadata": {},
   "outputs": [],
   "source": []
  }
 ],
 "metadata": {
  "kernelspec": {
   "display_name": "Python 3",
   "language": "python",
   "name": "python3"
  },
  "language_info": {
   "codemirror_mode": {
    "name": "ipython",
    "version": 3
   },
   "file_extension": ".py",
   "mimetype": "text/x-python",
   "name": "python",
   "nbconvert_exporter": "python",
   "pygments_lexer": "ipython3",
   "version": "3.8.5"
  }
 },
 "nbformat": 4,
 "nbformat_minor": 5
}
