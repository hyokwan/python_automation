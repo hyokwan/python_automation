{
 "cells": [
  {
   "cell_type": "markdown",
   "metadata": {
    "tags": []
   },
   "source": [
    "## 시설물 목록"
   ]
  },
  {
   "cell_type": "code",
   "execution_count": 1,
   "metadata": {},
   "outputs": [
    {
     "data": {
      "text/plain": [
       "'../output/건설사업정보시스템/시설물 목록/selectIoFmMngList.csv'"
      ]
     },
     "execution_count": 1,
     "metadata": {},
     "output_type": "execute_result"
    }
   ],
   "source": [
    "from common import commonFunc as cf\n",
    "import pandas as pd\n",
    "import pickle\n",
    "pd.set_option('display.max_columns', None)\n",
    "metadata = pd.read_excel(\"../input/datalake_meta22.xlsx\")\n",
    "\n",
    "SITENAME = \"건설사업정보시스템\"\n",
    "DATANAME= \"시설물 목록\"\n",
    "### APIKEY 불러오기 ###\n",
    "with open(\"../input/calsapikey.pickle\",\"rb\") as fr:\n",
    "    APIKEY = pickle.load(fr)\n",
    "\n",
    "targetData = metadata.loc[metadata.자료명==DATANAME]\n",
    "preSetFolder = targetData[\"저장폴더\"].values[0]\n",
    "\n",
    "preSetFolder"
   ]
  },
  {
   "cell_type": "code",
   "execution_count": 2,
   "metadata": {},
   "outputs": [],
   "source": [
    "APIKEYLEN = len(APIKEY)"
   ]
  },
  {
   "cell_type": "code",
   "execution_count": 3,
   "metadata": {},
   "outputs": [
    {
     "data": {
      "text/plain": [
       "'selectIoFmMngList'"
      ]
     },
     "execution_count": 3,
     "metadata": {},
     "output_type": "execute_result"
    }
   ],
   "source": [
    "##### 파라미터 설정 #####\n",
    "URL = targetData[\"URL\"].values[0]\n",
    "SERVICENAME = targetData[\"서비스키\"].values[0]\n",
    "SERVICENAME = SERVICENAME.split(\".\")[0]\n",
    "SERVICENAME"
   ]
  },
  {
   "cell_type": "code",
   "execution_count": 4,
   "metadata": {},
   "outputs": [
    {
     "data": {
      "text/plain": [
       "['serviceKey',\n",
       " 'type',\n",
       " 'pageNo',\n",
       " 'numOfRows',\n",
       " 'sortField',\n",
       " 'sortOrder',\n",
       " 'searchFctNm',\n",
       " 'searchFctCfCd',\n",
       " 'searchFctKdCd',\n",
       " 'searchRutCd',\n",
       " 'searchCwkNm',\n",
       " 'searchOfcCd']"
      ]
     },
     "execution_count": 4,
     "metadata": {},
     "output_type": "execute_result"
    }
   ],
   "source": [
    "REQPARAM = targetData[\"요청변수\"].values[0]\n",
    "REQPARAM = REQPARAM.split(\",\")\n",
    "PRIMARYKEY = targetData[\"기본키\"].values[0]\n",
    "REQPARAM"
   ]
  },
  {
   "cell_type": "code",
   "execution_count": 5,
   "metadata": {},
   "outputs": [],
   "source": [
    "# 페이지번호 설정\n",
    "PAGEYN=1\n",
    "if REQPARAM.count(\"pageNo\") == 0:\n",
    "    PAGEYN = 0\n",
    "else:\n",
    "    PAGEYN = 1\n",
    "### 기본정보 설정 및 파라미터 설정 ###"
   ]
  },
  {
   "cell_type": "code",
   "execution_count": 6,
   "metadata": {},
   "outputs": [],
   "source": [
    "JSONKEY = \"items\"\n",
    "DUMMY = 0"
   ]
  },
  {
   "cell_type": "code",
   "execution_count": 7,
   "metadata": {},
   "outputs": [
    {
     "name": "stdout",
     "output_type": "stream",
     "text": [
      "시설물 목록 정보 new 모드 2 \n"
     ]
    }
   ],
   "source": [
    "newParam = []\n",
    "mode = 2\n",
    "if newParam==[]:\n",
    "    mode=2\n",
    "    print(\"{} 정보 new 모드 {} \".format(DATANAME, mode))"
   ]
  },
  {
   "cell_type": "code",
   "execution_count": 8,
   "metadata": {},
   "outputs": [],
   "source": [
    "pageNo = 1\n",
    "numOfRows = 1000\n"
   ]
  },
  {
   "cell_type": "code",
   "execution_count": 9,
   "metadata": {},
   "outputs": [
    {
     "name": "stdout",
     "output_type": "stream",
     "text": [
      "1 page scraping start apicall iter: 1 / used 49099D1D-E565-48E1-8A6F-D5F47135EA34\n",
      "2 page scraping start apicall iter: 2 / used 0974320D-C689-4543-8464-10DE1E5505A9\n",
      "3 page scraping start apicall iter: 3 / used 49099D1D-E565-48E1-8A6F-D5F47135EA34\n",
      "4 page scraping start apicall iter: 4 / used 0974320D-C689-4543-8464-10DE1E5505A9\n",
      "5 page scraping start apicall iter: 5 / used 49099D1D-E565-48E1-8A6F-D5F47135EA34\n",
      "6 page scraping start apicall iter: 6 / used 0974320D-C689-4543-8464-10DE1E5505A9\n",
      "7 page scraping start apicall iter: 7 / used 49099D1D-E565-48E1-8A6F-D5F47135EA34\n",
      "8 page scraping start apicall iter: 8 / used 0974320D-C689-4543-8464-10DE1E5505A9\n",
      "9 page scraping start apicall iter: 9 / used 49099D1D-E565-48E1-8A6F-D5F47135EA34\n",
      "9 page is empty\n",
      "dataframe시설물 목록, param:{'serviceKey': '49099D1D-E565-48E1-8A6F-D5F47135EA34', 'pageNo': 9, 'numOfRows': 1000, 'type': 'json'} rows: 15 completed\n",
      "    ofccd      ofcnm  rutcd     rutnm fctkdcd fctkdnm fctcfcd fctcfnm  \\\n",
      "0      42  전주국토관리사무소  42023  일반국도23호선       1      교량       0      기타   \n",
      "1      42  전주국토관리사무소  42023  일반국도23호선       1      교량       0      기타   \n",
      "2      42  전주국토관리사무소  42023  일반국도23호선       1      교량       0      기타   \n",
      "3      42  전주국토관리사무소  42023  일반국도23호선       1      교량       0      기타   \n",
      "4      42  전주국토관리사무소  42023  일반국도23호선       1      교량       0      기타   \n",
      "..    ...        ...    ...       ...     ...     ...     ...     ...   \n",
      "910    21  홍천국토관리사무소  21044  일반국도44호선       3    지하차도       0      기타   \n",
      "911    54  영주국토관리사무소  54028  일반국도28호선       3    지하차도       0      기타   \n",
      "912    54  영주국토관리사무소  54034  일반국도34호선       3    지하차도       0      기타   \n",
      "913    54  영주국토관리사무소  54036  일반국도36호선       3    지하차도       0      기타   \n",
      "914    54  영주국토관리사무소  54005   일반국도5호선       3    지하차도       0      기타   \n",
      "\n",
      "                                 fcno      fctnm   sectnm  \\\n",
      "0    017F251FED9EB079AB33F9C412F5B472        명덕교    흥사~연정   \n",
      "1    017F252A645BC823DA30560A8759FD30     흥사램프A교    흥사~연정   \n",
      "2    017F2529B176518CD178B7E35156C846     신곡램프H교    흥사~연정   \n",
      "3    017F25293BAD9CF86706B714FA809DA2     신곡램프G교    흥사~연정   \n",
      "4    017F2528B4559D9301445A72A86CA350     신곡램프D교    흥사~연정   \n",
      "..                                ...        ...      ...   \n",
      "910  0175BC9111C42D0A7B6872462096F666     신남지하차도  미지정~미지정   \n",
      "911  0175BC910E164DC7DADE7C66200B25E9     예천지하차도  미지정~미지정   \n",
      "912  0175BC9118FF6D756E9A835EBFA810BE  서안동IC지하차도  미지정~미지정   \n",
      "913  0175BC911A6DC7E714F3234410E50628   나무고개지하차도  미지정~미지정   \n",
      "914  0175BC910C9703859427C6DB844C8780     창락지하차도  미지정~미지정   \n",
      "\n",
      "                   lctnm       ccwdt      cstcmpnm                      cwknm  \n",
      "0    전북 김제시 명덕동 401-11번지  2021-12-31  에스케이에코플랜트(주)  김제시관내 국도대체우회도로(흥사-연정)건설공사  \n",
      "1       전북 김제시 흥사동 453-8  2021-12-31  에스케이에코플랜트(주)  김제시관내 국도대체우회도로(흥사-연정)건설공사  \n",
      "2                 전북 김제시  2021-12-31  에스케이에코플랜트(주)  김제시관내 국도대체우회도로(흥사-연정)건설공사  \n",
      "3                 전북 김제시  2021-12-31  에스케이에코플랜트(주)  김제시관내 국도대체우회도로(흥사-연정)건설공사  \n",
      "4                 전북 김제시  2021-12-31  에스케이에코플랜트(주)  김제시관내 국도대체우회도로(흥사-연정)건설공사  \n",
      "..                   ...         ...           ...                        ...  \n",
      "910          강원도 인제군 남면          ---          None                       None  \n",
      "911        경상북도 예천군 예천읍          ---          None                       None  \n",
      "912        경상북도 안동시 풍산읍          ---          None                       None  \n",
      "913        경상북도 영주시 가흥동          ---          None                       None  \n",
      "914        경상북도 영주시 풍기읍          ---          None                       None  \n",
      "\n",
      "[7915 rows x 15 columns]\n",
      "------------------------------------------\n",
      "    ofccd      ofcnm  rutcd     rutnm fctkdcd fctkdnm fctcfcd fctcfnm  \\\n",
      "0      42  전주국토관리사무소  42023  일반국도23호선       1      교량       0      기타   \n",
      "1      42  전주국토관리사무소  42023  일반국도23호선       1      교량       0      기타   \n",
      "2      42  전주국토관리사무소  42023  일반국도23호선       1      교량       0      기타   \n",
      "3      42  전주국토관리사무소  42023  일반국도23호선       1      교량       0      기타   \n",
      "4      42  전주국토관리사무소  42023  일반국도23호선       1      교량       0      기타   \n",
      "..    ...        ...    ...       ...     ...     ...     ...     ...   \n",
      "910    21  홍천국토관리사무소  21044  일반국도44호선       3    지하차도       0      기타   \n",
      "911    54  영주국토관리사무소  54028  일반국도28호선       3    지하차도       0      기타   \n",
      "912    54  영주국토관리사무소  54034  일반국도34호선       3    지하차도       0      기타   \n",
      "913    54  영주국토관리사무소  54036  일반국도36호선       3    지하차도       0      기타   \n",
      "914    54  영주국토관리사무소  54005   일반국도5호선       3    지하차도       0      기타   \n",
      "\n",
      "                                 fcno      fctnm   sectnm  \\\n",
      "0    017F251FED9EB079AB33F9C412F5B472        명덕교    흥사~연정   \n",
      "1    017F252A645BC823DA30560A8759FD30     흥사램프A교    흥사~연정   \n",
      "2    017F2529B176518CD178B7E35156C846     신곡램프H교    흥사~연정   \n",
      "3    017F25293BAD9CF86706B714FA809DA2     신곡램프G교    흥사~연정   \n",
      "4    017F2528B4559D9301445A72A86CA350     신곡램프D교    흥사~연정   \n",
      "..                                ...        ...      ...   \n",
      "910  0175BC9111C42D0A7B6872462096F666     신남지하차도  미지정~미지정   \n",
      "911  0175BC910E164DC7DADE7C66200B25E9     예천지하차도  미지정~미지정   \n",
      "912  0175BC9118FF6D756E9A835EBFA810BE  서안동IC지하차도  미지정~미지정   \n",
      "913  0175BC911A6DC7E714F3234410E50628   나무고개지하차도  미지정~미지정   \n",
      "914  0175BC910C9703859427C6DB844C8780     창락지하차도  미지정~미지정   \n",
      "\n",
      "                   lctnm       ccwdt      cstcmpnm                      cwknm  \n",
      "0    전북 김제시 명덕동 401-11번지  2021-12-31  에스케이에코플랜트(주)  김제시관내 국도대체우회도로(흥사-연정)건설공사  \n",
      "1       전북 김제시 흥사동 453-8  2021-12-31  에스케이에코플랜트(주)  김제시관내 국도대체우회도로(흥사-연정)건설공사  \n",
      "2                 전북 김제시  2021-12-31  에스케이에코플랜트(주)  김제시관내 국도대체우회도로(흥사-연정)건설공사  \n",
      "3                 전북 김제시  2021-12-31  에스케이에코플랜트(주)  김제시관내 국도대체우회도로(흥사-연정)건설공사  \n",
      "4                 전북 김제시  2021-12-31  에스케이에코플랜트(주)  김제시관내 국도대체우회도로(흥사-연정)건설공사  \n",
      "..                   ...         ...           ...                        ...  \n",
      "910          강원도 인제군 남면          ---          None                       None  \n",
      "911        경상북도 예천군 예천읍          ---          None                       None  \n",
      "912        경상북도 안동시 풍산읍          ---          None                       None  \n",
      "913        경상북도 영주시 가흥동          ---          None                       None  \n",
      "914        경상북도 영주시 풍기읍          ---          None                       None  \n",
      "\n",
      "[7915 rows x 15 columns]\n"
     ]
    }
   ],
   "source": [
    "resultDfMerged = pd.DataFrame()\n",
    "resultDf = pd.DataFrame()\n",
    "\n",
    "pageList = [] # 4/28 추가\n",
    "APICALL = 0 #4/28 추가\n",
    "\n",
    "for i in range(0, 1):\n",
    "    apiNo = i%APIKEYLEN\n",
    "    BASEPARAM={\"serviceKey\":APIKEY[0],\"pageNo\": pageNo,\"numOfRows\": numOfRows, \"type\":\"json\"}\n",
    "#     resultDf = myscrapy(URL,SITENAME,DATANAME,SERVICENAME,BASEPARAM,PAGEYN, JSONKEY, DUMMY)\n",
    "    scrapyResult = cf.scrapy(URL,SITENAME,DATANAME,SERVICENAME,BASEPARAM,PAGEYN,APIKEY,APICALL) #신규 4/28\n",
    "    resultDf = scrapyResult[0]\n",
    "    pageList.append( scrapyResult[1] )\n",
    "    APICALL = scrapyResult[2] \n",
    "    print(resultDf)\n",
    "    resultDfMerged = resultDfMerged.append(resultDf)\n",
    "    print(\"------------------------------------------\")\n",
    "    print(resultDfMerged)  \n",
    "\n",
    "        "
   ]
  },
  {
   "cell_type": "code",
   "execution_count": 10,
   "metadata": {},
   "outputs": [
    {
     "data": {
      "text/plain": [
       "(7915, 15)"
      ]
     },
     "execution_count": 10,
     "metadata": {},
     "output_type": "execute_result"
    }
   ],
   "source": [
    "resultDfMerged.shape"
   ]
  },
  {
   "cell_type": "code",
   "execution_count": 11,
   "metadata": {},
   "outputs": [
    {
     "name": "stdout",
     "output_type": "stream",
     "text": [
      "시설물 목록 save compled\n"
     ]
    }
   ],
   "source": [
    "cf.savedata(resultDfMerged, SITENAME,DATANAME,SERVICENAME,mode)"
   ]
  },
  {
   "cell_type": "code",
   "execution_count": 12,
   "metadata": {},
   "outputs": [
    {
     "data": {
      "text/plain": [
       "(7915, 15)"
      ]
     },
     "execution_count": 12,
     "metadata": {},
     "output_type": "execute_result"
    }
   ],
   "source": [
    "resultDfMerged.shape"
   ]
  },
  {
   "cell_type": "code",
   "execution_count": 14,
   "metadata": {},
   "outputs": [],
   "source": [
    "# 파라미터 저장 : 요청 키가 없는 API이므로, pageList만 저장\n",
    "\n",
    "# 기존사용된 파라미터 정보에 추가 파라미터 append 후 저장\n",
    "# ptlcmnoList = orgParam + ptlcmnoList\n",
    "# 파라미터 없는경우 ptlcmnoList = []\n",
    "ptlcmnoList = []\n",
    "paramList = [ptlcmnoList,pageList]\n",
    "# # 최종 파라미터 저장\n",
    "cf.saveparam(paramList, SITENAME,DATANAME,SERVICENAME)"
   ]
  },
  {
   "cell_type": "code",
   "execution_count": null,
   "metadata": {},
   "outputs": [],
   "source": []
  }
 ],
 "metadata": {
  "kernelspec": {
   "display_name": "Python 3",
   "language": "python",
   "name": "python3"
  },
  "language_info": {
   "codemirror_mode": {
    "name": "ipython",
    "version": 3
   },
   "file_extension": ".py",
   "mimetype": "text/x-python",
   "name": "python",
   "nbconvert_exporter": "python",
   "pygments_lexer": "ipython3",
   "version": "3.8.5"
  }
 },
 "nbformat": 4,
 "nbformat_minor": 5
}
