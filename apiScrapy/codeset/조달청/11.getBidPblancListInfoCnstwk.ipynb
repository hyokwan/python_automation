{
 "cells": [
  {
   "cell_type": "markdown",
   "metadata": {
    "tags": []
   },
   "source": [
    "# 1. 필요 라이브러리 선언"
   ]
  },
  {
   "cell_type": "code",
   "execution_count": 64,
   "metadata": {},
   "outputs": [],
   "source": [
    "from datetime import datetime, timedelta\n",
    "import pandas as pd\n",
    "import requests\n",
    "from lxml import html\n",
    "from bs4 import BeautifulSoup \n",
    "from urllib.request import Request, urlopen\n",
    "from urllib.parse import urlencode, quote_plus, unquote\n",
    "import os\n",
    "import time\n",
    "# from concurrent.futures import ThreadPoolExecutor\n",
    "# import concurrent.futures"
   ]
  },
  {
   "cell_type": "markdown",
   "metadata": {},
   "source": [
    "# 2. 함수 선언"
   ]
  },
  {
   "cell_type": "code",
   "execution_count": 65,
   "metadata": {},
   "outputs": [],
   "source": [
    "### 함수정의: 시작일시(datetime 타입)를 입력 시 한달 후의 시작 및 종료일시를 반환하는 함수\n",
    "### 파마리터정의:\n",
    "###   - inDf: 시작일시 (예: datetime(2020,1,1))\n",
    "def getAfterMonthDate(inDt):\n",
    "    startYear = inDt.year\n",
    "    startMonth = inDt.month\n",
    "    endYear = inDt.year\n",
    "    endMonth = inDt.month + 1\n",
    "    if startMonth == 12:\n",
    "        startYear += 1\n",
    "        startMonth = 1\n",
    "        endYear = startYear\n",
    "        endMonth = startMonth + 1\n",
    "    elif startMonth == 11:\n",
    "        startMonth += 1\n",
    "        endYear = startYear + 1\n",
    "        endMonth = 1\n",
    "    else:\n",
    "        startMonth += 1\n",
    "        endMonth = startMonth + 1\n",
    "    outBgnDt = datetime(startYear, startMonth, inDt.day)\n",
    "    outEndDt = datetime(endYear, endMonth, inDt.day) - timedelta(seconds=1)\n",
    "    return outBgnDt, outEndDt"
   ]
  },
  {
   "cell_type": "code",
   "execution_count": 66,
   "metadata": {},
   "outputs": [],
   "source": [
    "### 함수정의: 사이트 메타정보를 받아 데이터를 수집 후 수집결과를 반환하는 함수\n",
    "### 파마리터정의: \n",
    "###   - inurl: 메타정보의 \"URL\"컬럼값 (예: https://www.calspia.go.kr/io/openapi/cm/selectIoCmConstructionList.do )\n",
    "###   - inSiteName: 메타정보의 \"자료대상\" (예: 건설사업정보시스템)\n",
    "###   - inDataName: 메타정보의 \"자료명\" (예: 공사정보 목록)\n",
    "###   - inServiceName: 메타정보의 \"서비스명\" (예: getCntrctInfoListCnstwk)\n",
    "###   - inParam: 메타정보의 \"기본키 정보\" (예: {'ServiceKey': 't1howSPLxqyKOseR6gxDm7IGYVVLGc+w3wF7N4e9ufwr2g9sttHbYCQTR4dBbiVc16v1tnmTEkn/baD6et/L6g==','type':'json',...}\")\n",
    "###   - inPageYn: 메타정보의 \"페이지 정보\" (예: 페이지 파라미터 존재 시 1 값\")\n",
    "### 함수정의: 사이트 메타정보를 받아 데이터를 수집 후 수집결과를 반환하는 함수\n",
    "def scrapy(inUrl, inSiteName, inDataName, inServiceName, inParam, inPageYn):\n",
    "    emptyPd = pd.DataFrame()\n",
    "    i=1\n",
    "    while True:\n",
    "        print(\"{} page scraping start\".format(i))\n",
    "\n",
    "        if(inPageYn==1):\n",
    "            inParam[\"pageNo\"] = i\n",
    "        queryParams = '?' + urlencode(inParam)\n",
    "\n",
    "        response = requests.get(inUrl+queryParams)\n",
    "        \n",
    "        time.sleep(0.1)\n",
    "        \n",
    "        print(inUrl+queryParams)\n",
    "        response.encoding=STDENCODING\n",
    "\n",
    "        try:\n",
    "            jsondata = response.json()[\"response\"][\"body\"][\"items\"]\n",
    "        except Exception as e:\n",
    "            if e.args[0] == 'Expecting value: line 1 column 1 (char 0)':\n",
    "                xmlobj = BeautifulSoup(response.text,\"lxml-xml\")\n",
    "                errorCode = xmlobj.find(\"returnReasonCode\").text\n",
    "                raise Exception(errorCode)\n",
    "\n",
    "        if( jsondata == []):\n",
    "            print(\"{} page is empty\".format(i))\n",
    "            break\n",
    "\n",
    "        rowData = pd.DataFrame(jsondata)\n",
    "#        print(rowData)\n",
    "        emptyPd = emptyPd.append(rowData)\n",
    "\n",
    "        if(inPageYn == 0):\n",
    "            print(\"{} no pageNo\".format(inPageYn))\n",
    "            break\n",
    "        i = i+1\n",
    "\n",
    "    print(\"dataframe {} completed\".format(inDataName))\n",
    "    return emptyPd "
   ]
  },
  {
   "cell_type": "code",
   "execution_count": 67,
   "metadata": {},
   "outputs": [],
   "source": [
    "### 함수정의: 데이터프레임을 Append 모드로 OUTPUT PATH에 저장하는 함수\n",
    "### 파마리터정의:  (★★TBD 추후 HDFS경로 및 메타정보로 컬럼 추가 필요!!★★)\n",
    "###   - inDf: 저장할 대상 데이터프레임\n",
    "###   - inSiteName: 메타정보의 \"자료대상\" (예: 건설사업정보시스템)\n",
    "###   - inDataName: 메타정보의 \"자료명\" (예: 공사정보 목록)\n",
    "###   - inServiceName: 메타정보의 \"서비스명\" (예: getCntrctInfoListCnstwk)\n",
    "def savedata(inDf, inSiteName, inDataName, inServiceName):\n",
    "    # DATA SAVE TO THE OUTPUT PATH FOLDER\n",
    "    outDir = os.path.join(OUTPUTPATH,inSiteName,inDataName)\n",
    "    outFile = os.path.join( outDir, inServiceName) + \".csv\"\n",
    "    createFolder(outDir)\n",
    "    inDf.to_csv(outFile, index=False, encoding=\"ms949\", mode=\"a\")\n",
    "    print(\"{} save compled\".format(inDataName) )"
   ]
  },
  {
   "cell_type": "code",
   "execution_count": 68,
   "metadata": {},
   "outputs": [],
   "source": [
    "### 함수정의: 사이트 메타정보를 받아 데이터를 수집 후 수집결과를 반환하는 함수 (★★TBD 추후 HDFS경로 및 메타정보로 컬럼 추가 필요!!★★)\n",
    "### 파마리터정의: \n",
    "###   - directory: outputpath \n",
    "def createFolder(directory):\n",
    "    try:\n",
    "        if not os.path.exists(directory):\n",
    "            os.makedirs(directory)\n",
    "    except OSError:\n",
    "        print ('Error: Creating directory. ' +  directory)"
   ]
  },
  {
   "cell_type": "code",
   "execution_count": 69,
   "metadata": {},
   "outputs": [],
   "source": [
    "# def thread_crawl(paramList, inUrl, inSiteName, inDataName, inServiceName, inPageYn, fuction):\n",
    "#     per_thread_num = 8\n",
    "#     thread_list = []\n",
    "#     result_list = []\n",
    "#     with ThreadPoolExecutor(max_workers=per_thread_num) as exe:\n",
    "#         for param in paramList:\n",
    "#             fs = exe.submit(fuction,URL,SITENAME,DATANAME,SERVICENAME,param,PAGEYN)\n",
    "#             thread_list.append(fs)\n",
    "#         for execution in concurrent.futures.as_completed(thread_list):\n",
    "#             df = execution.result()\n",
    "#             result_list.append(df)\n",
    "#     return result_list"
   ]
  },
  {
   "cell_type": "markdown",
   "metadata": {},
   "source": [
    "# 3. 필요 변수 선언"
   ]
  },
  {
   "cell_type": "markdown",
   "metadata": {},
   "source": [
    "### 가) 메타데이터 업로드"
   ]
  },
  {
   "cell_type": "code",
   "execution_count": 75,
   "metadata": {},
   "outputs": [],
   "source": [
    "metadata = pd.read_excel(\"../input/datalake_meta22.xlsx\", sheet_name=\"2. 조달청-조달정보개방포털\", dtype={\"순서\":str, \"비고\":str})"
   ]
  },
  {
   "cell_type": "markdown",
   "metadata": {},
   "source": [
    "### 나) output 폴더 생성 변수"
   ]
  },
  {
   "cell_type": "code",
   "execution_count": 76,
   "metadata": {},
   "outputs": [],
   "source": [
    "SITENAME = \"조달청\""
   ]
  },
  {
   "cell_type": "code",
   "execution_count": 77,
   "metadata": {},
   "outputs": [],
   "source": [
    "DATANAME= \"입찰공고목록 정보에 대한 공사조회\""
   ]
  },
  {
   "cell_type": "code",
   "execution_count": 78,
   "metadata": {},
   "outputs": [],
   "source": [
    "targetData = metadata.loc[metadata.자료명==DATANAME]"
   ]
  },
  {
   "cell_type": "code",
   "execution_count": 79,
   "metadata": {},
   "outputs": [],
   "source": [
    "SERVICENAME = targetData[\"서비스키\"].values[0]"
   ]
  },
  {
   "cell_type": "markdown",
   "metadata": {},
   "source": [
    "### 다) 기본키 설정 (서비스별 변경 요)"
   ]
  },
  {
   "cell_type": "markdown",
   "metadata": {},
   "source": [
    "#### 1) API KEY"
   ]
  },
  {
   "cell_type": "code",
   "execution_count": 80,
   "metadata": {},
   "outputs": [],
   "source": [
    "initServiceKey = \"t1howSPLxqyKOseR6gxDm7IGYVVLGc+w3wF7N4e9ufwr2g9sttHbYCQTR4dBbiVc16v1tnmTEkn/baD6et/L6g==\""
   ]
  },
  {
   "cell_type": "code",
   "execution_count": 81,
   "metadata": {},
   "outputs": [],
   "source": [
    "ServiceKeyLst = [\"hMw9eN6ZYKvMWUUvEykxVelOH07uAKhQYzFMUV5r4QpvdYgJehQANKE5bay+8Hgy660JdC9mVQCFhRKupVGwaw==\",\\\n",
    "                 \"Yc4hy9aka4aSXaZzlPFTem6eM79Fm4r2PPJXGxxYxlZVUhXWeYkFbodwmpsXrkEhqUzKYoq7hFyfx3x+MPLarA==\",\\\n",
    "                \"h2pHFUSHMnsx/wJfhd+fyC4L0X+g16L0FhJvDcos8Px4Fqttih1HONUkKXQ5ITmYlq1vjIYT8/G+twwMfA9m8Q==\",\\\n",
    "                \"gDMXFxO2+zC7ZuEFiUXl+aWOrzfRGc7F52fIwOg5cdI92qRAnlOAAcL5qdsWx46zn5jMTFiMzG/0rQ/g/k2elw==\",\\\n",
    "                \"6wr0NwD9FgzjDWjNbT4iC0RBvs7vESA5VpmfNHZWE0BHguUn6YSLbh4FJ0FpMzLsEMtCiz3WxDYI5tcxCuPcPA==\"]"
   ]
  },
  {
   "cell_type": "markdown",
   "metadata": {},
   "source": [
    "#### 2) 조회 구분"
   ]
  },
  {
   "cell_type": "code",
   "execution_count": 82,
   "metadata": {},
   "outputs": [],
   "source": [
    "inqryDiv = 1"
   ]
  },
  {
   "cell_type": "markdown",
   "metadata": {},
   "source": [
    "#### 3) 등록일시 기준 조회 시작일자 및 종료일자"
   ]
  },
  {
   "cell_type": "code",
   "execution_count": 83,
   "metadata": {},
   "outputs": [],
   "source": [
    "startYear, startMonth, startDay = 2012, 1, 1\n",
    "bgnDt = datetime(startYear, startMonth, startDay)\n",
    "endDt = datetime(startYear, startMonth + 1, startDay) - timedelta(seconds=1)"
   ]
  },
  {
   "cell_type": "markdown",
   "metadata": {},
   "source": [
    "#### 4) 기본키 딕셔너리"
   ]
  },
  {
   "cell_type": "code",
   "execution_count": 84,
   "metadata": {},
   "outputs": [],
   "source": [
    "BASEPARAM_KEY = targetData.기본키.values[0].split(\",\")"
   ]
  },
  {
   "cell_type": "code",
   "execution_count": 85,
   "metadata": {},
   "outputs": [],
   "source": [
    "BASEPARAM_Lst = []"
   ]
  },
  {
   "cell_type": "code",
   "execution_count": 86,
   "metadata": {},
   "outputs": [],
   "source": [
    "nowDt = datetime.now().strftime(\"%Y%m%d%H%M\")"
   ]
  },
  {
   "cell_type": "code",
   "execution_count": 87,
   "metadata": {
    "scrolled": true
   },
   "outputs": [],
   "source": [
    "while True:\n",
    "    inqryBgnDt = bgnDt.strftime(\"%Y%m%d%H%M\")\n",
    "    inqryEndDt = endDt.strftime(\"%Y%m%d%H%M\")\n",
    "    if inqryBgnDt > nowDt:\n",
    "        break\n",
    "    BASEPARAM = {}\n",
    "    BASEPARAM_VAL = [initServiceKey, inqryDiv, inqryBgnDt, inqryEndDt]\n",
    "    for i in range(len(BASEPARAM_VAL)):\n",
    "        BASEPARAM[BASEPARAM_KEY[i]] = BASEPARAM_VAL[i]\n",
    "        BASEPARAM[\"type\"] = \"json\"\n",
    "    BASEPARAM_Lst.append(BASEPARAM)    \n",
    "    bgnDt, endDt = getAfterMonthDate(bgnDt)"
   ]
  },
  {
   "cell_type": "markdown",
   "metadata": {},
   "source": [
    "### 5) 함수 파라미터 설정"
   ]
  },
  {
   "cell_type": "code",
   "execution_count": 88,
   "metadata": {},
   "outputs": [],
   "source": [
    "URL = targetData[\"URL\"].values[0]"
   ]
  },
  {
   "cell_type": "code",
   "execution_count": 89,
   "metadata": {},
   "outputs": [],
   "source": [
    "PAGEYN=1"
   ]
  },
  {
   "cell_type": "code",
   "execution_count": 90,
   "metadata": {},
   "outputs": [],
   "source": [
    "STDENCODING='utf-8'"
   ]
  },
  {
   "cell_type": "markdown",
   "metadata": {},
   "source": [
    "### 6) OUTPUT 기본경로 설정"
   ]
  },
  {
   "cell_type": "code",
   "execution_count": 91,
   "metadata": {},
   "outputs": [],
   "source": [
    "OUTPUTPATH=\"../output\""
   ]
  },
  {
   "cell_type": "markdown",
   "metadata": {},
   "source": [
    "# 4. 데이터 수집"
   ]
  },
  {
   "cell_type": "code",
   "execution_count": 92,
   "metadata": {},
   "outputs": [],
   "source": [
    "filePath = os.path.join(OUTPUTPATH,SITENAME,DATANAME,SERVICENAME) + '.csv'\n",
    "\n",
    "if os.path.isfile(filePath):\n",
    "    os.remove(filePath)"
   ]
  },
  {
   "cell_type": "code",
   "execution_count": 20,
   "metadata": {},
   "outputs": [],
   "source": [
    "breakPoint = 0"
   ]
  },
  {
   "cell_type": "markdown",
   "metadata": {},
   "source": [
    "## 가) 초기 인증키를 통한 수집"
   ]
  },
  {
   "cell_type": "code",
   "execution_count": null,
   "metadata": {
    "scrolled": true,
    "tags": []
   },
   "outputs": [
    {
     "name": "stdout",
     "output_type": "stream",
     "text": [
      "1 page scraping start\n",
      "http://apis.data.go.kr/1230000/CntrctInfoService/getCntrctInfoListCnstwk?ServiceKey=t1howSPLxqyKOseR6gxDm7IGYVVLGc%2Bw3wF7N4e9ufwr2g9sttHbYCQTR4dBbiVc16v1tnmTEkn%2FbaD6et%2FL6g%3D%3D&type=json&inqryDiv=1&inqryBgnDt=201206010000&inqryEndDt=201206302359&pageNo=1\n",
      "2 page scraping start\n",
      "http://apis.data.go.kr/1230000/CntrctInfoService/getCntrctInfoListCnstwk?ServiceKey=t1howSPLxqyKOseR6gxDm7IGYVVLGc%2Bw3wF7N4e9ufwr2g9sttHbYCQTR4dBbiVc16v1tnmTEkn%2FbaD6et%2FL6g%3D%3D&type=json&inqryDiv=1&inqryBgnDt=201206010000&inqryEndDt=201206302359&pageNo=2\n",
      "3 page scraping start\n",
      "http://apis.data.go.kr/1230000/CntrctInfoService/getCntrctInfoListCnstwk?ServiceKey=t1howSPLxqyKOseR6gxDm7IGYVVLGc%2Bw3wF7N4e9ufwr2g9sttHbYCQTR4dBbiVc16v1tnmTEkn%2FbaD6et%2FL6g%3D%3D&type=json&inqryDiv=1&inqryBgnDt=201206010000&inqryEndDt=201206302359&pageNo=3\n",
      "4 page scraping start\n",
      "http://apis.data.go.kr/1230000/CntrctInfoService/getCntrctInfoListCnstwk?ServiceKey=t1howSPLxqyKOseR6gxDm7IGYVVLGc%2Bw3wF7N4e9ufwr2g9sttHbYCQTR4dBbiVc16v1tnmTEkn%2FbaD6et%2FL6g%3D%3D&type=json&inqryDiv=1&inqryBgnDt=201206010000&inqryEndDt=201206302359&pageNo=4\n",
      "5 page scraping start\n",
      "http://apis.data.go.kr/1230000/CntrctInfoService/getCntrctInfoListCnstwk?ServiceKey=t1howSPLxqyKOseR6gxDm7IGYVVLGc%2Bw3wF7N4e9ufwr2g9sttHbYCQTR4dBbiVc16v1tnmTEkn%2FbaD6et%2FL6g%3D%3D&type=json&inqryDiv=1&inqryBgnDt=201206010000&inqryEndDt=201206302359&pageNo=5\n",
      "6 page scraping start\n",
      "http://apis.data.go.kr/1230000/CntrctInfoService/getCntrctInfoListCnstwk?ServiceKey=t1howSPLxqyKOseR6gxDm7IGYVVLGc%2Bw3wF7N4e9ufwr2g9sttHbYCQTR4dBbiVc16v1tnmTEkn%2FbaD6et%2FL6g%3D%3D&type=json&inqryDiv=1&inqryBgnDt=201206010000&inqryEndDt=201206302359&pageNo=6\n",
      "7 page scraping start\n",
      "http://apis.data.go.kr/1230000/CntrctInfoService/getCntrctInfoListCnstwk?ServiceKey=t1howSPLxqyKOseR6gxDm7IGYVVLGc%2Bw3wF7N4e9ufwr2g9sttHbYCQTR4dBbiVc16v1tnmTEkn%2FbaD6et%2FL6g%3D%3D&type=json&inqryDiv=1&inqryBgnDt=201206010000&inqryEndDt=201206302359&pageNo=7\n",
      "8 page scraping start\n",
      "http://apis.data.go.kr/1230000/CntrctInfoService/getCntrctInfoListCnstwk?ServiceKey=t1howSPLxqyKOseR6gxDm7IGYVVLGc%2Bw3wF7N4e9ufwr2g9sttHbYCQTR4dBbiVc16v1tnmTEkn%2FbaD6et%2FL6g%3D%3D&type=json&inqryDiv=1&inqryBgnDt=201206010000&inqryEndDt=201206302359&pageNo=8\n",
      "9 page scraping start\n",
      "http://apis.data.go.kr/1230000/CntrctInfoService/getCntrctInfoListCnstwk?ServiceKey=t1howSPLxqyKOseR6gxDm7IGYVVLGc%2Bw3wF7N4e9ufwr2g9sttHbYCQTR4dBbiVc16v1tnmTEkn%2FbaD6et%2FL6g%3D%3D&type=json&inqryDiv=1&inqryBgnDt=201206010000&inqryEndDt=201206302359&pageNo=9\n",
      "10 page scraping start\n",
      "http://apis.data.go.kr/1230000/CntrctInfoService/getCntrctInfoListCnstwk?ServiceKey=t1howSPLxqyKOseR6gxDm7IGYVVLGc%2Bw3wF7N4e9ufwr2g9sttHbYCQTR4dBbiVc16v1tnmTEkn%2FbaD6et%2FL6g%3D%3D&type=json&inqryDiv=1&inqryBgnDt=201206010000&inqryEndDt=201206302359&pageNo=10\n",
      "11 page scraping start\n",
      "http://apis.data.go.kr/1230000/CntrctInfoService/getCntrctInfoListCnstwk?ServiceKey=t1howSPLxqyKOseR6gxDm7IGYVVLGc%2Bw3wF7N4e9ufwr2g9sttHbYCQTR4dBbiVc16v1tnmTEkn%2FbaD6et%2FL6g%3D%3D&type=json&inqryDiv=1&inqryBgnDt=201206010000&inqryEndDt=201206302359&pageNo=11\n",
      "12 page scraping start\n",
      "http://apis.data.go.kr/1230000/CntrctInfoService/getCntrctInfoListCnstwk?ServiceKey=t1howSPLxqyKOseR6gxDm7IGYVVLGc%2Bw3wF7N4e9ufwr2g9sttHbYCQTR4dBbiVc16v1tnmTEkn%2FbaD6et%2FL6g%3D%3D&type=json&inqryDiv=1&inqryBgnDt=201206010000&inqryEndDt=201206302359&pageNo=12\n",
      "13 page scraping start\n",
      "http://apis.data.go.kr/1230000/CntrctInfoService/getCntrctInfoListCnstwk?ServiceKey=t1howSPLxqyKOseR6gxDm7IGYVVLGc%2Bw3wF7N4e9ufwr2g9sttHbYCQTR4dBbiVc16v1tnmTEkn%2FbaD6et%2FL6g%3D%3D&type=json&inqryDiv=1&inqryBgnDt=201206010000&inqryEndDt=201206302359&pageNo=13\n",
      "14 page scraping start\n",
      "http://apis.data.go.kr/1230000/CntrctInfoService/getCntrctInfoListCnstwk?ServiceKey=t1howSPLxqyKOseR6gxDm7IGYVVLGc%2Bw3wF7N4e9ufwr2g9sttHbYCQTR4dBbiVc16v1tnmTEkn%2FbaD6et%2FL6g%3D%3D&type=json&inqryDiv=1&inqryBgnDt=201206010000&inqryEndDt=201206302359&pageNo=14\n",
      "15 page scraping start\n",
      "http://apis.data.go.kr/1230000/CntrctInfoService/getCntrctInfoListCnstwk?ServiceKey=t1howSPLxqyKOseR6gxDm7IGYVVLGc%2Bw3wF7N4e9ufwr2g9sttHbYCQTR4dBbiVc16v1tnmTEkn%2FbaD6et%2FL6g%3D%3D&type=json&inqryDiv=1&inqryBgnDt=201206010000&inqryEndDt=201206302359&pageNo=15\n",
      "16 page scraping start\n",
      "http://apis.data.go.kr/1230000/CntrctInfoService/getCntrctInfoListCnstwk?ServiceKey=t1howSPLxqyKOseR6gxDm7IGYVVLGc%2Bw3wF7N4e9ufwr2g9sttHbYCQTR4dBbiVc16v1tnmTEkn%2FbaD6et%2FL6g%3D%3D&type=json&inqryDiv=1&inqryBgnDt=201206010000&inqryEndDt=201206302359&pageNo=16\n",
      "17 page scraping start\n",
      "http://apis.data.go.kr/1230000/CntrctInfoService/getCntrctInfoListCnstwk?ServiceKey=t1howSPLxqyKOseR6gxDm7IGYVVLGc%2Bw3wF7N4e9ufwr2g9sttHbYCQTR4dBbiVc16v1tnmTEkn%2FbaD6et%2FL6g%3D%3D&type=json&inqryDiv=1&inqryBgnDt=201206010000&inqryEndDt=201206302359&pageNo=17\n",
      "18 page scraping start\n",
      "http://apis.data.go.kr/1230000/CntrctInfoService/getCntrctInfoListCnstwk?ServiceKey=t1howSPLxqyKOseR6gxDm7IGYVVLGc%2Bw3wF7N4e9ufwr2g9sttHbYCQTR4dBbiVc16v1tnmTEkn%2FbaD6et%2FL6g%3D%3D&type=json&inqryDiv=1&inqryBgnDt=201206010000&inqryEndDt=201206302359&pageNo=18\n",
      "19 page scraping start\n",
      "http://apis.data.go.kr/1230000/CntrctInfoService/getCntrctInfoListCnstwk?ServiceKey=t1howSPLxqyKOseR6gxDm7IGYVVLGc%2Bw3wF7N4e9ufwr2g9sttHbYCQTR4dBbiVc16v1tnmTEkn%2FbaD6et%2FL6g%3D%3D&type=json&inqryDiv=1&inqryBgnDt=201206010000&inqryEndDt=201206302359&pageNo=19\n",
      "20 page scraping start\n"
     ]
    }
   ],
   "source": [
    "starttime = time.time()\n",
    "print(\"수집 시작 : \", starttime)\n",
    "for i in range(breakPoint, len(BASEPARAM_Lst)):\n",
    "    try:\n",
    "        resultDf = cf.scrapy(URL,SITENAME,DATANAME,SERVICENAME,BASEPARAM_Lst[i],PAGEYN)\n",
    "        print(resultDf)\n",
    "        cf.savedata(resultDf,SITENAME,DATANAME,SERVICENAME)\n",
    "    except Exception as e:\n",
    "        print(e)\n",
    "        breakPoint = i\n",
    "        if e.args[0] == \"22\":\n",
    "            print(\"LIMITED_NUMBER_OF_SERVICE_REQUESTS_EXCEEDS_ERROR\")\n",
    "        break"
   ]
  },
  {
   "cell_type": "markdown",
   "metadata": {},
   "source": [
    "## 나) 인증키 관련 에러 시 타인증키로 수집"
   ]
  },
  {
   "cell_type": "code",
   "execution_count": 1,
   "metadata": {
    "scrolled": true
   },
   "outputs": [
    {
     "ename": "NameError",
     "evalue": "name 'ServiceKeyLst' is not defined",
     "output_type": "error",
     "traceback": [
      "\u001b[1;31m---------------------------------------------------------------------------\u001b[0m",
      "\u001b[1;31mNameError\u001b[0m                                 Traceback (most recent call last)",
      "\u001b[1;32m<ipython-input-1-1e595080786b>\u001b[0m in \u001b[0;36m<module>\u001b[1;34m\u001b[0m\n\u001b[1;32m----> 1\u001b[1;33m \u001b[1;32mfor\u001b[0m \u001b[0meach\u001b[0m \u001b[1;32min\u001b[0m \u001b[0mServiceKeyLst\u001b[0m\u001b[1;33m:\u001b[0m\u001b[1;33m\u001b[0m\u001b[1;33m\u001b[0m\u001b[0m\n\u001b[0m\u001b[0;32m      2\u001b[0m     \u001b[1;32mfor\u001b[0m \u001b[0mi\u001b[0m \u001b[1;32min\u001b[0m \u001b[0mrange\u001b[0m\u001b[1;33m(\u001b[0m\u001b[0mbreakPoint\u001b[0m\u001b[1;33m,\u001b[0m \u001b[0mlen\u001b[0m\u001b[1;33m(\u001b[0m\u001b[0mBASEPARAM_Lst\u001b[0m\u001b[1;33m)\u001b[0m\u001b[1;33m)\u001b[0m\u001b[1;33m:\u001b[0m\u001b[1;33m\u001b[0m\u001b[1;33m\u001b[0m\u001b[0m\n\u001b[0;32m      3\u001b[0m         \u001b[0mBASEPARAM_Lst\u001b[0m\u001b[1;33m[\u001b[0m\u001b[0mi\u001b[0m\u001b[1;33m]\u001b[0m\u001b[1;33m[\u001b[0m\u001b[1;34m\"ServiceKey\"\u001b[0m\u001b[1;33m]\u001b[0m \u001b[1;33m=\u001b[0m \u001b[0meach\u001b[0m\u001b[1;33m\u001b[0m\u001b[1;33m\u001b[0m\u001b[0m\n\u001b[0;32m      4\u001b[0m         \u001b[1;32mtry\u001b[0m\u001b[1;33m:\u001b[0m\u001b[1;33m\u001b[0m\u001b[1;33m\u001b[0m\u001b[0m\n\u001b[0;32m      5\u001b[0m             \u001b[0mresultDf\u001b[0m \u001b[1;33m=\u001b[0m \u001b[0mscrapy\u001b[0m\u001b[1;33m(\u001b[0m\u001b[0mURL\u001b[0m\u001b[1;33m,\u001b[0m\u001b[0mSITENAME\u001b[0m\u001b[1;33m,\u001b[0m\u001b[0mDATANAME\u001b[0m\u001b[1;33m,\u001b[0m\u001b[0mSERVICENAME\u001b[0m\u001b[1;33m,\u001b[0m\u001b[0mBASEPARAM_Lst\u001b[0m\u001b[1;33m[\u001b[0m\u001b[0mi\u001b[0m\u001b[1;33m]\u001b[0m\u001b[1;33m,\u001b[0m\u001b[0mPAGEYN\u001b[0m\u001b[1;33m)\u001b[0m\u001b[1;33m\u001b[0m\u001b[1;33m\u001b[0m\u001b[0m\n",
      "\u001b[1;31mNameError\u001b[0m: name 'ServiceKeyLst' is not defined"
     ]
    }
   ],
   "source": [
    "for each in ServiceKeyLst:\n",
    "    for i in range(breakPoint, len(BASEPARAM_Lst)):\n",
    "        BASEPARAM_Lst[i][\"ServiceKey\"] = each\n",
    "        try:\n",
    "            resultDf = scrapy(URL,SITENAME,DATANAME,SERVICENAME,BASEPARAM_Lst[i],PAGEYN)\n",
    "            savedata(resultDf,SITENAME,DATANAME,SERVICENAME)\n",
    "        except Exception as e:\n",
    "            print(e)\n",
    "            breakPoint = i\n",
    "            if e.args[0] == \"22\":\n",
    "                print(\"LIMITED_NUMBER_OF_SERVICE_REQUESTS_EXCEEDS_ERROR\")\n",
    "            else: print(e.args[0])\n",
    "            break"
   ]
  },
  {
   "cell_type": "code",
   "execution_count": null,
   "metadata": {},
   "outputs": [],
   "source": [
    "print(\"수집 종료 : \", time.time()-starttime)"
   ]
  },
  {
   "cell_type": "code",
   "execution_count": null,
   "metadata": {},
   "outputs": [],
   "source": [
    "# #다중스레드 수집\n",
    "# try:\n",
    "#     starttime = time.time()\n",
    "#     resultdfList = thread_crawl(BASEPARAM_Lst,URL,SITENAME,DATANAME,SERVICENAME,PAGEYN,scrapy)\n",
    "#     print(\"time : \", time.time()-starttime)\n",
    "# #오류 대비 원스레드 수집\n",
    "# except Exception as e:\n",
    "#     print(e)\n",
    "#     print(\"multithread error, try onethread\")\n",
    "#     starttime = time.time()\n",
    "#     resultdfList = []\n",
    "#     for i in urlList:\n",
    "#         try :\n",
    "#             eachdata = getdata(i)\n",
    "#         except :\n",
    "#             continue\n",
    "#         if eachdata is not None:\n",
    "#             resultdfList.append(eachdata)\n",
    "#     print(\"time : \", time.time()-starttime)"
   ]
  }
 ],
 "metadata": {
  "kernelspec": {
   "display_name": "Python 3",
   "language": "python",
   "name": "python3"
  },
  "language_info": {
   "codemirror_mode": {
    "name": "ipython",
    "version": 3
   },
   "file_extension": ".py",
   "mimetype": "text/x-python",
   "name": "python",
   "nbconvert_exporter": "python",
   "pygments_lexer": "ipython3",
   "version": "3.8.5"
  }
 },
 "nbformat": 4,
 "nbformat_minor": 4
}
