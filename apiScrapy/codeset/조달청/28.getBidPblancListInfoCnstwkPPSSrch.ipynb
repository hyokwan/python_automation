{
 "cells": [
  {
   "cell_type": "markdown",
   "metadata": {
    "jp-MarkdownHeadingCollapsed": true,
    "tags": []
   },
   "source": [
    "# 28.나라장터검색조건에 의한 입찰공고 공사조회"
   ]
  },
  {
   "cell_type": "markdown",
   "metadata": {
    "tags": []
   },
   "source": [
    "# 1. 필요 라이브러리 선언"
   ]
  },
  {
   "cell_type": "code",
   "execution_count": 1,
   "metadata": {},
   "outputs": [],
   "source": [
    "from datetime import datetime, timedelta\n",
    "import pandas as pd\n",
    "import requests\n",
    "from lxml import html\n",
    "from bs4 import BeautifulSoup \n",
    "from urllib.request import Request, urlopen\n",
    "from urllib.parse import urlencode, quote_plus, unquote\n",
    "import os\n",
    "import time\n",
    "# from concurrent.futures import ThreadPoolExecutor\n",
    "# import concurrent.futures"
   ]
  },
  {
   "cell_type": "markdown",
   "metadata": {},
   "source": [
    "# 2. 함수 선언"
   ]
  },
  {
   "cell_type": "code",
   "execution_count": 2,
   "metadata": {
    "tags": []
   },
   "outputs": [],
   "source": [
    "### 함수정의: 시작일시(datetime 타입)를 입력 시 한달 후의 시작 및 종료일시를 반환하는 함수\n",
    "### 파마리터정의:\n",
    "###   - inDf: 시작일시 (예: datetime(2020,1,1))\n",
    "def getAfterMonthDate(inDt):\n",
    "    startYear = inDt.year\n",
    "    startMonth = inDt.month\n",
    "    endYear = inDt.year\n",
    "    endMonth = inDt.month + 1\n",
    "    if startMonth == 12:\n",
    "        startYear += 1\n",
    "        startMonth = 1\n",
    "        endYear = startYear\n",
    "        endMonth = startMonth + 1\n",
    "    elif startMonth == 11:\n",
    "        startMonth += 1\n",
    "        endYear = startYear + 1\n",
    "        endMonth = 1\n",
    "    else:\n",
    "        startMonth += 1\n",
    "        endMonth = startMonth + 1\n",
    "    outBgnDt = datetime(startYear, startMonth, inDt.day)\n",
    "    outEndDt = datetime(endYear, endMonth, inDt.day) - timedelta(seconds=1)\n",
    "    return outBgnDt, outEndDt"
   ]
  },
  {
   "cell_type": "code",
   "execution_count": 3,
   "metadata": {},
   "outputs": [],
   "source": [
    "### 함수정의: 사이트 메타정보를 받아 데이터를 수집 후 수집결과를 반환하는 함수\n",
    "### 파마리터정의: \n",
    "###   - inurl: 메타정보의 \"URL\"컬럼값 (예: https://www.calspia.go.kr/io/openapi/cm/selectIoCmConstructionList.do )\n",
    "###   - inSiteName: 메타정보의 \"자료대상\" (예: 건설사업정보시스템)\n",
    "###   - inDataName: 메타정보의 \"자료명\" (예: 공사정보 목록)\n",
    "###   - inServiceName: 메타정보의 \"서비스명\" (예: getCntrctInfoListCnstwk)\n",
    "###   - inParam: 메타정보의 \"기본키 정보\" (예: {'ServiceKey': 't1howSPLxqyKOseR6gxDm7IGYVVLGc+w3wF7N4e9ufwr2g9sttHbYCQTR4dBbiVc16v1tnmTEkn/baD6et/L6g==','type':'json',...}\")\n",
    "###   - inPageYn: 메타정보의 \"페이지 정보\" (예: 페이지 파라미터 존재 시 1 값\")\n",
    "### 함수정의: 사이트 메타정보를 받아 데이터를 수집 후 수집결과를 반환하는 함수\n",
    "def scrapy(inUrl, inSiteName, inDataName, inServiceName, inParam, inPageYn):\n",
    "    emptyPd = pd.DataFrame()\n",
    "    i=1\n",
    "    while True:\n",
    "        jsondata = pd.DataFrame()\n",
    "        # print(\"{} page scraping start\".format(i))\n",
    "\n",
    "        if(inPageYn==1):\n",
    "            inParam[\"pageNo\"] = i\n",
    "        queryParams = '?' + urlencode(inParam)\n",
    "\n",
    "        response = requests.get(inUrl+queryParams)\n",
    "        \n",
    "        # time.sleep(0.1)\n",
    "        \n",
    "        print(inUrl+queryParams)\n",
    "        response.encoding=STDENCODING\n",
    "        \n",
    "        if response.json()[\"response\"][\"body\"][\"totalCount\"] == 0:\n",
    "            print(\"데이터 없음\")\n",
    "            break\n",
    "\n",
    "        try:\n",
    "            jsondata = response.json()[\"response\"][\"body\"][\"items\"]\n",
    "        except Exception as e:\n",
    "            if e.args[0] == 'Expecting value: line 1 column 1 (char 0)':\n",
    "                xmlobj = BeautifulSoup(response.text,\"lxml-xml\")\n",
    "                errorCode = xmlobj.find(\"returnReasonCode\").text\n",
    "                raise Exception(errorCode)\n",
    "\n",
    "        if( jsondata == []):\n",
    "            # print(\"{} page is empty\".format(i))\n",
    "            print(f\"BASEPARAM_Lst {i} is empty\")\n",
    "            break\n",
    "\n",
    "        rowData = pd.DataFrame(jsondata)\n",
    "#        print(rowData)\n",
    "        emptyPd = emptyPd.append(rowData)\n",
    "\n",
    "        if(inPageYn == 0):\n",
    "            print(\"{} no pageNo\".format(inPageYn))\n",
    "            break\n",
    "        i = i+1\n",
    "\n",
    "    # print(\"dataframe {} completed\".format(inDataName))\n",
    "    print(f\"BASEPARAM_Lst {i} completed\")\n",
    "    return emptyPd "
   ]
  },
  {
   "cell_type": "code",
   "execution_count": 4,
   "metadata": {},
   "outputs": [],
   "source": [
    "### 함수정의: 데이터프레임을 Append 모드로 OUTPUT PATH에 저장하는 함수\n",
    "### 파마리터정의:  (★★TBD 추후 HDFS경로 및 메타정보로 컬럼 추가 필요!!★★)\n",
    "###   - inDf: 저장할 대상 데이터프레임\n",
    "###   - inSiteName: 메타정보의 \"자료대상\" (예: 건설사업정보시스템)\n",
    "###   - inDataName: 메타정보의 \"자료명\" (예: 공사정보 목록)\n",
    "###   - inServiceName: 메타정보의 \"서비스명\" (예: getCntrctInfoListCnstwk)\n",
    "def savedata(inDf, inSiteName, inDataName, inServiceName, incolumnNm):\n",
    "    # DATA SAVE TO THE OUTPUT PATH FOLDER\n",
    "    outDir = os.path.join(OUTPUTPATH,inSiteName)\n",
    "    outFile = os.path.join(outDir, inDataName) + \".csv\"\n",
    "    createFolder(outDir)\n",
    "    inDf.columns = incolumnNm\n",
    "    inDf.to_csv(outFile, index=False, encoding=\"ms949\", mode=\"a\")\n",
    "    print(\"data save compled\")"
   ]
  },
  {
   "cell_type": "code",
   "execution_count": 5,
   "metadata": {},
   "outputs": [],
   "source": [
    "### 함수정의: 사이트 메타정보를 받아 데이터를 수집 후 수집결과를 반환하는 함수 (★★TBD 추후 HDFS경로 및 메타정보로 컬럼 추가 필요!!★★)\n",
    "### 파마리터정의: \n",
    "###   - directory: outputpath \n",
    "def createFolder(directory):\n",
    "    try:\n",
    "        if not os.path.exists(directory):\n",
    "            os.makedirs(directory)\n",
    "    except OSError:\n",
    "        print ('Error: Creating directory. ' +  directory)"
   ]
  },
  {
   "cell_type": "markdown",
   "metadata": {},
   "source": [
    "# 3. 필요 변수 선언"
   ]
  },
  {
   "cell_type": "markdown",
   "metadata": {},
   "source": [
    "### 가) 메타데이터 업로드"
   ]
  },
  {
   "cell_type": "code",
   "execution_count": 6,
   "metadata": {},
   "outputs": [],
   "source": [
    "metadata = pd.read_excel(\"../../input/datalake_meta22.xlsx\", sheet_name=\"2. 조달청-조달정보개방포털\", dtype={\"순서\":str, \"비고\":str})"
   ]
  },
  {
   "cell_type": "markdown",
   "metadata": {},
   "source": [
    "### 나) output 폴더 생성 변수"
   ]
  },
  {
   "cell_type": "code",
   "execution_count": 7,
   "metadata": {},
   "outputs": [],
   "source": [
    "SITENAME = \"pps\""
   ]
  },
  {
   "cell_type": "code",
   "execution_count": 8,
   "metadata": {},
   "outputs": [],
   "source": [
    "DATANAME= \"나라장터검색조건에의한입찰공고공사조회\""
   ]
  },
  {
   "cell_type": "code",
   "execution_count": 9,
   "metadata": {},
   "outputs": [],
   "source": [
    "targetData = metadata.loc[metadata.자료명==DATANAME]"
   ]
  },
  {
   "cell_type": "code",
   "execution_count": 10,
   "metadata": {},
   "outputs": [],
   "source": [
    "SERVICENAME = targetData[\"서비스키\"].values[0]"
   ]
  },
  {
   "cell_type": "markdown",
   "metadata": {},
   "source": [
    "### 다) 기본키 설정 (서비스별 변경 요)"
   ]
  },
  {
   "cell_type": "markdown",
   "metadata": {},
   "source": [
    "#### 1) API KEY"
   ]
  },
  {
   "cell_type": "code",
   "execution_count": 11,
   "metadata": {},
   "outputs": [],
   "source": [
    "ServiceKeyLst = [\"hMw9eN6ZYKvMWUUvEykxVelOH07uAKhQYzFMUV5r4QpvdYgJehQANKE5bay+8Hgy660JdC9mVQCFhRKupVGwaw==\",\\\n",
    "                 \"Yc4hy9aka4aSXaZzlPFTem6eM79Fm4r2PPJXGxxYxlZVUhXWeYkFbodwmpsXrkEhqUzKYoq7hFyfx3x+MPLarA==\",\\\n",
    "                \"h2pHFUSHMnsx/wJfhd+fyC4L0X+g16L0FhJvDcos8Px4Fqttih1HONUkKXQ5ITmYlq1vjIYT8/G+twwMfA9m8Q==\",\\\n",
    "                \"gDMXFxO2+zC7ZuEFiUXl+aWOrzfRGc7F52fIwOg5cdI92qRAnlOAAcL5qdsWx46zn5jMTFiMzG/0rQ/g/k2elw==\",\\\n",
    "                \"6wr0NwD9FgzjDWjNbT4iC0RBvs7vESA5VpmfNHZWE0BHguUn6YSLbh4FJ0FpMzLsEMtCiz3WxDYI5tcxCuPcPA==\",\\\n",
    "                \"t1howSPLxqyKOseR6gxDm7IGYVVLGc+w3wF7N4e9ufwr2g9sttHbYCQTR4dBbiVc16v1tnmTEkn/baD6et/L6g==\"]"
   ]
  },
  {
   "cell_type": "markdown",
   "metadata": {},
   "source": [
    "#### 2) 조회 구분"
   ]
  },
  {
   "cell_type": "code",
   "execution_count": 12,
   "metadata": {},
   "outputs": [],
   "source": [
    "inqryDiv = 1"
   ]
  },
  {
   "cell_type": "markdown",
   "metadata": {},
   "source": [
    "#### 3) 등록일시 기준 조회 시작일자 및 종료일자"
   ]
  },
  {
   "cell_type": "code",
   "execution_count": 13,
   "metadata": {},
   "outputs": [],
   "source": [
    "startYear, startMonth, startDay = 2012, 1, 1\n",
    "bgnDt = datetime(startYear, startMonth, startDay)\n",
    "endDt = datetime(startYear, startMonth + 1, startDay) - timedelta(seconds=1)"
   ]
  },
  {
   "cell_type": "markdown",
   "metadata": {},
   "source": [
    "#### 4) 조회 rows 수"
   ]
  },
  {
   "cell_type": "code",
   "execution_count": 14,
   "metadata": {},
   "outputs": [],
   "source": [
    "numOfRows = 999"
   ]
  },
  {
   "cell_type": "markdown",
   "metadata": {},
   "source": [
    "#### 5) 기본키 딕셔너리 생성"
   ]
  },
  {
   "cell_type": "code",
   "execution_count": 15,
   "metadata": {},
   "outputs": [],
   "source": [
    "BASEPARAM_KEY = targetData.기본키.values[0].split(\",\")"
   ]
  },
  {
   "cell_type": "code",
   "execution_count": 16,
   "metadata": {},
   "outputs": [],
   "source": [
    "BASEPARAM_Lst = []"
   ]
  },
  {
   "cell_type": "code",
   "execution_count": 17,
   "metadata": {},
   "outputs": [],
   "source": [
    "nowDt = datetime.now().strftime(\"%Y%m%d%H%M\")"
   ]
  },
  {
   "cell_type": "code",
   "execution_count": 18,
   "metadata": {
    "scrolled": true
   },
   "outputs": [],
   "source": [
    "while True:\n",
    "    inqryBgnDt = bgnDt.strftime(\"%Y%m%d%H%M\")\n",
    "    inqryEndDt = endDt.strftime(\"%Y%m%d%H%M\")\n",
    "    if inqryBgnDt > nowDt:\n",
    "        break\n",
    "    BASEPARAM = {}\n",
    "    BASEPARAM_VAL = [numOfRows, ServiceKeyLst[0], inqryDiv, inqryBgnDt, inqryEndDt]\n",
    "    for i in range(len(BASEPARAM_VAL)):\n",
    "        BASEPARAM[BASEPARAM_KEY[i]] = BASEPARAM_VAL[i]\n",
    "        BASEPARAM[\"type\"] = \"json\"\n",
    "    BASEPARAM_Lst.append(BASEPARAM)\n",
    "    bgnDt, endDt = getAfterMonthDate(bgnDt)"
   ]
  },
  {
   "cell_type": "markdown",
   "metadata": {},
   "source": [
    "### 5) 함수 파라미터 설정"
   ]
  },
  {
   "cell_type": "code",
   "execution_count": 19,
   "metadata": {},
   "outputs": [],
   "source": [
    "URL = targetData[\"URL\"].values[0]"
   ]
  },
  {
   "cell_type": "code",
   "execution_count": 20,
   "metadata": {},
   "outputs": [],
   "source": [
    "PAGEYN=1"
   ]
  },
  {
   "cell_type": "code",
   "execution_count": 21,
   "metadata": {},
   "outputs": [],
   "source": [
    "STDENCODING='utf-8'"
   ]
  },
  {
   "cell_type": "markdown",
   "metadata": {},
   "source": [
    "### 6) OUTPUT 기본경로 설정"
   ]
  },
  {
   "cell_type": "code",
   "execution_count": 22,
   "metadata": {
    "tags": []
   },
   "outputs": [],
   "source": [
    "OUTPUTPATH=\"../../output\""
   ]
  },
  {
   "cell_type": "markdown",
   "metadata": {},
   "source": [
    "### 7) 한글컬럼명 설정"
   ]
  },
  {
   "cell_type": "code",
   "execution_count": 23,
   "metadata": {},
   "outputs": [],
   "source": [
    "columnNm = targetData.한글컬럼명.values[0].split(\",\")"
   ]
  },
  {
   "cell_type": "markdown",
   "metadata": {},
   "source": [
    "# 4. 데이터 수집"
   ]
  },
  {
   "cell_type": "code",
   "execution_count": 24,
   "metadata": {},
   "outputs": [],
   "source": [
    "filePath = os.path.join(OUTPUTPATH,SITENAME,DATANAME) + '.csv'\n",
    "\n",
    "if os.path.isfile(filePath):\n",
    "    os.remove(filePath)"
   ]
  },
  {
   "cell_type": "code",
   "execution_count": 25,
   "metadata": {},
   "outputs": [],
   "source": [
    "breakPoint = 0"
   ]
  },
  {
   "cell_type": "markdown",
   "metadata": {},
   "source": [
    "### 1) 인증키를 통한 수집"
   ]
  },
  {
   "cell_type": "code",
   "execution_count": 26,
   "metadata": {},
   "outputs": [],
   "source": [
    "flag = False"
   ]
  },
  {
   "cell_type": "code",
   "execution_count": 27,
   "metadata": {
    "scrolled": true,
    "tags": []
   },
   "outputs": [
    {
     "name": "stdout",
     "output_type": "stream",
     "text": [
      "수집시작 : 09:16:54\n"
     ]
    }
   ],
   "source": [
    "starttime = time.time()\n",
    "print(\"수집시작 :\", time.strftime('%T', time.localtime(time.time())))"
   ]
  },
  {
   "cell_type": "code",
   "execution_count": null,
   "metadata": {
    "scrolled": true,
    "tags": []
   },
   "outputs": [
    {
     "name": "stdout",
     "output_type": "stream",
     "text": [
      "BASEPARAM_Lst 0 scraping start\n",
      "http://apis.data.go.kr/1230000/BidPublicInfoService02/getBidPblancListInfoCnstwkPPSSrch?numOfRows=999&type=json&ServiceKey=hMw9eN6ZYKvMWUUvEykxVelOH07uAKhQYzFMUV5r4QpvdYgJehQANKE5bay%2B8Hgy660JdC9mVQCFhRKupVGwaw%3D%3D&inqryDiv=1&inqryBgnDt=201201010000&inqryEndDt=201201312359&pageNo=1\n",
      "http://apis.data.go.kr/1230000/BidPublicInfoService02/getBidPblancListInfoCnstwkPPSSrch?numOfRows=999&type=json&ServiceKey=hMw9eN6ZYKvMWUUvEykxVelOH07uAKhQYzFMUV5r4QpvdYgJehQANKE5bay%2B8Hgy660JdC9mVQCFhRKupVGwaw%3D%3D&inqryDiv=1&inqryBgnDt=201201010000&inqryEndDt=201201312359&pageNo=2\n",
      "http://apis.data.go.kr/1230000/BidPublicInfoService02/getBidPblancListInfoCnstwkPPSSrch?numOfRows=999&type=json&ServiceKey=hMw9eN6ZYKvMWUUvEykxVelOH07uAKhQYzFMUV5r4QpvdYgJehQANKE5bay%2B8Hgy660JdC9mVQCFhRKupVGwaw%3D%3D&inqryDiv=1&inqryBgnDt=201201010000&inqryEndDt=201201312359&pageNo=3\n",
      "http://apis.data.go.kr/1230000/BidPublicInfoService02/getBidPblancListInfoCnstwkPPSSrch?numOfRows=999&type=json&ServiceKey=hMw9eN6ZYKvMWUUvEykxVelOH07uAKhQYzFMUV5r4QpvdYgJehQANKE5bay%2B8Hgy660JdC9mVQCFhRKupVGwaw%3D%3D&inqryDiv=1&inqryBgnDt=201201010000&inqryEndDt=201201312359&pageNo=4\n",
      "http://apis.data.go.kr/1230000/BidPublicInfoService02/getBidPblancListInfoCnstwkPPSSrch?numOfRows=999&type=json&ServiceKey=hMw9eN6ZYKvMWUUvEykxVelOH07uAKhQYzFMUV5r4QpvdYgJehQANKE5bay%2B8Hgy660JdC9mVQCFhRKupVGwaw%3D%3D&inqryDiv=1&inqryBgnDt=201201010000&inqryEndDt=201201312359&pageNo=5\n",
      "http://apis.data.go.kr/1230000/BidPublicInfoService02/getBidPblancListInfoCnstwkPPSSrch?numOfRows=999&type=json&ServiceKey=hMw9eN6ZYKvMWUUvEykxVelOH07uAKhQYzFMUV5r4QpvdYgJehQANKE5bay%2B8Hgy660JdC9mVQCFhRKupVGwaw%3D%3D&inqryDiv=1&inqryBgnDt=201201010000&inqryEndDt=201201312359&pageNo=6\n",
      "http://apis.data.go.kr/1230000/BidPublicInfoService02/getBidPblancListInfoCnstwkPPSSrch?numOfRows=999&type=json&ServiceKey=hMw9eN6ZYKvMWUUvEykxVelOH07uAKhQYzFMUV5r4QpvdYgJehQANKE5bay%2B8Hgy660JdC9mVQCFhRKupVGwaw%3D%3D&inqryDiv=1&inqryBgnDt=201201010000&inqryEndDt=201201312359&pageNo=7\n",
      "BASEPARAM_Lst 7 is empty\n",
      "BASEPARAM_Lst 7 completed\n",
      "data save compled\n",
      "BASEPARAM_Lst 1 scraping start\n",
      "http://apis.data.go.kr/1230000/BidPublicInfoService02/getBidPblancListInfoCnstwkPPSSrch?numOfRows=999&type=json&ServiceKey=hMw9eN6ZYKvMWUUvEykxVelOH07uAKhQYzFMUV5r4QpvdYgJehQANKE5bay%2B8Hgy660JdC9mVQCFhRKupVGwaw%3D%3D&inqryDiv=1&inqryBgnDt=201202010000&inqryEndDt=201202292359&pageNo=1\n",
      "http://apis.data.go.kr/1230000/BidPublicInfoService02/getBidPblancListInfoCnstwkPPSSrch?numOfRows=999&type=json&ServiceKey=hMw9eN6ZYKvMWUUvEykxVelOH07uAKhQYzFMUV5r4QpvdYgJehQANKE5bay%2B8Hgy660JdC9mVQCFhRKupVGwaw%3D%3D&inqryDiv=1&inqryBgnDt=201202010000&inqryEndDt=201202292359&pageNo=2\n",
      "http://apis.data.go.kr/1230000/BidPublicInfoService02/getBidPblancListInfoCnstwkPPSSrch?numOfRows=999&type=json&ServiceKey=hMw9eN6ZYKvMWUUvEykxVelOH07uAKhQYzFMUV5r4QpvdYgJehQANKE5bay%2B8Hgy660JdC9mVQCFhRKupVGwaw%3D%3D&inqryDiv=1&inqryBgnDt=201202010000&inqryEndDt=201202292359&pageNo=3\n",
      "http://apis.data.go.kr/1230000/BidPublicInfoService02/getBidPblancListInfoCnstwkPPSSrch?numOfRows=999&type=json&ServiceKey=hMw9eN6ZYKvMWUUvEykxVelOH07uAKhQYzFMUV5r4QpvdYgJehQANKE5bay%2B8Hgy660JdC9mVQCFhRKupVGwaw%3D%3D&inqryDiv=1&inqryBgnDt=201202010000&inqryEndDt=201202292359&pageNo=4\n",
      "http://apis.data.go.kr/1230000/BidPublicInfoService02/getBidPblancListInfoCnstwkPPSSrch?numOfRows=999&type=json&ServiceKey=hMw9eN6ZYKvMWUUvEykxVelOH07uAKhQYzFMUV5r4QpvdYgJehQANKE5bay%2B8Hgy660JdC9mVQCFhRKupVGwaw%3D%3D&inqryDiv=1&inqryBgnDt=201202010000&inqryEndDt=201202292359&pageNo=5\n",
      "http://apis.data.go.kr/1230000/BidPublicInfoService02/getBidPblancListInfoCnstwkPPSSrch?numOfRows=999&type=json&ServiceKey=hMw9eN6ZYKvMWUUvEykxVelOH07uAKhQYzFMUV5r4QpvdYgJehQANKE5bay%2B8Hgy660JdC9mVQCFhRKupVGwaw%3D%3D&inqryDiv=1&inqryBgnDt=201202010000&inqryEndDt=201202292359&pageNo=6\n",
      "http://apis.data.go.kr/1230000/BidPublicInfoService02/getBidPblancListInfoCnstwkPPSSrch?numOfRows=999&type=json&ServiceKey=hMw9eN6ZYKvMWUUvEykxVelOH07uAKhQYzFMUV5r4QpvdYgJehQANKE5bay%2B8Hgy660JdC9mVQCFhRKupVGwaw%3D%3D&inqryDiv=1&inqryBgnDt=201202010000&inqryEndDt=201202292359&pageNo=7\n",
      "http://apis.data.go.kr/1230000/BidPublicInfoService02/getBidPblancListInfoCnstwkPPSSrch?numOfRows=999&type=json&ServiceKey=hMw9eN6ZYKvMWUUvEykxVelOH07uAKhQYzFMUV5r4QpvdYgJehQANKE5bay%2B8Hgy660JdC9mVQCFhRKupVGwaw%3D%3D&inqryDiv=1&inqryBgnDt=201202010000&inqryEndDt=201202292359&pageNo=8\n",
      "http://apis.data.go.kr/1230000/BidPublicInfoService02/getBidPblancListInfoCnstwkPPSSrch?numOfRows=999&type=json&ServiceKey=hMw9eN6ZYKvMWUUvEykxVelOH07uAKhQYzFMUV5r4QpvdYgJehQANKE5bay%2B8Hgy660JdC9mVQCFhRKupVGwaw%3D%3D&inqryDiv=1&inqryBgnDt=201202010000&inqryEndDt=201202292359&pageNo=9\n",
      "http://apis.data.go.kr/1230000/BidPublicInfoService02/getBidPblancListInfoCnstwkPPSSrch?numOfRows=999&type=json&ServiceKey=hMw9eN6ZYKvMWUUvEykxVelOH07uAKhQYzFMUV5r4QpvdYgJehQANKE5bay%2B8Hgy660JdC9mVQCFhRKupVGwaw%3D%3D&inqryDiv=1&inqryBgnDt=201202010000&inqryEndDt=201202292359&pageNo=10\n",
      "http://apis.data.go.kr/1230000/BidPublicInfoService02/getBidPblancListInfoCnstwkPPSSrch?numOfRows=999&type=json&ServiceKey=hMw9eN6ZYKvMWUUvEykxVelOH07uAKhQYzFMUV5r4QpvdYgJehQANKE5bay%2B8Hgy660JdC9mVQCFhRKupVGwaw%3D%3D&inqryDiv=1&inqryBgnDt=201202010000&inqryEndDt=201202292359&pageNo=11\n",
      "http://apis.data.go.kr/1230000/BidPublicInfoService02/getBidPblancListInfoCnstwkPPSSrch?numOfRows=999&type=json&ServiceKey=hMw9eN6ZYKvMWUUvEykxVelOH07uAKhQYzFMUV5r4QpvdYgJehQANKE5bay%2B8Hgy660JdC9mVQCFhRKupVGwaw%3D%3D&inqryDiv=1&inqryBgnDt=201202010000&inqryEndDt=201202292359&pageNo=12\n",
      "BASEPARAM_Lst 12 is empty\n",
      "BASEPARAM_Lst 12 completed\n",
      "data save compled\n",
      "BASEPARAM_Lst 2 scraping start\n",
      "http://apis.data.go.kr/1230000/BidPublicInfoService02/getBidPblancListInfoCnstwkPPSSrch?numOfRows=999&type=json&ServiceKey=hMw9eN6ZYKvMWUUvEykxVelOH07uAKhQYzFMUV5r4QpvdYgJehQANKE5bay%2B8Hgy660JdC9mVQCFhRKupVGwaw%3D%3D&inqryDiv=1&inqryBgnDt=201203010000&inqryEndDt=201203312359&pageNo=1\n",
      "http://apis.data.go.kr/1230000/BidPublicInfoService02/getBidPblancListInfoCnstwkPPSSrch?numOfRows=999&type=json&ServiceKey=hMw9eN6ZYKvMWUUvEykxVelOH07uAKhQYzFMUV5r4QpvdYgJehQANKE5bay%2B8Hgy660JdC9mVQCFhRKupVGwaw%3D%3D&inqryDiv=1&inqryBgnDt=201203010000&inqryEndDt=201203312359&pageNo=2\n",
      "http://apis.data.go.kr/1230000/BidPublicInfoService02/getBidPblancListInfoCnstwkPPSSrch?numOfRows=999&type=json&ServiceKey=hMw9eN6ZYKvMWUUvEykxVelOH07uAKhQYzFMUV5r4QpvdYgJehQANKE5bay%2B8Hgy660JdC9mVQCFhRKupVGwaw%3D%3D&inqryDiv=1&inqryBgnDt=201203010000&inqryEndDt=201203312359&pageNo=3\n",
      "http://apis.data.go.kr/1230000/BidPublicInfoService02/getBidPblancListInfoCnstwkPPSSrch?numOfRows=999&type=json&ServiceKey=hMw9eN6ZYKvMWUUvEykxVelOH07uAKhQYzFMUV5r4QpvdYgJehQANKE5bay%2B8Hgy660JdC9mVQCFhRKupVGwaw%3D%3D&inqryDiv=1&inqryBgnDt=201203010000&inqryEndDt=201203312359&pageNo=4\n",
      "http://apis.data.go.kr/1230000/BidPublicInfoService02/getBidPblancListInfoCnstwkPPSSrch?numOfRows=999&type=json&ServiceKey=hMw9eN6ZYKvMWUUvEykxVelOH07uAKhQYzFMUV5r4QpvdYgJehQANKE5bay%2B8Hgy660JdC9mVQCFhRKupVGwaw%3D%3D&inqryDiv=1&inqryBgnDt=201203010000&inqryEndDt=201203312359&pageNo=5\n",
      "http://apis.data.go.kr/1230000/BidPublicInfoService02/getBidPblancListInfoCnstwkPPSSrch?numOfRows=999&type=json&ServiceKey=hMw9eN6ZYKvMWUUvEykxVelOH07uAKhQYzFMUV5r4QpvdYgJehQANKE5bay%2B8Hgy660JdC9mVQCFhRKupVGwaw%3D%3D&inqryDiv=1&inqryBgnDt=201203010000&inqryEndDt=201203312359&pageNo=6\n",
      "http://apis.data.go.kr/1230000/BidPublicInfoService02/getBidPblancListInfoCnstwkPPSSrch?numOfRows=999&type=json&ServiceKey=hMw9eN6ZYKvMWUUvEykxVelOH07uAKhQYzFMUV5r4QpvdYgJehQANKE5bay%2B8Hgy660JdC9mVQCFhRKupVGwaw%3D%3D&inqryDiv=1&inqryBgnDt=201203010000&inqryEndDt=201203312359&pageNo=7\n",
      "http://apis.data.go.kr/1230000/BidPublicInfoService02/getBidPblancListInfoCnstwkPPSSrch?numOfRows=999&type=json&ServiceKey=hMw9eN6ZYKvMWUUvEykxVelOH07uAKhQYzFMUV5r4QpvdYgJehQANKE5bay%2B8Hgy660JdC9mVQCFhRKupVGwaw%3D%3D&inqryDiv=1&inqryBgnDt=201203010000&inqryEndDt=201203312359&pageNo=8\n",
      "http://apis.data.go.kr/1230000/BidPublicInfoService02/getBidPblancListInfoCnstwkPPSSrch?numOfRows=999&type=json&ServiceKey=hMw9eN6ZYKvMWUUvEykxVelOH07uAKhQYzFMUV5r4QpvdYgJehQANKE5bay%2B8Hgy660JdC9mVQCFhRKupVGwaw%3D%3D&inqryDiv=1&inqryBgnDt=201203010000&inqryEndDt=201203312359&pageNo=9\n",
      "http://apis.data.go.kr/1230000/BidPublicInfoService02/getBidPblancListInfoCnstwkPPSSrch?numOfRows=999&type=json&ServiceKey=hMw9eN6ZYKvMWUUvEykxVelOH07uAKhQYzFMUV5r4QpvdYgJehQANKE5bay%2B8Hgy660JdC9mVQCFhRKupVGwaw%3D%3D&inqryDiv=1&inqryBgnDt=201203010000&inqryEndDt=201203312359&pageNo=10\n",
      "http://apis.data.go.kr/1230000/BidPublicInfoService02/getBidPblancListInfoCnstwkPPSSrch?numOfRows=999&type=json&ServiceKey=hMw9eN6ZYKvMWUUvEykxVelOH07uAKhQYzFMUV5r4QpvdYgJehQANKE5bay%2B8Hgy660JdC9mVQCFhRKupVGwaw%3D%3D&inqryDiv=1&inqryBgnDt=201203010000&inqryEndDt=201203312359&pageNo=11\n",
      "http://apis.data.go.kr/1230000/BidPublicInfoService02/getBidPblancListInfoCnstwkPPSSrch?numOfRows=999&type=json&ServiceKey=hMw9eN6ZYKvMWUUvEykxVelOH07uAKhQYzFMUV5r4QpvdYgJehQANKE5bay%2B8Hgy660JdC9mVQCFhRKupVGwaw%3D%3D&inqryDiv=1&inqryBgnDt=201203010000&inqryEndDt=201203312359&pageNo=12\n",
      "http://apis.data.go.kr/1230000/BidPublicInfoService02/getBidPblancListInfoCnstwkPPSSrch?numOfRows=999&type=json&ServiceKey=hMw9eN6ZYKvMWUUvEykxVelOH07uAKhQYzFMUV5r4QpvdYgJehQANKE5bay%2B8Hgy660JdC9mVQCFhRKupVGwaw%3D%3D&inqryDiv=1&inqryBgnDt=201203010000&inqryEndDt=201203312359&pageNo=13\n",
      "http://apis.data.go.kr/1230000/BidPublicInfoService02/getBidPblancListInfoCnstwkPPSSrch?numOfRows=999&type=json&ServiceKey=hMw9eN6ZYKvMWUUvEykxVelOH07uAKhQYzFMUV5r4QpvdYgJehQANKE5bay%2B8Hgy660JdC9mVQCFhRKupVGwaw%3D%3D&inqryDiv=1&inqryBgnDt=201203010000&inqryEndDt=201203312359&pageNo=14\n",
      "http://apis.data.go.kr/1230000/BidPublicInfoService02/getBidPblancListInfoCnstwkPPSSrch?numOfRows=999&type=json&ServiceKey=hMw9eN6ZYKvMWUUvEykxVelOH07uAKhQYzFMUV5r4QpvdYgJehQANKE5bay%2B8Hgy660JdC9mVQCFhRKupVGwaw%3D%3D&inqryDiv=1&inqryBgnDt=201203010000&inqryEndDt=201203312359&pageNo=15\n",
      "http://apis.data.go.kr/1230000/BidPublicInfoService02/getBidPblancListInfoCnstwkPPSSrch?numOfRows=999&type=json&ServiceKey=hMw9eN6ZYKvMWUUvEykxVelOH07uAKhQYzFMUV5r4QpvdYgJehQANKE5bay%2B8Hgy660JdC9mVQCFhRKupVGwaw%3D%3D&inqryDiv=1&inqryBgnDt=201203010000&inqryEndDt=201203312359&pageNo=16\n",
      "http://apis.data.go.kr/1230000/BidPublicInfoService02/getBidPblancListInfoCnstwkPPSSrch?numOfRows=999&type=json&ServiceKey=hMw9eN6ZYKvMWUUvEykxVelOH07uAKhQYzFMUV5r4QpvdYgJehQANKE5bay%2B8Hgy660JdC9mVQCFhRKupVGwaw%3D%3D&inqryDiv=1&inqryBgnDt=201203010000&inqryEndDt=201203312359&pageNo=17\n",
      "http://apis.data.go.kr/1230000/BidPublicInfoService02/getBidPblancListInfoCnstwkPPSSrch?numOfRows=999&type=json&ServiceKey=hMw9eN6ZYKvMWUUvEykxVelOH07uAKhQYzFMUV5r4QpvdYgJehQANKE5bay%2B8Hgy660JdC9mVQCFhRKupVGwaw%3D%3D&inqryDiv=1&inqryBgnDt=201203010000&inqryEndDt=201203312359&pageNo=18\n",
      "BASEPARAM_Lst 18 is empty\n",
      "BASEPARAM_Lst 18 completed\n",
      "data save compled\n",
      "BASEPARAM_Lst 3 scraping start\n",
      "http://apis.data.go.kr/1230000/BidPublicInfoService02/getBidPblancListInfoCnstwkPPSSrch?numOfRows=999&type=json&ServiceKey=hMw9eN6ZYKvMWUUvEykxVelOH07uAKhQYzFMUV5r4QpvdYgJehQANKE5bay%2B8Hgy660JdC9mVQCFhRKupVGwaw%3D%3D&inqryDiv=1&inqryBgnDt=201204010000&inqryEndDt=201204302359&pageNo=1\n",
      "http://apis.data.go.kr/1230000/BidPublicInfoService02/getBidPblancListInfoCnstwkPPSSrch?numOfRows=999&type=json&ServiceKey=hMw9eN6ZYKvMWUUvEykxVelOH07uAKhQYzFMUV5r4QpvdYgJehQANKE5bay%2B8Hgy660JdC9mVQCFhRKupVGwaw%3D%3D&inqryDiv=1&inqryBgnDt=201204010000&inqryEndDt=201204302359&pageNo=2\n",
      "http://apis.data.go.kr/1230000/BidPublicInfoService02/getBidPblancListInfoCnstwkPPSSrch?numOfRows=999&type=json&ServiceKey=hMw9eN6ZYKvMWUUvEykxVelOH07uAKhQYzFMUV5r4QpvdYgJehQANKE5bay%2B8Hgy660JdC9mVQCFhRKupVGwaw%3D%3D&inqryDiv=1&inqryBgnDt=201204010000&inqryEndDt=201204302359&pageNo=3\n",
      "http://apis.data.go.kr/1230000/BidPublicInfoService02/getBidPblancListInfoCnstwkPPSSrch?numOfRows=999&type=json&ServiceKey=hMw9eN6ZYKvMWUUvEykxVelOH07uAKhQYzFMUV5r4QpvdYgJehQANKE5bay%2B8Hgy660JdC9mVQCFhRKupVGwaw%3D%3D&inqryDiv=1&inqryBgnDt=201204010000&inqryEndDt=201204302359&pageNo=4\n",
      "http://apis.data.go.kr/1230000/BidPublicInfoService02/getBidPblancListInfoCnstwkPPSSrch?numOfRows=999&type=json&ServiceKey=hMw9eN6ZYKvMWUUvEykxVelOH07uAKhQYzFMUV5r4QpvdYgJehQANKE5bay%2B8Hgy660JdC9mVQCFhRKupVGwaw%3D%3D&inqryDiv=1&inqryBgnDt=201204010000&inqryEndDt=201204302359&pageNo=5\n",
      "http://apis.data.go.kr/1230000/BidPublicInfoService02/getBidPblancListInfoCnstwkPPSSrch?numOfRows=999&type=json&ServiceKey=hMw9eN6ZYKvMWUUvEykxVelOH07uAKhQYzFMUV5r4QpvdYgJehQANKE5bay%2B8Hgy660JdC9mVQCFhRKupVGwaw%3D%3D&inqryDiv=1&inqryBgnDt=201204010000&inqryEndDt=201204302359&pageNo=6\n",
      "http://apis.data.go.kr/1230000/BidPublicInfoService02/getBidPblancListInfoCnstwkPPSSrch?numOfRows=999&type=json&ServiceKey=hMw9eN6ZYKvMWUUvEykxVelOH07uAKhQYzFMUV5r4QpvdYgJehQANKE5bay%2B8Hgy660JdC9mVQCFhRKupVGwaw%3D%3D&inqryDiv=1&inqryBgnDt=201204010000&inqryEndDt=201204302359&pageNo=7\n",
      "http://apis.data.go.kr/1230000/BidPublicInfoService02/getBidPblancListInfoCnstwkPPSSrch?numOfRows=999&type=json&ServiceKey=hMw9eN6ZYKvMWUUvEykxVelOH07uAKhQYzFMUV5r4QpvdYgJehQANKE5bay%2B8Hgy660JdC9mVQCFhRKupVGwaw%3D%3D&inqryDiv=1&inqryBgnDt=201204010000&inqryEndDt=201204302359&pageNo=8\n",
      "http://apis.data.go.kr/1230000/BidPublicInfoService02/getBidPblancListInfoCnstwkPPSSrch?numOfRows=999&type=json&ServiceKey=hMw9eN6ZYKvMWUUvEykxVelOH07uAKhQYzFMUV5r4QpvdYgJehQANKE5bay%2B8Hgy660JdC9mVQCFhRKupVGwaw%3D%3D&inqryDiv=1&inqryBgnDt=201204010000&inqryEndDt=201204302359&pageNo=9\n",
      "http://apis.data.go.kr/1230000/BidPublicInfoService02/getBidPblancListInfoCnstwkPPSSrch?numOfRows=999&type=json&ServiceKey=hMw9eN6ZYKvMWUUvEykxVelOH07uAKhQYzFMUV5r4QpvdYgJehQANKE5bay%2B8Hgy660JdC9mVQCFhRKupVGwaw%3D%3D&inqryDiv=1&inqryBgnDt=201204010000&inqryEndDt=201204302359&pageNo=10\n",
      "http://apis.data.go.kr/1230000/BidPublicInfoService02/getBidPblancListInfoCnstwkPPSSrch?numOfRows=999&type=json&ServiceKey=hMw9eN6ZYKvMWUUvEykxVelOH07uAKhQYzFMUV5r4QpvdYgJehQANKE5bay%2B8Hgy660JdC9mVQCFhRKupVGwaw%3D%3D&inqryDiv=1&inqryBgnDt=201204010000&inqryEndDt=201204302359&pageNo=11\n",
      "http://apis.data.go.kr/1230000/BidPublicInfoService02/getBidPblancListInfoCnstwkPPSSrch?numOfRows=999&type=json&ServiceKey=hMw9eN6ZYKvMWUUvEykxVelOH07uAKhQYzFMUV5r4QpvdYgJehQANKE5bay%2B8Hgy660JdC9mVQCFhRKupVGwaw%3D%3D&inqryDiv=1&inqryBgnDt=201204010000&inqryEndDt=201204302359&pageNo=12\n",
      "http://apis.data.go.kr/1230000/BidPublicInfoService02/getBidPblancListInfoCnstwkPPSSrch?numOfRows=999&type=json&ServiceKey=hMw9eN6ZYKvMWUUvEykxVelOH07uAKhQYzFMUV5r4QpvdYgJehQANKE5bay%2B8Hgy660JdC9mVQCFhRKupVGwaw%3D%3D&inqryDiv=1&inqryBgnDt=201204010000&inqryEndDt=201204302359&pageNo=13\n",
      "http://apis.data.go.kr/1230000/BidPublicInfoService02/getBidPblancListInfoCnstwkPPSSrch?numOfRows=999&type=json&ServiceKey=hMw9eN6ZYKvMWUUvEykxVelOH07uAKhQYzFMUV5r4QpvdYgJehQANKE5bay%2B8Hgy660JdC9mVQCFhRKupVGwaw%3D%3D&inqryDiv=1&inqryBgnDt=201204010000&inqryEndDt=201204302359&pageNo=14\n",
      "BASEPARAM_Lst 14 is empty\n",
      "BASEPARAM_Lst 14 completed\n",
      "data save compled\n",
      "BASEPARAM_Lst 4 scraping start\n",
      "http://apis.data.go.kr/1230000/BidPublicInfoService02/getBidPblancListInfoCnstwkPPSSrch?numOfRows=999&type=json&ServiceKey=hMw9eN6ZYKvMWUUvEykxVelOH07uAKhQYzFMUV5r4QpvdYgJehQANKE5bay%2B8Hgy660JdC9mVQCFhRKupVGwaw%3D%3D&inqryDiv=1&inqryBgnDt=201205010000&inqryEndDt=201205312359&pageNo=1\n",
      "http://apis.data.go.kr/1230000/BidPublicInfoService02/getBidPblancListInfoCnstwkPPSSrch?numOfRows=999&type=json&ServiceKey=hMw9eN6ZYKvMWUUvEykxVelOH07uAKhQYzFMUV5r4QpvdYgJehQANKE5bay%2B8Hgy660JdC9mVQCFhRKupVGwaw%3D%3D&inqryDiv=1&inqryBgnDt=201205010000&inqryEndDt=201205312359&pageNo=2\n",
      "http://apis.data.go.kr/1230000/BidPublicInfoService02/getBidPblancListInfoCnstwkPPSSrch?numOfRows=999&type=json&ServiceKey=hMw9eN6ZYKvMWUUvEykxVelOH07uAKhQYzFMUV5r4QpvdYgJehQANKE5bay%2B8Hgy660JdC9mVQCFhRKupVGwaw%3D%3D&inqryDiv=1&inqryBgnDt=201205010000&inqryEndDt=201205312359&pageNo=3\n",
      "http://apis.data.go.kr/1230000/BidPublicInfoService02/getBidPblancListInfoCnstwkPPSSrch?numOfRows=999&type=json&ServiceKey=hMw9eN6ZYKvMWUUvEykxVelOH07uAKhQYzFMUV5r4QpvdYgJehQANKE5bay%2B8Hgy660JdC9mVQCFhRKupVGwaw%3D%3D&inqryDiv=1&inqryBgnDt=201205010000&inqryEndDt=201205312359&pageNo=4\n",
      "http://apis.data.go.kr/1230000/BidPublicInfoService02/getBidPblancListInfoCnstwkPPSSrch?numOfRows=999&type=json&ServiceKey=hMw9eN6ZYKvMWUUvEykxVelOH07uAKhQYzFMUV5r4QpvdYgJehQANKE5bay%2B8Hgy660JdC9mVQCFhRKupVGwaw%3D%3D&inqryDiv=1&inqryBgnDt=201205010000&inqryEndDt=201205312359&pageNo=5\n",
      "http://apis.data.go.kr/1230000/BidPublicInfoService02/getBidPblancListInfoCnstwkPPSSrch?numOfRows=999&type=json&ServiceKey=hMw9eN6ZYKvMWUUvEykxVelOH07uAKhQYzFMUV5r4QpvdYgJehQANKE5bay%2B8Hgy660JdC9mVQCFhRKupVGwaw%3D%3D&inqryDiv=1&inqryBgnDt=201205010000&inqryEndDt=201205312359&pageNo=6\n",
      "http://apis.data.go.kr/1230000/BidPublicInfoService02/getBidPblancListInfoCnstwkPPSSrch?numOfRows=999&type=json&ServiceKey=hMw9eN6ZYKvMWUUvEykxVelOH07uAKhQYzFMUV5r4QpvdYgJehQANKE5bay%2B8Hgy660JdC9mVQCFhRKupVGwaw%3D%3D&inqryDiv=1&inqryBgnDt=201205010000&inqryEndDt=201205312359&pageNo=7\n",
      "http://apis.data.go.kr/1230000/BidPublicInfoService02/getBidPblancListInfoCnstwkPPSSrch?numOfRows=999&type=json&ServiceKey=hMw9eN6ZYKvMWUUvEykxVelOH07uAKhQYzFMUV5r4QpvdYgJehQANKE5bay%2B8Hgy660JdC9mVQCFhRKupVGwaw%3D%3D&inqryDiv=1&inqryBgnDt=201205010000&inqryEndDt=201205312359&pageNo=8\n",
      "http://apis.data.go.kr/1230000/BidPublicInfoService02/getBidPblancListInfoCnstwkPPSSrch?numOfRows=999&type=json&ServiceKey=hMw9eN6ZYKvMWUUvEykxVelOH07uAKhQYzFMUV5r4QpvdYgJehQANKE5bay%2B8Hgy660JdC9mVQCFhRKupVGwaw%3D%3D&inqryDiv=1&inqryBgnDt=201205010000&inqryEndDt=201205312359&pageNo=9\n",
      "http://apis.data.go.kr/1230000/BidPublicInfoService02/getBidPblancListInfoCnstwkPPSSrch?numOfRows=999&type=json&ServiceKey=hMw9eN6ZYKvMWUUvEykxVelOH07uAKhQYzFMUV5r4QpvdYgJehQANKE5bay%2B8Hgy660JdC9mVQCFhRKupVGwaw%3D%3D&inqryDiv=1&inqryBgnDt=201205010000&inqryEndDt=201205312359&pageNo=10\n",
      "http://apis.data.go.kr/1230000/BidPublicInfoService02/getBidPblancListInfoCnstwkPPSSrch?numOfRows=999&type=json&ServiceKey=hMw9eN6ZYKvMWUUvEykxVelOH07uAKhQYzFMUV5r4QpvdYgJehQANKE5bay%2B8Hgy660JdC9mVQCFhRKupVGwaw%3D%3D&inqryDiv=1&inqryBgnDt=201205010000&inqryEndDt=201205312359&pageNo=11\n",
      "http://apis.data.go.kr/1230000/BidPublicInfoService02/getBidPblancListInfoCnstwkPPSSrch?numOfRows=999&type=json&ServiceKey=hMw9eN6ZYKvMWUUvEykxVelOH07uAKhQYzFMUV5r4QpvdYgJehQANKE5bay%2B8Hgy660JdC9mVQCFhRKupVGwaw%3D%3D&inqryDiv=1&inqryBgnDt=201205010000&inqryEndDt=201205312359&pageNo=12\n",
      "http://apis.data.go.kr/1230000/BidPublicInfoService02/getBidPblancListInfoCnstwkPPSSrch?numOfRows=999&type=json&ServiceKey=hMw9eN6ZYKvMWUUvEykxVelOH07uAKhQYzFMUV5r4QpvdYgJehQANKE5bay%2B8Hgy660JdC9mVQCFhRKupVGwaw%3D%3D&inqryDiv=1&inqryBgnDt=201205010000&inqryEndDt=201205312359&pageNo=13\n",
      "BASEPARAM_Lst 13 is empty\n",
      "BASEPARAM_Lst 13 completed\n",
      "data save compled\n",
      "BASEPARAM_Lst 5 scraping start\n",
      "http://apis.data.go.kr/1230000/BidPublicInfoService02/getBidPblancListInfoCnstwkPPSSrch?numOfRows=999&type=json&ServiceKey=hMw9eN6ZYKvMWUUvEykxVelOH07uAKhQYzFMUV5r4QpvdYgJehQANKE5bay%2B8Hgy660JdC9mVQCFhRKupVGwaw%3D%3D&inqryDiv=1&inqryBgnDt=201206010000&inqryEndDt=201206302359&pageNo=1\n",
      "http://apis.data.go.kr/1230000/BidPublicInfoService02/getBidPblancListInfoCnstwkPPSSrch?numOfRows=999&type=json&ServiceKey=hMw9eN6ZYKvMWUUvEykxVelOH07uAKhQYzFMUV5r4QpvdYgJehQANKE5bay%2B8Hgy660JdC9mVQCFhRKupVGwaw%3D%3D&inqryDiv=1&inqryBgnDt=201206010000&inqryEndDt=201206302359&pageNo=2\n",
      "http://apis.data.go.kr/1230000/BidPublicInfoService02/getBidPblancListInfoCnstwkPPSSrch?numOfRows=999&type=json&ServiceKey=hMw9eN6ZYKvMWUUvEykxVelOH07uAKhQYzFMUV5r4QpvdYgJehQANKE5bay%2B8Hgy660JdC9mVQCFhRKupVGwaw%3D%3D&inqryDiv=1&inqryBgnDt=201206010000&inqryEndDt=201206302359&pageNo=3\n",
      "http://apis.data.go.kr/1230000/BidPublicInfoService02/getBidPblancListInfoCnstwkPPSSrch?numOfRows=999&type=json&ServiceKey=hMw9eN6ZYKvMWUUvEykxVelOH07uAKhQYzFMUV5r4QpvdYgJehQANKE5bay%2B8Hgy660JdC9mVQCFhRKupVGwaw%3D%3D&inqryDiv=1&inqryBgnDt=201206010000&inqryEndDt=201206302359&pageNo=4\n",
      "http://apis.data.go.kr/1230000/BidPublicInfoService02/getBidPblancListInfoCnstwkPPSSrch?numOfRows=999&type=json&ServiceKey=hMw9eN6ZYKvMWUUvEykxVelOH07uAKhQYzFMUV5r4QpvdYgJehQANKE5bay%2B8Hgy660JdC9mVQCFhRKupVGwaw%3D%3D&inqryDiv=1&inqryBgnDt=201206010000&inqryEndDt=201206302359&pageNo=5\n",
      "http://apis.data.go.kr/1230000/BidPublicInfoService02/getBidPblancListInfoCnstwkPPSSrch?numOfRows=999&type=json&ServiceKey=hMw9eN6ZYKvMWUUvEykxVelOH07uAKhQYzFMUV5r4QpvdYgJehQANKE5bay%2B8Hgy660JdC9mVQCFhRKupVGwaw%3D%3D&inqryDiv=1&inqryBgnDt=201206010000&inqryEndDt=201206302359&pageNo=6\n",
      "http://apis.data.go.kr/1230000/BidPublicInfoService02/getBidPblancListInfoCnstwkPPSSrch?numOfRows=999&type=json&ServiceKey=hMw9eN6ZYKvMWUUvEykxVelOH07uAKhQYzFMUV5r4QpvdYgJehQANKE5bay%2B8Hgy660JdC9mVQCFhRKupVGwaw%3D%3D&inqryDiv=1&inqryBgnDt=201206010000&inqryEndDt=201206302359&pageNo=7\n",
      "http://apis.data.go.kr/1230000/BidPublicInfoService02/getBidPblancListInfoCnstwkPPSSrch?numOfRows=999&type=json&ServiceKey=hMw9eN6ZYKvMWUUvEykxVelOH07uAKhQYzFMUV5r4QpvdYgJehQANKE5bay%2B8Hgy660JdC9mVQCFhRKupVGwaw%3D%3D&inqryDiv=1&inqryBgnDt=201206010000&inqryEndDt=201206302359&pageNo=8\n",
      "http://apis.data.go.kr/1230000/BidPublicInfoService02/getBidPblancListInfoCnstwkPPSSrch?numOfRows=999&type=json&ServiceKey=hMw9eN6ZYKvMWUUvEykxVelOH07uAKhQYzFMUV5r4QpvdYgJehQANKE5bay%2B8Hgy660JdC9mVQCFhRKupVGwaw%3D%3D&inqryDiv=1&inqryBgnDt=201206010000&inqryEndDt=201206302359&pageNo=9\n",
      "http://apis.data.go.kr/1230000/BidPublicInfoService02/getBidPblancListInfoCnstwkPPSSrch?numOfRows=999&type=json&ServiceKey=hMw9eN6ZYKvMWUUvEykxVelOH07uAKhQYzFMUV5r4QpvdYgJehQANKE5bay%2B8Hgy660JdC9mVQCFhRKupVGwaw%3D%3D&inqryDiv=1&inqryBgnDt=201206010000&inqryEndDt=201206302359&pageNo=10\n",
      "http://apis.data.go.kr/1230000/BidPublicInfoService02/getBidPblancListInfoCnstwkPPSSrch?numOfRows=999&type=json&ServiceKey=hMw9eN6ZYKvMWUUvEykxVelOH07uAKhQYzFMUV5r4QpvdYgJehQANKE5bay%2B8Hgy660JdC9mVQCFhRKupVGwaw%3D%3D&inqryDiv=1&inqryBgnDt=201206010000&inqryEndDt=201206302359&pageNo=11\n",
      "http://apis.data.go.kr/1230000/BidPublicInfoService02/getBidPblancListInfoCnstwkPPSSrch?numOfRows=999&type=json&ServiceKey=hMw9eN6ZYKvMWUUvEykxVelOH07uAKhQYzFMUV5r4QpvdYgJehQANKE5bay%2B8Hgy660JdC9mVQCFhRKupVGwaw%3D%3D&inqryDiv=1&inqryBgnDt=201206010000&inqryEndDt=201206302359&pageNo=12\n",
      "http://apis.data.go.kr/1230000/BidPublicInfoService02/getBidPblancListInfoCnstwkPPSSrch?numOfRows=999&type=json&ServiceKey=hMw9eN6ZYKvMWUUvEykxVelOH07uAKhQYzFMUV5r4QpvdYgJehQANKE5bay%2B8Hgy660JdC9mVQCFhRKupVGwaw%3D%3D&inqryDiv=1&inqryBgnDt=201206010000&inqryEndDt=201206302359&pageNo=13\n",
      "BASEPARAM_Lst 13 is empty\n",
      "BASEPARAM_Lst 13 completed\n",
      "data save compled\n",
      "BASEPARAM_Lst 6 scraping start\n",
      "http://apis.data.go.kr/1230000/BidPublicInfoService02/getBidPblancListInfoCnstwkPPSSrch?numOfRows=999&type=json&ServiceKey=hMw9eN6ZYKvMWUUvEykxVelOH07uAKhQYzFMUV5r4QpvdYgJehQANKE5bay%2B8Hgy660JdC9mVQCFhRKupVGwaw%3D%3D&inqryDiv=1&inqryBgnDt=201207010000&inqryEndDt=201207312359&pageNo=1\n",
      "http://apis.data.go.kr/1230000/BidPublicInfoService02/getBidPblancListInfoCnstwkPPSSrch?numOfRows=999&type=json&ServiceKey=hMw9eN6ZYKvMWUUvEykxVelOH07uAKhQYzFMUV5r4QpvdYgJehQANKE5bay%2B8Hgy660JdC9mVQCFhRKupVGwaw%3D%3D&inqryDiv=1&inqryBgnDt=201207010000&inqryEndDt=201207312359&pageNo=2\n",
      "http://apis.data.go.kr/1230000/BidPublicInfoService02/getBidPblancListInfoCnstwkPPSSrch?numOfRows=999&type=json&ServiceKey=hMw9eN6ZYKvMWUUvEykxVelOH07uAKhQYzFMUV5r4QpvdYgJehQANKE5bay%2B8Hgy660JdC9mVQCFhRKupVGwaw%3D%3D&inqryDiv=1&inqryBgnDt=201207010000&inqryEndDt=201207312359&pageNo=3\n",
      "http://apis.data.go.kr/1230000/BidPublicInfoService02/getBidPblancListInfoCnstwkPPSSrch?numOfRows=999&type=json&ServiceKey=hMw9eN6ZYKvMWUUvEykxVelOH07uAKhQYzFMUV5r4QpvdYgJehQANKE5bay%2B8Hgy660JdC9mVQCFhRKupVGwaw%3D%3D&inqryDiv=1&inqryBgnDt=201207010000&inqryEndDt=201207312359&pageNo=4\n",
      "http://apis.data.go.kr/1230000/BidPublicInfoService02/getBidPblancListInfoCnstwkPPSSrch?numOfRows=999&type=json&ServiceKey=hMw9eN6ZYKvMWUUvEykxVelOH07uAKhQYzFMUV5r4QpvdYgJehQANKE5bay%2B8Hgy660JdC9mVQCFhRKupVGwaw%3D%3D&inqryDiv=1&inqryBgnDt=201207010000&inqryEndDt=201207312359&pageNo=5\n",
      "http://apis.data.go.kr/1230000/BidPublicInfoService02/getBidPblancListInfoCnstwkPPSSrch?numOfRows=999&type=json&ServiceKey=hMw9eN6ZYKvMWUUvEykxVelOH07uAKhQYzFMUV5r4QpvdYgJehQANKE5bay%2B8Hgy660JdC9mVQCFhRKupVGwaw%3D%3D&inqryDiv=1&inqryBgnDt=201207010000&inqryEndDt=201207312359&pageNo=6\n",
      "http://apis.data.go.kr/1230000/BidPublicInfoService02/getBidPblancListInfoCnstwkPPSSrch?numOfRows=999&type=json&ServiceKey=hMw9eN6ZYKvMWUUvEykxVelOH07uAKhQYzFMUV5r4QpvdYgJehQANKE5bay%2B8Hgy660JdC9mVQCFhRKupVGwaw%3D%3D&inqryDiv=1&inqryBgnDt=201207010000&inqryEndDt=201207312359&pageNo=7\n",
      "http://apis.data.go.kr/1230000/BidPublicInfoService02/getBidPblancListInfoCnstwkPPSSrch?numOfRows=999&type=json&ServiceKey=hMw9eN6ZYKvMWUUvEykxVelOH07uAKhQYzFMUV5r4QpvdYgJehQANKE5bay%2B8Hgy660JdC9mVQCFhRKupVGwaw%3D%3D&inqryDiv=1&inqryBgnDt=201207010000&inqryEndDt=201207312359&pageNo=8\n",
      "http://apis.data.go.kr/1230000/BidPublicInfoService02/getBidPblancListInfoCnstwkPPSSrch?numOfRows=999&type=json&ServiceKey=hMw9eN6ZYKvMWUUvEykxVelOH07uAKhQYzFMUV5r4QpvdYgJehQANKE5bay%2B8Hgy660JdC9mVQCFhRKupVGwaw%3D%3D&inqryDiv=1&inqryBgnDt=201207010000&inqryEndDt=201207312359&pageNo=9\n",
      "http://apis.data.go.kr/1230000/BidPublicInfoService02/getBidPblancListInfoCnstwkPPSSrch?numOfRows=999&type=json&ServiceKey=hMw9eN6ZYKvMWUUvEykxVelOH07uAKhQYzFMUV5r4QpvdYgJehQANKE5bay%2B8Hgy660JdC9mVQCFhRKupVGwaw%3D%3D&inqryDiv=1&inqryBgnDt=201207010000&inqryEndDt=201207312359&pageNo=10\n",
      "http://apis.data.go.kr/1230000/BidPublicInfoService02/getBidPblancListInfoCnstwkPPSSrch?numOfRows=999&type=json&ServiceKey=hMw9eN6ZYKvMWUUvEykxVelOH07uAKhQYzFMUV5r4QpvdYgJehQANKE5bay%2B8Hgy660JdC9mVQCFhRKupVGwaw%3D%3D&inqryDiv=1&inqryBgnDt=201207010000&inqryEndDt=201207312359&pageNo=11\n",
      "http://apis.data.go.kr/1230000/BidPublicInfoService02/getBidPblancListInfoCnstwkPPSSrch?numOfRows=999&type=json&ServiceKey=hMw9eN6ZYKvMWUUvEykxVelOH07uAKhQYzFMUV5r4QpvdYgJehQANKE5bay%2B8Hgy660JdC9mVQCFhRKupVGwaw%3D%3D&inqryDiv=1&inqryBgnDt=201207010000&inqryEndDt=201207312359&pageNo=12\n",
      "http://apis.data.go.kr/1230000/BidPublicInfoService02/getBidPblancListInfoCnstwkPPSSrch?numOfRows=999&type=json&ServiceKey=hMw9eN6ZYKvMWUUvEykxVelOH07uAKhQYzFMUV5r4QpvdYgJehQANKE5bay%2B8Hgy660JdC9mVQCFhRKupVGwaw%3D%3D&inqryDiv=1&inqryBgnDt=201207010000&inqryEndDt=201207312359&pageNo=13\n",
      "BASEPARAM_Lst 13 is empty\n",
      "BASEPARAM_Lst 13 completed\n",
      "data save compled\n",
      "BASEPARAM_Lst 7 scraping start\n",
      "http://apis.data.go.kr/1230000/BidPublicInfoService02/getBidPblancListInfoCnstwkPPSSrch?numOfRows=999&type=json&ServiceKey=hMw9eN6ZYKvMWUUvEykxVelOH07uAKhQYzFMUV5r4QpvdYgJehQANKE5bay%2B8Hgy660JdC9mVQCFhRKupVGwaw%3D%3D&inqryDiv=1&inqryBgnDt=201208010000&inqryEndDt=201208312359&pageNo=1\n",
      "http://apis.data.go.kr/1230000/BidPublicInfoService02/getBidPblancListInfoCnstwkPPSSrch?numOfRows=999&type=json&ServiceKey=hMw9eN6ZYKvMWUUvEykxVelOH07uAKhQYzFMUV5r4QpvdYgJehQANKE5bay%2B8Hgy660JdC9mVQCFhRKupVGwaw%3D%3D&inqryDiv=1&inqryBgnDt=201208010000&inqryEndDt=201208312359&pageNo=2\n",
      "http://apis.data.go.kr/1230000/BidPublicInfoService02/getBidPblancListInfoCnstwkPPSSrch?numOfRows=999&type=json&ServiceKey=hMw9eN6ZYKvMWUUvEykxVelOH07uAKhQYzFMUV5r4QpvdYgJehQANKE5bay%2B8Hgy660JdC9mVQCFhRKupVGwaw%3D%3D&inqryDiv=1&inqryBgnDt=201208010000&inqryEndDt=201208312359&pageNo=3\n",
      "http://apis.data.go.kr/1230000/BidPublicInfoService02/getBidPblancListInfoCnstwkPPSSrch?numOfRows=999&type=json&ServiceKey=hMw9eN6ZYKvMWUUvEykxVelOH07uAKhQYzFMUV5r4QpvdYgJehQANKE5bay%2B8Hgy660JdC9mVQCFhRKupVGwaw%3D%3D&inqryDiv=1&inqryBgnDt=201208010000&inqryEndDt=201208312359&pageNo=4\n",
      "http://apis.data.go.kr/1230000/BidPublicInfoService02/getBidPblancListInfoCnstwkPPSSrch?numOfRows=999&type=json&ServiceKey=hMw9eN6ZYKvMWUUvEykxVelOH07uAKhQYzFMUV5r4QpvdYgJehQANKE5bay%2B8Hgy660JdC9mVQCFhRKupVGwaw%3D%3D&inqryDiv=1&inqryBgnDt=201208010000&inqryEndDt=201208312359&pageNo=5\n",
      "http://apis.data.go.kr/1230000/BidPublicInfoService02/getBidPblancListInfoCnstwkPPSSrch?numOfRows=999&type=json&ServiceKey=hMw9eN6ZYKvMWUUvEykxVelOH07uAKhQYzFMUV5r4QpvdYgJehQANKE5bay%2B8Hgy660JdC9mVQCFhRKupVGwaw%3D%3D&inqryDiv=1&inqryBgnDt=201208010000&inqryEndDt=201208312359&pageNo=6\n",
      "http://apis.data.go.kr/1230000/BidPublicInfoService02/getBidPblancListInfoCnstwkPPSSrch?numOfRows=999&type=json&ServiceKey=hMw9eN6ZYKvMWUUvEykxVelOH07uAKhQYzFMUV5r4QpvdYgJehQANKE5bay%2B8Hgy660JdC9mVQCFhRKupVGwaw%3D%3D&inqryDiv=1&inqryBgnDt=201208010000&inqryEndDt=201208312359&pageNo=7\n",
      "http://apis.data.go.kr/1230000/BidPublicInfoService02/getBidPblancListInfoCnstwkPPSSrch?numOfRows=999&type=json&ServiceKey=hMw9eN6ZYKvMWUUvEykxVelOH07uAKhQYzFMUV5r4QpvdYgJehQANKE5bay%2B8Hgy660JdC9mVQCFhRKupVGwaw%3D%3D&inqryDiv=1&inqryBgnDt=201208010000&inqryEndDt=201208312359&pageNo=8\n",
      "BASEPARAM_Lst 8 is empty\n",
      "BASEPARAM_Lst 8 completed\n",
      "data save compled\n",
      "BASEPARAM_Lst 8 scraping start\n",
      "http://apis.data.go.kr/1230000/BidPublicInfoService02/getBidPblancListInfoCnstwkPPSSrch?numOfRows=999&type=json&ServiceKey=hMw9eN6ZYKvMWUUvEykxVelOH07uAKhQYzFMUV5r4QpvdYgJehQANKE5bay%2B8Hgy660JdC9mVQCFhRKupVGwaw%3D%3D&inqryDiv=1&inqryBgnDt=201209010000&inqryEndDt=201209302359&pageNo=1\n",
      "http://apis.data.go.kr/1230000/BidPublicInfoService02/getBidPblancListInfoCnstwkPPSSrch?numOfRows=999&type=json&ServiceKey=hMw9eN6ZYKvMWUUvEykxVelOH07uAKhQYzFMUV5r4QpvdYgJehQANKE5bay%2B8Hgy660JdC9mVQCFhRKupVGwaw%3D%3D&inqryDiv=1&inqryBgnDt=201209010000&inqryEndDt=201209302359&pageNo=2\n",
      "http://apis.data.go.kr/1230000/BidPublicInfoService02/getBidPblancListInfoCnstwkPPSSrch?numOfRows=999&type=json&ServiceKey=hMw9eN6ZYKvMWUUvEykxVelOH07uAKhQYzFMUV5r4QpvdYgJehQANKE5bay%2B8Hgy660JdC9mVQCFhRKupVGwaw%3D%3D&inqryDiv=1&inqryBgnDt=201209010000&inqryEndDt=201209302359&pageNo=3\n",
      "http://apis.data.go.kr/1230000/BidPublicInfoService02/getBidPblancListInfoCnstwkPPSSrch?numOfRows=999&type=json&ServiceKey=hMw9eN6ZYKvMWUUvEykxVelOH07uAKhQYzFMUV5r4QpvdYgJehQANKE5bay%2B8Hgy660JdC9mVQCFhRKupVGwaw%3D%3D&inqryDiv=1&inqryBgnDt=201209010000&inqryEndDt=201209302359&pageNo=4\n",
      "http://apis.data.go.kr/1230000/BidPublicInfoService02/getBidPblancListInfoCnstwkPPSSrch?numOfRows=999&type=json&ServiceKey=hMw9eN6ZYKvMWUUvEykxVelOH07uAKhQYzFMUV5r4QpvdYgJehQANKE5bay%2B8Hgy660JdC9mVQCFhRKupVGwaw%3D%3D&inqryDiv=1&inqryBgnDt=201209010000&inqryEndDt=201209302359&pageNo=5\n",
      "http://apis.data.go.kr/1230000/BidPublicInfoService02/getBidPblancListInfoCnstwkPPSSrch?numOfRows=999&type=json&ServiceKey=hMw9eN6ZYKvMWUUvEykxVelOH07uAKhQYzFMUV5r4QpvdYgJehQANKE5bay%2B8Hgy660JdC9mVQCFhRKupVGwaw%3D%3D&inqryDiv=1&inqryBgnDt=201209010000&inqryEndDt=201209302359&pageNo=6\n",
      "http://apis.data.go.kr/1230000/BidPublicInfoService02/getBidPblancListInfoCnstwkPPSSrch?numOfRows=999&type=json&ServiceKey=hMw9eN6ZYKvMWUUvEykxVelOH07uAKhQYzFMUV5r4QpvdYgJehQANKE5bay%2B8Hgy660JdC9mVQCFhRKupVGwaw%3D%3D&inqryDiv=1&inqryBgnDt=201209010000&inqryEndDt=201209302359&pageNo=7\n",
      "http://apis.data.go.kr/1230000/BidPublicInfoService02/getBidPblancListInfoCnstwkPPSSrch?numOfRows=999&type=json&ServiceKey=hMw9eN6ZYKvMWUUvEykxVelOH07uAKhQYzFMUV5r4QpvdYgJehQANKE5bay%2B8Hgy660JdC9mVQCFhRKupVGwaw%3D%3D&inqryDiv=1&inqryBgnDt=201209010000&inqryEndDt=201209302359&pageNo=8\n",
      "http://apis.data.go.kr/1230000/BidPublicInfoService02/getBidPblancListInfoCnstwkPPSSrch?numOfRows=999&type=json&ServiceKey=hMw9eN6ZYKvMWUUvEykxVelOH07uAKhQYzFMUV5r4QpvdYgJehQANKE5bay%2B8Hgy660JdC9mVQCFhRKupVGwaw%3D%3D&inqryDiv=1&inqryBgnDt=201209010000&inqryEndDt=201209302359&pageNo=9\n",
      "BASEPARAM_Lst 9 is empty\n",
      "BASEPARAM_Lst 9 completed\n",
      "data save compled\n",
      "BASEPARAM_Lst 9 scraping start\n",
      "http://apis.data.go.kr/1230000/BidPublicInfoService02/getBidPblancListInfoCnstwkPPSSrch?numOfRows=999&type=json&ServiceKey=hMw9eN6ZYKvMWUUvEykxVelOH07uAKhQYzFMUV5r4QpvdYgJehQANKE5bay%2B8Hgy660JdC9mVQCFhRKupVGwaw%3D%3D&inqryDiv=1&inqryBgnDt=201210010000&inqryEndDt=201210312359&pageNo=1\n",
      "http://apis.data.go.kr/1230000/BidPublicInfoService02/getBidPblancListInfoCnstwkPPSSrch?numOfRows=999&type=json&ServiceKey=hMw9eN6ZYKvMWUUvEykxVelOH07uAKhQYzFMUV5r4QpvdYgJehQANKE5bay%2B8Hgy660JdC9mVQCFhRKupVGwaw%3D%3D&inqryDiv=1&inqryBgnDt=201210010000&inqryEndDt=201210312359&pageNo=2\n",
      "http://apis.data.go.kr/1230000/BidPublicInfoService02/getBidPblancListInfoCnstwkPPSSrch?numOfRows=999&type=json&ServiceKey=hMw9eN6ZYKvMWUUvEykxVelOH07uAKhQYzFMUV5r4QpvdYgJehQANKE5bay%2B8Hgy660JdC9mVQCFhRKupVGwaw%3D%3D&inqryDiv=1&inqryBgnDt=201210010000&inqryEndDt=201210312359&pageNo=3\n",
      "http://apis.data.go.kr/1230000/BidPublicInfoService02/getBidPblancListInfoCnstwkPPSSrch?numOfRows=999&type=json&ServiceKey=hMw9eN6ZYKvMWUUvEykxVelOH07uAKhQYzFMUV5r4QpvdYgJehQANKE5bay%2B8Hgy660JdC9mVQCFhRKupVGwaw%3D%3D&inqryDiv=1&inqryBgnDt=201210010000&inqryEndDt=201210312359&pageNo=4\n",
      "http://apis.data.go.kr/1230000/BidPublicInfoService02/getBidPblancListInfoCnstwkPPSSrch?numOfRows=999&type=json&ServiceKey=hMw9eN6ZYKvMWUUvEykxVelOH07uAKhQYzFMUV5r4QpvdYgJehQANKE5bay%2B8Hgy660JdC9mVQCFhRKupVGwaw%3D%3D&inqryDiv=1&inqryBgnDt=201210010000&inqryEndDt=201210312359&pageNo=5\n",
      "http://apis.data.go.kr/1230000/BidPublicInfoService02/getBidPblancListInfoCnstwkPPSSrch?numOfRows=999&type=json&ServiceKey=hMw9eN6ZYKvMWUUvEykxVelOH07uAKhQYzFMUV5r4QpvdYgJehQANKE5bay%2B8Hgy660JdC9mVQCFhRKupVGwaw%3D%3D&inqryDiv=1&inqryBgnDt=201210010000&inqryEndDt=201210312359&pageNo=6\n",
      "http://apis.data.go.kr/1230000/BidPublicInfoService02/getBidPblancListInfoCnstwkPPSSrch?numOfRows=999&type=json&ServiceKey=hMw9eN6ZYKvMWUUvEykxVelOH07uAKhQYzFMUV5r4QpvdYgJehQANKE5bay%2B8Hgy660JdC9mVQCFhRKupVGwaw%3D%3D&inqryDiv=1&inqryBgnDt=201210010000&inqryEndDt=201210312359&pageNo=7\n",
      "http://apis.data.go.kr/1230000/BidPublicInfoService02/getBidPblancListInfoCnstwkPPSSrch?numOfRows=999&type=json&ServiceKey=hMw9eN6ZYKvMWUUvEykxVelOH07uAKhQYzFMUV5r4QpvdYgJehQANKE5bay%2B8Hgy660JdC9mVQCFhRKupVGwaw%3D%3D&inqryDiv=1&inqryBgnDt=201210010000&inqryEndDt=201210312359&pageNo=8\n",
      "http://apis.data.go.kr/1230000/BidPublicInfoService02/getBidPblancListInfoCnstwkPPSSrch?numOfRows=999&type=json&ServiceKey=hMw9eN6ZYKvMWUUvEykxVelOH07uAKhQYzFMUV5r4QpvdYgJehQANKE5bay%2B8Hgy660JdC9mVQCFhRKupVGwaw%3D%3D&inqryDiv=1&inqryBgnDt=201210010000&inqryEndDt=201210312359&pageNo=9\n",
      "http://apis.data.go.kr/1230000/BidPublicInfoService02/getBidPblancListInfoCnstwkPPSSrch?numOfRows=999&type=json&ServiceKey=hMw9eN6ZYKvMWUUvEykxVelOH07uAKhQYzFMUV5r4QpvdYgJehQANKE5bay%2B8Hgy660JdC9mVQCFhRKupVGwaw%3D%3D&inqryDiv=1&inqryBgnDt=201210010000&inqryEndDt=201210312359&pageNo=10\n",
      "http://apis.data.go.kr/1230000/BidPublicInfoService02/getBidPblancListInfoCnstwkPPSSrch?numOfRows=999&type=json&ServiceKey=hMw9eN6ZYKvMWUUvEykxVelOH07uAKhQYzFMUV5r4QpvdYgJehQANKE5bay%2B8Hgy660JdC9mVQCFhRKupVGwaw%3D%3D&inqryDiv=1&inqryBgnDt=201210010000&inqryEndDt=201210312359&pageNo=11\n",
      "http://apis.data.go.kr/1230000/BidPublicInfoService02/getBidPblancListInfoCnstwkPPSSrch?numOfRows=999&type=json&ServiceKey=hMw9eN6ZYKvMWUUvEykxVelOH07uAKhQYzFMUV5r4QpvdYgJehQANKE5bay%2B8Hgy660JdC9mVQCFhRKupVGwaw%3D%3D&inqryDiv=1&inqryBgnDt=201210010000&inqryEndDt=201210312359&pageNo=12\n",
      "BASEPARAM_Lst 12 is empty\n",
      "BASEPARAM_Lst 12 completed\n",
      "data save compled\n",
      "BASEPARAM_Lst 10 scraping start\n",
      "http://apis.data.go.kr/1230000/BidPublicInfoService02/getBidPblancListInfoCnstwkPPSSrch?numOfRows=999&type=json&ServiceKey=hMw9eN6ZYKvMWUUvEykxVelOH07uAKhQYzFMUV5r4QpvdYgJehQANKE5bay%2B8Hgy660JdC9mVQCFhRKupVGwaw%3D%3D&inqryDiv=1&inqryBgnDt=201211010000&inqryEndDt=201211302359&pageNo=1\n",
      "http://apis.data.go.kr/1230000/BidPublicInfoService02/getBidPblancListInfoCnstwkPPSSrch?numOfRows=999&type=json&ServiceKey=hMw9eN6ZYKvMWUUvEykxVelOH07uAKhQYzFMUV5r4QpvdYgJehQANKE5bay%2B8Hgy660JdC9mVQCFhRKupVGwaw%3D%3D&inqryDiv=1&inqryBgnDt=201211010000&inqryEndDt=201211302359&pageNo=2\n",
      "http://apis.data.go.kr/1230000/BidPublicInfoService02/getBidPblancListInfoCnstwkPPSSrch?numOfRows=999&type=json&ServiceKey=hMw9eN6ZYKvMWUUvEykxVelOH07uAKhQYzFMUV5r4QpvdYgJehQANKE5bay%2B8Hgy660JdC9mVQCFhRKupVGwaw%3D%3D&inqryDiv=1&inqryBgnDt=201211010000&inqryEndDt=201211302359&pageNo=3\n",
      "http://apis.data.go.kr/1230000/BidPublicInfoService02/getBidPblancListInfoCnstwkPPSSrch?numOfRows=999&type=json&ServiceKey=hMw9eN6ZYKvMWUUvEykxVelOH07uAKhQYzFMUV5r4QpvdYgJehQANKE5bay%2B8Hgy660JdC9mVQCFhRKupVGwaw%3D%3D&inqryDiv=1&inqryBgnDt=201211010000&inqryEndDt=201211302359&pageNo=4\n",
      "http://apis.data.go.kr/1230000/BidPublicInfoService02/getBidPblancListInfoCnstwkPPSSrch?numOfRows=999&type=json&ServiceKey=hMw9eN6ZYKvMWUUvEykxVelOH07uAKhQYzFMUV5r4QpvdYgJehQANKE5bay%2B8Hgy660JdC9mVQCFhRKupVGwaw%3D%3D&inqryDiv=1&inqryBgnDt=201211010000&inqryEndDt=201211302359&pageNo=5\n",
      "http://apis.data.go.kr/1230000/BidPublicInfoService02/getBidPblancListInfoCnstwkPPSSrch?numOfRows=999&type=json&ServiceKey=hMw9eN6ZYKvMWUUvEykxVelOH07uAKhQYzFMUV5r4QpvdYgJehQANKE5bay%2B8Hgy660JdC9mVQCFhRKupVGwaw%3D%3D&inqryDiv=1&inqryBgnDt=201211010000&inqryEndDt=201211302359&pageNo=6\n",
      "http://apis.data.go.kr/1230000/BidPublicInfoService02/getBidPblancListInfoCnstwkPPSSrch?numOfRows=999&type=json&ServiceKey=hMw9eN6ZYKvMWUUvEykxVelOH07uAKhQYzFMUV5r4QpvdYgJehQANKE5bay%2B8Hgy660JdC9mVQCFhRKupVGwaw%3D%3D&inqryDiv=1&inqryBgnDt=201211010000&inqryEndDt=201211302359&pageNo=7\n",
      "http://apis.data.go.kr/1230000/BidPublicInfoService02/getBidPblancListInfoCnstwkPPSSrch?numOfRows=999&type=json&ServiceKey=hMw9eN6ZYKvMWUUvEykxVelOH07uAKhQYzFMUV5r4QpvdYgJehQANKE5bay%2B8Hgy660JdC9mVQCFhRKupVGwaw%3D%3D&inqryDiv=1&inqryBgnDt=201211010000&inqryEndDt=201211302359&pageNo=8\n",
      "http://apis.data.go.kr/1230000/BidPublicInfoService02/getBidPblancListInfoCnstwkPPSSrch?numOfRows=999&type=json&ServiceKey=hMw9eN6ZYKvMWUUvEykxVelOH07uAKhQYzFMUV5r4QpvdYgJehQANKE5bay%2B8Hgy660JdC9mVQCFhRKupVGwaw%3D%3D&inqryDiv=1&inqryBgnDt=201211010000&inqryEndDt=201211302359&pageNo=9\n",
      "http://apis.data.go.kr/1230000/BidPublicInfoService02/getBidPblancListInfoCnstwkPPSSrch?numOfRows=999&type=json&ServiceKey=hMw9eN6ZYKvMWUUvEykxVelOH07uAKhQYzFMUV5r4QpvdYgJehQANKE5bay%2B8Hgy660JdC9mVQCFhRKupVGwaw%3D%3D&inqryDiv=1&inqryBgnDt=201211010000&inqryEndDt=201211302359&pageNo=10\n",
      "http://apis.data.go.kr/1230000/BidPublicInfoService02/getBidPblancListInfoCnstwkPPSSrch?numOfRows=999&type=json&ServiceKey=hMw9eN6ZYKvMWUUvEykxVelOH07uAKhQYzFMUV5r4QpvdYgJehQANKE5bay%2B8Hgy660JdC9mVQCFhRKupVGwaw%3D%3D&inqryDiv=1&inqryBgnDt=201211010000&inqryEndDt=201211302359&pageNo=11\n",
      "http://apis.data.go.kr/1230000/BidPublicInfoService02/getBidPblancListInfoCnstwkPPSSrch?numOfRows=999&type=json&ServiceKey=hMw9eN6ZYKvMWUUvEykxVelOH07uAKhQYzFMUV5r4QpvdYgJehQANKE5bay%2B8Hgy660JdC9mVQCFhRKupVGwaw%3D%3D&inqryDiv=1&inqryBgnDt=201211010000&inqryEndDt=201211302359&pageNo=12\n",
      "http://apis.data.go.kr/1230000/BidPublicInfoService02/getBidPblancListInfoCnstwkPPSSrch?numOfRows=999&type=json&ServiceKey=hMw9eN6ZYKvMWUUvEykxVelOH07uAKhQYzFMUV5r4QpvdYgJehQANKE5bay%2B8Hgy660JdC9mVQCFhRKupVGwaw%3D%3D&inqryDiv=1&inqryBgnDt=201211010000&inqryEndDt=201211302359&pageNo=13\n",
      "BASEPARAM_Lst 13 is empty\n",
      "BASEPARAM_Lst 13 completed\n",
      "data save compled\n",
      "BASEPARAM_Lst 11 scraping start\n",
      "http://apis.data.go.kr/1230000/BidPublicInfoService02/getBidPblancListInfoCnstwkPPSSrch?numOfRows=999&type=json&ServiceKey=hMw9eN6ZYKvMWUUvEykxVelOH07uAKhQYzFMUV5r4QpvdYgJehQANKE5bay%2B8Hgy660JdC9mVQCFhRKupVGwaw%3D%3D&inqryDiv=1&inqryBgnDt=201212010000&inqryEndDt=201212312359&pageNo=1\n",
      "http://apis.data.go.kr/1230000/BidPublicInfoService02/getBidPblancListInfoCnstwkPPSSrch?numOfRows=999&type=json&ServiceKey=hMw9eN6ZYKvMWUUvEykxVelOH07uAKhQYzFMUV5r4QpvdYgJehQANKE5bay%2B8Hgy660JdC9mVQCFhRKupVGwaw%3D%3D&inqryDiv=1&inqryBgnDt=201212010000&inqryEndDt=201212312359&pageNo=2\n",
      "http://apis.data.go.kr/1230000/BidPublicInfoService02/getBidPblancListInfoCnstwkPPSSrch?numOfRows=999&type=json&ServiceKey=hMw9eN6ZYKvMWUUvEykxVelOH07uAKhQYzFMUV5r4QpvdYgJehQANKE5bay%2B8Hgy660JdC9mVQCFhRKupVGwaw%3D%3D&inqryDiv=1&inqryBgnDt=201212010000&inqryEndDt=201212312359&pageNo=3\n",
      "http://apis.data.go.kr/1230000/BidPublicInfoService02/getBidPblancListInfoCnstwkPPSSrch?numOfRows=999&type=json&ServiceKey=hMw9eN6ZYKvMWUUvEykxVelOH07uAKhQYzFMUV5r4QpvdYgJehQANKE5bay%2B8Hgy660JdC9mVQCFhRKupVGwaw%3D%3D&inqryDiv=1&inqryBgnDt=201212010000&inqryEndDt=201212312359&pageNo=4\n",
      "http://apis.data.go.kr/1230000/BidPublicInfoService02/getBidPblancListInfoCnstwkPPSSrch?numOfRows=999&type=json&ServiceKey=hMw9eN6ZYKvMWUUvEykxVelOH07uAKhQYzFMUV5r4QpvdYgJehQANKE5bay%2B8Hgy660JdC9mVQCFhRKupVGwaw%3D%3D&inqryDiv=1&inqryBgnDt=201212010000&inqryEndDt=201212312359&pageNo=5\n",
      "http://apis.data.go.kr/1230000/BidPublicInfoService02/getBidPblancListInfoCnstwkPPSSrch?numOfRows=999&type=json&ServiceKey=hMw9eN6ZYKvMWUUvEykxVelOH07uAKhQYzFMUV5r4QpvdYgJehQANKE5bay%2B8Hgy660JdC9mVQCFhRKupVGwaw%3D%3D&inqryDiv=1&inqryBgnDt=201212010000&inqryEndDt=201212312359&pageNo=6\n",
      "http://apis.data.go.kr/1230000/BidPublicInfoService02/getBidPblancListInfoCnstwkPPSSrch?numOfRows=999&type=json&ServiceKey=hMw9eN6ZYKvMWUUvEykxVelOH07uAKhQYzFMUV5r4QpvdYgJehQANKE5bay%2B8Hgy660JdC9mVQCFhRKupVGwaw%3D%3D&inqryDiv=1&inqryBgnDt=201212010000&inqryEndDt=201212312359&pageNo=7\n",
      "http://apis.data.go.kr/1230000/BidPublicInfoService02/getBidPblancListInfoCnstwkPPSSrch?numOfRows=999&type=json&ServiceKey=hMw9eN6ZYKvMWUUvEykxVelOH07uAKhQYzFMUV5r4QpvdYgJehQANKE5bay%2B8Hgy660JdC9mVQCFhRKupVGwaw%3D%3D&inqryDiv=1&inqryBgnDt=201212010000&inqryEndDt=201212312359&pageNo=8\n",
      "http://apis.data.go.kr/1230000/BidPublicInfoService02/getBidPblancListInfoCnstwkPPSSrch?numOfRows=999&type=json&ServiceKey=hMw9eN6ZYKvMWUUvEykxVelOH07uAKhQYzFMUV5r4QpvdYgJehQANKE5bay%2B8Hgy660JdC9mVQCFhRKupVGwaw%3D%3D&inqryDiv=1&inqryBgnDt=201212010000&inqryEndDt=201212312359&pageNo=9\n",
      "http://apis.data.go.kr/1230000/BidPublicInfoService02/getBidPblancListInfoCnstwkPPSSrch?numOfRows=999&type=json&ServiceKey=hMw9eN6ZYKvMWUUvEykxVelOH07uAKhQYzFMUV5r4QpvdYgJehQANKE5bay%2B8Hgy660JdC9mVQCFhRKupVGwaw%3D%3D&inqryDiv=1&inqryBgnDt=201212010000&inqryEndDt=201212312359&pageNo=10\n",
      "http://apis.data.go.kr/1230000/BidPublicInfoService02/getBidPblancListInfoCnstwkPPSSrch?numOfRows=999&type=json&ServiceKey=hMw9eN6ZYKvMWUUvEykxVelOH07uAKhQYzFMUV5r4QpvdYgJehQANKE5bay%2B8Hgy660JdC9mVQCFhRKupVGwaw%3D%3D&inqryDiv=1&inqryBgnDt=201212010000&inqryEndDt=201212312359&pageNo=11\n",
      "http://apis.data.go.kr/1230000/BidPublicInfoService02/getBidPblancListInfoCnstwkPPSSrch?numOfRows=999&type=json&ServiceKey=hMw9eN6ZYKvMWUUvEykxVelOH07uAKhQYzFMUV5r4QpvdYgJehQANKE5bay%2B8Hgy660JdC9mVQCFhRKupVGwaw%3D%3D&inqryDiv=1&inqryBgnDt=201212010000&inqryEndDt=201212312359&pageNo=12\n",
      "BASEPARAM_Lst 12 is empty\n",
      "BASEPARAM_Lst 12 completed\n",
      "data save compled\n",
      "BASEPARAM_Lst 12 scraping start\n",
      "http://apis.data.go.kr/1230000/BidPublicInfoService02/getBidPblancListInfoCnstwkPPSSrch?numOfRows=999&type=json&ServiceKey=hMw9eN6ZYKvMWUUvEykxVelOH07uAKhQYzFMUV5r4QpvdYgJehQANKE5bay%2B8Hgy660JdC9mVQCFhRKupVGwaw%3D%3D&inqryDiv=1&inqryBgnDt=201301010000&inqryEndDt=201301312359&pageNo=1\n",
      "http://apis.data.go.kr/1230000/BidPublicInfoService02/getBidPblancListInfoCnstwkPPSSrch?numOfRows=999&type=json&ServiceKey=hMw9eN6ZYKvMWUUvEykxVelOH07uAKhQYzFMUV5r4QpvdYgJehQANKE5bay%2B8Hgy660JdC9mVQCFhRKupVGwaw%3D%3D&inqryDiv=1&inqryBgnDt=201301010000&inqryEndDt=201301312359&pageNo=2\n",
      "http://apis.data.go.kr/1230000/BidPublicInfoService02/getBidPblancListInfoCnstwkPPSSrch?numOfRows=999&type=json&ServiceKey=hMw9eN6ZYKvMWUUvEykxVelOH07uAKhQYzFMUV5r4QpvdYgJehQANKE5bay%2B8Hgy660JdC9mVQCFhRKupVGwaw%3D%3D&inqryDiv=1&inqryBgnDt=201301010000&inqryEndDt=201301312359&pageNo=3\n",
      "http://apis.data.go.kr/1230000/BidPublicInfoService02/getBidPblancListInfoCnstwkPPSSrch?numOfRows=999&type=json&ServiceKey=hMw9eN6ZYKvMWUUvEykxVelOH07uAKhQYzFMUV5r4QpvdYgJehQANKE5bay%2B8Hgy660JdC9mVQCFhRKupVGwaw%3D%3D&inqryDiv=1&inqryBgnDt=201301010000&inqryEndDt=201301312359&pageNo=4\n",
      "http://apis.data.go.kr/1230000/BidPublicInfoService02/getBidPblancListInfoCnstwkPPSSrch?numOfRows=999&type=json&ServiceKey=hMw9eN6ZYKvMWUUvEykxVelOH07uAKhQYzFMUV5r4QpvdYgJehQANKE5bay%2B8Hgy660JdC9mVQCFhRKupVGwaw%3D%3D&inqryDiv=1&inqryBgnDt=201301010000&inqryEndDt=201301312359&pageNo=5\n",
      "http://apis.data.go.kr/1230000/BidPublicInfoService02/getBidPblancListInfoCnstwkPPSSrch?numOfRows=999&type=json&ServiceKey=hMw9eN6ZYKvMWUUvEykxVelOH07uAKhQYzFMUV5r4QpvdYgJehQANKE5bay%2B8Hgy660JdC9mVQCFhRKupVGwaw%3D%3D&inqryDiv=1&inqryBgnDt=201301010000&inqryEndDt=201301312359&pageNo=6\n",
      "http://apis.data.go.kr/1230000/BidPublicInfoService02/getBidPblancListInfoCnstwkPPSSrch?numOfRows=999&type=json&ServiceKey=hMw9eN6ZYKvMWUUvEykxVelOH07uAKhQYzFMUV5r4QpvdYgJehQANKE5bay%2B8Hgy660JdC9mVQCFhRKupVGwaw%3D%3D&inqryDiv=1&inqryBgnDt=201301010000&inqryEndDt=201301312359&pageNo=7\n",
      "http://apis.data.go.kr/1230000/BidPublicInfoService02/getBidPblancListInfoCnstwkPPSSrch?numOfRows=999&type=json&ServiceKey=hMw9eN6ZYKvMWUUvEykxVelOH07uAKhQYzFMUV5r4QpvdYgJehQANKE5bay%2B8Hgy660JdC9mVQCFhRKupVGwaw%3D%3D&inqryDiv=1&inqryBgnDt=201301010000&inqryEndDt=201301312359&pageNo=8\n",
      "BASEPARAM_Lst 8 is empty\n",
      "BASEPARAM_Lst 8 completed\n",
      "data save compled\n",
      "BASEPARAM_Lst 13 scraping start\n",
      "http://apis.data.go.kr/1230000/BidPublicInfoService02/getBidPblancListInfoCnstwkPPSSrch?numOfRows=999&type=json&ServiceKey=hMw9eN6ZYKvMWUUvEykxVelOH07uAKhQYzFMUV5r4QpvdYgJehQANKE5bay%2B8Hgy660JdC9mVQCFhRKupVGwaw%3D%3D&inqryDiv=1&inqryBgnDt=201302010000&inqryEndDt=201302282359&pageNo=1\n",
      "http://apis.data.go.kr/1230000/BidPublicInfoService02/getBidPblancListInfoCnstwkPPSSrch?numOfRows=999&type=json&ServiceKey=hMw9eN6ZYKvMWUUvEykxVelOH07uAKhQYzFMUV5r4QpvdYgJehQANKE5bay%2B8Hgy660JdC9mVQCFhRKupVGwaw%3D%3D&inqryDiv=1&inqryBgnDt=201302010000&inqryEndDt=201302282359&pageNo=2\n",
      "http://apis.data.go.kr/1230000/BidPublicInfoService02/getBidPblancListInfoCnstwkPPSSrch?numOfRows=999&type=json&ServiceKey=hMw9eN6ZYKvMWUUvEykxVelOH07uAKhQYzFMUV5r4QpvdYgJehQANKE5bay%2B8Hgy660JdC9mVQCFhRKupVGwaw%3D%3D&inqryDiv=1&inqryBgnDt=201302010000&inqryEndDt=201302282359&pageNo=3\n",
      "http://apis.data.go.kr/1230000/BidPublicInfoService02/getBidPblancListInfoCnstwkPPSSrch?numOfRows=999&type=json&ServiceKey=hMw9eN6ZYKvMWUUvEykxVelOH07uAKhQYzFMUV5r4QpvdYgJehQANKE5bay%2B8Hgy660JdC9mVQCFhRKupVGwaw%3D%3D&inqryDiv=1&inqryBgnDt=201302010000&inqryEndDt=201302282359&pageNo=4\n",
      "http://apis.data.go.kr/1230000/BidPublicInfoService02/getBidPblancListInfoCnstwkPPSSrch?numOfRows=999&type=json&ServiceKey=hMw9eN6ZYKvMWUUvEykxVelOH07uAKhQYzFMUV5r4QpvdYgJehQANKE5bay%2B8Hgy660JdC9mVQCFhRKupVGwaw%3D%3D&inqryDiv=1&inqryBgnDt=201302010000&inqryEndDt=201302282359&pageNo=5\n",
      "http://apis.data.go.kr/1230000/BidPublicInfoService02/getBidPblancListInfoCnstwkPPSSrch?numOfRows=999&type=json&ServiceKey=hMw9eN6ZYKvMWUUvEykxVelOH07uAKhQYzFMUV5r4QpvdYgJehQANKE5bay%2B8Hgy660JdC9mVQCFhRKupVGwaw%3D%3D&inqryDiv=1&inqryBgnDt=201302010000&inqryEndDt=201302282359&pageNo=6\n",
      "http://apis.data.go.kr/1230000/BidPublicInfoService02/getBidPblancListInfoCnstwkPPSSrch?numOfRows=999&type=json&ServiceKey=hMw9eN6ZYKvMWUUvEykxVelOH07uAKhQYzFMUV5r4QpvdYgJehQANKE5bay%2B8Hgy660JdC9mVQCFhRKupVGwaw%3D%3D&inqryDiv=1&inqryBgnDt=201302010000&inqryEndDt=201302282359&pageNo=7\n",
      "http://apis.data.go.kr/1230000/BidPublicInfoService02/getBidPblancListInfoCnstwkPPSSrch?numOfRows=999&type=json&ServiceKey=hMw9eN6ZYKvMWUUvEykxVelOH07uAKhQYzFMUV5r4QpvdYgJehQANKE5bay%2B8Hgy660JdC9mVQCFhRKupVGwaw%3D%3D&inqryDiv=1&inqryBgnDt=201302010000&inqryEndDt=201302282359&pageNo=8\n",
      "http://apis.data.go.kr/1230000/BidPublicInfoService02/getBidPblancListInfoCnstwkPPSSrch?numOfRows=999&type=json&ServiceKey=hMw9eN6ZYKvMWUUvEykxVelOH07uAKhQYzFMUV5r4QpvdYgJehQANKE5bay%2B8Hgy660JdC9mVQCFhRKupVGwaw%3D%3D&inqryDiv=1&inqryBgnDt=201302010000&inqryEndDt=201302282359&pageNo=9\n",
      "http://apis.data.go.kr/1230000/BidPublicInfoService02/getBidPblancListInfoCnstwkPPSSrch?numOfRows=999&type=json&ServiceKey=hMw9eN6ZYKvMWUUvEykxVelOH07uAKhQYzFMUV5r4QpvdYgJehQANKE5bay%2B8Hgy660JdC9mVQCFhRKupVGwaw%3D%3D&inqryDiv=1&inqryBgnDt=201302010000&inqryEndDt=201302282359&pageNo=10\n",
      "http://apis.data.go.kr/1230000/BidPublicInfoService02/getBidPblancListInfoCnstwkPPSSrch?numOfRows=999&type=json&ServiceKey=hMw9eN6ZYKvMWUUvEykxVelOH07uAKhQYzFMUV5r4QpvdYgJehQANKE5bay%2B8Hgy660JdC9mVQCFhRKupVGwaw%3D%3D&inqryDiv=1&inqryBgnDt=201302010000&inqryEndDt=201302282359&pageNo=11\n",
      "BASEPARAM_Lst 11 is empty\n",
      "BASEPARAM_Lst 11 completed\n",
      "data save compled\n",
      "BASEPARAM_Lst 14 scraping start\n",
      "http://apis.data.go.kr/1230000/BidPublicInfoService02/getBidPblancListInfoCnstwkPPSSrch?numOfRows=999&type=json&ServiceKey=hMw9eN6ZYKvMWUUvEykxVelOH07uAKhQYzFMUV5r4QpvdYgJehQANKE5bay%2B8Hgy660JdC9mVQCFhRKupVGwaw%3D%3D&inqryDiv=1&inqryBgnDt=201303010000&inqryEndDt=201303312359&pageNo=1\n",
      "http://apis.data.go.kr/1230000/BidPublicInfoService02/getBidPblancListInfoCnstwkPPSSrch?numOfRows=999&type=json&ServiceKey=hMw9eN6ZYKvMWUUvEykxVelOH07uAKhQYzFMUV5r4QpvdYgJehQANKE5bay%2B8Hgy660JdC9mVQCFhRKupVGwaw%3D%3D&inqryDiv=1&inqryBgnDt=201303010000&inqryEndDt=201303312359&pageNo=2\n",
      "http://apis.data.go.kr/1230000/BidPublicInfoService02/getBidPblancListInfoCnstwkPPSSrch?numOfRows=999&type=json&ServiceKey=hMw9eN6ZYKvMWUUvEykxVelOH07uAKhQYzFMUV5r4QpvdYgJehQANKE5bay%2B8Hgy660JdC9mVQCFhRKupVGwaw%3D%3D&inqryDiv=1&inqryBgnDt=201303010000&inqryEndDt=201303312359&pageNo=3\n",
      "http://apis.data.go.kr/1230000/BidPublicInfoService02/getBidPblancListInfoCnstwkPPSSrch?numOfRows=999&type=json&ServiceKey=hMw9eN6ZYKvMWUUvEykxVelOH07uAKhQYzFMUV5r4QpvdYgJehQANKE5bay%2B8Hgy660JdC9mVQCFhRKupVGwaw%3D%3D&inqryDiv=1&inqryBgnDt=201303010000&inqryEndDt=201303312359&pageNo=4\n",
      "http://apis.data.go.kr/1230000/BidPublicInfoService02/getBidPblancListInfoCnstwkPPSSrch?numOfRows=999&type=json&ServiceKey=hMw9eN6ZYKvMWUUvEykxVelOH07uAKhQYzFMUV5r4QpvdYgJehQANKE5bay%2B8Hgy660JdC9mVQCFhRKupVGwaw%3D%3D&inqryDiv=1&inqryBgnDt=201303010000&inqryEndDt=201303312359&pageNo=5\n",
      "http://apis.data.go.kr/1230000/BidPublicInfoService02/getBidPblancListInfoCnstwkPPSSrch?numOfRows=999&type=json&ServiceKey=hMw9eN6ZYKvMWUUvEykxVelOH07uAKhQYzFMUV5r4QpvdYgJehQANKE5bay%2B8Hgy660JdC9mVQCFhRKupVGwaw%3D%3D&inqryDiv=1&inqryBgnDt=201303010000&inqryEndDt=201303312359&pageNo=6\n",
      "HTTPConnectionPool(host='apis.data.go.kr', port=80): Max retries exceeded with url: /1230000/BidPublicInfoService02/getBidPblancListInfoCnstwkPPSSrch?numOfRows=999&type=json&ServiceKey=hMw9eN6ZYKvMWUUvEykxVelOH07uAKhQYzFMUV5r4QpvdYgJehQANKE5bay%2B8Hgy660JdC9mVQCFhRKupVGwaw%3D%3D&inqryDiv=1&inqryBgnDt=201303010000&inqryEndDt=201303312359&pageNo=7 (Caused by NewConnectionError('<urllib3.connection.HTTPConnection object at 0x000002AF5A904C70>: Failed to establish a new connection: [WinError 10060] 연결된 구성원으로부터 응답이 없어 연결하지 못했거나, 호스트로부터 응답이 없어 연결이 끊어졌습니다'))\n",
      "HTTPConnectionPool(host='apis.data.go.kr', port=80): Max retries exceeded with url: /1230000/BidPublicInfoService02/getBidPblancListInfoCnstwkPPSSrch?numOfRows=999&type=json&ServiceKey=hMw9eN6ZYKvMWUUvEykxVelOH07uAKhQYzFMUV5r4QpvdYgJehQANKE5bay%2B8Hgy660JdC9mVQCFhRKupVGwaw%3D%3D&inqryDiv=1&inqryBgnDt=201303010000&inqryEndDt=201303312359&pageNo=7 (Caused by NewConnectionError('<urllib3.connection.HTTPConnection object at 0x000002AF5A904C70>: Failed to establish a new connection: [WinError 10060] 연결된 구성원으로부터 응답이 없어 연결하지 못했거나, 호스트로부터 응답이 없어 연결이 끊어졌습니다'))\n",
      "BASEPARAM_Lst 14 scraping start\n",
      "http://apis.data.go.kr/1230000/BidPublicInfoService02/getBidPblancListInfoCnstwkPPSSrch?numOfRows=999&type=json&ServiceKey=Yc4hy9aka4aSXaZzlPFTem6eM79Fm4r2PPJXGxxYxlZVUhXWeYkFbodwmpsXrkEhqUzKYoq7hFyfx3x%2BMPLarA%3D%3D&inqryDiv=1&inqryBgnDt=201303010000&inqryEndDt=201303312359&pageNo=1\n",
      "http://apis.data.go.kr/1230000/BidPublicInfoService02/getBidPblancListInfoCnstwkPPSSrch?numOfRows=999&type=json&ServiceKey=Yc4hy9aka4aSXaZzlPFTem6eM79Fm4r2PPJXGxxYxlZVUhXWeYkFbodwmpsXrkEhqUzKYoq7hFyfx3x%2BMPLarA%3D%3D&inqryDiv=1&inqryBgnDt=201303010000&inqryEndDt=201303312359&pageNo=2\n",
      "http://apis.data.go.kr/1230000/BidPublicInfoService02/getBidPblancListInfoCnstwkPPSSrch?numOfRows=999&type=json&ServiceKey=Yc4hy9aka4aSXaZzlPFTem6eM79Fm4r2PPJXGxxYxlZVUhXWeYkFbodwmpsXrkEhqUzKYoq7hFyfx3x%2BMPLarA%3D%3D&inqryDiv=1&inqryBgnDt=201303010000&inqryEndDt=201303312359&pageNo=3\n",
      "http://apis.data.go.kr/1230000/BidPublicInfoService02/getBidPblancListInfoCnstwkPPSSrch?numOfRows=999&type=json&ServiceKey=Yc4hy9aka4aSXaZzlPFTem6eM79Fm4r2PPJXGxxYxlZVUhXWeYkFbodwmpsXrkEhqUzKYoq7hFyfx3x%2BMPLarA%3D%3D&inqryDiv=1&inqryBgnDt=201303010000&inqryEndDt=201303312359&pageNo=4\n",
      "http://apis.data.go.kr/1230000/BidPublicInfoService02/getBidPblancListInfoCnstwkPPSSrch?numOfRows=999&type=json&ServiceKey=Yc4hy9aka4aSXaZzlPFTem6eM79Fm4r2PPJXGxxYxlZVUhXWeYkFbodwmpsXrkEhqUzKYoq7hFyfx3x%2BMPLarA%3D%3D&inqryDiv=1&inqryBgnDt=201303010000&inqryEndDt=201303312359&pageNo=5\n",
      "http://apis.data.go.kr/1230000/BidPublicInfoService02/getBidPblancListInfoCnstwkPPSSrch?numOfRows=999&type=json&ServiceKey=Yc4hy9aka4aSXaZzlPFTem6eM79Fm4r2PPJXGxxYxlZVUhXWeYkFbodwmpsXrkEhqUzKYoq7hFyfx3x%2BMPLarA%3D%3D&inqryDiv=1&inqryBgnDt=201303010000&inqryEndDt=201303312359&pageNo=6\n",
      "http://apis.data.go.kr/1230000/BidPublicInfoService02/getBidPblancListInfoCnstwkPPSSrch?numOfRows=999&type=json&ServiceKey=Yc4hy9aka4aSXaZzlPFTem6eM79Fm4r2PPJXGxxYxlZVUhXWeYkFbodwmpsXrkEhqUzKYoq7hFyfx3x%2BMPLarA%3D%3D&inqryDiv=1&inqryBgnDt=201303010000&inqryEndDt=201303312359&pageNo=7\n",
      "http://apis.data.go.kr/1230000/BidPublicInfoService02/getBidPblancListInfoCnstwkPPSSrch?numOfRows=999&type=json&ServiceKey=Yc4hy9aka4aSXaZzlPFTem6eM79Fm4r2PPJXGxxYxlZVUhXWeYkFbodwmpsXrkEhqUzKYoq7hFyfx3x%2BMPLarA%3D%3D&inqryDiv=1&inqryBgnDt=201303010000&inqryEndDt=201303312359&pageNo=8\n",
      "http://apis.data.go.kr/1230000/BidPublicInfoService02/getBidPblancListInfoCnstwkPPSSrch?numOfRows=999&type=json&ServiceKey=Yc4hy9aka4aSXaZzlPFTem6eM79Fm4r2PPJXGxxYxlZVUhXWeYkFbodwmpsXrkEhqUzKYoq7hFyfx3x%2BMPLarA%3D%3D&inqryDiv=1&inqryBgnDt=201303010000&inqryEndDt=201303312359&pageNo=9\n",
      "http://apis.data.go.kr/1230000/BidPublicInfoService02/getBidPblancListInfoCnstwkPPSSrch?numOfRows=999&type=json&ServiceKey=Yc4hy9aka4aSXaZzlPFTem6eM79Fm4r2PPJXGxxYxlZVUhXWeYkFbodwmpsXrkEhqUzKYoq7hFyfx3x%2BMPLarA%3D%3D&inqryDiv=1&inqryBgnDt=201303010000&inqryEndDt=201303312359&pageNo=10\n",
      "http://apis.data.go.kr/1230000/BidPublicInfoService02/getBidPblancListInfoCnstwkPPSSrch?numOfRows=999&type=json&ServiceKey=Yc4hy9aka4aSXaZzlPFTem6eM79Fm4r2PPJXGxxYxlZVUhXWeYkFbodwmpsXrkEhqUzKYoq7hFyfx3x%2BMPLarA%3D%3D&inqryDiv=1&inqryBgnDt=201303010000&inqryEndDt=201303312359&pageNo=11\n",
      "http://apis.data.go.kr/1230000/BidPublicInfoService02/getBidPblancListInfoCnstwkPPSSrch?numOfRows=999&type=json&ServiceKey=Yc4hy9aka4aSXaZzlPFTem6eM79Fm4r2PPJXGxxYxlZVUhXWeYkFbodwmpsXrkEhqUzKYoq7hFyfx3x%2BMPLarA%3D%3D&inqryDiv=1&inqryBgnDt=201303010000&inqryEndDt=201303312359&pageNo=12\n",
      "http://apis.data.go.kr/1230000/BidPublicInfoService02/getBidPblancListInfoCnstwkPPSSrch?numOfRows=999&type=json&ServiceKey=Yc4hy9aka4aSXaZzlPFTem6eM79Fm4r2PPJXGxxYxlZVUhXWeYkFbodwmpsXrkEhqUzKYoq7hFyfx3x%2BMPLarA%3D%3D&inqryDiv=1&inqryBgnDt=201303010000&inqryEndDt=201303312359&pageNo=13\n",
      "http://apis.data.go.kr/1230000/BidPublicInfoService02/getBidPblancListInfoCnstwkPPSSrch?numOfRows=999&type=json&ServiceKey=Yc4hy9aka4aSXaZzlPFTem6eM79Fm4r2PPJXGxxYxlZVUhXWeYkFbodwmpsXrkEhqUzKYoq7hFyfx3x%2BMPLarA%3D%3D&inqryDiv=1&inqryBgnDt=201303010000&inqryEndDt=201303312359&pageNo=14\n",
      "http://apis.data.go.kr/1230000/BidPublicInfoService02/getBidPblancListInfoCnstwkPPSSrch?numOfRows=999&type=json&ServiceKey=Yc4hy9aka4aSXaZzlPFTem6eM79Fm4r2PPJXGxxYxlZVUhXWeYkFbodwmpsXrkEhqUzKYoq7hFyfx3x%2BMPLarA%3D%3D&inqryDiv=1&inqryBgnDt=201303010000&inqryEndDt=201303312359&pageNo=15\n",
      "http://apis.data.go.kr/1230000/BidPublicInfoService02/getBidPblancListInfoCnstwkPPSSrch?numOfRows=999&type=json&ServiceKey=Yc4hy9aka4aSXaZzlPFTem6eM79Fm4r2PPJXGxxYxlZVUhXWeYkFbodwmpsXrkEhqUzKYoq7hFyfx3x%2BMPLarA%3D%3D&inqryDiv=1&inqryBgnDt=201303010000&inqryEndDt=201303312359&pageNo=16\n",
      "http://apis.data.go.kr/1230000/BidPublicInfoService02/getBidPblancListInfoCnstwkPPSSrch?numOfRows=999&type=json&ServiceKey=Yc4hy9aka4aSXaZzlPFTem6eM79Fm4r2PPJXGxxYxlZVUhXWeYkFbodwmpsXrkEhqUzKYoq7hFyfx3x%2BMPLarA%3D%3D&inqryDiv=1&inqryBgnDt=201303010000&inqryEndDt=201303312359&pageNo=17\n",
      "http://apis.data.go.kr/1230000/BidPublicInfoService02/getBidPblancListInfoCnstwkPPSSrch?numOfRows=999&type=json&ServiceKey=Yc4hy9aka4aSXaZzlPFTem6eM79Fm4r2PPJXGxxYxlZVUhXWeYkFbodwmpsXrkEhqUzKYoq7hFyfx3x%2BMPLarA%3D%3D&inqryDiv=1&inqryBgnDt=201303010000&inqryEndDt=201303312359&pageNo=18\n",
      "BASEPARAM_Lst 18 is empty\n",
      "BASEPARAM_Lst 18 completed\n",
      "data save compled\n",
      "BASEPARAM_Lst 15 scraping start\n",
      "http://apis.data.go.kr/1230000/BidPublicInfoService02/getBidPblancListInfoCnstwkPPSSrch?numOfRows=999&type=json&ServiceKey=Yc4hy9aka4aSXaZzlPFTem6eM79Fm4r2PPJXGxxYxlZVUhXWeYkFbodwmpsXrkEhqUzKYoq7hFyfx3x%2BMPLarA%3D%3D&inqryDiv=1&inqryBgnDt=201304010000&inqryEndDt=201304302359&pageNo=1\n",
      "http://apis.data.go.kr/1230000/BidPublicInfoService02/getBidPblancListInfoCnstwkPPSSrch?numOfRows=999&type=json&ServiceKey=Yc4hy9aka4aSXaZzlPFTem6eM79Fm4r2PPJXGxxYxlZVUhXWeYkFbodwmpsXrkEhqUzKYoq7hFyfx3x%2BMPLarA%3D%3D&inqryDiv=1&inqryBgnDt=201304010000&inqryEndDt=201304302359&pageNo=2\n",
      "http://apis.data.go.kr/1230000/BidPublicInfoService02/getBidPblancListInfoCnstwkPPSSrch?numOfRows=999&type=json&ServiceKey=Yc4hy9aka4aSXaZzlPFTem6eM79Fm4r2PPJXGxxYxlZVUhXWeYkFbodwmpsXrkEhqUzKYoq7hFyfx3x%2BMPLarA%3D%3D&inqryDiv=1&inqryBgnDt=201304010000&inqryEndDt=201304302359&pageNo=3\n",
      "http://apis.data.go.kr/1230000/BidPublicInfoService02/getBidPblancListInfoCnstwkPPSSrch?numOfRows=999&type=json&ServiceKey=Yc4hy9aka4aSXaZzlPFTem6eM79Fm4r2PPJXGxxYxlZVUhXWeYkFbodwmpsXrkEhqUzKYoq7hFyfx3x%2BMPLarA%3D%3D&inqryDiv=1&inqryBgnDt=201304010000&inqryEndDt=201304302359&pageNo=4\n",
      "http://apis.data.go.kr/1230000/BidPublicInfoService02/getBidPblancListInfoCnstwkPPSSrch?numOfRows=999&type=json&ServiceKey=Yc4hy9aka4aSXaZzlPFTem6eM79Fm4r2PPJXGxxYxlZVUhXWeYkFbodwmpsXrkEhqUzKYoq7hFyfx3x%2BMPLarA%3D%3D&inqryDiv=1&inqryBgnDt=201304010000&inqryEndDt=201304302359&pageNo=5\n",
      "http://apis.data.go.kr/1230000/BidPublicInfoService02/getBidPblancListInfoCnstwkPPSSrch?numOfRows=999&type=json&ServiceKey=Yc4hy9aka4aSXaZzlPFTem6eM79Fm4r2PPJXGxxYxlZVUhXWeYkFbodwmpsXrkEhqUzKYoq7hFyfx3x%2BMPLarA%3D%3D&inqryDiv=1&inqryBgnDt=201304010000&inqryEndDt=201304302359&pageNo=6\n",
      "http://apis.data.go.kr/1230000/BidPublicInfoService02/getBidPblancListInfoCnstwkPPSSrch?numOfRows=999&type=json&ServiceKey=Yc4hy9aka4aSXaZzlPFTem6eM79Fm4r2PPJXGxxYxlZVUhXWeYkFbodwmpsXrkEhqUzKYoq7hFyfx3x%2BMPLarA%3D%3D&inqryDiv=1&inqryBgnDt=201304010000&inqryEndDt=201304302359&pageNo=7\n",
      "http://apis.data.go.kr/1230000/BidPublicInfoService02/getBidPblancListInfoCnstwkPPSSrch?numOfRows=999&type=json&ServiceKey=Yc4hy9aka4aSXaZzlPFTem6eM79Fm4r2PPJXGxxYxlZVUhXWeYkFbodwmpsXrkEhqUzKYoq7hFyfx3x%2BMPLarA%3D%3D&inqryDiv=1&inqryBgnDt=201304010000&inqryEndDt=201304302359&pageNo=8\n",
      "http://apis.data.go.kr/1230000/BidPublicInfoService02/getBidPblancListInfoCnstwkPPSSrch?numOfRows=999&type=json&ServiceKey=Yc4hy9aka4aSXaZzlPFTem6eM79Fm4r2PPJXGxxYxlZVUhXWeYkFbodwmpsXrkEhqUzKYoq7hFyfx3x%2BMPLarA%3D%3D&inqryDiv=1&inqryBgnDt=201304010000&inqryEndDt=201304302359&pageNo=9\n",
      "http://apis.data.go.kr/1230000/BidPublicInfoService02/getBidPblancListInfoCnstwkPPSSrch?numOfRows=999&type=json&ServiceKey=Yc4hy9aka4aSXaZzlPFTem6eM79Fm4r2PPJXGxxYxlZVUhXWeYkFbodwmpsXrkEhqUzKYoq7hFyfx3x%2BMPLarA%3D%3D&inqryDiv=1&inqryBgnDt=201304010000&inqryEndDt=201304302359&pageNo=10\n",
      "http://apis.data.go.kr/1230000/BidPublicInfoService02/getBidPblancListInfoCnstwkPPSSrch?numOfRows=999&type=json&ServiceKey=Yc4hy9aka4aSXaZzlPFTem6eM79Fm4r2PPJXGxxYxlZVUhXWeYkFbodwmpsXrkEhqUzKYoq7hFyfx3x%2BMPLarA%3D%3D&inqryDiv=1&inqryBgnDt=201304010000&inqryEndDt=201304302359&pageNo=11\n",
      "http://apis.data.go.kr/1230000/BidPublicInfoService02/getBidPblancListInfoCnstwkPPSSrch?numOfRows=999&type=json&ServiceKey=Yc4hy9aka4aSXaZzlPFTem6eM79Fm4r2PPJXGxxYxlZVUhXWeYkFbodwmpsXrkEhqUzKYoq7hFyfx3x%2BMPLarA%3D%3D&inqryDiv=1&inqryBgnDt=201304010000&inqryEndDt=201304302359&pageNo=12\n",
      "http://apis.data.go.kr/1230000/BidPublicInfoService02/getBidPblancListInfoCnstwkPPSSrch?numOfRows=999&type=json&ServiceKey=Yc4hy9aka4aSXaZzlPFTem6eM79Fm4r2PPJXGxxYxlZVUhXWeYkFbodwmpsXrkEhqUzKYoq7hFyfx3x%2BMPLarA%3D%3D&inqryDiv=1&inqryBgnDt=201304010000&inqryEndDt=201304302359&pageNo=13\n",
      "http://apis.data.go.kr/1230000/BidPublicInfoService02/getBidPblancListInfoCnstwkPPSSrch?numOfRows=999&type=json&ServiceKey=Yc4hy9aka4aSXaZzlPFTem6eM79Fm4r2PPJXGxxYxlZVUhXWeYkFbodwmpsXrkEhqUzKYoq7hFyfx3x%2BMPLarA%3D%3D&inqryDiv=1&inqryBgnDt=201304010000&inqryEndDt=201304302359&pageNo=14\n",
      "http://apis.data.go.kr/1230000/BidPublicInfoService02/getBidPblancListInfoCnstwkPPSSrch?numOfRows=999&type=json&ServiceKey=Yc4hy9aka4aSXaZzlPFTem6eM79Fm4r2PPJXGxxYxlZVUhXWeYkFbodwmpsXrkEhqUzKYoq7hFyfx3x%2BMPLarA%3D%3D&inqryDiv=1&inqryBgnDt=201304010000&inqryEndDt=201304302359&pageNo=15\n",
      "http://apis.data.go.kr/1230000/BidPublicInfoService02/getBidPblancListInfoCnstwkPPSSrch?numOfRows=999&type=json&ServiceKey=Yc4hy9aka4aSXaZzlPFTem6eM79Fm4r2PPJXGxxYxlZVUhXWeYkFbodwmpsXrkEhqUzKYoq7hFyfx3x%2BMPLarA%3D%3D&inqryDiv=1&inqryBgnDt=201304010000&inqryEndDt=201304302359&pageNo=16\n",
      "BASEPARAM_Lst 16 is empty\n",
      "BASEPARAM_Lst 16 completed\n",
      "data save compled\n",
      "BASEPARAM_Lst 16 scraping start\n",
      "http://apis.data.go.kr/1230000/BidPublicInfoService02/getBidPblancListInfoCnstwkPPSSrch?numOfRows=999&type=json&ServiceKey=Yc4hy9aka4aSXaZzlPFTem6eM79Fm4r2PPJXGxxYxlZVUhXWeYkFbodwmpsXrkEhqUzKYoq7hFyfx3x%2BMPLarA%3D%3D&inqryDiv=1&inqryBgnDt=201305010000&inqryEndDt=201305312359&pageNo=1\n",
      "(\"Connection broken: ConnectionResetError(10054, '현재 연결은 원격 호스트에 의해 강제로 끊겼습니다', None, 10054, None)\", ConnectionResetError(10054, '현재 연결은 원격 호스트에 의해 강제로 끊겼습니다', None, 10054, None))\n",
      "(\"Connection broken: ConnectionResetError(10054, '현재 연결은 원격 호스트에 의해 강제로 끊겼습니다', None, 10054, None)\", ConnectionResetError(10054, '현재 연결은 원격 호스트에 의해 강제로 끊겼습니다', None, 10054, None))\n",
      "BASEPARAM_Lst 16 scraping start\n",
      "http://apis.data.go.kr/1230000/BidPublicInfoService02/getBidPblancListInfoCnstwkPPSSrch?numOfRows=999&type=json&ServiceKey=h2pHFUSHMnsx%2FwJfhd%2BfyC4L0X%2Bg16L0FhJvDcos8Px4Fqttih1HONUkKXQ5ITmYlq1vjIYT8%2FG%2BtwwMfA9m8Q%3D%3D&inqryDiv=1&inqryBgnDt=201305010000&inqryEndDt=201305312359&pageNo=1\n",
      "http://apis.data.go.kr/1230000/BidPublicInfoService02/getBidPblancListInfoCnstwkPPSSrch?numOfRows=999&type=json&ServiceKey=h2pHFUSHMnsx%2FwJfhd%2BfyC4L0X%2Bg16L0FhJvDcos8Px4Fqttih1HONUkKXQ5ITmYlq1vjIYT8%2FG%2BtwwMfA9m8Q%3D%3D&inqryDiv=1&inqryBgnDt=201305010000&inqryEndDt=201305312359&pageNo=2\n",
      "http://apis.data.go.kr/1230000/BidPublicInfoService02/getBidPblancListInfoCnstwkPPSSrch?numOfRows=999&type=json&ServiceKey=h2pHFUSHMnsx%2FwJfhd%2BfyC4L0X%2Bg16L0FhJvDcos8Px4Fqttih1HONUkKXQ5ITmYlq1vjIYT8%2FG%2BtwwMfA9m8Q%3D%3D&inqryDiv=1&inqryBgnDt=201305010000&inqryEndDt=201305312359&pageNo=3\n",
      "http://apis.data.go.kr/1230000/BidPublicInfoService02/getBidPblancListInfoCnstwkPPSSrch?numOfRows=999&type=json&ServiceKey=h2pHFUSHMnsx%2FwJfhd%2BfyC4L0X%2Bg16L0FhJvDcos8Px4Fqttih1HONUkKXQ5ITmYlq1vjIYT8%2FG%2BtwwMfA9m8Q%3D%3D&inqryDiv=1&inqryBgnDt=201305010000&inqryEndDt=201305312359&pageNo=4\n",
      "http://apis.data.go.kr/1230000/BidPublicInfoService02/getBidPblancListInfoCnstwkPPSSrch?numOfRows=999&type=json&ServiceKey=h2pHFUSHMnsx%2FwJfhd%2BfyC4L0X%2Bg16L0FhJvDcos8Px4Fqttih1HONUkKXQ5ITmYlq1vjIYT8%2FG%2BtwwMfA9m8Q%3D%3D&inqryDiv=1&inqryBgnDt=201305010000&inqryEndDt=201305312359&pageNo=5\n",
      "http://apis.data.go.kr/1230000/BidPublicInfoService02/getBidPblancListInfoCnstwkPPSSrch?numOfRows=999&type=json&ServiceKey=h2pHFUSHMnsx%2FwJfhd%2BfyC4L0X%2Bg16L0FhJvDcos8Px4Fqttih1HONUkKXQ5ITmYlq1vjIYT8%2FG%2BtwwMfA9m8Q%3D%3D&inqryDiv=1&inqryBgnDt=201305010000&inqryEndDt=201305312359&pageNo=6\n",
      "http://apis.data.go.kr/1230000/BidPublicInfoService02/getBidPblancListInfoCnstwkPPSSrch?numOfRows=999&type=json&ServiceKey=h2pHFUSHMnsx%2FwJfhd%2BfyC4L0X%2Bg16L0FhJvDcos8Px4Fqttih1HONUkKXQ5ITmYlq1vjIYT8%2FG%2BtwwMfA9m8Q%3D%3D&inqryDiv=1&inqryBgnDt=201305010000&inqryEndDt=201305312359&pageNo=7\n",
      "http://apis.data.go.kr/1230000/BidPublicInfoService02/getBidPblancListInfoCnstwkPPSSrch?numOfRows=999&type=json&ServiceKey=h2pHFUSHMnsx%2FwJfhd%2BfyC4L0X%2Bg16L0FhJvDcos8Px4Fqttih1HONUkKXQ5ITmYlq1vjIYT8%2FG%2BtwwMfA9m8Q%3D%3D&inqryDiv=1&inqryBgnDt=201305010000&inqryEndDt=201305312359&pageNo=8\n",
      "http://apis.data.go.kr/1230000/BidPublicInfoService02/getBidPblancListInfoCnstwkPPSSrch?numOfRows=999&type=json&ServiceKey=h2pHFUSHMnsx%2FwJfhd%2BfyC4L0X%2Bg16L0FhJvDcos8Px4Fqttih1HONUkKXQ5ITmYlq1vjIYT8%2FG%2BtwwMfA9m8Q%3D%3D&inqryDiv=1&inqryBgnDt=201305010000&inqryEndDt=201305312359&pageNo=9\n",
      "http://apis.data.go.kr/1230000/BidPublicInfoService02/getBidPblancListInfoCnstwkPPSSrch?numOfRows=999&type=json&ServiceKey=h2pHFUSHMnsx%2FwJfhd%2BfyC4L0X%2Bg16L0FhJvDcos8Px4Fqttih1HONUkKXQ5ITmYlq1vjIYT8%2FG%2BtwwMfA9m8Q%3D%3D&inqryDiv=1&inqryBgnDt=201305010000&inqryEndDt=201305312359&pageNo=10\n",
      "http://apis.data.go.kr/1230000/BidPublicInfoService02/getBidPblancListInfoCnstwkPPSSrch?numOfRows=999&type=json&ServiceKey=h2pHFUSHMnsx%2FwJfhd%2BfyC4L0X%2Bg16L0FhJvDcos8Px4Fqttih1HONUkKXQ5ITmYlq1vjIYT8%2FG%2BtwwMfA9m8Q%3D%3D&inqryDiv=1&inqryBgnDt=201305010000&inqryEndDt=201305312359&pageNo=11\n",
      "http://apis.data.go.kr/1230000/BidPublicInfoService02/getBidPblancListInfoCnstwkPPSSrch?numOfRows=999&type=json&ServiceKey=h2pHFUSHMnsx%2FwJfhd%2BfyC4L0X%2Bg16L0FhJvDcos8Px4Fqttih1HONUkKXQ5ITmYlq1vjIYT8%2FG%2BtwwMfA9m8Q%3D%3D&inqryDiv=1&inqryBgnDt=201305010000&inqryEndDt=201305312359&pageNo=12\n",
      "http://apis.data.go.kr/1230000/BidPublicInfoService02/getBidPblancListInfoCnstwkPPSSrch?numOfRows=999&type=json&ServiceKey=h2pHFUSHMnsx%2FwJfhd%2BfyC4L0X%2Bg16L0FhJvDcos8Px4Fqttih1HONUkKXQ5ITmYlq1vjIYT8%2FG%2BtwwMfA9m8Q%3D%3D&inqryDiv=1&inqryBgnDt=201305010000&inqryEndDt=201305312359&pageNo=13\n",
      "BASEPARAM_Lst 13 is empty\n",
      "BASEPARAM_Lst 13 completed\n",
      "data save compled\n",
      "BASEPARAM_Lst 17 scraping start\n",
      "http://apis.data.go.kr/1230000/BidPublicInfoService02/getBidPblancListInfoCnstwkPPSSrch?numOfRows=999&type=json&ServiceKey=h2pHFUSHMnsx%2FwJfhd%2BfyC4L0X%2Bg16L0FhJvDcos8Px4Fqttih1HONUkKXQ5ITmYlq1vjIYT8%2FG%2BtwwMfA9m8Q%3D%3D&inqryDiv=1&inqryBgnDt=201306010000&inqryEndDt=201306302359&pageNo=1\n",
      "http://apis.data.go.kr/1230000/BidPublicInfoService02/getBidPblancListInfoCnstwkPPSSrch?numOfRows=999&type=json&ServiceKey=h2pHFUSHMnsx%2FwJfhd%2BfyC4L0X%2Bg16L0FhJvDcos8Px4Fqttih1HONUkKXQ5ITmYlq1vjIYT8%2FG%2BtwwMfA9m8Q%3D%3D&inqryDiv=1&inqryBgnDt=201306010000&inqryEndDt=201306302359&pageNo=2\n",
      "http://apis.data.go.kr/1230000/BidPublicInfoService02/getBidPblancListInfoCnstwkPPSSrch?numOfRows=999&type=json&ServiceKey=h2pHFUSHMnsx%2FwJfhd%2BfyC4L0X%2Bg16L0FhJvDcos8Px4Fqttih1HONUkKXQ5ITmYlq1vjIYT8%2FG%2BtwwMfA9m8Q%3D%3D&inqryDiv=1&inqryBgnDt=201306010000&inqryEndDt=201306302359&pageNo=3\n",
      "http://apis.data.go.kr/1230000/BidPublicInfoService02/getBidPblancListInfoCnstwkPPSSrch?numOfRows=999&type=json&ServiceKey=h2pHFUSHMnsx%2FwJfhd%2BfyC4L0X%2Bg16L0FhJvDcos8Px4Fqttih1HONUkKXQ5ITmYlq1vjIYT8%2FG%2BtwwMfA9m8Q%3D%3D&inqryDiv=1&inqryBgnDt=201306010000&inqryEndDt=201306302359&pageNo=4\n",
      "http://apis.data.go.kr/1230000/BidPublicInfoService02/getBidPblancListInfoCnstwkPPSSrch?numOfRows=999&type=json&ServiceKey=h2pHFUSHMnsx%2FwJfhd%2BfyC4L0X%2Bg16L0FhJvDcos8Px4Fqttih1HONUkKXQ5ITmYlq1vjIYT8%2FG%2BtwwMfA9m8Q%3D%3D&inqryDiv=1&inqryBgnDt=201306010000&inqryEndDt=201306302359&pageNo=5\n",
      "http://apis.data.go.kr/1230000/BidPublicInfoService02/getBidPblancListInfoCnstwkPPSSrch?numOfRows=999&type=json&ServiceKey=h2pHFUSHMnsx%2FwJfhd%2BfyC4L0X%2Bg16L0FhJvDcos8Px4Fqttih1HONUkKXQ5ITmYlq1vjIYT8%2FG%2BtwwMfA9m8Q%3D%3D&inqryDiv=1&inqryBgnDt=201306010000&inqryEndDt=201306302359&pageNo=6\n",
      "http://apis.data.go.kr/1230000/BidPublicInfoService02/getBidPblancListInfoCnstwkPPSSrch?numOfRows=999&type=json&ServiceKey=h2pHFUSHMnsx%2FwJfhd%2BfyC4L0X%2Bg16L0FhJvDcos8Px4Fqttih1HONUkKXQ5ITmYlq1vjIYT8%2FG%2BtwwMfA9m8Q%3D%3D&inqryDiv=1&inqryBgnDt=201306010000&inqryEndDt=201306302359&pageNo=7\n",
      "http://apis.data.go.kr/1230000/BidPublicInfoService02/getBidPblancListInfoCnstwkPPSSrch?numOfRows=999&type=json&ServiceKey=h2pHFUSHMnsx%2FwJfhd%2BfyC4L0X%2Bg16L0FhJvDcos8Px4Fqttih1HONUkKXQ5ITmYlq1vjIYT8%2FG%2BtwwMfA9m8Q%3D%3D&inqryDiv=1&inqryBgnDt=201306010000&inqryEndDt=201306302359&pageNo=8\n",
      "http://apis.data.go.kr/1230000/BidPublicInfoService02/getBidPblancListInfoCnstwkPPSSrch?numOfRows=999&type=json&ServiceKey=h2pHFUSHMnsx%2FwJfhd%2BfyC4L0X%2Bg16L0FhJvDcos8Px4Fqttih1HONUkKXQ5ITmYlq1vjIYT8%2FG%2BtwwMfA9m8Q%3D%3D&inqryDiv=1&inqryBgnDt=201306010000&inqryEndDt=201306302359&pageNo=9\n",
      "http://apis.data.go.kr/1230000/BidPublicInfoService02/getBidPblancListInfoCnstwkPPSSrch?numOfRows=999&type=json&ServiceKey=h2pHFUSHMnsx%2FwJfhd%2BfyC4L0X%2Bg16L0FhJvDcos8Px4Fqttih1HONUkKXQ5ITmYlq1vjIYT8%2FG%2BtwwMfA9m8Q%3D%3D&inqryDiv=1&inqryBgnDt=201306010000&inqryEndDt=201306302359&pageNo=10\n",
      "http://apis.data.go.kr/1230000/BidPublicInfoService02/getBidPblancListInfoCnstwkPPSSrch?numOfRows=999&type=json&ServiceKey=h2pHFUSHMnsx%2FwJfhd%2BfyC4L0X%2Bg16L0FhJvDcos8Px4Fqttih1HONUkKXQ5ITmYlq1vjIYT8%2FG%2BtwwMfA9m8Q%3D%3D&inqryDiv=1&inqryBgnDt=201306010000&inqryEndDt=201306302359&pageNo=11\n",
      "http://apis.data.go.kr/1230000/BidPublicInfoService02/getBidPblancListInfoCnstwkPPSSrch?numOfRows=999&type=json&ServiceKey=h2pHFUSHMnsx%2FwJfhd%2BfyC4L0X%2Bg16L0FhJvDcos8Px4Fqttih1HONUkKXQ5ITmYlq1vjIYT8%2FG%2BtwwMfA9m8Q%3D%3D&inqryDiv=1&inqryBgnDt=201306010000&inqryEndDt=201306302359&pageNo=12\n",
      "BASEPARAM_Lst 12 is empty\n",
      "BASEPARAM_Lst 12 completed\n",
      "data save compled\n",
      "BASEPARAM_Lst 18 scraping start\n",
      "http://apis.data.go.kr/1230000/BidPublicInfoService02/getBidPblancListInfoCnstwkPPSSrch?numOfRows=999&type=json&ServiceKey=h2pHFUSHMnsx%2FwJfhd%2BfyC4L0X%2Bg16L0FhJvDcos8Px4Fqttih1HONUkKXQ5ITmYlq1vjIYT8%2FG%2BtwwMfA9m8Q%3D%3D&inqryDiv=1&inqryBgnDt=201307010000&inqryEndDt=201307312359&pageNo=1\n",
      "http://apis.data.go.kr/1230000/BidPublicInfoService02/getBidPblancListInfoCnstwkPPSSrch?numOfRows=999&type=json&ServiceKey=h2pHFUSHMnsx%2FwJfhd%2BfyC4L0X%2Bg16L0FhJvDcos8Px4Fqttih1HONUkKXQ5ITmYlq1vjIYT8%2FG%2BtwwMfA9m8Q%3D%3D&inqryDiv=1&inqryBgnDt=201307010000&inqryEndDt=201307312359&pageNo=2\n",
      "http://apis.data.go.kr/1230000/BidPublicInfoService02/getBidPblancListInfoCnstwkPPSSrch?numOfRows=999&type=json&ServiceKey=h2pHFUSHMnsx%2FwJfhd%2BfyC4L0X%2Bg16L0FhJvDcos8Px4Fqttih1HONUkKXQ5ITmYlq1vjIYT8%2FG%2BtwwMfA9m8Q%3D%3D&inqryDiv=1&inqryBgnDt=201307010000&inqryEndDt=201307312359&pageNo=3\n",
      "http://apis.data.go.kr/1230000/BidPublicInfoService02/getBidPblancListInfoCnstwkPPSSrch?numOfRows=999&type=json&ServiceKey=h2pHFUSHMnsx%2FwJfhd%2BfyC4L0X%2Bg16L0FhJvDcos8Px4Fqttih1HONUkKXQ5ITmYlq1vjIYT8%2FG%2BtwwMfA9m8Q%3D%3D&inqryDiv=1&inqryBgnDt=201307010000&inqryEndDt=201307312359&pageNo=4\n",
      "http://apis.data.go.kr/1230000/BidPublicInfoService02/getBidPblancListInfoCnstwkPPSSrch?numOfRows=999&type=json&ServiceKey=h2pHFUSHMnsx%2FwJfhd%2BfyC4L0X%2Bg16L0FhJvDcos8Px4Fqttih1HONUkKXQ5ITmYlq1vjIYT8%2FG%2BtwwMfA9m8Q%3D%3D&inqryDiv=1&inqryBgnDt=201307010000&inqryEndDt=201307312359&pageNo=5\n",
      "http://apis.data.go.kr/1230000/BidPublicInfoService02/getBidPblancListInfoCnstwkPPSSrch?numOfRows=999&type=json&ServiceKey=h2pHFUSHMnsx%2FwJfhd%2BfyC4L0X%2Bg16L0FhJvDcos8Px4Fqttih1HONUkKXQ5ITmYlq1vjIYT8%2FG%2BtwwMfA9m8Q%3D%3D&inqryDiv=1&inqryBgnDt=201307010000&inqryEndDt=201307312359&pageNo=6\n",
      "http://apis.data.go.kr/1230000/BidPublicInfoService02/getBidPblancListInfoCnstwkPPSSrch?numOfRows=999&type=json&ServiceKey=h2pHFUSHMnsx%2FwJfhd%2BfyC4L0X%2Bg16L0FhJvDcos8Px4Fqttih1HONUkKXQ5ITmYlq1vjIYT8%2FG%2BtwwMfA9m8Q%3D%3D&inqryDiv=1&inqryBgnDt=201307010000&inqryEndDt=201307312359&pageNo=7\n",
      "http://apis.data.go.kr/1230000/BidPublicInfoService02/getBidPblancListInfoCnstwkPPSSrch?numOfRows=999&type=json&ServiceKey=h2pHFUSHMnsx%2FwJfhd%2BfyC4L0X%2Bg16L0FhJvDcos8Px4Fqttih1HONUkKXQ5ITmYlq1vjIYT8%2FG%2BtwwMfA9m8Q%3D%3D&inqryDiv=1&inqryBgnDt=201307010000&inqryEndDt=201307312359&pageNo=8\n",
      "http://apis.data.go.kr/1230000/BidPublicInfoService02/getBidPblancListInfoCnstwkPPSSrch?numOfRows=999&type=json&ServiceKey=h2pHFUSHMnsx%2FwJfhd%2BfyC4L0X%2Bg16L0FhJvDcos8Px4Fqttih1HONUkKXQ5ITmYlq1vjIYT8%2FG%2BtwwMfA9m8Q%3D%3D&inqryDiv=1&inqryBgnDt=201307010000&inqryEndDt=201307312359&pageNo=9\n",
      "http://apis.data.go.kr/1230000/BidPublicInfoService02/getBidPblancListInfoCnstwkPPSSrch?numOfRows=999&type=json&ServiceKey=h2pHFUSHMnsx%2FwJfhd%2BfyC4L0X%2Bg16L0FhJvDcos8Px4Fqttih1HONUkKXQ5ITmYlq1vjIYT8%2FG%2BtwwMfA9m8Q%3D%3D&inqryDiv=1&inqryBgnDt=201307010000&inqryEndDt=201307312359&pageNo=10\n",
      "http://apis.data.go.kr/1230000/BidPublicInfoService02/getBidPblancListInfoCnstwkPPSSrch?numOfRows=999&type=json&ServiceKey=h2pHFUSHMnsx%2FwJfhd%2BfyC4L0X%2Bg16L0FhJvDcos8Px4Fqttih1HONUkKXQ5ITmYlq1vjIYT8%2FG%2BtwwMfA9m8Q%3D%3D&inqryDiv=1&inqryBgnDt=201307010000&inqryEndDt=201307312359&pageNo=11\n",
      "http://apis.data.go.kr/1230000/BidPublicInfoService02/getBidPblancListInfoCnstwkPPSSrch?numOfRows=999&type=json&ServiceKey=h2pHFUSHMnsx%2FwJfhd%2BfyC4L0X%2Bg16L0FhJvDcos8Px4Fqttih1HONUkKXQ5ITmYlq1vjIYT8%2FG%2BtwwMfA9m8Q%3D%3D&inqryDiv=1&inqryBgnDt=201307010000&inqryEndDt=201307312359&pageNo=12\n",
      "BASEPARAM_Lst 12 is empty\n",
      "BASEPARAM_Lst 12 completed\n",
      "data save compled\n",
      "BASEPARAM_Lst 19 scraping start\n",
      "http://apis.data.go.kr/1230000/BidPublicInfoService02/getBidPblancListInfoCnstwkPPSSrch?numOfRows=999&type=json&ServiceKey=h2pHFUSHMnsx%2FwJfhd%2BfyC4L0X%2Bg16L0FhJvDcos8Px4Fqttih1HONUkKXQ5ITmYlq1vjIYT8%2FG%2BtwwMfA9m8Q%3D%3D&inqryDiv=1&inqryBgnDt=201308010000&inqryEndDt=201308312359&pageNo=1\n",
      "http://apis.data.go.kr/1230000/BidPublicInfoService02/getBidPblancListInfoCnstwkPPSSrch?numOfRows=999&type=json&ServiceKey=h2pHFUSHMnsx%2FwJfhd%2BfyC4L0X%2Bg16L0FhJvDcos8Px4Fqttih1HONUkKXQ5ITmYlq1vjIYT8%2FG%2BtwwMfA9m8Q%3D%3D&inqryDiv=1&inqryBgnDt=201308010000&inqryEndDt=201308312359&pageNo=2\n",
      "http://apis.data.go.kr/1230000/BidPublicInfoService02/getBidPblancListInfoCnstwkPPSSrch?numOfRows=999&type=json&ServiceKey=h2pHFUSHMnsx%2FwJfhd%2BfyC4L0X%2Bg16L0FhJvDcos8Px4Fqttih1HONUkKXQ5ITmYlq1vjIYT8%2FG%2BtwwMfA9m8Q%3D%3D&inqryDiv=1&inqryBgnDt=201308010000&inqryEndDt=201308312359&pageNo=3\n",
      "http://apis.data.go.kr/1230000/BidPublicInfoService02/getBidPblancListInfoCnstwkPPSSrch?numOfRows=999&type=json&ServiceKey=h2pHFUSHMnsx%2FwJfhd%2BfyC4L0X%2Bg16L0FhJvDcos8Px4Fqttih1HONUkKXQ5ITmYlq1vjIYT8%2FG%2BtwwMfA9m8Q%3D%3D&inqryDiv=1&inqryBgnDt=201308010000&inqryEndDt=201308312359&pageNo=4\n",
      "http://apis.data.go.kr/1230000/BidPublicInfoService02/getBidPblancListInfoCnstwkPPSSrch?numOfRows=999&type=json&ServiceKey=h2pHFUSHMnsx%2FwJfhd%2BfyC4L0X%2Bg16L0FhJvDcos8Px4Fqttih1HONUkKXQ5ITmYlq1vjIYT8%2FG%2BtwwMfA9m8Q%3D%3D&inqryDiv=1&inqryBgnDt=201308010000&inqryEndDt=201308312359&pageNo=5\n",
      "http://apis.data.go.kr/1230000/BidPublicInfoService02/getBidPblancListInfoCnstwkPPSSrch?numOfRows=999&type=json&ServiceKey=h2pHFUSHMnsx%2FwJfhd%2BfyC4L0X%2Bg16L0FhJvDcos8Px4Fqttih1HONUkKXQ5ITmYlq1vjIYT8%2FG%2BtwwMfA9m8Q%3D%3D&inqryDiv=1&inqryBgnDt=201308010000&inqryEndDt=201308312359&pageNo=6\n",
      "http://apis.data.go.kr/1230000/BidPublicInfoService02/getBidPblancListInfoCnstwkPPSSrch?numOfRows=999&type=json&ServiceKey=h2pHFUSHMnsx%2FwJfhd%2BfyC4L0X%2Bg16L0FhJvDcos8Px4Fqttih1HONUkKXQ5ITmYlq1vjIYT8%2FG%2BtwwMfA9m8Q%3D%3D&inqryDiv=1&inqryBgnDt=201308010000&inqryEndDt=201308312359&pageNo=7\n",
      "http://apis.data.go.kr/1230000/BidPublicInfoService02/getBidPblancListInfoCnstwkPPSSrch?numOfRows=999&type=json&ServiceKey=h2pHFUSHMnsx%2FwJfhd%2BfyC4L0X%2Bg16L0FhJvDcos8Px4Fqttih1HONUkKXQ5ITmYlq1vjIYT8%2FG%2BtwwMfA9m8Q%3D%3D&inqryDiv=1&inqryBgnDt=201308010000&inqryEndDt=201308312359&pageNo=8\n",
      "BASEPARAM_Lst 8 is empty\n",
      "BASEPARAM_Lst 8 completed\n",
      "data save compled\n",
      "BASEPARAM_Lst 20 scraping start\n",
      "http://apis.data.go.kr/1230000/BidPublicInfoService02/getBidPblancListInfoCnstwkPPSSrch?numOfRows=999&type=json&ServiceKey=h2pHFUSHMnsx%2FwJfhd%2BfyC4L0X%2Bg16L0FhJvDcos8Px4Fqttih1HONUkKXQ5ITmYlq1vjIYT8%2FG%2BtwwMfA9m8Q%3D%3D&inqryDiv=1&inqryBgnDt=201309010000&inqryEndDt=201309302359&pageNo=1\n",
      "http://apis.data.go.kr/1230000/BidPublicInfoService02/getBidPblancListInfoCnstwkPPSSrch?numOfRows=999&type=json&ServiceKey=h2pHFUSHMnsx%2FwJfhd%2BfyC4L0X%2Bg16L0FhJvDcos8Px4Fqttih1HONUkKXQ5ITmYlq1vjIYT8%2FG%2BtwwMfA9m8Q%3D%3D&inqryDiv=1&inqryBgnDt=201309010000&inqryEndDt=201309302359&pageNo=2\n",
      "http://apis.data.go.kr/1230000/BidPublicInfoService02/getBidPblancListInfoCnstwkPPSSrch?numOfRows=999&type=json&ServiceKey=h2pHFUSHMnsx%2FwJfhd%2BfyC4L0X%2Bg16L0FhJvDcos8Px4Fqttih1HONUkKXQ5ITmYlq1vjIYT8%2FG%2BtwwMfA9m8Q%3D%3D&inqryDiv=1&inqryBgnDt=201309010000&inqryEndDt=201309302359&pageNo=3\n",
      "http://apis.data.go.kr/1230000/BidPublicInfoService02/getBidPblancListInfoCnstwkPPSSrch?numOfRows=999&type=json&ServiceKey=h2pHFUSHMnsx%2FwJfhd%2BfyC4L0X%2Bg16L0FhJvDcos8Px4Fqttih1HONUkKXQ5ITmYlq1vjIYT8%2FG%2BtwwMfA9m8Q%3D%3D&inqryDiv=1&inqryBgnDt=201309010000&inqryEndDt=201309302359&pageNo=4\n",
      "http://apis.data.go.kr/1230000/BidPublicInfoService02/getBidPblancListInfoCnstwkPPSSrch?numOfRows=999&type=json&ServiceKey=h2pHFUSHMnsx%2FwJfhd%2BfyC4L0X%2Bg16L0FhJvDcos8Px4Fqttih1HONUkKXQ5ITmYlq1vjIYT8%2FG%2BtwwMfA9m8Q%3D%3D&inqryDiv=1&inqryBgnDt=201309010000&inqryEndDt=201309302359&pageNo=5\n",
      "http://apis.data.go.kr/1230000/BidPublicInfoService02/getBidPblancListInfoCnstwkPPSSrch?numOfRows=999&type=json&ServiceKey=h2pHFUSHMnsx%2FwJfhd%2BfyC4L0X%2Bg16L0FhJvDcos8Px4Fqttih1HONUkKXQ5ITmYlq1vjIYT8%2FG%2BtwwMfA9m8Q%3D%3D&inqryDiv=1&inqryBgnDt=201309010000&inqryEndDt=201309302359&pageNo=6\n",
      "http://apis.data.go.kr/1230000/BidPublicInfoService02/getBidPblancListInfoCnstwkPPSSrch?numOfRows=999&type=json&ServiceKey=h2pHFUSHMnsx%2FwJfhd%2BfyC4L0X%2Bg16L0FhJvDcos8Px4Fqttih1HONUkKXQ5ITmYlq1vjIYT8%2FG%2BtwwMfA9m8Q%3D%3D&inqryDiv=1&inqryBgnDt=201309010000&inqryEndDt=201309302359&pageNo=7\n",
      "http://apis.data.go.kr/1230000/BidPublicInfoService02/getBidPblancListInfoCnstwkPPSSrch?numOfRows=999&type=json&ServiceKey=h2pHFUSHMnsx%2FwJfhd%2BfyC4L0X%2Bg16L0FhJvDcos8Px4Fqttih1HONUkKXQ5ITmYlq1vjIYT8%2FG%2BtwwMfA9m8Q%3D%3D&inqryDiv=1&inqryBgnDt=201309010000&inqryEndDt=201309302359&pageNo=8\n",
      "http://apis.data.go.kr/1230000/BidPublicInfoService02/getBidPblancListInfoCnstwkPPSSrch?numOfRows=999&type=json&ServiceKey=h2pHFUSHMnsx%2FwJfhd%2BfyC4L0X%2Bg16L0FhJvDcos8Px4Fqttih1HONUkKXQ5ITmYlq1vjIYT8%2FG%2BtwwMfA9m8Q%3D%3D&inqryDiv=1&inqryBgnDt=201309010000&inqryEndDt=201309302359&pageNo=9\n",
      "BASEPARAM_Lst 9 is empty\n",
      "BASEPARAM_Lst 9 completed\n",
      "data save compled\n",
      "BASEPARAM_Lst 21 scraping start\n",
      "http://apis.data.go.kr/1230000/BidPublicInfoService02/getBidPblancListInfoCnstwkPPSSrch?numOfRows=999&type=json&ServiceKey=h2pHFUSHMnsx%2FwJfhd%2BfyC4L0X%2Bg16L0FhJvDcos8Px4Fqttih1HONUkKXQ5ITmYlq1vjIYT8%2FG%2BtwwMfA9m8Q%3D%3D&inqryDiv=1&inqryBgnDt=201310010000&inqryEndDt=201310312359&pageNo=1\n",
      "http://apis.data.go.kr/1230000/BidPublicInfoService02/getBidPblancListInfoCnstwkPPSSrch?numOfRows=999&type=json&ServiceKey=h2pHFUSHMnsx%2FwJfhd%2BfyC4L0X%2Bg16L0FhJvDcos8Px4Fqttih1HONUkKXQ5ITmYlq1vjIYT8%2FG%2BtwwMfA9m8Q%3D%3D&inqryDiv=1&inqryBgnDt=201310010000&inqryEndDt=201310312359&pageNo=2\n",
      "http://apis.data.go.kr/1230000/BidPublicInfoService02/getBidPblancListInfoCnstwkPPSSrch?numOfRows=999&type=json&ServiceKey=h2pHFUSHMnsx%2FwJfhd%2BfyC4L0X%2Bg16L0FhJvDcos8Px4Fqttih1HONUkKXQ5ITmYlq1vjIYT8%2FG%2BtwwMfA9m8Q%3D%3D&inqryDiv=1&inqryBgnDt=201310010000&inqryEndDt=201310312359&pageNo=3\n",
      "http://apis.data.go.kr/1230000/BidPublicInfoService02/getBidPblancListInfoCnstwkPPSSrch?numOfRows=999&type=json&ServiceKey=h2pHFUSHMnsx%2FwJfhd%2BfyC4L0X%2Bg16L0FhJvDcos8Px4Fqttih1HONUkKXQ5ITmYlq1vjIYT8%2FG%2BtwwMfA9m8Q%3D%3D&inqryDiv=1&inqryBgnDt=201310010000&inqryEndDt=201310312359&pageNo=4\n",
      "http://apis.data.go.kr/1230000/BidPublicInfoService02/getBidPblancListInfoCnstwkPPSSrch?numOfRows=999&type=json&ServiceKey=h2pHFUSHMnsx%2FwJfhd%2BfyC4L0X%2Bg16L0FhJvDcos8Px4Fqttih1HONUkKXQ5ITmYlq1vjIYT8%2FG%2BtwwMfA9m8Q%3D%3D&inqryDiv=1&inqryBgnDt=201310010000&inqryEndDt=201310312359&pageNo=5\n",
      "http://apis.data.go.kr/1230000/BidPublicInfoService02/getBidPblancListInfoCnstwkPPSSrch?numOfRows=999&type=json&ServiceKey=h2pHFUSHMnsx%2FwJfhd%2BfyC4L0X%2Bg16L0FhJvDcos8Px4Fqttih1HONUkKXQ5ITmYlq1vjIYT8%2FG%2BtwwMfA9m8Q%3D%3D&inqryDiv=1&inqryBgnDt=201310010000&inqryEndDt=201310312359&pageNo=6\n",
      "http://apis.data.go.kr/1230000/BidPublicInfoService02/getBidPblancListInfoCnstwkPPSSrch?numOfRows=999&type=json&ServiceKey=h2pHFUSHMnsx%2FwJfhd%2BfyC4L0X%2Bg16L0FhJvDcos8Px4Fqttih1HONUkKXQ5ITmYlq1vjIYT8%2FG%2BtwwMfA9m8Q%3D%3D&inqryDiv=1&inqryBgnDt=201310010000&inqryEndDt=201310312359&pageNo=7\n",
      "http://apis.data.go.kr/1230000/BidPublicInfoService02/getBidPblancListInfoCnstwkPPSSrch?numOfRows=999&type=json&ServiceKey=h2pHFUSHMnsx%2FwJfhd%2BfyC4L0X%2Bg16L0FhJvDcos8Px4Fqttih1HONUkKXQ5ITmYlq1vjIYT8%2FG%2BtwwMfA9m8Q%3D%3D&inqryDiv=1&inqryBgnDt=201310010000&inqryEndDt=201310312359&pageNo=8\n",
      "http://apis.data.go.kr/1230000/BidPublicInfoService02/getBidPblancListInfoCnstwkPPSSrch?numOfRows=999&type=json&ServiceKey=h2pHFUSHMnsx%2FwJfhd%2BfyC4L0X%2Bg16L0FhJvDcos8Px4Fqttih1HONUkKXQ5ITmYlq1vjIYT8%2FG%2BtwwMfA9m8Q%3D%3D&inqryDiv=1&inqryBgnDt=201310010000&inqryEndDt=201310312359&pageNo=9\n",
      "http://apis.data.go.kr/1230000/BidPublicInfoService02/getBidPblancListInfoCnstwkPPSSrch?numOfRows=999&type=json&ServiceKey=h2pHFUSHMnsx%2FwJfhd%2BfyC4L0X%2Bg16L0FhJvDcos8Px4Fqttih1HONUkKXQ5ITmYlq1vjIYT8%2FG%2BtwwMfA9m8Q%3D%3D&inqryDiv=1&inqryBgnDt=201310010000&inqryEndDt=201310312359&pageNo=10\n",
      "http://apis.data.go.kr/1230000/BidPublicInfoService02/getBidPblancListInfoCnstwkPPSSrch?numOfRows=999&type=json&ServiceKey=h2pHFUSHMnsx%2FwJfhd%2BfyC4L0X%2Bg16L0FhJvDcos8Px4Fqttih1HONUkKXQ5ITmYlq1vjIYT8%2FG%2BtwwMfA9m8Q%3D%3D&inqryDiv=1&inqryBgnDt=201310010000&inqryEndDt=201310312359&pageNo=11\n",
      "http://apis.data.go.kr/1230000/BidPublicInfoService02/getBidPblancListInfoCnstwkPPSSrch?numOfRows=999&type=json&ServiceKey=h2pHFUSHMnsx%2FwJfhd%2BfyC4L0X%2Bg16L0FhJvDcos8Px4Fqttih1HONUkKXQ5ITmYlq1vjIYT8%2FG%2BtwwMfA9m8Q%3D%3D&inqryDiv=1&inqryBgnDt=201310010000&inqryEndDt=201310312359&pageNo=12\n",
      "http://apis.data.go.kr/1230000/BidPublicInfoService02/getBidPblancListInfoCnstwkPPSSrch?numOfRows=999&type=json&ServiceKey=h2pHFUSHMnsx%2FwJfhd%2BfyC4L0X%2Bg16L0FhJvDcos8Px4Fqttih1HONUkKXQ5ITmYlq1vjIYT8%2FG%2BtwwMfA9m8Q%3D%3D&inqryDiv=1&inqryBgnDt=201310010000&inqryEndDt=201310312359&pageNo=13\n",
      "BASEPARAM_Lst 13 is empty\n",
      "BASEPARAM_Lst 13 completed\n",
      "data save compled\n",
      "BASEPARAM_Lst 22 scraping start\n",
      "http://apis.data.go.kr/1230000/BidPublicInfoService02/getBidPblancListInfoCnstwkPPSSrch?numOfRows=999&type=json&ServiceKey=h2pHFUSHMnsx%2FwJfhd%2BfyC4L0X%2Bg16L0FhJvDcos8Px4Fqttih1HONUkKXQ5ITmYlq1vjIYT8%2FG%2BtwwMfA9m8Q%3D%3D&inqryDiv=1&inqryBgnDt=201311010000&inqryEndDt=201311302359&pageNo=1\n",
      "http://apis.data.go.kr/1230000/BidPublicInfoService02/getBidPblancListInfoCnstwkPPSSrch?numOfRows=999&type=json&ServiceKey=h2pHFUSHMnsx%2FwJfhd%2BfyC4L0X%2Bg16L0FhJvDcos8Px4Fqttih1HONUkKXQ5ITmYlq1vjIYT8%2FG%2BtwwMfA9m8Q%3D%3D&inqryDiv=1&inqryBgnDt=201311010000&inqryEndDt=201311302359&pageNo=2\n",
      "http://apis.data.go.kr/1230000/BidPublicInfoService02/getBidPblancListInfoCnstwkPPSSrch?numOfRows=999&type=json&ServiceKey=h2pHFUSHMnsx%2FwJfhd%2BfyC4L0X%2Bg16L0FhJvDcos8Px4Fqttih1HONUkKXQ5ITmYlq1vjIYT8%2FG%2BtwwMfA9m8Q%3D%3D&inqryDiv=1&inqryBgnDt=201311010000&inqryEndDt=201311302359&pageNo=3\n",
      "http://apis.data.go.kr/1230000/BidPublicInfoService02/getBidPblancListInfoCnstwkPPSSrch?numOfRows=999&type=json&ServiceKey=h2pHFUSHMnsx%2FwJfhd%2BfyC4L0X%2Bg16L0FhJvDcos8Px4Fqttih1HONUkKXQ5ITmYlq1vjIYT8%2FG%2BtwwMfA9m8Q%3D%3D&inqryDiv=1&inqryBgnDt=201311010000&inqryEndDt=201311302359&pageNo=4\n",
      "http://apis.data.go.kr/1230000/BidPublicInfoService02/getBidPblancListInfoCnstwkPPSSrch?numOfRows=999&type=json&ServiceKey=h2pHFUSHMnsx%2FwJfhd%2BfyC4L0X%2Bg16L0FhJvDcos8Px4Fqttih1HONUkKXQ5ITmYlq1vjIYT8%2FG%2BtwwMfA9m8Q%3D%3D&inqryDiv=1&inqryBgnDt=201311010000&inqryEndDt=201311302359&pageNo=5\n",
      "http://apis.data.go.kr/1230000/BidPublicInfoService02/getBidPblancListInfoCnstwkPPSSrch?numOfRows=999&type=json&ServiceKey=h2pHFUSHMnsx%2FwJfhd%2BfyC4L0X%2Bg16L0FhJvDcos8Px4Fqttih1HONUkKXQ5ITmYlq1vjIYT8%2FG%2BtwwMfA9m8Q%3D%3D&inqryDiv=1&inqryBgnDt=201311010000&inqryEndDt=201311302359&pageNo=6\n",
      "http://apis.data.go.kr/1230000/BidPublicInfoService02/getBidPblancListInfoCnstwkPPSSrch?numOfRows=999&type=json&ServiceKey=h2pHFUSHMnsx%2FwJfhd%2BfyC4L0X%2Bg16L0FhJvDcos8Px4Fqttih1HONUkKXQ5ITmYlq1vjIYT8%2FG%2BtwwMfA9m8Q%3D%3D&inqryDiv=1&inqryBgnDt=201311010000&inqryEndDt=201311302359&pageNo=7\n",
      "http://apis.data.go.kr/1230000/BidPublicInfoService02/getBidPblancListInfoCnstwkPPSSrch?numOfRows=999&type=json&ServiceKey=h2pHFUSHMnsx%2FwJfhd%2BfyC4L0X%2Bg16L0FhJvDcos8Px4Fqttih1HONUkKXQ5ITmYlq1vjIYT8%2FG%2BtwwMfA9m8Q%3D%3D&inqryDiv=1&inqryBgnDt=201311010000&inqryEndDt=201311302359&pageNo=8\n",
      "http://apis.data.go.kr/1230000/BidPublicInfoService02/getBidPblancListInfoCnstwkPPSSrch?numOfRows=999&type=json&ServiceKey=h2pHFUSHMnsx%2FwJfhd%2BfyC4L0X%2Bg16L0FhJvDcos8Px4Fqttih1HONUkKXQ5ITmYlq1vjIYT8%2FG%2BtwwMfA9m8Q%3D%3D&inqryDiv=1&inqryBgnDt=201311010000&inqryEndDt=201311302359&pageNo=9\n",
      "http://apis.data.go.kr/1230000/BidPublicInfoService02/getBidPblancListInfoCnstwkPPSSrch?numOfRows=999&type=json&ServiceKey=h2pHFUSHMnsx%2FwJfhd%2BfyC4L0X%2Bg16L0FhJvDcos8Px4Fqttih1HONUkKXQ5ITmYlq1vjIYT8%2FG%2BtwwMfA9m8Q%3D%3D&inqryDiv=1&inqryBgnDt=201311010000&inqryEndDt=201311302359&pageNo=10\n",
      "http://apis.data.go.kr/1230000/BidPublicInfoService02/getBidPblancListInfoCnstwkPPSSrch?numOfRows=999&type=json&ServiceKey=h2pHFUSHMnsx%2FwJfhd%2BfyC4L0X%2Bg16L0FhJvDcos8Px4Fqttih1HONUkKXQ5ITmYlq1vjIYT8%2FG%2BtwwMfA9m8Q%3D%3D&inqryDiv=1&inqryBgnDt=201311010000&inqryEndDt=201311302359&pageNo=11\n",
      "BASEPARAM_Lst 11 is empty\n",
      "BASEPARAM_Lst 11 completed\n",
      "data save compled\n",
      "BASEPARAM_Lst 23 scraping start\n",
      "http://apis.data.go.kr/1230000/BidPublicInfoService02/getBidPblancListInfoCnstwkPPSSrch?numOfRows=999&type=json&ServiceKey=h2pHFUSHMnsx%2FwJfhd%2BfyC4L0X%2Bg16L0FhJvDcos8Px4Fqttih1HONUkKXQ5ITmYlq1vjIYT8%2FG%2BtwwMfA9m8Q%3D%3D&inqryDiv=1&inqryBgnDt=201312010000&inqryEndDt=201312312359&pageNo=1\n",
      "http://apis.data.go.kr/1230000/BidPublicInfoService02/getBidPblancListInfoCnstwkPPSSrch?numOfRows=999&type=json&ServiceKey=h2pHFUSHMnsx%2FwJfhd%2BfyC4L0X%2Bg16L0FhJvDcos8Px4Fqttih1HONUkKXQ5ITmYlq1vjIYT8%2FG%2BtwwMfA9m8Q%3D%3D&inqryDiv=1&inqryBgnDt=201312010000&inqryEndDt=201312312359&pageNo=2\n",
      "http://apis.data.go.kr/1230000/BidPublicInfoService02/getBidPblancListInfoCnstwkPPSSrch?numOfRows=999&type=json&ServiceKey=h2pHFUSHMnsx%2FwJfhd%2BfyC4L0X%2Bg16L0FhJvDcos8Px4Fqttih1HONUkKXQ5ITmYlq1vjIYT8%2FG%2BtwwMfA9m8Q%3D%3D&inqryDiv=1&inqryBgnDt=201312010000&inqryEndDt=201312312359&pageNo=3\n",
      "http://apis.data.go.kr/1230000/BidPublicInfoService02/getBidPblancListInfoCnstwkPPSSrch?numOfRows=999&type=json&ServiceKey=h2pHFUSHMnsx%2FwJfhd%2BfyC4L0X%2Bg16L0FhJvDcos8Px4Fqttih1HONUkKXQ5ITmYlq1vjIYT8%2FG%2BtwwMfA9m8Q%3D%3D&inqryDiv=1&inqryBgnDt=201312010000&inqryEndDt=201312312359&pageNo=4\n",
      "http://apis.data.go.kr/1230000/BidPublicInfoService02/getBidPblancListInfoCnstwkPPSSrch?numOfRows=999&type=json&ServiceKey=h2pHFUSHMnsx%2FwJfhd%2BfyC4L0X%2Bg16L0FhJvDcos8Px4Fqttih1HONUkKXQ5ITmYlq1vjIYT8%2FG%2BtwwMfA9m8Q%3D%3D&inqryDiv=1&inqryBgnDt=201312010000&inqryEndDt=201312312359&pageNo=5\n",
      "http://apis.data.go.kr/1230000/BidPublicInfoService02/getBidPblancListInfoCnstwkPPSSrch?numOfRows=999&type=json&ServiceKey=h2pHFUSHMnsx%2FwJfhd%2BfyC4L0X%2Bg16L0FhJvDcos8Px4Fqttih1HONUkKXQ5ITmYlq1vjIYT8%2FG%2BtwwMfA9m8Q%3D%3D&inqryDiv=1&inqryBgnDt=201312010000&inqryEndDt=201312312359&pageNo=6\n",
      "http://apis.data.go.kr/1230000/BidPublicInfoService02/getBidPblancListInfoCnstwkPPSSrch?numOfRows=999&type=json&ServiceKey=h2pHFUSHMnsx%2FwJfhd%2BfyC4L0X%2Bg16L0FhJvDcos8Px4Fqttih1HONUkKXQ5ITmYlq1vjIYT8%2FG%2BtwwMfA9m8Q%3D%3D&inqryDiv=1&inqryBgnDt=201312010000&inqryEndDt=201312312359&pageNo=7\n",
      "http://apis.data.go.kr/1230000/BidPublicInfoService02/getBidPblancListInfoCnstwkPPSSrch?numOfRows=999&type=json&ServiceKey=h2pHFUSHMnsx%2FwJfhd%2BfyC4L0X%2Bg16L0FhJvDcos8Px4Fqttih1HONUkKXQ5ITmYlq1vjIYT8%2FG%2BtwwMfA9m8Q%3D%3D&inqryDiv=1&inqryBgnDt=201312010000&inqryEndDt=201312312359&pageNo=8\n",
      "http://apis.data.go.kr/1230000/BidPublicInfoService02/getBidPblancListInfoCnstwkPPSSrch?numOfRows=999&type=json&ServiceKey=h2pHFUSHMnsx%2FwJfhd%2BfyC4L0X%2Bg16L0FhJvDcos8Px4Fqttih1HONUkKXQ5ITmYlq1vjIYT8%2FG%2BtwwMfA9m8Q%3D%3D&inqryDiv=1&inqryBgnDt=201312010000&inqryEndDt=201312312359&pageNo=9\n",
      "http://apis.data.go.kr/1230000/BidPublicInfoService02/getBidPblancListInfoCnstwkPPSSrch?numOfRows=999&type=json&ServiceKey=h2pHFUSHMnsx%2FwJfhd%2BfyC4L0X%2Bg16L0FhJvDcos8Px4Fqttih1HONUkKXQ5ITmYlq1vjIYT8%2FG%2BtwwMfA9m8Q%3D%3D&inqryDiv=1&inqryBgnDt=201312010000&inqryEndDt=201312312359&pageNo=10\n",
      "BASEPARAM_Lst 10 is empty\n",
      "BASEPARAM_Lst 10 completed\n",
      "data save compled\n",
      "BASEPARAM_Lst 24 scraping start\n",
      "http://apis.data.go.kr/1230000/BidPublicInfoService02/getBidPblancListInfoCnstwkPPSSrch?numOfRows=999&type=json&ServiceKey=h2pHFUSHMnsx%2FwJfhd%2BfyC4L0X%2Bg16L0FhJvDcos8Px4Fqttih1HONUkKXQ5ITmYlq1vjIYT8%2FG%2BtwwMfA9m8Q%3D%3D&inqryDiv=1&inqryBgnDt=201401010000&inqryEndDt=201401312359&pageNo=1\n",
      "http://apis.data.go.kr/1230000/BidPublicInfoService02/getBidPblancListInfoCnstwkPPSSrch?numOfRows=999&type=json&ServiceKey=h2pHFUSHMnsx%2FwJfhd%2BfyC4L0X%2Bg16L0FhJvDcos8Px4Fqttih1HONUkKXQ5ITmYlq1vjIYT8%2FG%2BtwwMfA9m8Q%3D%3D&inqryDiv=1&inqryBgnDt=201401010000&inqryEndDt=201401312359&pageNo=2\n",
      "http://apis.data.go.kr/1230000/BidPublicInfoService02/getBidPblancListInfoCnstwkPPSSrch?numOfRows=999&type=json&ServiceKey=h2pHFUSHMnsx%2FwJfhd%2BfyC4L0X%2Bg16L0FhJvDcos8Px4Fqttih1HONUkKXQ5ITmYlq1vjIYT8%2FG%2BtwwMfA9m8Q%3D%3D&inqryDiv=1&inqryBgnDt=201401010000&inqryEndDt=201401312359&pageNo=3\n",
      "http://apis.data.go.kr/1230000/BidPublicInfoService02/getBidPblancListInfoCnstwkPPSSrch?numOfRows=999&type=json&ServiceKey=h2pHFUSHMnsx%2FwJfhd%2BfyC4L0X%2Bg16L0FhJvDcos8Px4Fqttih1HONUkKXQ5ITmYlq1vjIYT8%2FG%2BtwwMfA9m8Q%3D%3D&inqryDiv=1&inqryBgnDt=201401010000&inqryEndDt=201401312359&pageNo=4\n",
      "http://apis.data.go.kr/1230000/BidPublicInfoService02/getBidPblancListInfoCnstwkPPSSrch?numOfRows=999&type=json&ServiceKey=h2pHFUSHMnsx%2FwJfhd%2BfyC4L0X%2Bg16L0FhJvDcos8Px4Fqttih1HONUkKXQ5ITmYlq1vjIYT8%2FG%2BtwwMfA9m8Q%3D%3D&inqryDiv=1&inqryBgnDt=201401010000&inqryEndDt=201401312359&pageNo=5\n",
      "http://apis.data.go.kr/1230000/BidPublicInfoService02/getBidPblancListInfoCnstwkPPSSrch?numOfRows=999&type=json&ServiceKey=h2pHFUSHMnsx%2FwJfhd%2BfyC4L0X%2Bg16L0FhJvDcos8Px4Fqttih1HONUkKXQ5ITmYlq1vjIYT8%2FG%2BtwwMfA9m8Q%3D%3D&inqryDiv=1&inqryBgnDt=201401010000&inqryEndDt=201401312359&pageNo=6\n",
      "BASEPARAM_Lst 6 is empty\n",
      "BASEPARAM_Lst 6 completed\n",
      "data save compled\n",
      "BASEPARAM_Lst 25 scraping start\n",
      "http://apis.data.go.kr/1230000/BidPublicInfoService02/getBidPblancListInfoCnstwkPPSSrch?numOfRows=999&type=json&ServiceKey=h2pHFUSHMnsx%2FwJfhd%2BfyC4L0X%2Bg16L0FhJvDcos8Px4Fqttih1HONUkKXQ5ITmYlq1vjIYT8%2FG%2BtwwMfA9m8Q%3D%3D&inqryDiv=1&inqryBgnDt=201402010000&inqryEndDt=201402282359&pageNo=1\n",
      "http://apis.data.go.kr/1230000/BidPublicInfoService02/getBidPblancListInfoCnstwkPPSSrch?numOfRows=999&type=json&ServiceKey=h2pHFUSHMnsx%2FwJfhd%2BfyC4L0X%2Bg16L0FhJvDcos8Px4Fqttih1HONUkKXQ5ITmYlq1vjIYT8%2FG%2BtwwMfA9m8Q%3D%3D&inqryDiv=1&inqryBgnDt=201402010000&inqryEndDt=201402282359&pageNo=2\n",
      "http://apis.data.go.kr/1230000/BidPublicInfoService02/getBidPblancListInfoCnstwkPPSSrch?numOfRows=999&type=json&ServiceKey=h2pHFUSHMnsx%2FwJfhd%2BfyC4L0X%2Bg16L0FhJvDcos8Px4Fqttih1HONUkKXQ5ITmYlq1vjIYT8%2FG%2BtwwMfA9m8Q%3D%3D&inqryDiv=1&inqryBgnDt=201402010000&inqryEndDt=201402282359&pageNo=3\n",
      "http://apis.data.go.kr/1230000/BidPublicInfoService02/getBidPblancListInfoCnstwkPPSSrch?numOfRows=999&type=json&ServiceKey=h2pHFUSHMnsx%2FwJfhd%2BfyC4L0X%2Bg16L0FhJvDcos8Px4Fqttih1HONUkKXQ5ITmYlq1vjIYT8%2FG%2BtwwMfA9m8Q%3D%3D&inqryDiv=1&inqryBgnDt=201402010000&inqryEndDt=201402282359&pageNo=4\n",
      "http://apis.data.go.kr/1230000/BidPublicInfoService02/getBidPblancListInfoCnstwkPPSSrch?numOfRows=999&type=json&ServiceKey=h2pHFUSHMnsx%2FwJfhd%2BfyC4L0X%2Bg16L0FhJvDcos8Px4Fqttih1HONUkKXQ5ITmYlq1vjIYT8%2FG%2BtwwMfA9m8Q%3D%3D&inqryDiv=1&inqryBgnDt=201402010000&inqryEndDt=201402282359&pageNo=5\n",
      "http://apis.data.go.kr/1230000/BidPublicInfoService02/getBidPblancListInfoCnstwkPPSSrch?numOfRows=999&type=json&ServiceKey=h2pHFUSHMnsx%2FwJfhd%2BfyC4L0X%2Bg16L0FhJvDcos8Px4Fqttih1HONUkKXQ5ITmYlq1vjIYT8%2FG%2BtwwMfA9m8Q%3D%3D&inqryDiv=1&inqryBgnDt=201402010000&inqryEndDt=201402282359&pageNo=6\n",
      "http://apis.data.go.kr/1230000/BidPublicInfoService02/getBidPblancListInfoCnstwkPPSSrch?numOfRows=999&type=json&ServiceKey=h2pHFUSHMnsx%2FwJfhd%2BfyC4L0X%2Bg16L0FhJvDcos8Px4Fqttih1HONUkKXQ5ITmYlq1vjIYT8%2FG%2BtwwMfA9m8Q%3D%3D&inqryDiv=1&inqryBgnDt=201402010000&inqryEndDt=201402282359&pageNo=7\n",
      "http://apis.data.go.kr/1230000/BidPublicInfoService02/getBidPblancListInfoCnstwkPPSSrch?numOfRows=999&type=json&ServiceKey=h2pHFUSHMnsx%2FwJfhd%2BfyC4L0X%2Bg16L0FhJvDcos8Px4Fqttih1HONUkKXQ5ITmYlq1vjIYT8%2FG%2BtwwMfA9m8Q%3D%3D&inqryDiv=1&inqryBgnDt=201402010000&inqryEndDt=201402282359&pageNo=8\n",
      "http://apis.data.go.kr/1230000/BidPublicInfoService02/getBidPblancListInfoCnstwkPPSSrch?numOfRows=999&type=json&ServiceKey=h2pHFUSHMnsx%2FwJfhd%2BfyC4L0X%2Bg16L0FhJvDcos8Px4Fqttih1HONUkKXQ5ITmYlq1vjIYT8%2FG%2BtwwMfA9m8Q%3D%3D&inqryDiv=1&inqryBgnDt=201402010000&inqryEndDt=201402282359&pageNo=9\n",
      "http://apis.data.go.kr/1230000/BidPublicInfoService02/getBidPblancListInfoCnstwkPPSSrch?numOfRows=999&type=json&ServiceKey=h2pHFUSHMnsx%2FwJfhd%2BfyC4L0X%2Bg16L0FhJvDcos8Px4Fqttih1HONUkKXQ5ITmYlq1vjIYT8%2FG%2BtwwMfA9m8Q%3D%3D&inqryDiv=1&inqryBgnDt=201402010000&inqryEndDt=201402282359&pageNo=10\n",
      "http://apis.data.go.kr/1230000/BidPublicInfoService02/getBidPblancListInfoCnstwkPPSSrch?numOfRows=999&type=json&ServiceKey=h2pHFUSHMnsx%2FwJfhd%2BfyC4L0X%2Bg16L0FhJvDcos8Px4Fqttih1HONUkKXQ5ITmYlq1vjIYT8%2FG%2BtwwMfA9m8Q%3D%3D&inqryDiv=1&inqryBgnDt=201402010000&inqryEndDt=201402282359&pageNo=11\n",
      "BASEPARAM_Lst 11 is empty\n",
      "BASEPARAM_Lst 11 completed\n",
      "data save compled\n",
      "BASEPARAM_Lst 26 scraping start\n",
      "http://apis.data.go.kr/1230000/BidPublicInfoService02/getBidPblancListInfoCnstwkPPSSrch?numOfRows=999&type=json&ServiceKey=h2pHFUSHMnsx%2FwJfhd%2BfyC4L0X%2Bg16L0FhJvDcos8Px4Fqttih1HONUkKXQ5ITmYlq1vjIYT8%2FG%2BtwwMfA9m8Q%3D%3D&inqryDiv=1&inqryBgnDt=201403010000&inqryEndDt=201403312359&pageNo=1\n",
      "http://apis.data.go.kr/1230000/BidPublicInfoService02/getBidPblancListInfoCnstwkPPSSrch?numOfRows=999&type=json&ServiceKey=h2pHFUSHMnsx%2FwJfhd%2BfyC4L0X%2Bg16L0FhJvDcos8Px4Fqttih1HONUkKXQ5ITmYlq1vjIYT8%2FG%2BtwwMfA9m8Q%3D%3D&inqryDiv=1&inqryBgnDt=201403010000&inqryEndDt=201403312359&pageNo=2\n",
      "http://apis.data.go.kr/1230000/BidPublicInfoService02/getBidPblancListInfoCnstwkPPSSrch?numOfRows=999&type=json&ServiceKey=h2pHFUSHMnsx%2FwJfhd%2BfyC4L0X%2Bg16L0FhJvDcos8Px4Fqttih1HONUkKXQ5ITmYlq1vjIYT8%2FG%2BtwwMfA9m8Q%3D%3D&inqryDiv=1&inqryBgnDt=201403010000&inqryEndDt=201403312359&pageNo=3\n",
      "http://apis.data.go.kr/1230000/BidPublicInfoService02/getBidPblancListInfoCnstwkPPSSrch?numOfRows=999&type=json&ServiceKey=h2pHFUSHMnsx%2FwJfhd%2BfyC4L0X%2Bg16L0FhJvDcos8Px4Fqttih1HONUkKXQ5ITmYlq1vjIYT8%2FG%2BtwwMfA9m8Q%3D%3D&inqryDiv=1&inqryBgnDt=201403010000&inqryEndDt=201403312359&pageNo=4\n",
      "http://apis.data.go.kr/1230000/BidPublicInfoService02/getBidPblancListInfoCnstwkPPSSrch?numOfRows=999&type=json&ServiceKey=h2pHFUSHMnsx%2FwJfhd%2BfyC4L0X%2Bg16L0FhJvDcos8Px4Fqttih1HONUkKXQ5ITmYlq1vjIYT8%2FG%2BtwwMfA9m8Q%3D%3D&inqryDiv=1&inqryBgnDt=201403010000&inqryEndDt=201403312359&pageNo=5\n",
      "http://apis.data.go.kr/1230000/BidPublicInfoService02/getBidPblancListInfoCnstwkPPSSrch?numOfRows=999&type=json&ServiceKey=h2pHFUSHMnsx%2FwJfhd%2BfyC4L0X%2Bg16L0FhJvDcos8Px4Fqttih1HONUkKXQ5ITmYlq1vjIYT8%2FG%2BtwwMfA9m8Q%3D%3D&inqryDiv=1&inqryBgnDt=201403010000&inqryEndDt=201403312359&pageNo=6\n",
      "http://apis.data.go.kr/1230000/BidPublicInfoService02/getBidPblancListInfoCnstwkPPSSrch?numOfRows=999&type=json&ServiceKey=h2pHFUSHMnsx%2FwJfhd%2BfyC4L0X%2Bg16L0FhJvDcos8Px4Fqttih1HONUkKXQ5ITmYlq1vjIYT8%2FG%2BtwwMfA9m8Q%3D%3D&inqryDiv=1&inqryBgnDt=201403010000&inqryEndDt=201403312359&pageNo=7\n",
      "http://apis.data.go.kr/1230000/BidPublicInfoService02/getBidPblancListInfoCnstwkPPSSrch?numOfRows=999&type=json&ServiceKey=h2pHFUSHMnsx%2FwJfhd%2BfyC4L0X%2Bg16L0FhJvDcos8Px4Fqttih1HONUkKXQ5ITmYlq1vjIYT8%2FG%2BtwwMfA9m8Q%3D%3D&inqryDiv=1&inqryBgnDt=201403010000&inqryEndDt=201403312359&pageNo=8\n",
      "http://apis.data.go.kr/1230000/BidPublicInfoService02/getBidPblancListInfoCnstwkPPSSrch?numOfRows=999&type=json&ServiceKey=h2pHFUSHMnsx%2FwJfhd%2BfyC4L0X%2Bg16L0FhJvDcos8Px4Fqttih1HONUkKXQ5ITmYlq1vjIYT8%2FG%2BtwwMfA9m8Q%3D%3D&inqryDiv=1&inqryBgnDt=201403010000&inqryEndDt=201403312359&pageNo=9\n",
      "http://apis.data.go.kr/1230000/BidPublicInfoService02/getBidPblancListInfoCnstwkPPSSrch?numOfRows=999&type=json&ServiceKey=h2pHFUSHMnsx%2FwJfhd%2BfyC4L0X%2Bg16L0FhJvDcos8Px4Fqttih1HONUkKXQ5ITmYlq1vjIYT8%2FG%2BtwwMfA9m8Q%3D%3D&inqryDiv=1&inqryBgnDt=201403010000&inqryEndDt=201403312359&pageNo=10\n",
      "http://apis.data.go.kr/1230000/BidPublicInfoService02/getBidPblancListInfoCnstwkPPSSrch?numOfRows=999&type=json&ServiceKey=h2pHFUSHMnsx%2FwJfhd%2BfyC4L0X%2Bg16L0FhJvDcos8Px4Fqttih1HONUkKXQ5ITmYlq1vjIYT8%2FG%2BtwwMfA9m8Q%3D%3D&inqryDiv=1&inqryBgnDt=201403010000&inqryEndDt=201403312359&pageNo=11\n",
      "http://apis.data.go.kr/1230000/BidPublicInfoService02/getBidPblancListInfoCnstwkPPSSrch?numOfRows=999&type=json&ServiceKey=h2pHFUSHMnsx%2FwJfhd%2BfyC4L0X%2Bg16L0FhJvDcos8Px4Fqttih1HONUkKXQ5ITmYlq1vjIYT8%2FG%2BtwwMfA9m8Q%3D%3D&inqryDiv=1&inqryBgnDt=201403010000&inqryEndDt=201403312359&pageNo=12\n"
     ]
    }
   ],
   "source": [
    "for each in ServiceKeyLst:\n",
    "    if flag:\n",
    "        print(\"수집완료\")\n",
    "        break\n",
    "    for i in range(breakPoint, len(BASEPARAM_Lst)):\n",
    "        if i == len(BASEPARAM_Lst) - 1:\n",
    "            flag = True\n",
    "        BASEPARAM_Lst[i][\"ServiceKey\"] = each\n",
    "        try:\n",
    "            print(f\"BASEPARAM_Lst {i} scraping start\")\n",
    "            resultDf = scrapy(URL,SITENAME,DATANAME,SERVICENAME,BASEPARAM_Lst[i],PAGEYN)\n",
    "            savedata(resultDf,SITENAME,DATANAME,SERVICENAME,columnNm)\n",
    "        except Exception as e:\n",
    "            print(e)\n",
    "            breakPoint = i\n",
    "            if e.args[0] == \"22\":\n",
    "                print(\"LIMITED_NUMBER_OF_SERVICE_REQUESTS_EXCEEDS_ERROR\")\n",
    "            elif e.args[0] == \"01\":\n",
    "                print(\"제공기관 서비스 제공 상태가 원활하지 않습니다.\")\n",
    "            else: print(e.args[0])\n",
    "            break"
   ]
  },
  {
   "cell_type": "code",
   "execution_count": null,
   "metadata": {
    "tags": []
   },
   "outputs": [],
   "source": [
    "print(\"종료 시점 파라미터키 : \",BASEPARAM_Lst[breakPoint])\n",
    "print(\"수집 종료 :\", time.strftime('%T', time.localtime(time.time())), time.time()-starttime)"
   ]
  }
 ],
 "metadata": {
  "kernelspec": {
   "display_name": "Python 3 (ipykernel)",
   "language": "python",
   "name": "python3"
  },
  "language_info": {
   "codemirror_mode": {
    "name": "ipython",
    "version": 3
   },
   "file_extension": ".py",
   "mimetype": "text/x-python",
   "name": "python",
   "nbconvert_exporter": "python",
   "pygments_lexer": "ipython3",
   "version": "3.9.7"
  }
 },
 "nbformat": 4,
 "nbformat_minor": 4
}
