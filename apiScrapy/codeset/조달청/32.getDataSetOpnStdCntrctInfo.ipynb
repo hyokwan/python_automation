{
 "cells": [
  {
   "cell_type": "markdown",
   "metadata": {
    "jp-MarkdownHeadingCollapsed": true,
    "tags": []
   },
   "source": [
    "# 32.데이터셋 개방표준에 따른 계약정보"
   ]
  },
  {
   "cell_type": "markdown",
   "metadata": {
    "tags": []
   },
   "source": [
    "# 1. 필요 라이브러리 선언"
   ]
  },
  {
   "cell_type": "code",
   "execution_count": 1,
   "metadata": {},
   "outputs": [],
   "source": [
    "from datetime import datetime, timedelta\n",
    "import pandas as pd\n",
    "import requests\n",
    "from lxml import html\n",
    "from bs4 import BeautifulSoup \n",
    "from urllib.request import Request, urlopen\n",
    "from urllib.parse import urlencode, quote_plus, unquote\n",
    "import os\n",
    "import time\n",
    "# from concurrent.futures import ThreadPoolExecutor\n",
    "# import concurrent.futures"
   ]
  },
  {
   "cell_type": "markdown",
   "metadata": {},
   "source": [
    "# 2. 함수 선언"
   ]
  },
  {
   "cell_type": "code",
   "execution_count": 2,
   "metadata": {
    "tags": []
   },
   "outputs": [],
   "source": [
    "### 함수정의: 시작일시(datetime 타입)를 입력 시 한달 후의 시작 및 종료일시를 반환하는 함수\n",
    "### 파마리터정의:\n",
    "###   - inDf: 시작일시 (예: datetime(2020,1,1))\n",
    "def getAfterMonthDate(inDt):\n",
    "    startYear = inDt.year\n",
    "    startMonth = inDt.month\n",
    "    endYear = inDt.year\n",
    "    endMonth = inDt.month + 1\n",
    "    if startMonth == 12:\n",
    "        startYear += 1\n",
    "        startMonth = 1\n",
    "        endYear = startYear\n",
    "        endMonth = startMonth + 1\n",
    "    elif startMonth == 11:\n",
    "        startMonth += 1\n",
    "        endYear = startYear + 1\n",
    "        endMonth = 1\n",
    "    else:\n",
    "        startMonth += 1\n",
    "        endMonth = startMonth + 1\n",
    "    outBgnDt = datetime(startYear, startMonth, inDt.day)\n",
    "    outEndDt = datetime(endYear, endMonth, inDt.day) - timedelta(seconds=1)\n",
    "    return outBgnDt, outEndDt"
   ]
  },
  {
   "cell_type": "code",
   "execution_count": 3,
   "metadata": {},
   "outputs": [],
   "source": [
    "### 함수정의: 사이트 메타정보를 받아 데이터를 수집 후 수집결과를 반환하는 함수\n",
    "### 파마리터정의: \n",
    "###   - inurl: 메타정보의 \"URL\"컬럼값 (예: https://www.calspia.go.kr/io/openapi/cm/selectIoCmConstructionList.do )\n",
    "###   - inSiteName: 메타정보의 \"자료대상\" (예: 건설사업정보시스템)\n",
    "###   - inDataName: 메타정보의 \"자료명\" (예: 공사정보 목록)\n",
    "###   - inServiceName: 메타정보의 \"서비스명\" (예: getCntrctInfoListCnstwk)\n",
    "###   - inParam: 메타정보의 \"기본키 정보\" (예: {'ServiceKey': 't1howSPLxqyKOseR6gxDm7IGYVVLGc+w3wF7N4e9ufwr2g9sttHbYCQTR4dBbiVc16v1tnmTEkn/baD6et/L6g==','type':'json',...}\")\n",
    "###   - inPageYn: 메타정보의 \"페이지 정보\" (예: 페이지 파라미터 존재 시 1 값\")\n",
    "### 함수정의: 사이트 메타정보를 받아 데이터를 수집 후 수집결과를 반환하는 함수\n",
    "def scrapy(inUrl, inSiteName, inDataName, inServiceName, inParam, inPageYn):\n",
    "    emptyPd = pd.DataFrame()\n",
    "    i=1\n",
    "    global g_totalCnt\n",
    "    while True:\n",
    "        print(f'현재 페이지 수{i}')\n",
    "        jsondata = pd.DataFrame()\n",
    "        # print(\"{} page scraping start\".format(i))\n",
    "\n",
    "        if(inPageYn==1):\n",
    "            inParam[\"pageNo\"] = i\n",
    "        queryParams = '?' + urlencode(inParam)\n",
    "        \n",
    "        response = requests.get(inUrl+queryParams)\n",
    "        \n",
    "        status_code = str(response.status_code)\n",
    "        \n",
    "        \n",
    "        if status_code != \"200\":\n",
    "            time = 0\n",
    "            while (status_code != \"200\" and time < 5):\n",
    "                time.sleep(5)\n",
    "                response = requests.get(inUrl+queryParams)\n",
    "                status_code = str(response.status_code)\n",
    "                time += 1\n",
    "        # time.sleep(0.1)\n",
    "        \n",
    "        print(inUrl+queryParams)\n",
    "        response.encoding=STDENCODING\n",
    "        \n",
    "        if response.json()[\"response\"][\"body\"][\"totalCount\"] == 0:\n",
    "            print(\"데이터 없음\")\n",
    "            break\n",
    "\n",
    "        try:\n",
    "            jsondata = response.json()[\"response\"][\"body\"][\"items\"]\n",
    "        except Exception as e:\n",
    "            print(e)\n",
    "            # if e.args[0] == 'Expecting value: line 1 column 1 (char 0)':\n",
    "            #    xmlobj = BeautifulSoup(response.text,\"lxml-xml\")\n",
    "            #    errorCode = xmlobj.find(\"returnReasonCode\").text\n",
    "                # raise Exception(errorCode)\n",
    "            a = 0\n",
    "                \n",
    "            \n",
    "\n",
    "        if( jsondata == []):\n",
    "            # print(\"{} page is empty\".format(i))\n",
    "            print(f\"BASEPARAM_Lst {i} is empty\")\n",
    "            break\n",
    "\n",
    "        rowData = pd.DataFrame(jsondata)\n",
    "#        print(rowData)\n",
    "        emptyPd = emptyPd.append(rowData)\n",
    "\n",
    "        if(inPageYn == 0):\n",
    "            print(\"{} no pageNo\".format(inPageYn))\n",
    "            break\n",
    "        i = i+1\n",
    "        g_totalCnt += 999\n",
    "        print(f'현재까지 총 데이터 건수 : {g_totalCnt}')\n",
    "\n",
    "    # print(\"dataframe {} completed\".format(inDataName))\n",
    "    print(f\"BASEPARAM_Lst {i} completed\")\n",
    "    return emptyPd"
   ]
  },
  {
   "cell_type": "code",
   "execution_count": 4,
   "metadata": {},
   "outputs": [],
   "source": [
    "### 함수정의: 데이터프레임을 Append 모드로 OUTPUT PATH에 저장하는 함수\n",
    "### 파마리터정의:  (★★TBD 추후 HDFS경로 및 메타정보로 컬럼 추가 필요!!★★)\n",
    "###   - inDf: 저장할 대상 데이터프레임\n",
    "###   - inSiteName: 메타정보의 \"자료대상\" (예: 건설사업정보시스템)\n",
    "###   - inDataName: 메타정보의 \"자료명\" (예: 공사정보 목록)\n",
    "###   - inServiceName: 메타정보의 \"서비스명\" (예: getCntrctInfoListCnstwk)\n",
    "def savedata(inDf, inSiteName, inDataName, inServiceName, incolumnNm):\n",
    "    # DATA SAVE TO THE OUTPUT PATH FOLDER\n",
    "    outDir = os.path.join(OUTPUTPATH,inSiteName)\n",
    "    outFile = os.path.join(outDir, inDataName) + \".csv\"\n",
    "    createFolder(outDir)\n",
    "    inDf.columns = incolumnNm\n",
    "    inDf.to_csv(outFile, index=False, encoding=\"ms949\", mode=\"a\")\n",
    "    print(\"data save compled\")"
   ]
  },
  {
   "cell_type": "code",
   "execution_count": 5,
   "metadata": {},
   "outputs": [],
   "source": [
    "### 함수정의: 사이트 메타정보를 받아 데이터를 수집 후 수집결과를 반환하는 함수 (★★TBD 추후 HDFS경로 및 메타정보로 컬럼 추가 필요!!★★)\n",
    "### 파마리터정의: \n",
    "###   - directory: outputpath \n",
    "def createFolder(directory):\n",
    "    try:\n",
    "        if not os.path.exists(directory):\n",
    "            os.makedirs(directory)\n",
    "    except OSError:\n",
    "        print ('Error: Creating directory. ' +  directory)"
   ]
  },
  {
   "cell_type": "markdown",
   "metadata": {},
   "source": [
    "# 3. 필요 변수 선언"
   ]
  },
  {
   "cell_type": "markdown",
   "metadata": {},
   "source": [
    "### 가) 메타데이터 업로드"
   ]
  },
  {
   "cell_type": "code",
   "execution_count": 6,
   "metadata": {},
   "outputs": [],
   "source": [
    "metadata = pd.read_excel(\"../../input/datalake_meta22.xlsx\", sheet_name=\"2. 조달청-조달정보개방포털\", dtype={\"순서\":str, \"비고\":str})"
   ]
  },
  {
   "cell_type": "markdown",
   "metadata": {},
   "source": [
    "### 나) output 폴더 생성 변수"
   ]
  },
  {
   "cell_type": "code",
   "execution_count": 7,
   "metadata": {},
   "outputs": [],
   "source": [
    "SITENAME = \"pps\""
   ]
  },
  {
   "cell_type": "code",
   "execution_count": 8,
   "metadata": {},
   "outputs": [],
   "source": [
    "DATANAME= \"데이터셋개방표준에따른계약정보\""
   ]
  },
  {
   "cell_type": "code",
   "execution_count": 9,
   "metadata": {},
   "outputs": [],
   "source": [
    "targetData = metadata.loc[metadata.자료명==DATANAME]"
   ]
  },
  {
   "cell_type": "code",
   "execution_count": 10,
   "metadata": {},
   "outputs": [],
   "source": [
    "SERVICENAME = targetData[\"서비스키\"].values[0]"
   ]
  },
  {
   "cell_type": "markdown",
   "metadata": {},
   "source": [
    "### 다) 기본키 설정 (서비스별 변경 요)"
   ]
  },
  {
   "cell_type": "markdown",
   "metadata": {},
   "source": [
    "#### 1) API KEY"
   ]
  },
  {
   "cell_type": "code",
   "execution_count": 11,
   "metadata": {},
   "outputs": [],
   "source": [
    "ServiceKeyLst = [\"hMw9eN6ZYKvMWUUvEykxVelOH07uAKhQYzFMUV5r4QpvdYgJehQANKE5bay+8Hgy660JdC9mVQCFhRKupVGwaw==\",\\\n",
    "                 \"Yc4hy9aka4aSXaZzlPFTem6eM79Fm4r2PPJXGxxYxlZVUhXWeYkFbodwmpsXrkEhqUzKYoq7hFyfx3x+MPLarA==\",\\\n",
    "                \"h2pHFUSHMnsx/wJfhd+fyC4L0X+g16L0FhJvDcos8Px4Fqttih1HONUkKXQ5ITmYlq1vjIYT8/G+twwMfA9m8Q==\",\\\n",
    "                \"gDMXFxO2+zC7ZuEFiUXl+aWOrzfRGc7F52fIwOg5cdI92qRAnlOAAcL5qdsWx46zn5jMTFiMzG/0rQ/g/k2elw==\",\\\n",
    "                \"6wr0NwD9FgzjDWjNbT4iC0RBvs7vESA5VpmfNHZWE0BHguUn6YSLbh4FJ0FpMzLsEMtCiz3WxDYI5tcxCuPcPA==\",\\\n",
    "                \"t1howSPLxqyKOseR6gxDm7IGYVVLGc+w3wF7N4e9ufwr2g9sttHbYCQTR4dBbiVc16v1tnmTEkn/baD6et/L6g==\"]"
   ]
  },
  {
   "cell_type": "markdown",
   "metadata": {},
   "source": [
    "#### 2) 조회 rows 수"
   ]
  },
  {
   "cell_type": "code",
   "execution_count": 12,
   "metadata": {},
   "outputs": [],
   "source": [
    "numOfRows = 999"
   ]
  },
  {
   "cell_type": "markdown",
   "metadata": {},
   "source": [
    "#### 5) 기본키 딕셔너리 생성"
   ]
  },
  {
   "cell_type": "code",
   "execution_count": 13,
   "metadata": {},
   "outputs": [],
   "source": [
    "BASEPARAM_KEY = targetData.기본키.values[0].split(\",\")"
   ]
  },
  {
   "cell_type": "code",
   "execution_count": 14,
   "metadata": {},
   "outputs": [],
   "source": [
    "BASEPARAM_Lst = []"
   ]
  },
  {
   "cell_type": "code",
   "execution_count": 15,
   "metadata": {},
   "outputs": [],
   "source": [
    "nowDt = datetime.now().strftime(\"%Y%m%d%H%M\")"
   ]
  },
  {
   "cell_type": "code",
   "execution_count": 16,
   "metadata": {
    "scrolled": true,
    "tags": []
   },
   "outputs": [],
   "source": [
    "BASEPARAM = {}\n",
    "BASEPARAM_VAL = [numOfRows, ServiceKeyLst[1]]\n",
    "for i in range(len(BASEPARAM_VAL)):\n",
    "    BASEPARAM[BASEPARAM_KEY[i]] = BASEPARAM_VAL[i]\n",
    "    BASEPARAM[\"type\"] = \"json\"\n",
    "BASEPARAM_Lst.append(BASEPARAM)"
   ]
  },
  {
   "cell_type": "markdown",
   "metadata": {},
   "source": [
    "### 5) 함수 파라미터 설정"
   ]
  },
  {
   "cell_type": "code",
   "execution_count": 17,
   "metadata": {
    "tags": []
   },
   "outputs": [],
   "source": [
    "URL = targetData[\"URL\"].values[0]"
   ]
  },
  {
   "cell_type": "code",
   "execution_count": 18,
   "metadata": {},
   "outputs": [],
   "source": [
    "PAGEYN=1"
   ]
  },
  {
   "cell_type": "code",
   "execution_count": 19,
   "metadata": {},
   "outputs": [],
   "source": [
    "STDENCODING='utf-8'"
   ]
  },
  {
   "cell_type": "markdown",
   "metadata": {},
   "source": [
    "### 6) OUTPUT 기본경로 설정"
   ]
  },
  {
   "cell_type": "code",
   "execution_count": 20,
   "metadata": {
    "tags": []
   },
   "outputs": [],
   "source": [
    "OUTPUTPATH=\"../../output\""
   ]
  },
  {
   "cell_type": "markdown",
   "metadata": {},
   "source": [
    "### 7) 한글컬럼명 설정"
   ]
  },
  {
   "cell_type": "code",
   "execution_count": 21,
   "metadata": {},
   "outputs": [],
   "source": [
    "columnNm = targetData.한글컬럼명.values[0].split(\",\")"
   ]
  },
  {
   "cell_type": "markdown",
   "metadata": {},
   "source": [
    "# 4. 데이터 수집"
   ]
  },
  {
   "cell_type": "code",
   "execution_count": 22,
   "metadata": {},
   "outputs": [],
   "source": [
    "filePath = os.path.join(OUTPUTPATH,SITENAME,DATANAME) + '.csv'\n",
    "\n",
    "if os.path.isfile(filePath):\n",
    "    os.remove(filePath)"
   ]
  },
  {
   "cell_type": "code",
   "execution_count": 23,
   "metadata": {},
   "outputs": [],
   "source": [
    "breakPoint = 0"
   ]
  },
  {
   "cell_type": "markdown",
   "metadata": {},
   "source": [
    "### 1) 인증키를 통한 수집"
   ]
  },
  {
   "cell_type": "code",
   "execution_count": 24,
   "metadata": {},
   "outputs": [],
   "source": [
    "flag = False"
   ]
  },
  {
   "cell_type": "code",
   "execution_count": 25,
   "metadata": {},
   "outputs": [
    {
     "name": "stdout",
     "output_type": "stream",
     "text": [
      "totalCount:36172, range:37\n"
     ]
    }
   ],
   "source": [
    "response = requests.get(\"http://apis.data.go.kr/1230000/PubDataOpnStdService/getDataSetOpnStdCntrctInfo?numOfRows=10&type=json&ServiceKey=hMw9eN6ZYKvMWUUvEykxVelOH07uAKhQYzFMUV5r4QpvdYgJehQANKE5bay%2B8Hgy660JdC9mVQCFhRKupVGwaw%3D%3D&bsnsDivCd=3&pageNo=1\")\n",
    "totalCount = response.json()[\"response\"][\"body\"][\"totalCount\"]\n",
    "ranger = totalCount//999 + 1\n",
    "print(f\"totalCount:{totalCount}, range:{ranger}\")"
   ]
  },
  {
   "cell_type": "code",
   "execution_count": 26,
   "metadata": {},
   "outputs": [],
   "source": [
    "g_totalCnt = 0\n",
    "\n",
    "tot_page = 0"
   ]
  },
  {
   "cell_type": "code",
   "execution_count": 27,
   "metadata": {
    "scrolled": true,
    "tags": []
   },
   "outputs": [
    {
     "name": "stdout",
     "output_type": "stream",
     "text": [
      "수집시작 : 11:06:08\n"
     ]
    }
   ],
   "source": [
    "starttime = time.time()\n",
    "print(\"수집시작 :\", time.strftime('%T', time.localtime(time.time())))"
   ]
  },
  {
   "cell_type": "code",
   "execution_count": 28,
   "metadata": {
    "scrolled": true,
    "tags": []
   },
   "outputs": [
    {
     "name": "stdout",
     "output_type": "stream",
     "text": [
      "scraping start\n",
      "현재 페이지 수1\n",
      "http://apis.data.go.kr/1230000/PubDataOpnStdService/getDataSetOpnStdCntrctInfo?numOfRows=999&type=json&ServiceKey=Yc4hy9aka4aSXaZzlPFTem6eM79Fm4r2PPJXGxxYxlZVUhXWeYkFbodwmpsXrkEhqUzKYoq7hFyfx3x%2BMPLarA%3D%3D&pageNo=1\n",
      "현재까지 총 데이터 건수 : 999\n",
      "현재 페이지 수2\n",
      "http://apis.data.go.kr/1230000/PubDataOpnStdService/getDataSetOpnStdCntrctInfo?numOfRows=999&type=json&ServiceKey=Yc4hy9aka4aSXaZzlPFTem6eM79Fm4r2PPJXGxxYxlZVUhXWeYkFbodwmpsXrkEhqUzKYoq7hFyfx3x%2BMPLarA%3D%3D&pageNo=2\n",
      "현재까지 총 데이터 건수 : 1998\n",
      "현재 페이지 수3\n",
      "http://apis.data.go.kr/1230000/PubDataOpnStdService/getDataSetOpnStdCntrctInfo?numOfRows=999&type=json&ServiceKey=Yc4hy9aka4aSXaZzlPFTem6eM79Fm4r2PPJXGxxYxlZVUhXWeYkFbodwmpsXrkEhqUzKYoq7hFyfx3x%2BMPLarA%3D%3D&pageNo=3\n",
      "현재까지 총 데이터 건수 : 2997\n",
      "현재 페이지 수4\n",
      "http://apis.data.go.kr/1230000/PubDataOpnStdService/getDataSetOpnStdCntrctInfo?numOfRows=999&type=json&ServiceKey=Yc4hy9aka4aSXaZzlPFTem6eM79Fm4r2PPJXGxxYxlZVUhXWeYkFbodwmpsXrkEhqUzKYoq7hFyfx3x%2BMPLarA%3D%3D&pageNo=4\n",
      "현재까지 총 데이터 건수 : 3996\n",
      "현재 페이지 수5\n",
      "http://apis.data.go.kr/1230000/PubDataOpnStdService/getDataSetOpnStdCntrctInfo?numOfRows=999&type=json&ServiceKey=Yc4hy9aka4aSXaZzlPFTem6eM79Fm4r2PPJXGxxYxlZVUhXWeYkFbodwmpsXrkEhqUzKYoq7hFyfx3x%2BMPLarA%3D%3D&pageNo=5\n",
      "현재까지 총 데이터 건수 : 4995\n",
      "현재 페이지 수6\n",
      "http://apis.data.go.kr/1230000/PubDataOpnStdService/getDataSetOpnStdCntrctInfo?numOfRows=999&type=json&ServiceKey=Yc4hy9aka4aSXaZzlPFTem6eM79Fm4r2PPJXGxxYxlZVUhXWeYkFbodwmpsXrkEhqUzKYoq7hFyfx3x%2BMPLarA%3D%3D&pageNo=6\n",
      "현재까지 총 데이터 건수 : 5994\n",
      "현재 페이지 수7\n",
      "http://apis.data.go.kr/1230000/PubDataOpnStdService/getDataSetOpnStdCntrctInfo?numOfRows=999&type=json&ServiceKey=Yc4hy9aka4aSXaZzlPFTem6eM79Fm4r2PPJXGxxYxlZVUhXWeYkFbodwmpsXrkEhqUzKYoq7hFyfx3x%2BMPLarA%3D%3D&pageNo=7\n",
      "현재까지 총 데이터 건수 : 6993\n",
      "현재 페이지 수8\n",
      "http://apis.data.go.kr/1230000/PubDataOpnStdService/getDataSetOpnStdCntrctInfo?numOfRows=999&type=json&ServiceKey=Yc4hy9aka4aSXaZzlPFTem6eM79Fm4r2PPJXGxxYxlZVUhXWeYkFbodwmpsXrkEhqUzKYoq7hFyfx3x%2BMPLarA%3D%3D&pageNo=8\n",
      "현재까지 총 데이터 건수 : 7992\n",
      "현재 페이지 수9\n",
      "http://apis.data.go.kr/1230000/PubDataOpnStdService/getDataSetOpnStdCntrctInfo?numOfRows=999&type=json&ServiceKey=Yc4hy9aka4aSXaZzlPFTem6eM79Fm4r2PPJXGxxYxlZVUhXWeYkFbodwmpsXrkEhqUzKYoq7hFyfx3x%2BMPLarA%3D%3D&pageNo=9\n",
      "현재까지 총 데이터 건수 : 8991\n",
      "현재 페이지 수10\n",
      "http://apis.data.go.kr/1230000/PubDataOpnStdService/getDataSetOpnStdCntrctInfo?numOfRows=999&type=json&ServiceKey=Yc4hy9aka4aSXaZzlPFTem6eM79Fm4r2PPJXGxxYxlZVUhXWeYkFbodwmpsXrkEhqUzKYoq7hFyfx3x%2BMPLarA%3D%3D&pageNo=10\n",
      "현재까지 총 데이터 건수 : 9990\n",
      "현재 페이지 수11\n",
      "http://apis.data.go.kr/1230000/PubDataOpnStdService/getDataSetOpnStdCntrctInfo?numOfRows=999&type=json&ServiceKey=Yc4hy9aka4aSXaZzlPFTem6eM79Fm4r2PPJXGxxYxlZVUhXWeYkFbodwmpsXrkEhqUzKYoq7hFyfx3x%2BMPLarA%3D%3D&pageNo=11\n",
      "현재까지 총 데이터 건수 : 10989\n",
      "현재 페이지 수12\n",
      "http://apis.data.go.kr/1230000/PubDataOpnStdService/getDataSetOpnStdCntrctInfo?numOfRows=999&type=json&ServiceKey=Yc4hy9aka4aSXaZzlPFTem6eM79Fm4r2PPJXGxxYxlZVUhXWeYkFbodwmpsXrkEhqUzKYoq7hFyfx3x%2BMPLarA%3D%3D&pageNo=12\n",
      "현재까지 총 데이터 건수 : 11988\n",
      "현재 페이지 수13\n",
      "http://apis.data.go.kr/1230000/PubDataOpnStdService/getDataSetOpnStdCntrctInfo?numOfRows=999&type=json&ServiceKey=Yc4hy9aka4aSXaZzlPFTem6eM79Fm4r2PPJXGxxYxlZVUhXWeYkFbodwmpsXrkEhqUzKYoq7hFyfx3x%2BMPLarA%3D%3D&pageNo=13\n",
      "현재까지 총 데이터 건수 : 12987\n",
      "현재 페이지 수14\n",
      "http://apis.data.go.kr/1230000/PubDataOpnStdService/getDataSetOpnStdCntrctInfo?numOfRows=999&type=json&ServiceKey=Yc4hy9aka4aSXaZzlPFTem6eM79Fm4r2PPJXGxxYxlZVUhXWeYkFbodwmpsXrkEhqUzKYoq7hFyfx3x%2BMPLarA%3D%3D&pageNo=14\n",
      "현재까지 총 데이터 건수 : 13986\n",
      "현재 페이지 수15\n",
      "http://apis.data.go.kr/1230000/PubDataOpnStdService/getDataSetOpnStdCntrctInfo?numOfRows=999&type=json&ServiceKey=Yc4hy9aka4aSXaZzlPFTem6eM79Fm4r2PPJXGxxYxlZVUhXWeYkFbodwmpsXrkEhqUzKYoq7hFyfx3x%2BMPLarA%3D%3D&pageNo=15\n",
      "현재까지 총 데이터 건수 : 14985\n",
      "현재 페이지 수16\n",
      "http://apis.data.go.kr/1230000/PubDataOpnStdService/getDataSetOpnStdCntrctInfo?numOfRows=999&type=json&ServiceKey=Yc4hy9aka4aSXaZzlPFTem6eM79Fm4r2PPJXGxxYxlZVUhXWeYkFbodwmpsXrkEhqUzKYoq7hFyfx3x%2BMPLarA%3D%3D&pageNo=16\n",
      "현재까지 총 데이터 건수 : 15984\n",
      "현재 페이지 수17\n",
      "http://apis.data.go.kr/1230000/PubDataOpnStdService/getDataSetOpnStdCntrctInfo?numOfRows=999&type=json&ServiceKey=Yc4hy9aka4aSXaZzlPFTem6eM79Fm4r2PPJXGxxYxlZVUhXWeYkFbodwmpsXrkEhqUzKYoq7hFyfx3x%2BMPLarA%3D%3D&pageNo=17\n",
      "현재까지 총 데이터 건수 : 16983\n",
      "현재 페이지 수18\n",
      "http://apis.data.go.kr/1230000/PubDataOpnStdService/getDataSetOpnStdCntrctInfo?numOfRows=999&type=json&ServiceKey=Yc4hy9aka4aSXaZzlPFTem6eM79Fm4r2PPJXGxxYxlZVUhXWeYkFbodwmpsXrkEhqUzKYoq7hFyfx3x%2BMPLarA%3D%3D&pageNo=18\n",
      "현재까지 총 데이터 건수 : 17982\n",
      "현재 페이지 수19\n",
      "http://apis.data.go.kr/1230000/PubDataOpnStdService/getDataSetOpnStdCntrctInfo?numOfRows=999&type=json&ServiceKey=Yc4hy9aka4aSXaZzlPFTem6eM79Fm4r2PPJXGxxYxlZVUhXWeYkFbodwmpsXrkEhqUzKYoq7hFyfx3x%2BMPLarA%3D%3D&pageNo=19\n",
      "현재까지 총 데이터 건수 : 18981\n",
      "현재 페이지 수20\n",
      "http://apis.data.go.kr/1230000/PubDataOpnStdService/getDataSetOpnStdCntrctInfo?numOfRows=999&type=json&ServiceKey=Yc4hy9aka4aSXaZzlPFTem6eM79Fm4r2PPJXGxxYxlZVUhXWeYkFbodwmpsXrkEhqUzKYoq7hFyfx3x%2BMPLarA%3D%3D&pageNo=20\n",
      "현재까지 총 데이터 건수 : 19980\n",
      "현재 페이지 수21\n",
      "http://apis.data.go.kr/1230000/PubDataOpnStdService/getDataSetOpnStdCntrctInfo?numOfRows=999&type=json&ServiceKey=Yc4hy9aka4aSXaZzlPFTem6eM79Fm4r2PPJXGxxYxlZVUhXWeYkFbodwmpsXrkEhqUzKYoq7hFyfx3x%2BMPLarA%3D%3D&pageNo=21\n",
      "현재까지 총 데이터 건수 : 20979\n",
      "현재 페이지 수22\n",
      "http://apis.data.go.kr/1230000/PubDataOpnStdService/getDataSetOpnStdCntrctInfo?numOfRows=999&type=json&ServiceKey=Yc4hy9aka4aSXaZzlPFTem6eM79Fm4r2PPJXGxxYxlZVUhXWeYkFbodwmpsXrkEhqUzKYoq7hFyfx3x%2BMPLarA%3D%3D&pageNo=22\n",
      "현재까지 총 데이터 건수 : 21978\n",
      "현재 페이지 수23\n",
      "http://apis.data.go.kr/1230000/PubDataOpnStdService/getDataSetOpnStdCntrctInfo?numOfRows=999&type=json&ServiceKey=Yc4hy9aka4aSXaZzlPFTem6eM79Fm4r2PPJXGxxYxlZVUhXWeYkFbodwmpsXrkEhqUzKYoq7hFyfx3x%2BMPLarA%3D%3D&pageNo=23\n",
      "현재까지 총 데이터 건수 : 22977\n",
      "현재 페이지 수24\n",
      "http://apis.data.go.kr/1230000/PubDataOpnStdService/getDataSetOpnStdCntrctInfo?numOfRows=999&type=json&ServiceKey=Yc4hy9aka4aSXaZzlPFTem6eM79Fm4r2PPJXGxxYxlZVUhXWeYkFbodwmpsXrkEhqUzKYoq7hFyfx3x%2BMPLarA%3D%3D&pageNo=24\n",
      "현재까지 총 데이터 건수 : 23976\n",
      "현재 페이지 수25\n",
      "http://apis.data.go.kr/1230000/PubDataOpnStdService/getDataSetOpnStdCntrctInfo?numOfRows=999&type=json&ServiceKey=Yc4hy9aka4aSXaZzlPFTem6eM79Fm4r2PPJXGxxYxlZVUhXWeYkFbodwmpsXrkEhqUzKYoq7hFyfx3x%2BMPLarA%3D%3D&pageNo=25\n",
      "현재까지 총 데이터 건수 : 24975\n",
      "현재 페이지 수26\n",
      "http://apis.data.go.kr/1230000/PubDataOpnStdService/getDataSetOpnStdCntrctInfo?numOfRows=999&type=json&ServiceKey=Yc4hy9aka4aSXaZzlPFTem6eM79Fm4r2PPJXGxxYxlZVUhXWeYkFbodwmpsXrkEhqUzKYoq7hFyfx3x%2BMPLarA%3D%3D&pageNo=26\n",
      "현재까지 총 데이터 건수 : 25974\n",
      "현재 페이지 수27\n",
      "http://apis.data.go.kr/1230000/PubDataOpnStdService/getDataSetOpnStdCntrctInfo?numOfRows=999&type=json&ServiceKey=Yc4hy9aka4aSXaZzlPFTem6eM79Fm4r2PPJXGxxYxlZVUhXWeYkFbodwmpsXrkEhqUzKYoq7hFyfx3x%2BMPLarA%3D%3D&pageNo=27\n",
      "현재까지 총 데이터 건수 : 26973\n",
      "현재 페이지 수28\n",
      "http://apis.data.go.kr/1230000/PubDataOpnStdService/getDataSetOpnStdCntrctInfo?numOfRows=999&type=json&ServiceKey=Yc4hy9aka4aSXaZzlPFTem6eM79Fm4r2PPJXGxxYxlZVUhXWeYkFbodwmpsXrkEhqUzKYoq7hFyfx3x%2BMPLarA%3D%3D&pageNo=28\n",
      "현재까지 총 데이터 건수 : 27972\n",
      "현재 페이지 수29\n",
      "http://apis.data.go.kr/1230000/PubDataOpnStdService/getDataSetOpnStdCntrctInfo?numOfRows=999&type=json&ServiceKey=Yc4hy9aka4aSXaZzlPFTem6eM79Fm4r2PPJXGxxYxlZVUhXWeYkFbodwmpsXrkEhqUzKYoq7hFyfx3x%2BMPLarA%3D%3D&pageNo=29\n",
      "현재까지 총 데이터 건수 : 28971\n",
      "현재 페이지 수30\n",
      "http://apis.data.go.kr/1230000/PubDataOpnStdService/getDataSetOpnStdCntrctInfo?numOfRows=999&type=json&ServiceKey=Yc4hy9aka4aSXaZzlPFTem6eM79Fm4r2PPJXGxxYxlZVUhXWeYkFbodwmpsXrkEhqUzKYoq7hFyfx3x%2BMPLarA%3D%3D&pageNo=30\n",
      "현재까지 총 데이터 건수 : 29970\n",
      "현재 페이지 수31\n",
      "http://apis.data.go.kr/1230000/PubDataOpnStdService/getDataSetOpnStdCntrctInfo?numOfRows=999&type=json&ServiceKey=Yc4hy9aka4aSXaZzlPFTem6eM79Fm4r2PPJXGxxYxlZVUhXWeYkFbodwmpsXrkEhqUzKYoq7hFyfx3x%2BMPLarA%3D%3D&pageNo=31\n",
      "현재까지 총 데이터 건수 : 30969\n",
      "현재 페이지 수32\n",
      "http://apis.data.go.kr/1230000/PubDataOpnStdService/getDataSetOpnStdCntrctInfo?numOfRows=999&type=json&ServiceKey=Yc4hy9aka4aSXaZzlPFTem6eM79Fm4r2PPJXGxxYxlZVUhXWeYkFbodwmpsXrkEhqUzKYoq7hFyfx3x%2BMPLarA%3D%3D&pageNo=32\n",
      "현재까지 총 데이터 건수 : 31968\n",
      "현재 페이지 수33\n",
      "http://apis.data.go.kr/1230000/PubDataOpnStdService/getDataSetOpnStdCntrctInfo?numOfRows=999&type=json&ServiceKey=Yc4hy9aka4aSXaZzlPFTem6eM79Fm4r2PPJXGxxYxlZVUhXWeYkFbodwmpsXrkEhqUzKYoq7hFyfx3x%2BMPLarA%3D%3D&pageNo=33\n",
      "현재까지 총 데이터 건수 : 32967\n",
      "현재 페이지 수34\n",
      "http://apis.data.go.kr/1230000/PubDataOpnStdService/getDataSetOpnStdCntrctInfo?numOfRows=999&type=json&ServiceKey=Yc4hy9aka4aSXaZzlPFTem6eM79Fm4r2PPJXGxxYxlZVUhXWeYkFbodwmpsXrkEhqUzKYoq7hFyfx3x%2BMPLarA%3D%3D&pageNo=34\n",
      "현재까지 총 데이터 건수 : 33966\n",
      "현재 페이지 수35\n",
      "http://apis.data.go.kr/1230000/PubDataOpnStdService/getDataSetOpnStdCntrctInfo?numOfRows=999&type=json&ServiceKey=Yc4hy9aka4aSXaZzlPFTem6eM79Fm4r2PPJXGxxYxlZVUhXWeYkFbodwmpsXrkEhqUzKYoq7hFyfx3x%2BMPLarA%3D%3D&pageNo=35\n",
      "현재까지 총 데이터 건수 : 34965\n",
      "현재 페이지 수36\n",
      "http://apis.data.go.kr/1230000/PubDataOpnStdService/getDataSetOpnStdCntrctInfo?numOfRows=999&type=json&ServiceKey=Yc4hy9aka4aSXaZzlPFTem6eM79Fm4r2PPJXGxxYxlZVUhXWeYkFbodwmpsXrkEhqUzKYoq7hFyfx3x%2BMPLarA%3D%3D&pageNo=36\n",
      "현재까지 총 데이터 건수 : 35964\n",
      "현재 페이지 수37\n",
      "http://apis.data.go.kr/1230000/PubDataOpnStdService/getDataSetOpnStdCntrctInfo?numOfRows=999&type=json&ServiceKey=Yc4hy9aka4aSXaZzlPFTem6eM79Fm4r2PPJXGxxYxlZVUhXWeYkFbodwmpsXrkEhqUzKYoq7hFyfx3x%2BMPLarA%3D%3D&pageNo=37\n",
      "현재까지 총 데이터 건수 : 36963\n",
      "현재 페이지 수38\n",
      "http://apis.data.go.kr/1230000/PubDataOpnStdService/getDataSetOpnStdCntrctInfo?numOfRows=999&type=json&ServiceKey=Yc4hy9aka4aSXaZzlPFTem6eM79Fm4r2PPJXGxxYxlZVUhXWeYkFbodwmpsXrkEhqUzKYoq7hFyfx3x%2BMPLarA%3D%3D&pageNo=38\n",
      "BASEPARAM_Lst 38 is empty\n",
      "BASEPARAM_Lst 38 completed\n",
      "data save compled\n"
     ]
    }
   ],
   "source": [
    "try:\n",
    "    print(f\"scraping start\")\n",
    "    resultDf = scrapy(URL,SITENAME,DATANAME,SERVICENAME,BASEPARAM_Lst[0],PAGEYN)\n",
    "    savedata(resultDf,SITENAME,DATANAME,SERVICENAME,columnNm)\n",
    "except Exception as e:\n",
    "    print(e)\n",
    "    # if e.args[0] == \"22\":\n",
    "        # print(\"LIMITED_NUMBER_OF_SERVICE_REQUESTS_EXCEEDS_ERROR\")\n",
    "    # elif e.args[0] == \"01\":\n",
    "    # else: print(e.args[0])"
   ]
  },
  {
   "cell_type": "code",
   "execution_count": 29,
   "metadata": {
    "tags": []
   },
   "outputs": [
    {
     "name": "stdout",
     "output_type": "stream",
     "text": [
      "수집 종료 : 11:08:36 148.75072360038757\n"
     ]
    }
   ],
   "source": [
    "# print(\"종료 시점 파라미터키 : \",BASEPARAM_Lst[breakPoint])\n",
    "print(\"수집 종료 :\", time.strftime('%T', time.localtime(time.time())), time.time()-starttime)"
   ]
  }
 ],
 "metadata": {
  "kernelspec": {
   "display_name": "Python 3 (ipykernel)",
   "language": "python",
   "name": "python3"
  },
  "language_info": {
   "codemirror_mode": {
    "name": "ipython",
    "version": 3
   },
   "file_extension": ".py",
   "mimetype": "text/x-python",
   "name": "python",
   "nbconvert_exporter": "python",
   "pygments_lexer": "ipython3",
   "version": "3.9.7"
  }
 },
 "nbformat": 4,
 "nbformat_minor": 4
}
