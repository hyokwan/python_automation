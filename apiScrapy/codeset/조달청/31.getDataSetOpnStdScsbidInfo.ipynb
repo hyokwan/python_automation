{
 "cells": [
  {
   "cell_type": "markdown",
   "metadata": {
    "jp-MarkdownHeadingCollapsed": true,
    "tags": []
   },
   "source": [
    "# 31.데이터셋 개방표준에 따른 낙찰정보"
   ]
  },
  {
   "cell_type": "markdown",
   "metadata": {
    "tags": []
   },
   "source": [
    "# 1. 필요 라이브러리 선언"
   ]
  },
  {
   "cell_type": "code",
   "execution_count": 1,
   "metadata": {},
   "outputs": [],
   "source": [
    "from datetime import datetime, timedelta\n",
    "import pandas as pd\n",
    "import requests\n",
    "from lxml import html\n",
    "from bs4 import BeautifulSoup \n",
    "from urllib.request import Request, urlopen\n",
    "from urllib.parse import urlencode, quote_plus, unquote\n",
    "import os\n",
    "import time\n",
    "# from concurrent.futures import ThreadPoolExecutor\n",
    "# import concurrent.futures"
   ]
  },
  {
   "cell_type": "markdown",
   "metadata": {},
   "source": [
    "# 2. 함수 선언"
   ]
  },
  {
   "cell_type": "code",
   "execution_count": 2,
   "metadata": {
    "tags": []
   },
   "outputs": [],
   "source": [
    "### 함수정의: 시작일시(datetime 타입)를 입력 시 한달 후의 시작 및 종료일시를 반환하는 함수\n",
    "### 파마리터정의:\n",
    "###   - inDf: 시작일시 (예: datetime(2020,1,1))\n",
    "def getAfterMonthDate(inDt):\n",
    "    startYear = inDt.year\n",
    "    startMonth = inDt.month\n",
    "    endYear = inDt.year\n",
    "    endMonth = inDt.month + 1\n",
    "    if startMonth == 12:\n",
    "        startYear += 1\n",
    "        startMonth = 1\n",
    "        endYear = startYear\n",
    "        endMonth = startMonth + 1\n",
    "    elif startMonth == 11:\n",
    "        startMonth += 1\n",
    "        endYear = startYear + 1\n",
    "        endMonth = 1\n",
    "    else:\n",
    "        startMonth += 1\n",
    "        endMonth = startMonth + 1\n",
    "    outBgnDt = datetime(startYear, startMonth, inDt.day)\n",
    "    outEndDt = datetime(endYear, endMonth, inDt.day) - timedelta(seconds=1)\n",
    "    return outBgnDt, outEndDt"
   ]
  },
  {
   "cell_type": "code",
   "execution_count": 3,
   "metadata": {},
   "outputs": [],
   "source": [
    "### 함수정의: 사이트 메타정보를 받아 데이터를 수집 후 수집결과를 반환하는 함수\n",
    "### 파마리터정의: \n",
    "###   - inurl: 메타정보의 \"URL\"컬럼값 (예: https://www.calspia.go.kr/io/openapi/cm/selectIoCmConstructionList.do )\n",
    "###   - inSiteName: 메타정보의 \"자료대상\" (예: 건설사업정보시스템)\n",
    "###   - inDataName: 메타정보의 \"자료명\" (예: 공사정보 목록)\n",
    "###   - inServiceName: 메타정보의 \"서비스명\" (예: getCntrctInfoListCnstwk)\n",
    "###   - inParam: 메타정보의 \"기본키 정보\" (예: {'ServiceKey': 't1howSPLxqyKOseR6gxDm7IGYVVLGc+w3wF7N4e9ufwr2g9sttHbYCQTR4dBbiVc16v1tnmTEkn/baD6et/L6g==','type':'json',...}\")\n",
    "###   - inPageYn: 메타정보의 \"페이지 정보\" (예: 페이지 파라미터 존재 시 1 값\")\n",
    "### 함수정의: 사이트 메타정보를 받아 데이터를 수집 후 수집결과를 반환하는 함수\n",
    "def scrapy(inUrl, inSiteName, inDataName, inServiceName, inParam, inPageYn):\n",
    "    emptyPd = pd.DataFrame()\n",
    "    i=1\n",
    "    while True:\n",
    "        jsondata = pd.DataFrame()\n",
    "        # print(\"{} page scraping start\".format(i))\n",
    "\n",
    "        if(inPageYn==1):\n",
    "            inParam[\"pageNo\"] = i\n",
    "        queryParams = '?' + urlencode(inParam)\n",
    "\n",
    "        response = requests.get(inUrl+queryParams)\n",
    "        \n",
    "        # time.sleep(0.1)\n",
    "        \n",
    "        print(inUrl+queryParams)\n",
    "        response.encoding=STDENCODING\n",
    "        \n",
    "        if response.json()[\"response\"][\"body\"][\"totalCount\"] == 0:\n",
    "            print(\"데이터 없음\")\n",
    "            break\n",
    "\n",
    "        try:\n",
    "            jsondata = response.json()[\"response\"][\"body\"][\"items\"]\n",
    "        except Exception as e:\n",
    "            if e.args[0] == 'Expecting value: line 1 column 1 (char 0)':\n",
    "                xmlobj = BeautifulSoup(response.text,\"lxml-xml\")\n",
    "                errorCode = xmlobj.find(\"returnReasonCode\").text\n",
    "                raise Exception(errorCode)\n",
    "\n",
    "        if( jsondata == []):\n",
    "            # print(\"{} page is empty\".format(i))\n",
    "            print(f\"BASEPARAM_Lst {i} is empty\")\n",
    "            break\n",
    "\n",
    "        rowData = pd.DataFrame(jsondata)\n",
    "#        print(rowData)\n",
    "        emptyPd = emptyPd.append(rowData)\n",
    "\n",
    "        if(inPageYn == 0):\n",
    "            print(\"{} no pageNo\".format(inPageYn))\n",
    "            break\n",
    "        i = i+1\n",
    "\n",
    "    # print(\"dataframe {} completed\".format(inDataName))\n",
    "    print(f\"BASEPARAM_Lst {i} completed\")\n",
    "    return emptyPd "
   ]
  },
  {
   "cell_type": "code",
   "execution_count": 4,
   "metadata": {},
   "outputs": [],
   "source": [
    "### 함수정의: 데이터프레임을 Append 모드로 OUTPUT PATH에 저장하는 함수\n",
    "### 파마리터정의:  (★★TBD 추후 HDFS경로 및 메타정보로 컬럼 추가 필요!!★★)\n",
    "###   - inDf: 저장할 대상 데이터프레임\n",
    "###   - inSiteName: 메타정보의 \"자료대상\" (예: 건설사업정보시스템)\n",
    "###   - inDataName: 메타정보의 \"자료명\" (예: 공사정보 목록)\n",
    "###   - inServiceName: 메타정보의 \"서비스명\" (예: getCntrctInfoListCnstwk)\n",
    "def savedata(inDf, inSiteName, inDataName, inServiceName, incolumnNm):\n",
    "    # DATA SAVE TO THE OUTPUT PATH FOLDER\n",
    "    outDir = os.path.join(OUTPUTPATH,inSiteName)\n",
    "    outFile = os.path.join(outDir, inDataName) + \".csv\"\n",
    "    createFolder(outDir)\n",
    "    inDf.columns = incolumnNm\n",
    "    inDf.to_csv(outFile, index=False, encoding=\"ms949\", mode=\"a\")\n",
    "    print(\"data save compled\")"
   ]
  },
  {
   "cell_type": "code",
   "execution_count": 5,
   "metadata": {},
   "outputs": [],
   "source": [
    "### 함수정의: 사이트 메타정보를 받아 데이터를 수집 후 수집결과를 반환하는 함수 (★★TBD 추후 HDFS경로 및 메타정보로 컬럼 추가 필요!!★★)\n",
    "### 파마리터정의: \n",
    "###   - directory: outputpath \n",
    "def createFolder(directory):\n",
    "    try:\n",
    "        if not os.path.exists(directory):\n",
    "            os.makedirs(directory)\n",
    "    except OSError:\n",
    "        print ('Error: Creating directory. ' +  directory)"
   ]
  },
  {
   "cell_type": "markdown",
   "metadata": {},
   "source": [
    "# 3. 필요 변수 선언"
   ]
  },
  {
   "cell_type": "markdown",
   "metadata": {},
   "source": [
    "### 가) 메타데이터 업로드"
   ]
  },
  {
   "cell_type": "code",
   "execution_count": 6,
   "metadata": {},
   "outputs": [],
   "source": [
    "metadata = pd.read_excel(\"../../input/datalake_meta22.xlsx\", sheet_name=\"2. 조달청-조달정보개방포털\", dtype={\"순서\":str, \"비고\":str})"
   ]
  },
  {
   "cell_type": "markdown",
   "metadata": {},
   "source": [
    "### 나) output 폴더 생성 변수"
   ]
  },
  {
   "cell_type": "code",
   "execution_count": 7,
   "metadata": {},
   "outputs": [],
   "source": [
    "SITENAME = \"pps\""
   ]
  },
  {
   "cell_type": "code",
   "execution_count": 8,
   "metadata": {},
   "outputs": [],
   "source": [
    "DATANAME= \"데이터셋개방표준에따른낙찰정보\""
   ]
  },
  {
   "cell_type": "code",
   "execution_count": 9,
   "metadata": {},
   "outputs": [],
   "source": [
    "targetData = metadata.loc[metadata.자료명==DATANAME]"
   ]
  },
  {
   "cell_type": "code",
   "execution_count": 10,
   "metadata": {},
   "outputs": [],
   "source": [
    "SERVICENAME = targetData[\"서비스키\"].values[0]"
   ]
  },
  {
   "cell_type": "markdown",
   "metadata": {},
   "source": [
    "### 다) 기본키 설정 (서비스별 변경 요)"
   ]
  },
  {
   "cell_type": "markdown",
   "metadata": {},
   "source": [
    "#### 1) API KEY"
   ]
  },
  {
   "cell_type": "code",
   "execution_count": 11,
   "metadata": {},
   "outputs": [],
   "source": [
    "ServiceKeyLst = [\"hMw9eN6ZYKvMWUUvEykxVelOH07uAKhQYzFMUV5r4QpvdYgJehQANKE5bay+8Hgy660JdC9mVQCFhRKupVGwaw==\",\\\n",
    "                 \"Yc4hy9aka4aSXaZzlPFTem6eM79Fm4r2PPJXGxxYxlZVUhXWeYkFbodwmpsXrkEhqUzKYoq7hFyfx3x+MPLarA==\",\\\n",
    "                \"h2pHFUSHMnsx/wJfhd+fyC4L0X+g16L0FhJvDcos8Px4Fqttih1HONUkKXQ5ITmYlq1vjIYT8/G+twwMfA9m8Q==\",\\\n",
    "                \"gDMXFxO2+zC7ZuEFiUXl+aWOrzfRGc7F52fIwOg5cdI92qRAnlOAAcL5qdsWx46zn5jMTFiMzG/0rQ/g/k2elw==\",\\\n",
    "                \"6wr0NwD9FgzjDWjNbT4iC0RBvs7vESA5VpmfNHZWE0BHguUn6YSLbh4FJ0FpMzLsEMtCiz3WxDYI5tcxCuPcPA==\",\\\n",
    "                \"t1howSPLxqyKOseR6gxDm7IGYVVLGc+w3wF7N4e9ufwr2g9sttHbYCQTR4dBbiVc16v1tnmTEkn/baD6et/L6g==\"]"
   ]
  },
  {
   "cell_type": "markdown",
   "metadata": {},
   "source": [
    "#### 2) 업무구분코드"
   ]
  },
  {
   "cell_type": "code",
   "execution_count": 12,
   "metadata": {},
   "outputs": [],
   "source": [
    "bsnsDivCd = 3"
   ]
  },
  {
   "cell_type": "markdown",
   "metadata": {},
   "source": [
    "#### 3) 등록일시 기준 조회 시작일자 및 종료일자"
   ]
  },
  {
   "cell_type": "code",
   "execution_count": 13,
   "metadata": {},
   "outputs": [],
   "source": [
    "startYear, startMonth, startDay = 2012, 1, 1\n",
    "bgnDt = datetime(startYear, startMonth, startDay)\n",
    "endDt = datetime(startYear, startMonth + 1, startDay) - timedelta(seconds=1)"
   ]
  },
  {
   "cell_type": "markdown",
   "metadata": {},
   "source": [
    "#### 4) 조회 rows 수"
   ]
  },
  {
   "cell_type": "code",
   "execution_count": 14,
   "metadata": {},
   "outputs": [],
   "source": [
    "numOfRows = 999"
   ]
  },
  {
   "cell_type": "markdown",
   "metadata": {},
   "source": [
    "#### 5) 기본키 딕셔너리 생성"
   ]
  },
  {
   "cell_type": "code",
   "execution_count": 15,
   "metadata": {},
   "outputs": [],
   "source": [
    "BASEPARAM_KEY = targetData.기본키.values[0].split(\",\")"
   ]
  },
  {
   "cell_type": "code",
   "execution_count": 16,
   "metadata": {},
   "outputs": [],
   "source": [
    "BASEPARAM_Lst = []"
   ]
  },
  {
   "cell_type": "code",
   "execution_count": 17,
   "metadata": {},
   "outputs": [],
   "source": [
    "nowDt = datetime.now().strftime(\"%Y%m%d%H%M\")"
   ]
  },
  {
   "cell_type": "code",
   "execution_count": 18,
   "metadata": {
    "scrolled": true
   },
   "outputs": [],
   "source": [
    "while True:\n",
    "    inqryBgnDt = bgnDt.strftime(\"%Y%m%d%H%M\")\n",
    "    inqryEndDt = endDt.strftime(\"%Y%m%d%H%M\")\n",
    "    if inqryBgnDt > nowDt:\n",
    "        break\n",
    "    BASEPARAM = {}\n",
    "    BASEPARAM_VAL = [numOfRows, ServiceKeyLst[0], bsnsDivCd]\n",
    "    for i in range(len(BASEPARAM_VAL)):\n",
    "        BASEPARAM[BASEPARAM_KEY[i]] = BASEPARAM_VAL[i]\n",
    "        BASEPARAM[\"type\"] = \"json\"\n",
    "    BASEPARAM_Lst.append(BASEPARAM)\n",
    "    bgnDt, endDt = getAfterMonthDate(bgnDt)"
   ]
  },
  {
   "cell_type": "markdown",
   "metadata": {},
   "source": [
    "### 5) 함수 파라미터 설정"
   ]
  },
  {
   "cell_type": "code",
   "execution_count": 19,
   "metadata": {
    "tags": []
   },
   "outputs": [],
   "source": [
    "URL = targetData[\"URL\"].values[0]"
   ]
  },
  {
   "cell_type": "code",
   "execution_count": 20,
   "metadata": {},
   "outputs": [],
   "source": [
    "PAGEYN=1"
   ]
  },
  {
   "cell_type": "code",
   "execution_count": 21,
   "metadata": {},
   "outputs": [],
   "source": [
    "STDENCODING='utf-8'"
   ]
  },
  {
   "cell_type": "markdown",
   "metadata": {},
   "source": [
    "### 6) OUTPUT 기본경로 설정"
   ]
  },
  {
   "cell_type": "code",
   "execution_count": 22,
   "metadata": {
    "tags": []
   },
   "outputs": [],
   "source": [
    "OUTPUTPATH=\"../../output\""
   ]
  },
  {
   "cell_type": "markdown",
   "metadata": {},
   "source": [
    "### 7) 한글컬럼명 설정"
   ]
  },
  {
   "cell_type": "code",
   "execution_count": 23,
   "metadata": {},
   "outputs": [],
   "source": [
    "columnNm = targetData.한글컬럼명.values[0].split(\",\")"
   ]
  },
  {
   "cell_type": "markdown",
   "metadata": {},
   "source": [
    "# 4. 데이터 수집"
   ]
  },
  {
   "cell_type": "code",
   "execution_count": 24,
   "metadata": {},
   "outputs": [],
   "source": [
    "filePath = os.path.join(OUTPUTPATH,SITENAME,DATANAME) + '.csv'\n",
    "\n",
    "if os.path.isfile(filePath):\n",
    "    os.remove(filePath)"
   ]
  },
  {
   "cell_type": "code",
   "execution_count": 25,
   "metadata": {},
   "outputs": [],
   "source": [
    "breakPoint = 0"
   ]
  },
  {
   "cell_type": "markdown",
   "metadata": {},
   "source": [
    "### 1) 인증키를 통한 수집"
   ]
  },
  {
   "cell_type": "code",
   "execution_count": 26,
   "metadata": {},
   "outputs": [],
   "source": [
    "flag = False"
   ]
  },
  {
   "cell_type": "code",
   "execution_count": null,
   "metadata": {},
   "outputs": [],
   "source": [
    "response = requests.get(\"http://apis.data.go.kr/1230000/PubDataOpnStdService/getDataSetOpnStdScsbidInfo?numOfRows=10&type=json&ServiceKey=hMw9eN6ZYKvMWUUvEykxVelOH07uAKhQYzFMUV5r4QpvdYgJehQANKE5bay%2B8Hgy660JdC9mVQCFhRKupVGwaw%3D%3D&bsnsDivCd=3&pageNo=1\")\n",
    "totalCount = response.json()[\"response\"][\"body\"][\"totalCount\"]\n",
    "ranger = totalCount//999 + 1\n",
    "print(f\"totalCount:{totalCount}, range:{ranger}\")"
   ]
  },
  {
   "cell_type": "code",
   "execution_count": 27,
   "metadata": {
    "scrolled": true,
    "tags": []
   },
   "outputs": [
    {
     "name": "stdout",
     "output_type": "stream",
     "text": [
      "수집시작 : 10:38:37\n"
     ]
    }
   ],
   "source": [
    "starttime = time.time()\n",
    "print(\"수집시작 :\", time.strftime('%T', time.localtime(time.time())))"
   ]
  },
  {
   "cell_type": "code",
   "execution_count": 28,
   "metadata": {
    "scrolled": true,
    "tags": []
   },
   "outputs": [],
   "source": [
    "# for each in ServiceKeyLst:\n",
    "#     if flag:\n",
    "#         print(\"수집완료\")\n",
    "#         break\n",
    "#     for i in range(breakPoint, len(BASEPARAM_Lst)):\n",
    "#         if i == len(BASEPARAM_Lst) - 1:\n",
    "#             flag = True\n",
    "#         BASEPARAM_Lst[i][\"ServiceKey\"] = each\n",
    "#         try:\n",
    "#             print(f\"BASEPARAM_Lst {i} scraping start\")\n",
    "#             resultDf = scrapy(URL,SITENAME,DATANAME,SERVICENAME,BASEPARAM_Lst[i],PAGEYN)\n",
    "#             savedata(resultDf,SITENAME,DATANAME,SERVICENAME,columnNm)\n",
    "#         except Exception as e:\n",
    "#             print(e)\n",
    "#             breakPoint = i\n",
    "#             if e.args[0] == \"22\":\n",
    "#                 print(\"LIMITED_NUMBER_OF_SERVICE_REQUESTS_EXCEEDS_ERROR\")\n",
    "#             elif e.args[0] == \"01\":\n",
    "#                 print(\"제공기관 서비스 제공 상태가 원활하지 않습니다.\")\n",
    "#             else: print(e.args[0])\n",
    "#             break"
   ]
  },
  {
   "cell_type": "code",
   "execution_count": null,
   "metadata": {
    "scrolled": true,
    "tags": []
   },
   "outputs": [
    {
     "name": "stdout",
     "output_type": "stream",
     "text": [
      "BASEPARAM_Lst 0 scraping start\n",
      "http://apis.data.go.kr/1230000/PubDataOpnStdService/getDataSetOpnStdScsbidInfo?numOfRows=999&type=json&ServiceKey=hMw9eN6ZYKvMWUUvEykxVelOH07uAKhQYzFMUV5r4QpvdYgJehQANKE5bay%2B8Hgy660JdC9mVQCFhRKupVGwaw%3D%3D&bsnsDivCd=3&pageNo=1\n",
      "http://apis.data.go.kr/1230000/PubDataOpnStdService/getDataSetOpnStdScsbidInfo?numOfRows=999&type=json&ServiceKey=hMw9eN6ZYKvMWUUvEykxVelOH07uAKhQYzFMUV5r4QpvdYgJehQANKE5bay%2B8Hgy660JdC9mVQCFhRKupVGwaw%3D%3D&bsnsDivCd=3&pageNo=2\n",
      "http://apis.data.go.kr/1230000/PubDataOpnStdService/getDataSetOpnStdScsbidInfo?numOfRows=999&type=json&ServiceKey=hMw9eN6ZYKvMWUUvEykxVelOH07uAKhQYzFMUV5r4QpvdYgJehQANKE5bay%2B8Hgy660JdC9mVQCFhRKupVGwaw%3D%3D&bsnsDivCd=3&pageNo=3\n",
      "http://apis.data.go.kr/1230000/PubDataOpnStdService/getDataSetOpnStdScsbidInfo?numOfRows=999&type=json&ServiceKey=hMw9eN6ZYKvMWUUvEykxVelOH07uAKhQYzFMUV5r4QpvdYgJehQANKE5bay%2B8Hgy660JdC9mVQCFhRKupVGwaw%3D%3D&bsnsDivCd=3&pageNo=4\n",
      "http://apis.data.go.kr/1230000/PubDataOpnStdService/getDataSetOpnStdScsbidInfo?numOfRows=999&type=json&ServiceKey=hMw9eN6ZYKvMWUUvEykxVelOH07uAKhQYzFMUV5r4QpvdYgJehQANKE5bay%2B8Hgy660JdC9mVQCFhRKupVGwaw%3D%3D&bsnsDivCd=3&pageNo=5\n",
      "http://apis.data.go.kr/1230000/PubDataOpnStdService/getDataSetOpnStdScsbidInfo?numOfRows=999&type=json&ServiceKey=hMw9eN6ZYKvMWUUvEykxVelOH07uAKhQYzFMUV5r4QpvdYgJehQANKE5bay%2B8Hgy660JdC9mVQCFhRKupVGwaw%3D%3D&bsnsDivCd=3&pageNo=6\n",
      "http://apis.data.go.kr/1230000/PubDataOpnStdService/getDataSetOpnStdScsbidInfo?numOfRows=999&type=json&ServiceKey=hMw9eN6ZYKvMWUUvEykxVelOH07uAKhQYzFMUV5r4QpvdYgJehQANKE5bay%2B8Hgy660JdC9mVQCFhRKupVGwaw%3D%3D&bsnsDivCd=3&pageNo=7\n",
      "http://apis.data.go.kr/1230000/PubDataOpnStdService/getDataSetOpnStdScsbidInfo?numOfRows=999&type=json&ServiceKey=hMw9eN6ZYKvMWUUvEykxVelOH07uAKhQYzFMUV5r4QpvdYgJehQANKE5bay%2B8Hgy660JdC9mVQCFhRKupVGwaw%3D%3D&bsnsDivCd=3&pageNo=8\n",
      "http://apis.data.go.kr/1230000/PubDataOpnStdService/getDataSetOpnStdScsbidInfo?numOfRows=999&type=json&ServiceKey=hMw9eN6ZYKvMWUUvEykxVelOH07uAKhQYzFMUV5r4QpvdYgJehQANKE5bay%2B8Hgy660JdC9mVQCFhRKupVGwaw%3D%3D&bsnsDivCd=3&pageNo=9\n",
      "http://apis.data.go.kr/1230000/PubDataOpnStdService/getDataSetOpnStdScsbidInfo?numOfRows=999&type=json&ServiceKey=hMw9eN6ZYKvMWUUvEykxVelOH07uAKhQYzFMUV5r4QpvdYgJehQANKE5bay%2B8Hgy660JdC9mVQCFhRKupVGwaw%3D%3D&bsnsDivCd=3&pageNo=10\n",
      "http://apis.data.go.kr/1230000/PubDataOpnStdService/getDataSetOpnStdScsbidInfo?numOfRows=999&type=json&ServiceKey=hMw9eN6ZYKvMWUUvEykxVelOH07uAKhQYzFMUV5r4QpvdYgJehQANKE5bay%2B8Hgy660JdC9mVQCFhRKupVGwaw%3D%3D&bsnsDivCd=3&pageNo=11\n",
      "http://apis.data.go.kr/1230000/PubDataOpnStdService/getDataSetOpnStdScsbidInfo?numOfRows=999&type=json&ServiceKey=hMw9eN6ZYKvMWUUvEykxVelOH07uAKhQYzFMUV5r4QpvdYgJehQANKE5bay%2B8Hgy660JdC9mVQCFhRKupVGwaw%3D%3D&bsnsDivCd=3&pageNo=12\n",
      "http://apis.data.go.kr/1230000/PubDataOpnStdService/getDataSetOpnStdScsbidInfo?numOfRows=999&type=json&ServiceKey=hMw9eN6ZYKvMWUUvEykxVelOH07uAKhQYzFMUV5r4QpvdYgJehQANKE5bay%2B8Hgy660JdC9mVQCFhRKupVGwaw%3D%3D&bsnsDivCd=3&pageNo=13\n",
      "http://apis.data.go.kr/1230000/PubDataOpnStdService/getDataSetOpnStdScsbidInfo?numOfRows=999&type=json&ServiceKey=hMw9eN6ZYKvMWUUvEykxVelOH07uAKhQYzFMUV5r4QpvdYgJehQANKE5bay%2B8Hgy660JdC9mVQCFhRKupVGwaw%3D%3D&bsnsDivCd=3&pageNo=14\n",
      "http://apis.data.go.kr/1230000/PubDataOpnStdService/getDataSetOpnStdScsbidInfo?numOfRows=999&type=json&ServiceKey=hMw9eN6ZYKvMWUUvEykxVelOH07uAKhQYzFMUV5r4QpvdYgJehQANKE5bay%2B8Hgy660JdC9mVQCFhRKupVGwaw%3D%3D&bsnsDivCd=3&pageNo=15\n",
      "http://apis.data.go.kr/1230000/PubDataOpnStdService/getDataSetOpnStdScsbidInfo?numOfRows=999&type=json&ServiceKey=hMw9eN6ZYKvMWUUvEykxVelOH07uAKhQYzFMUV5r4QpvdYgJehQANKE5bay%2B8Hgy660JdC9mVQCFhRKupVGwaw%3D%3D&bsnsDivCd=3&pageNo=16\n",
      "http://apis.data.go.kr/1230000/PubDataOpnStdService/getDataSetOpnStdScsbidInfo?numOfRows=999&type=json&ServiceKey=hMw9eN6ZYKvMWUUvEykxVelOH07uAKhQYzFMUV5r4QpvdYgJehQANKE5bay%2B8Hgy660JdC9mVQCFhRKupVGwaw%3D%3D&bsnsDivCd=3&pageNo=17\n",
      "http://apis.data.go.kr/1230000/PubDataOpnStdService/getDataSetOpnStdScsbidInfo?numOfRows=999&type=json&ServiceKey=hMw9eN6ZYKvMWUUvEykxVelOH07uAKhQYzFMUV5r4QpvdYgJehQANKE5bay%2B8Hgy660JdC9mVQCFhRKupVGwaw%3D%3D&bsnsDivCd=3&pageNo=18\n",
      "http://apis.data.go.kr/1230000/PubDataOpnStdService/getDataSetOpnStdScsbidInfo?numOfRows=999&type=json&ServiceKey=hMw9eN6ZYKvMWUUvEykxVelOH07uAKhQYzFMUV5r4QpvdYgJehQANKE5bay%2B8Hgy660JdC9mVQCFhRKupVGwaw%3D%3D&bsnsDivCd=3&pageNo=19\n",
      "http://apis.data.go.kr/1230000/PubDataOpnStdService/getDataSetOpnStdScsbidInfo?numOfRows=999&type=json&ServiceKey=hMw9eN6ZYKvMWUUvEykxVelOH07uAKhQYzFMUV5r4QpvdYgJehQANKE5bay%2B8Hgy660JdC9mVQCFhRKupVGwaw%3D%3D&bsnsDivCd=3&pageNo=20\n",
      "http://apis.data.go.kr/1230000/PubDataOpnStdService/getDataSetOpnStdScsbidInfo?numOfRows=999&type=json&ServiceKey=hMw9eN6ZYKvMWUUvEykxVelOH07uAKhQYzFMUV5r4QpvdYgJehQANKE5bay%2B8Hgy660JdC9mVQCFhRKupVGwaw%3D%3D&bsnsDivCd=3&pageNo=21\n",
      "http://apis.data.go.kr/1230000/PubDataOpnStdService/getDataSetOpnStdScsbidInfo?numOfRows=999&type=json&ServiceKey=hMw9eN6ZYKvMWUUvEykxVelOH07uAKhQYzFMUV5r4QpvdYgJehQANKE5bay%2B8Hgy660JdC9mVQCFhRKupVGwaw%3D%3D&bsnsDivCd=3&pageNo=22\n",
      "http://apis.data.go.kr/1230000/PubDataOpnStdService/getDataSetOpnStdScsbidInfo?numOfRows=999&type=json&ServiceKey=hMw9eN6ZYKvMWUUvEykxVelOH07uAKhQYzFMUV5r4QpvdYgJehQANKE5bay%2B8Hgy660JdC9mVQCFhRKupVGwaw%3D%3D&bsnsDivCd=3&pageNo=23\n",
      "http://apis.data.go.kr/1230000/PubDataOpnStdService/getDataSetOpnStdScsbidInfo?numOfRows=999&type=json&ServiceKey=hMw9eN6ZYKvMWUUvEykxVelOH07uAKhQYzFMUV5r4QpvdYgJehQANKE5bay%2B8Hgy660JdC9mVQCFhRKupVGwaw%3D%3D&bsnsDivCd=3&pageNo=24\n",
      "http://apis.data.go.kr/1230000/PubDataOpnStdService/getDataSetOpnStdScsbidInfo?numOfRows=999&type=json&ServiceKey=hMw9eN6ZYKvMWUUvEykxVelOH07uAKhQYzFMUV5r4QpvdYgJehQANKE5bay%2B8Hgy660JdC9mVQCFhRKupVGwaw%3D%3D&bsnsDivCd=3&pageNo=25\n",
      "http://apis.data.go.kr/1230000/PubDataOpnStdService/getDataSetOpnStdScsbidInfo?numOfRows=999&type=json&ServiceKey=hMw9eN6ZYKvMWUUvEykxVelOH07uAKhQYzFMUV5r4QpvdYgJehQANKE5bay%2B8Hgy660JdC9mVQCFhRKupVGwaw%3D%3D&bsnsDivCd=3&pageNo=26\n",
      "http://apis.data.go.kr/1230000/PubDataOpnStdService/getDataSetOpnStdScsbidInfo?numOfRows=999&type=json&ServiceKey=hMw9eN6ZYKvMWUUvEykxVelOH07uAKhQYzFMUV5r4QpvdYgJehQANKE5bay%2B8Hgy660JdC9mVQCFhRKupVGwaw%3D%3D&bsnsDivCd=3&pageNo=27\n",
      "http://apis.data.go.kr/1230000/PubDataOpnStdService/getDataSetOpnStdScsbidInfo?numOfRows=999&type=json&ServiceKey=hMw9eN6ZYKvMWUUvEykxVelOH07uAKhQYzFMUV5r4QpvdYgJehQANKE5bay%2B8Hgy660JdC9mVQCFhRKupVGwaw%3D%3D&bsnsDivCd=3&pageNo=28\n",
      "http://apis.data.go.kr/1230000/PubDataOpnStdService/getDataSetOpnStdScsbidInfo?numOfRows=999&type=json&ServiceKey=hMw9eN6ZYKvMWUUvEykxVelOH07uAKhQYzFMUV5r4QpvdYgJehQANKE5bay%2B8Hgy660JdC9mVQCFhRKupVGwaw%3D%3D&bsnsDivCd=3&pageNo=29\n",
      "http://apis.data.go.kr/1230000/PubDataOpnStdService/getDataSetOpnStdScsbidInfo?numOfRows=999&type=json&ServiceKey=hMw9eN6ZYKvMWUUvEykxVelOH07uAKhQYzFMUV5r4QpvdYgJehQANKE5bay%2B8Hgy660JdC9mVQCFhRKupVGwaw%3D%3D&bsnsDivCd=3&pageNo=30\n",
      "http://apis.data.go.kr/1230000/PubDataOpnStdService/getDataSetOpnStdScsbidInfo?numOfRows=999&type=json&ServiceKey=hMw9eN6ZYKvMWUUvEykxVelOH07uAKhQYzFMUV5r4QpvdYgJehQANKE5bay%2B8Hgy660JdC9mVQCFhRKupVGwaw%3D%3D&bsnsDivCd=3&pageNo=31\n",
      "http://apis.data.go.kr/1230000/PubDataOpnStdService/getDataSetOpnStdScsbidInfo?numOfRows=999&type=json&ServiceKey=hMw9eN6ZYKvMWUUvEykxVelOH07uAKhQYzFMUV5r4QpvdYgJehQANKE5bay%2B8Hgy660JdC9mVQCFhRKupVGwaw%3D%3D&bsnsDivCd=3&pageNo=32\n",
      "http://apis.data.go.kr/1230000/PubDataOpnStdService/getDataSetOpnStdScsbidInfo?numOfRows=999&type=json&ServiceKey=hMw9eN6ZYKvMWUUvEykxVelOH07uAKhQYzFMUV5r4QpvdYgJehQANKE5bay%2B8Hgy660JdC9mVQCFhRKupVGwaw%3D%3D&bsnsDivCd=3&pageNo=33\n",
      "http://apis.data.go.kr/1230000/PubDataOpnStdService/getDataSetOpnStdScsbidInfo?numOfRows=999&type=json&ServiceKey=hMw9eN6ZYKvMWUUvEykxVelOH07uAKhQYzFMUV5r4QpvdYgJehQANKE5bay%2B8Hgy660JdC9mVQCFhRKupVGwaw%3D%3D&bsnsDivCd=3&pageNo=34\n",
      "http://apis.data.go.kr/1230000/PubDataOpnStdService/getDataSetOpnStdScsbidInfo?numOfRows=999&type=json&ServiceKey=hMw9eN6ZYKvMWUUvEykxVelOH07uAKhQYzFMUV5r4QpvdYgJehQANKE5bay%2B8Hgy660JdC9mVQCFhRKupVGwaw%3D%3D&bsnsDivCd=3&pageNo=35\n",
      "http://apis.data.go.kr/1230000/PubDataOpnStdService/getDataSetOpnStdScsbidInfo?numOfRows=999&type=json&ServiceKey=hMw9eN6ZYKvMWUUvEykxVelOH07uAKhQYzFMUV5r4QpvdYgJehQANKE5bay%2B8Hgy660JdC9mVQCFhRKupVGwaw%3D%3D&bsnsDivCd=3&pageNo=36\n",
      "http://apis.data.go.kr/1230000/PubDataOpnStdService/getDataSetOpnStdScsbidInfo?numOfRows=999&type=json&ServiceKey=hMw9eN6ZYKvMWUUvEykxVelOH07uAKhQYzFMUV5r4QpvdYgJehQANKE5bay%2B8Hgy660JdC9mVQCFhRKupVGwaw%3D%3D&bsnsDivCd=3&pageNo=37\n",
      "http://apis.data.go.kr/1230000/PubDataOpnStdService/getDataSetOpnStdScsbidInfo?numOfRows=999&type=json&ServiceKey=hMw9eN6ZYKvMWUUvEykxVelOH07uAKhQYzFMUV5r4QpvdYgJehQANKE5bay%2B8Hgy660JdC9mVQCFhRKupVGwaw%3D%3D&bsnsDivCd=3&pageNo=38\n",
      "http://apis.data.go.kr/1230000/PubDataOpnStdService/getDataSetOpnStdScsbidInfo?numOfRows=999&type=json&ServiceKey=hMw9eN6ZYKvMWUUvEykxVelOH07uAKhQYzFMUV5r4QpvdYgJehQANKE5bay%2B8Hgy660JdC9mVQCFhRKupVGwaw%3D%3D&bsnsDivCd=3&pageNo=39\n",
      "http://apis.data.go.kr/1230000/PubDataOpnStdService/getDataSetOpnStdScsbidInfo?numOfRows=999&type=json&ServiceKey=hMw9eN6ZYKvMWUUvEykxVelOH07uAKhQYzFMUV5r4QpvdYgJehQANKE5bay%2B8Hgy660JdC9mVQCFhRKupVGwaw%3D%3D&bsnsDivCd=3&pageNo=40\n",
      "http://apis.data.go.kr/1230000/PubDataOpnStdService/getDataSetOpnStdScsbidInfo?numOfRows=999&type=json&ServiceKey=hMw9eN6ZYKvMWUUvEykxVelOH07uAKhQYzFMUV5r4QpvdYgJehQANKE5bay%2B8Hgy660JdC9mVQCFhRKupVGwaw%3D%3D&bsnsDivCd=3&pageNo=41\n",
      "http://apis.data.go.kr/1230000/PubDataOpnStdService/getDataSetOpnStdScsbidInfo?numOfRows=999&type=json&ServiceKey=hMw9eN6ZYKvMWUUvEykxVelOH07uAKhQYzFMUV5r4QpvdYgJehQANKE5bay%2B8Hgy660JdC9mVQCFhRKupVGwaw%3D%3D&bsnsDivCd=3&pageNo=42\n",
      "http://apis.data.go.kr/1230000/PubDataOpnStdService/getDataSetOpnStdScsbidInfo?numOfRows=999&type=json&ServiceKey=hMw9eN6ZYKvMWUUvEykxVelOH07uAKhQYzFMUV5r4QpvdYgJehQANKE5bay%2B8Hgy660JdC9mVQCFhRKupVGwaw%3D%3D&bsnsDivCd=3&pageNo=43\n",
      "http://apis.data.go.kr/1230000/PubDataOpnStdService/getDataSetOpnStdScsbidInfo?numOfRows=999&type=json&ServiceKey=hMw9eN6ZYKvMWUUvEykxVelOH07uAKhQYzFMUV5r4QpvdYgJehQANKE5bay%2B8Hgy660JdC9mVQCFhRKupVGwaw%3D%3D&bsnsDivCd=3&pageNo=44\n",
      "http://apis.data.go.kr/1230000/PubDataOpnStdService/getDataSetOpnStdScsbidInfo?numOfRows=999&type=json&ServiceKey=hMw9eN6ZYKvMWUUvEykxVelOH07uAKhQYzFMUV5r4QpvdYgJehQANKE5bay%2B8Hgy660JdC9mVQCFhRKupVGwaw%3D%3D&bsnsDivCd=3&pageNo=45\n",
      "http://apis.data.go.kr/1230000/PubDataOpnStdService/getDataSetOpnStdScsbidInfo?numOfRows=999&type=json&ServiceKey=hMw9eN6ZYKvMWUUvEykxVelOH07uAKhQYzFMUV5r4QpvdYgJehQANKE5bay%2B8Hgy660JdC9mVQCFhRKupVGwaw%3D%3D&bsnsDivCd=3&pageNo=46\n",
      "http://apis.data.go.kr/1230000/PubDataOpnStdService/getDataSetOpnStdScsbidInfo?numOfRows=999&type=json&ServiceKey=hMw9eN6ZYKvMWUUvEykxVelOH07uAKhQYzFMUV5r4QpvdYgJehQANKE5bay%2B8Hgy660JdC9mVQCFhRKupVGwaw%3D%3D&bsnsDivCd=3&pageNo=47\n",
      "http://apis.data.go.kr/1230000/PubDataOpnStdService/getDataSetOpnStdScsbidInfo?numOfRows=999&type=json&ServiceKey=hMw9eN6ZYKvMWUUvEykxVelOH07uAKhQYzFMUV5r4QpvdYgJehQANKE5bay%2B8Hgy660JdC9mVQCFhRKupVGwaw%3D%3D&bsnsDivCd=3&pageNo=48\n",
      "http://apis.data.go.kr/1230000/PubDataOpnStdService/getDataSetOpnStdScsbidInfo?numOfRows=999&type=json&ServiceKey=hMw9eN6ZYKvMWUUvEykxVelOH07uAKhQYzFMUV5r4QpvdYgJehQANKE5bay%2B8Hgy660JdC9mVQCFhRKupVGwaw%3D%3D&bsnsDivCd=3&pageNo=49\n",
      "http://apis.data.go.kr/1230000/PubDataOpnStdService/getDataSetOpnStdScsbidInfo?numOfRows=999&type=json&ServiceKey=hMw9eN6ZYKvMWUUvEykxVelOH07uAKhQYzFMUV5r4QpvdYgJehQANKE5bay%2B8Hgy660JdC9mVQCFhRKupVGwaw%3D%3D&bsnsDivCd=3&pageNo=50\n",
      "http://apis.data.go.kr/1230000/PubDataOpnStdService/getDataSetOpnStdScsbidInfo?numOfRows=999&type=json&ServiceKey=hMw9eN6ZYKvMWUUvEykxVelOH07uAKhQYzFMUV5r4QpvdYgJehQANKE5bay%2B8Hgy660JdC9mVQCFhRKupVGwaw%3D%3D&bsnsDivCd=3&pageNo=51\n",
      "http://apis.data.go.kr/1230000/PubDataOpnStdService/getDataSetOpnStdScsbidInfo?numOfRows=999&type=json&ServiceKey=hMw9eN6ZYKvMWUUvEykxVelOH07uAKhQYzFMUV5r4QpvdYgJehQANKE5bay%2B8Hgy660JdC9mVQCFhRKupVGwaw%3D%3D&bsnsDivCd=3&pageNo=52\n",
      "http://apis.data.go.kr/1230000/PubDataOpnStdService/getDataSetOpnStdScsbidInfo?numOfRows=999&type=json&ServiceKey=hMw9eN6ZYKvMWUUvEykxVelOH07uAKhQYzFMUV5r4QpvdYgJehQANKE5bay%2B8Hgy660JdC9mVQCFhRKupVGwaw%3D%3D&bsnsDivCd=3&pageNo=53\n",
      "http://apis.data.go.kr/1230000/PubDataOpnStdService/getDataSetOpnStdScsbidInfo?numOfRows=999&type=json&ServiceKey=hMw9eN6ZYKvMWUUvEykxVelOH07uAKhQYzFMUV5r4QpvdYgJehQANKE5bay%2B8Hgy660JdC9mVQCFhRKupVGwaw%3D%3D&bsnsDivCd=3&pageNo=54\n",
      "http://apis.data.go.kr/1230000/PubDataOpnStdService/getDataSetOpnStdScsbidInfo?numOfRows=999&type=json&ServiceKey=hMw9eN6ZYKvMWUUvEykxVelOH07uAKhQYzFMUV5r4QpvdYgJehQANKE5bay%2B8Hgy660JdC9mVQCFhRKupVGwaw%3D%3D&bsnsDivCd=3&pageNo=55\n",
      "http://apis.data.go.kr/1230000/PubDataOpnStdService/getDataSetOpnStdScsbidInfo?numOfRows=999&type=json&ServiceKey=hMw9eN6ZYKvMWUUvEykxVelOH07uAKhQYzFMUV5r4QpvdYgJehQANKE5bay%2B8Hgy660JdC9mVQCFhRKupVGwaw%3D%3D&bsnsDivCd=3&pageNo=56\n",
      "http://apis.data.go.kr/1230000/PubDataOpnStdService/getDataSetOpnStdScsbidInfo?numOfRows=999&type=json&ServiceKey=hMw9eN6ZYKvMWUUvEykxVelOH07uAKhQYzFMUV5r4QpvdYgJehQANKE5bay%2B8Hgy660JdC9mVQCFhRKupVGwaw%3D%3D&bsnsDivCd=3&pageNo=57\n",
      "http://apis.data.go.kr/1230000/PubDataOpnStdService/getDataSetOpnStdScsbidInfo?numOfRows=999&type=json&ServiceKey=hMw9eN6ZYKvMWUUvEykxVelOH07uAKhQYzFMUV5r4QpvdYgJehQANKE5bay%2B8Hgy660JdC9mVQCFhRKupVGwaw%3D%3D&bsnsDivCd=3&pageNo=58\n",
      "http://apis.data.go.kr/1230000/PubDataOpnStdService/getDataSetOpnStdScsbidInfo?numOfRows=999&type=json&ServiceKey=hMw9eN6ZYKvMWUUvEykxVelOH07uAKhQYzFMUV5r4QpvdYgJehQANKE5bay%2B8Hgy660JdC9mVQCFhRKupVGwaw%3D%3D&bsnsDivCd=3&pageNo=59\n",
      "http://apis.data.go.kr/1230000/PubDataOpnStdService/getDataSetOpnStdScsbidInfo?numOfRows=999&type=json&ServiceKey=hMw9eN6ZYKvMWUUvEykxVelOH07uAKhQYzFMUV5r4QpvdYgJehQANKE5bay%2B8Hgy660JdC9mVQCFhRKupVGwaw%3D%3D&bsnsDivCd=3&pageNo=60\n",
      "http://apis.data.go.kr/1230000/PubDataOpnStdService/getDataSetOpnStdScsbidInfo?numOfRows=999&type=json&ServiceKey=hMw9eN6ZYKvMWUUvEykxVelOH07uAKhQYzFMUV5r4QpvdYgJehQANKE5bay%2B8Hgy660JdC9mVQCFhRKupVGwaw%3D%3D&bsnsDivCd=3&pageNo=61\n",
      "http://apis.data.go.kr/1230000/PubDataOpnStdService/getDataSetOpnStdScsbidInfo?numOfRows=999&type=json&ServiceKey=hMw9eN6ZYKvMWUUvEykxVelOH07uAKhQYzFMUV5r4QpvdYgJehQANKE5bay%2B8Hgy660JdC9mVQCFhRKupVGwaw%3D%3D&bsnsDivCd=3&pageNo=62\n",
      "http://apis.data.go.kr/1230000/PubDataOpnStdService/getDataSetOpnStdScsbidInfo?numOfRows=999&type=json&ServiceKey=hMw9eN6ZYKvMWUUvEykxVelOH07uAKhQYzFMUV5r4QpvdYgJehQANKE5bay%2B8Hgy660JdC9mVQCFhRKupVGwaw%3D%3D&bsnsDivCd=3&pageNo=63\n",
      "http://apis.data.go.kr/1230000/PubDataOpnStdService/getDataSetOpnStdScsbidInfo?numOfRows=999&type=json&ServiceKey=hMw9eN6ZYKvMWUUvEykxVelOH07uAKhQYzFMUV5r4QpvdYgJehQANKE5bay%2B8Hgy660JdC9mVQCFhRKupVGwaw%3D%3D&bsnsDivCd=3&pageNo=64\n",
      "http://apis.data.go.kr/1230000/PubDataOpnStdService/getDataSetOpnStdScsbidInfo?numOfRows=999&type=json&ServiceKey=hMw9eN6ZYKvMWUUvEykxVelOH07uAKhQYzFMUV5r4QpvdYgJehQANKE5bay%2B8Hgy660JdC9mVQCFhRKupVGwaw%3D%3D&bsnsDivCd=3&pageNo=65\n",
      "http://apis.data.go.kr/1230000/PubDataOpnStdService/getDataSetOpnStdScsbidInfo?numOfRows=999&type=json&ServiceKey=hMw9eN6ZYKvMWUUvEykxVelOH07uAKhQYzFMUV5r4QpvdYgJehQANKE5bay%2B8Hgy660JdC9mVQCFhRKupVGwaw%3D%3D&bsnsDivCd=3&pageNo=66\n",
      "http://apis.data.go.kr/1230000/PubDataOpnStdService/getDataSetOpnStdScsbidInfo?numOfRows=999&type=json&ServiceKey=hMw9eN6ZYKvMWUUvEykxVelOH07uAKhQYzFMUV5r4QpvdYgJehQANKE5bay%2B8Hgy660JdC9mVQCFhRKupVGwaw%3D%3D&bsnsDivCd=3&pageNo=67\n",
      "http://apis.data.go.kr/1230000/PubDataOpnStdService/getDataSetOpnStdScsbidInfo?numOfRows=999&type=json&ServiceKey=hMw9eN6ZYKvMWUUvEykxVelOH07uAKhQYzFMUV5r4QpvdYgJehQANKE5bay%2B8Hgy660JdC9mVQCFhRKupVGwaw%3D%3D&bsnsDivCd=3&pageNo=68\n",
      "http://apis.data.go.kr/1230000/PubDataOpnStdService/getDataSetOpnStdScsbidInfo?numOfRows=999&type=json&ServiceKey=hMw9eN6ZYKvMWUUvEykxVelOH07uAKhQYzFMUV5r4QpvdYgJehQANKE5bay%2B8Hgy660JdC9mVQCFhRKupVGwaw%3D%3D&bsnsDivCd=3&pageNo=69\n",
      "http://apis.data.go.kr/1230000/PubDataOpnStdService/getDataSetOpnStdScsbidInfo?numOfRows=999&type=json&ServiceKey=hMw9eN6ZYKvMWUUvEykxVelOH07uAKhQYzFMUV5r4QpvdYgJehQANKE5bay%2B8Hgy660JdC9mVQCFhRKupVGwaw%3D%3D&bsnsDivCd=3&pageNo=70\n",
      "http://apis.data.go.kr/1230000/PubDataOpnStdService/getDataSetOpnStdScsbidInfo?numOfRows=999&type=json&ServiceKey=hMw9eN6ZYKvMWUUvEykxVelOH07uAKhQYzFMUV5r4QpvdYgJehQANKE5bay%2B8Hgy660JdC9mVQCFhRKupVGwaw%3D%3D&bsnsDivCd=3&pageNo=71\n",
      "http://apis.data.go.kr/1230000/PubDataOpnStdService/getDataSetOpnStdScsbidInfo?numOfRows=999&type=json&ServiceKey=hMw9eN6ZYKvMWUUvEykxVelOH07uAKhQYzFMUV5r4QpvdYgJehQANKE5bay%2B8Hgy660JdC9mVQCFhRKupVGwaw%3D%3D&bsnsDivCd=3&pageNo=72\n",
      "http://apis.data.go.kr/1230000/PubDataOpnStdService/getDataSetOpnStdScsbidInfo?numOfRows=999&type=json&ServiceKey=hMw9eN6ZYKvMWUUvEykxVelOH07uAKhQYzFMUV5r4QpvdYgJehQANKE5bay%2B8Hgy660JdC9mVQCFhRKupVGwaw%3D%3D&bsnsDivCd=3&pageNo=73\n",
      "http://apis.data.go.kr/1230000/PubDataOpnStdService/getDataSetOpnStdScsbidInfo?numOfRows=999&type=json&ServiceKey=hMw9eN6ZYKvMWUUvEykxVelOH07uAKhQYzFMUV5r4QpvdYgJehQANKE5bay%2B8Hgy660JdC9mVQCFhRKupVGwaw%3D%3D&bsnsDivCd=3&pageNo=74\n",
      "http://apis.data.go.kr/1230000/PubDataOpnStdService/getDataSetOpnStdScsbidInfo?numOfRows=999&type=json&ServiceKey=hMw9eN6ZYKvMWUUvEykxVelOH07uAKhQYzFMUV5r4QpvdYgJehQANKE5bay%2B8Hgy660JdC9mVQCFhRKupVGwaw%3D%3D&bsnsDivCd=3&pageNo=75\n",
      "http://apis.data.go.kr/1230000/PubDataOpnStdService/getDataSetOpnStdScsbidInfo?numOfRows=999&type=json&ServiceKey=hMw9eN6ZYKvMWUUvEykxVelOH07uAKhQYzFMUV5r4QpvdYgJehQANKE5bay%2B8Hgy660JdC9mVQCFhRKupVGwaw%3D%3D&bsnsDivCd=3&pageNo=76\n",
      "http://apis.data.go.kr/1230000/PubDataOpnStdService/getDataSetOpnStdScsbidInfo?numOfRows=999&type=json&ServiceKey=hMw9eN6ZYKvMWUUvEykxVelOH07uAKhQYzFMUV5r4QpvdYgJehQANKE5bay%2B8Hgy660JdC9mVQCFhRKupVGwaw%3D%3D&bsnsDivCd=3&pageNo=77\n",
      "http://apis.data.go.kr/1230000/PubDataOpnStdService/getDataSetOpnStdScsbidInfo?numOfRows=999&type=json&ServiceKey=hMw9eN6ZYKvMWUUvEykxVelOH07uAKhQYzFMUV5r4QpvdYgJehQANKE5bay%2B8Hgy660JdC9mVQCFhRKupVGwaw%3D%3D&bsnsDivCd=3&pageNo=78\n",
      "http://apis.data.go.kr/1230000/PubDataOpnStdService/getDataSetOpnStdScsbidInfo?numOfRows=999&type=json&ServiceKey=hMw9eN6ZYKvMWUUvEykxVelOH07uAKhQYzFMUV5r4QpvdYgJehQANKE5bay%2B8Hgy660JdC9mVQCFhRKupVGwaw%3D%3D&bsnsDivCd=3&pageNo=79\n",
      "http://apis.data.go.kr/1230000/PubDataOpnStdService/getDataSetOpnStdScsbidInfo?numOfRows=999&type=json&ServiceKey=hMw9eN6ZYKvMWUUvEykxVelOH07uAKhQYzFMUV5r4QpvdYgJehQANKE5bay%2B8Hgy660JdC9mVQCFhRKupVGwaw%3D%3D&bsnsDivCd=3&pageNo=80\n",
      "http://apis.data.go.kr/1230000/PubDataOpnStdService/getDataSetOpnStdScsbidInfo?numOfRows=999&type=json&ServiceKey=hMw9eN6ZYKvMWUUvEykxVelOH07uAKhQYzFMUV5r4QpvdYgJehQANKE5bay%2B8Hgy660JdC9mVQCFhRKupVGwaw%3D%3D&bsnsDivCd=3&pageNo=81\n",
      "http://apis.data.go.kr/1230000/PubDataOpnStdService/getDataSetOpnStdScsbidInfo?numOfRows=999&type=json&ServiceKey=hMw9eN6ZYKvMWUUvEykxVelOH07uAKhQYzFMUV5r4QpvdYgJehQANKE5bay%2B8Hgy660JdC9mVQCFhRKupVGwaw%3D%3D&bsnsDivCd=3&pageNo=82\n",
      "http://apis.data.go.kr/1230000/PubDataOpnStdService/getDataSetOpnStdScsbidInfo?numOfRows=999&type=json&ServiceKey=hMw9eN6ZYKvMWUUvEykxVelOH07uAKhQYzFMUV5r4QpvdYgJehQANKE5bay%2B8Hgy660JdC9mVQCFhRKupVGwaw%3D%3D&bsnsDivCd=3&pageNo=83\n",
      "http://apis.data.go.kr/1230000/PubDataOpnStdService/getDataSetOpnStdScsbidInfo?numOfRows=999&type=json&ServiceKey=hMw9eN6ZYKvMWUUvEykxVelOH07uAKhQYzFMUV5r4QpvdYgJehQANKE5bay%2B8Hgy660JdC9mVQCFhRKupVGwaw%3D%3D&bsnsDivCd=3&pageNo=84\n",
      "http://apis.data.go.kr/1230000/PubDataOpnStdService/getDataSetOpnStdScsbidInfo?numOfRows=999&type=json&ServiceKey=hMw9eN6ZYKvMWUUvEykxVelOH07uAKhQYzFMUV5r4QpvdYgJehQANKE5bay%2B8Hgy660JdC9mVQCFhRKupVGwaw%3D%3D&bsnsDivCd=3&pageNo=85\n",
      "http://apis.data.go.kr/1230000/PubDataOpnStdService/getDataSetOpnStdScsbidInfo?numOfRows=999&type=json&ServiceKey=hMw9eN6ZYKvMWUUvEykxVelOH07uAKhQYzFMUV5r4QpvdYgJehQANKE5bay%2B8Hgy660JdC9mVQCFhRKupVGwaw%3D%3D&bsnsDivCd=3&pageNo=86\n",
      "http://apis.data.go.kr/1230000/PubDataOpnStdService/getDataSetOpnStdScsbidInfo?numOfRows=999&type=json&ServiceKey=hMw9eN6ZYKvMWUUvEykxVelOH07uAKhQYzFMUV5r4QpvdYgJehQANKE5bay%2B8Hgy660JdC9mVQCFhRKupVGwaw%3D%3D&bsnsDivCd=3&pageNo=87\n",
      "http://apis.data.go.kr/1230000/PubDataOpnStdService/getDataSetOpnStdScsbidInfo?numOfRows=999&type=json&ServiceKey=hMw9eN6ZYKvMWUUvEykxVelOH07uAKhQYzFMUV5r4QpvdYgJehQANKE5bay%2B8Hgy660JdC9mVQCFhRKupVGwaw%3D%3D&bsnsDivCd=3&pageNo=88\n",
      "http://apis.data.go.kr/1230000/PubDataOpnStdService/getDataSetOpnStdScsbidInfo?numOfRows=999&type=json&ServiceKey=hMw9eN6ZYKvMWUUvEykxVelOH07uAKhQYzFMUV5r4QpvdYgJehQANKE5bay%2B8Hgy660JdC9mVQCFhRKupVGwaw%3D%3D&bsnsDivCd=3&pageNo=89\n",
      "http://apis.data.go.kr/1230000/PubDataOpnStdService/getDataSetOpnStdScsbidInfo?numOfRows=999&type=json&ServiceKey=hMw9eN6ZYKvMWUUvEykxVelOH07uAKhQYzFMUV5r4QpvdYgJehQANKE5bay%2B8Hgy660JdC9mVQCFhRKupVGwaw%3D%3D&bsnsDivCd=3&pageNo=90\n",
      "http://apis.data.go.kr/1230000/PubDataOpnStdService/getDataSetOpnStdScsbidInfo?numOfRows=999&type=json&ServiceKey=hMw9eN6ZYKvMWUUvEykxVelOH07uAKhQYzFMUV5r4QpvdYgJehQANKE5bay%2B8Hgy660JdC9mVQCFhRKupVGwaw%3D%3D&bsnsDivCd=3&pageNo=91\n",
      "http://apis.data.go.kr/1230000/PubDataOpnStdService/getDataSetOpnStdScsbidInfo?numOfRows=999&type=json&ServiceKey=hMw9eN6ZYKvMWUUvEykxVelOH07uAKhQYzFMUV5r4QpvdYgJehQANKE5bay%2B8Hgy660JdC9mVQCFhRKupVGwaw%3D%3D&bsnsDivCd=3&pageNo=92\n",
      "http://apis.data.go.kr/1230000/PubDataOpnStdService/getDataSetOpnStdScsbidInfo?numOfRows=999&type=json&ServiceKey=hMw9eN6ZYKvMWUUvEykxVelOH07uAKhQYzFMUV5r4QpvdYgJehQANKE5bay%2B8Hgy660JdC9mVQCFhRKupVGwaw%3D%3D&bsnsDivCd=3&pageNo=93\n",
      "http://apis.data.go.kr/1230000/PubDataOpnStdService/getDataSetOpnStdScsbidInfo?numOfRows=999&type=json&ServiceKey=hMw9eN6ZYKvMWUUvEykxVelOH07uAKhQYzFMUV5r4QpvdYgJehQANKE5bay%2B8Hgy660JdC9mVQCFhRKupVGwaw%3D%3D&bsnsDivCd=3&pageNo=94\n",
      "http://apis.data.go.kr/1230000/PubDataOpnStdService/getDataSetOpnStdScsbidInfo?numOfRows=999&type=json&ServiceKey=hMw9eN6ZYKvMWUUvEykxVelOH07uAKhQYzFMUV5r4QpvdYgJehQANKE5bay%2B8Hgy660JdC9mVQCFhRKupVGwaw%3D%3D&bsnsDivCd=3&pageNo=95\n",
      "http://apis.data.go.kr/1230000/PubDataOpnStdService/getDataSetOpnStdScsbidInfo?numOfRows=999&type=json&ServiceKey=hMw9eN6ZYKvMWUUvEykxVelOH07uAKhQYzFMUV5r4QpvdYgJehQANKE5bay%2B8Hgy660JdC9mVQCFhRKupVGwaw%3D%3D&bsnsDivCd=3&pageNo=96\n",
      "http://apis.data.go.kr/1230000/PubDataOpnStdService/getDataSetOpnStdScsbidInfo?numOfRows=999&type=json&ServiceKey=hMw9eN6ZYKvMWUUvEykxVelOH07uAKhQYzFMUV5r4QpvdYgJehQANKE5bay%2B8Hgy660JdC9mVQCFhRKupVGwaw%3D%3D&bsnsDivCd=3&pageNo=97\n",
      "http://apis.data.go.kr/1230000/PubDataOpnStdService/getDataSetOpnStdScsbidInfo?numOfRows=999&type=json&ServiceKey=hMw9eN6ZYKvMWUUvEykxVelOH07uAKhQYzFMUV5r4QpvdYgJehQANKE5bay%2B8Hgy660JdC9mVQCFhRKupVGwaw%3D%3D&bsnsDivCd=3&pageNo=98\n",
      "http://apis.data.go.kr/1230000/PubDataOpnStdService/getDataSetOpnStdScsbidInfo?numOfRows=999&type=json&ServiceKey=hMw9eN6ZYKvMWUUvEykxVelOH07uAKhQYzFMUV5r4QpvdYgJehQANKE5bay%2B8Hgy660JdC9mVQCFhRKupVGwaw%3D%3D&bsnsDivCd=3&pageNo=99\n",
      "http://apis.data.go.kr/1230000/PubDataOpnStdService/getDataSetOpnStdScsbidInfo?numOfRows=999&type=json&ServiceKey=hMw9eN6ZYKvMWUUvEykxVelOH07uAKhQYzFMUV5r4QpvdYgJehQANKE5bay%2B8Hgy660JdC9mVQCFhRKupVGwaw%3D%3D&bsnsDivCd=3&pageNo=100\n",
      "http://apis.data.go.kr/1230000/PubDataOpnStdService/getDataSetOpnStdScsbidInfo?numOfRows=999&type=json&ServiceKey=hMw9eN6ZYKvMWUUvEykxVelOH07uAKhQYzFMUV5r4QpvdYgJehQANKE5bay%2B8Hgy660JdC9mVQCFhRKupVGwaw%3D%3D&bsnsDivCd=3&pageNo=101\n",
      "http://apis.data.go.kr/1230000/PubDataOpnStdService/getDataSetOpnStdScsbidInfo?numOfRows=999&type=json&ServiceKey=hMw9eN6ZYKvMWUUvEykxVelOH07uAKhQYzFMUV5r4QpvdYgJehQANKE5bay%2B8Hgy660JdC9mVQCFhRKupVGwaw%3D%3D&bsnsDivCd=3&pageNo=102\n",
      "http://apis.data.go.kr/1230000/PubDataOpnStdService/getDataSetOpnStdScsbidInfo?numOfRows=999&type=json&ServiceKey=hMw9eN6ZYKvMWUUvEykxVelOH07uAKhQYzFMUV5r4QpvdYgJehQANKE5bay%2B8Hgy660JdC9mVQCFhRKupVGwaw%3D%3D&bsnsDivCd=3&pageNo=103\n",
      "http://apis.data.go.kr/1230000/PubDataOpnStdService/getDataSetOpnStdScsbidInfo?numOfRows=999&type=json&ServiceKey=hMw9eN6ZYKvMWUUvEykxVelOH07uAKhQYzFMUV5r4QpvdYgJehQANKE5bay%2B8Hgy660JdC9mVQCFhRKupVGwaw%3D%3D&bsnsDivCd=3&pageNo=104\n",
      "http://apis.data.go.kr/1230000/PubDataOpnStdService/getDataSetOpnStdScsbidInfo?numOfRows=999&type=json&ServiceKey=hMw9eN6ZYKvMWUUvEykxVelOH07uAKhQYzFMUV5r4QpvdYgJehQANKE5bay%2B8Hgy660JdC9mVQCFhRKupVGwaw%3D%3D&bsnsDivCd=3&pageNo=105\n",
      "http://apis.data.go.kr/1230000/PubDataOpnStdService/getDataSetOpnStdScsbidInfo?numOfRows=999&type=json&ServiceKey=hMw9eN6ZYKvMWUUvEykxVelOH07uAKhQYzFMUV5r4QpvdYgJehQANKE5bay%2B8Hgy660JdC9mVQCFhRKupVGwaw%3D%3D&bsnsDivCd=3&pageNo=106\n",
      "http://apis.data.go.kr/1230000/PubDataOpnStdService/getDataSetOpnStdScsbidInfo?numOfRows=999&type=json&ServiceKey=hMw9eN6ZYKvMWUUvEykxVelOH07uAKhQYzFMUV5r4QpvdYgJehQANKE5bay%2B8Hgy660JdC9mVQCFhRKupVGwaw%3D%3D&bsnsDivCd=3&pageNo=107\n",
      "http://apis.data.go.kr/1230000/PubDataOpnStdService/getDataSetOpnStdScsbidInfo?numOfRows=999&type=json&ServiceKey=hMw9eN6ZYKvMWUUvEykxVelOH07uAKhQYzFMUV5r4QpvdYgJehQANKE5bay%2B8Hgy660JdC9mVQCFhRKupVGwaw%3D%3D&bsnsDivCd=3&pageNo=108\n",
      "http://apis.data.go.kr/1230000/PubDataOpnStdService/getDataSetOpnStdScsbidInfo?numOfRows=999&type=json&ServiceKey=hMw9eN6ZYKvMWUUvEykxVelOH07uAKhQYzFMUV5r4QpvdYgJehQANKE5bay%2B8Hgy660JdC9mVQCFhRKupVGwaw%3D%3D&bsnsDivCd=3&pageNo=109\n",
      "http://apis.data.go.kr/1230000/PubDataOpnStdService/getDataSetOpnStdScsbidInfo?numOfRows=999&type=json&ServiceKey=hMw9eN6ZYKvMWUUvEykxVelOH07uAKhQYzFMUV5r4QpvdYgJehQANKE5bay%2B8Hgy660JdC9mVQCFhRKupVGwaw%3D%3D&bsnsDivCd=3&pageNo=110\n",
      "http://apis.data.go.kr/1230000/PubDataOpnStdService/getDataSetOpnStdScsbidInfo?numOfRows=999&type=json&ServiceKey=hMw9eN6ZYKvMWUUvEykxVelOH07uAKhQYzFMUV5r4QpvdYgJehQANKE5bay%2B8Hgy660JdC9mVQCFhRKupVGwaw%3D%3D&bsnsDivCd=3&pageNo=111\n",
      "http://apis.data.go.kr/1230000/PubDataOpnStdService/getDataSetOpnStdScsbidInfo?numOfRows=999&type=json&ServiceKey=hMw9eN6ZYKvMWUUvEykxVelOH07uAKhQYzFMUV5r4QpvdYgJehQANKE5bay%2B8Hgy660JdC9mVQCFhRKupVGwaw%3D%3D&bsnsDivCd=3&pageNo=112\n",
      "http://apis.data.go.kr/1230000/PubDataOpnStdService/getDataSetOpnStdScsbidInfo?numOfRows=999&type=json&ServiceKey=hMw9eN6ZYKvMWUUvEykxVelOH07uAKhQYzFMUV5r4QpvdYgJehQANKE5bay%2B8Hgy660JdC9mVQCFhRKupVGwaw%3D%3D&bsnsDivCd=3&pageNo=113\n",
      "http://apis.data.go.kr/1230000/PubDataOpnStdService/getDataSetOpnStdScsbidInfo?numOfRows=999&type=json&ServiceKey=hMw9eN6ZYKvMWUUvEykxVelOH07uAKhQYzFMUV5r4QpvdYgJehQANKE5bay%2B8Hgy660JdC9mVQCFhRKupVGwaw%3D%3D&bsnsDivCd=3&pageNo=114\n",
      "http://apis.data.go.kr/1230000/PubDataOpnStdService/getDataSetOpnStdScsbidInfo?numOfRows=999&type=json&ServiceKey=hMw9eN6ZYKvMWUUvEykxVelOH07uAKhQYzFMUV5r4QpvdYgJehQANKE5bay%2B8Hgy660JdC9mVQCFhRKupVGwaw%3D%3D&bsnsDivCd=3&pageNo=115\n",
      "http://apis.data.go.kr/1230000/PubDataOpnStdService/getDataSetOpnStdScsbidInfo?numOfRows=999&type=json&ServiceKey=hMw9eN6ZYKvMWUUvEykxVelOH07uAKhQYzFMUV5r4QpvdYgJehQANKE5bay%2B8Hgy660JdC9mVQCFhRKupVGwaw%3D%3D&bsnsDivCd=3&pageNo=116\n",
      "http://apis.data.go.kr/1230000/PubDataOpnStdService/getDataSetOpnStdScsbidInfo?numOfRows=999&type=json&ServiceKey=hMw9eN6ZYKvMWUUvEykxVelOH07uAKhQYzFMUV5r4QpvdYgJehQANKE5bay%2B8Hgy660JdC9mVQCFhRKupVGwaw%3D%3D&bsnsDivCd=3&pageNo=117\n",
      "http://apis.data.go.kr/1230000/PubDataOpnStdService/getDataSetOpnStdScsbidInfo?numOfRows=999&type=json&ServiceKey=hMw9eN6ZYKvMWUUvEykxVelOH07uAKhQYzFMUV5r4QpvdYgJehQANKE5bay%2B8Hgy660JdC9mVQCFhRKupVGwaw%3D%3D&bsnsDivCd=3&pageNo=118\n",
      "http://apis.data.go.kr/1230000/PubDataOpnStdService/getDataSetOpnStdScsbidInfo?numOfRows=999&type=json&ServiceKey=hMw9eN6ZYKvMWUUvEykxVelOH07uAKhQYzFMUV5r4QpvdYgJehQANKE5bay%2B8Hgy660JdC9mVQCFhRKupVGwaw%3D%3D&bsnsDivCd=3&pageNo=119\n",
      "http://apis.data.go.kr/1230000/PubDataOpnStdService/getDataSetOpnStdScsbidInfo?numOfRows=999&type=json&ServiceKey=hMw9eN6ZYKvMWUUvEykxVelOH07uAKhQYzFMUV5r4QpvdYgJehQANKE5bay%2B8Hgy660JdC9mVQCFhRKupVGwaw%3D%3D&bsnsDivCd=3&pageNo=120\n",
      "http://apis.data.go.kr/1230000/PubDataOpnStdService/getDataSetOpnStdScsbidInfo?numOfRows=999&type=json&ServiceKey=hMw9eN6ZYKvMWUUvEykxVelOH07uAKhQYzFMUV5r4QpvdYgJehQANKE5bay%2B8Hgy660JdC9mVQCFhRKupVGwaw%3D%3D&bsnsDivCd=3&pageNo=121\n",
      "http://apis.data.go.kr/1230000/PubDataOpnStdService/getDataSetOpnStdScsbidInfo?numOfRows=999&type=json&ServiceKey=hMw9eN6ZYKvMWUUvEykxVelOH07uAKhQYzFMUV5r4QpvdYgJehQANKE5bay%2B8Hgy660JdC9mVQCFhRKupVGwaw%3D%3D&bsnsDivCd=3&pageNo=122\n",
      "http://apis.data.go.kr/1230000/PubDataOpnStdService/getDataSetOpnStdScsbidInfo?numOfRows=999&type=json&ServiceKey=hMw9eN6ZYKvMWUUvEykxVelOH07uAKhQYzFMUV5r4QpvdYgJehQANKE5bay%2B8Hgy660JdC9mVQCFhRKupVGwaw%3D%3D&bsnsDivCd=3&pageNo=123\n",
      "http://apis.data.go.kr/1230000/PubDataOpnStdService/getDataSetOpnStdScsbidInfo?numOfRows=999&type=json&ServiceKey=hMw9eN6ZYKvMWUUvEykxVelOH07uAKhQYzFMUV5r4QpvdYgJehQANKE5bay%2B8Hgy660JdC9mVQCFhRKupVGwaw%3D%3D&bsnsDivCd=3&pageNo=124\n",
      "http://apis.data.go.kr/1230000/PubDataOpnStdService/getDataSetOpnStdScsbidInfo?numOfRows=999&type=json&ServiceKey=hMw9eN6ZYKvMWUUvEykxVelOH07uAKhQYzFMUV5r4QpvdYgJehQANKE5bay%2B8Hgy660JdC9mVQCFhRKupVGwaw%3D%3D&bsnsDivCd=3&pageNo=125\n",
      "http://apis.data.go.kr/1230000/PubDataOpnStdService/getDataSetOpnStdScsbidInfo?numOfRows=999&type=json&ServiceKey=hMw9eN6ZYKvMWUUvEykxVelOH07uAKhQYzFMUV5r4QpvdYgJehQANKE5bay%2B8Hgy660JdC9mVQCFhRKupVGwaw%3D%3D&bsnsDivCd=3&pageNo=126\n",
      "http://apis.data.go.kr/1230000/PubDataOpnStdService/getDataSetOpnStdScsbidInfo?numOfRows=999&type=json&ServiceKey=hMw9eN6ZYKvMWUUvEykxVelOH07uAKhQYzFMUV5r4QpvdYgJehQANKE5bay%2B8Hgy660JdC9mVQCFhRKupVGwaw%3D%3D&bsnsDivCd=3&pageNo=127\n",
      "http://apis.data.go.kr/1230000/PubDataOpnStdService/getDataSetOpnStdScsbidInfo?numOfRows=999&type=json&ServiceKey=hMw9eN6ZYKvMWUUvEykxVelOH07uAKhQYzFMUV5r4QpvdYgJehQANKE5bay%2B8Hgy660JdC9mVQCFhRKupVGwaw%3D%3D&bsnsDivCd=3&pageNo=128\n",
      "http://apis.data.go.kr/1230000/PubDataOpnStdService/getDataSetOpnStdScsbidInfo?numOfRows=999&type=json&ServiceKey=hMw9eN6ZYKvMWUUvEykxVelOH07uAKhQYzFMUV5r4QpvdYgJehQANKE5bay%2B8Hgy660JdC9mVQCFhRKupVGwaw%3D%3D&bsnsDivCd=3&pageNo=129\n",
      "http://apis.data.go.kr/1230000/PubDataOpnStdService/getDataSetOpnStdScsbidInfo?numOfRows=999&type=json&ServiceKey=hMw9eN6ZYKvMWUUvEykxVelOH07uAKhQYzFMUV5r4QpvdYgJehQANKE5bay%2B8Hgy660JdC9mVQCFhRKupVGwaw%3D%3D&bsnsDivCd=3&pageNo=130\n",
      "http://apis.data.go.kr/1230000/PubDataOpnStdService/getDataSetOpnStdScsbidInfo?numOfRows=999&type=json&ServiceKey=hMw9eN6ZYKvMWUUvEykxVelOH07uAKhQYzFMUV5r4QpvdYgJehQANKE5bay%2B8Hgy660JdC9mVQCFhRKupVGwaw%3D%3D&bsnsDivCd=3&pageNo=131\n",
      "http://apis.data.go.kr/1230000/PubDataOpnStdService/getDataSetOpnStdScsbidInfo?numOfRows=999&type=json&ServiceKey=hMw9eN6ZYKvMWUUvEykxVelOH07uAKhQYzFMUV5r4QpvdYgJehQANKE5bay%2B8Hgy660JdC9mVQCFhRKupVGwaw%3D%3D&bsnsDivCd=3&pageNo=132\n",
      "http://apis.data.go.kr/1230000/PubDataOpnStdService/getDataSetOpnStdScsbidInfo?numOfRows=999&type=json&ServiceKey=hMw9eN6ZYKvMWUUvEykxVelOH07uAKhQYzFMUV5r4QpvdYgJehQANKE5bay%2B8Hgy660JdC9mVQCFhRKupVGwaw%3D%3D&bsnsDivCd=3&pageNo=133\n",
      "http://apis.data.go.kr/1230000/PubDataOpnStdService/getDataSetOpnStdScsbidInfo?numOfRows=999&type=json&ServiceKey=hMw9eN6ZYKvMWUUvEykxVelOH07uAKhQYzFMUV5r4QpvdYgJehQANKE5bay%2B8Hgy660JdC9mVQCFhRKupVGwaw%3D%3D&bsnsDivCd=3&pageNo=134\n",
      "http://apis.data.go.kr/1230000/PubDataOpnStdService/getDataSetOpnStdScsbidInfo?numOfRows=999&type=json&ServiceKey=hMw9eN6ZYKvMWUUvEykxVelOH07uAKhQYzFMUV5r4QpvdYgJehQANKE5bay%2B8Hgy660JdC9mVQCFhRKupVGwaw%3D%3D&bsnsDivCd=3&pageNo=135\n",
      "http://apis.data.go.kr/1230000/PubDataOpnStdService/getDataSetOpnStdScsbidInfo?numOfRows=999&type=json&ServiceKey=hMw9eN6ZYKvMWUUvEykxVelOH07uAKhQYzFMUV5r4QpvdYgJehQANKE5bay%2B8Hgy660JdC9mVQCFhRKupVGwaw%3D%3D&bsnsDivCd=3&pageNo=136\n",
      "http://apis.data.go.kr/1230000/PubDataOpnStdService/getDataSetOpnStdScsbidInfo?numOfRows=999&type=json&ServiceKey=hMw9eN6ZYKvMWUUvEykxVelOH07uAKhQYzFMUV5r4QpvdYgJehQANKE5bay%2B8Hgy660JdC9mVQCFhRKupVGwaw%3D%3D&bsnsDivCd=3&pageNo=137\n",
      "http://apis.data.go.kr/1230000/PubDataOpnStdService/getDataSetOpnStdScsbidInfo?numOfRows=999&type=json&ServiceKey=hMw9eN6ZYKvMWUUvEykxVelOH07uAKhQYzFMUV5r4QpvdYgJehQANKE5bay%2B8Hgy660JdC9mVQCFhRKupVGwaw%3D%3D&bsnsDivCd=3&pageNo=138\n",
      "http://apis.data.go.kr/1230000/PubDataOpnStdService/getDataSetOpnStdScsbidInfo?numOfRows=999&type=json&ServiceKey=hMw9eN6ZYKvMWUUvEykxVelOH07uAKhQYzFMUV5r4QpvdYgJehQANKE5bay%2B8Hgy660JdC9mVQCFhRKupVGwaw%3D%3D&bsnsDivCd=3&pageNo=139\n",
      "http://apis.data.go.kr/1230000/PubDataOpnStdService/getDataSetOpnStdScsbidInfo?numOfRows=999&type=json&ServiceKey=hMw9eN6ZYKvMWUUvEykxVelOH07uAKhQYzFMUV5r4QpvdYgJehQANKE5bay%2B8Hgy660JdC9mVQCFhRKupVGwaw%3D%3D&bsnsDivCd=3&pageNo=140\n",
      "http://apis.data.go.kr/1230000/PubDataOpnStdService/getDataSetOpnStdScsbidInfo?numOfRows=999&type=json&ServiceKey=hMw9eN6ZYKvMWUUvEykxVelOH07uAKhQYzFMUV5r4QpvdYgJehQANKE5bay%2B8Hgy660JdC9mVQCFhRKupVGwaw%3D%3D&bsnsDivCd=3&pageNo=141\n",
      "http://apis.data.go.kr/1230000/PubDataOpnStdService/getDataSetOpnStdScsbidInfo?numOfRows=999&type=json&ServiceKey=hMw9eN6ZYKvMWUUvEykxVelOH07uAKhQYzFMUV5r4QpvdYgJehQANKE5bay%2B8Hgy660JdC9mVQCFhRKupVGwaw%3D%3D&bsnsDivCd=3&pageNo=142\n",
      "http://apis.data.go.kr/1230000/PubDataOpnStdService/getDataSetOpnStdScsbidInfo?numOfRows=999&type=json&ServiceKey=hMw9eN6ZYKvMWUUvEykxVelOH07uAKhQYzFMUV5r4QpvdYgJehQANKE5bay%2B8Hgy660JdC9mVQCFhRKupVGwaw%3D%3D&bsnsDivCd=3&pageNo=143\n",
      "http://apis.data.go.kr/1230000/PubDataOpnStdService/getDataSetOpnStdScsbidInfo?numOfRows=999&type=json&ServiceKey=hMw9eN6ZYKvMWUUvEykxVelOH07uAKhQYzFMUV5r4QpvdYgJehQANKE5bay%2B8Hgy660JdC9mVQCFhRKupVGwaw%3D%3D&bsnsDivCd=3&pageNo=144\n",
      "http://apis.data.go.kr/1230000/PubDataOpnStdService/getDataSetOpnStdScsbidInfo?numOfRows=999&type=json&ServiceKey=hMw9eN6ZYKvMWUUvEykxVelOH07uAKhQYzFMUV5r4QpvdYgJehQANKE5bay%2B8Hgy660JdC9mVQCFhRKupVGwaw%3D%3D&bsnsDivCd=3&pageNo=145\n",
      "http://apis.data.go.kr/1230000/PubDataOpnStdService/getDataSetOpnStdScsbidInfo?numOfRows=999&type=json&ServiceKey=hMw9eN6ZYKvMWUUvEykxVelOH07uAKhQYzFMUV5r4QpvdYgJehQANKE5bay%2B8Hgy660JdC9mVQCFhRKupVGwaw%3D%3D&bsnsDivCd=3&pageNo=146\n",
      "http://apis.data.go.kr/1230000/PubDataOpnStdService/getDataSetOpnStdScsbidInfo?numOfRows=999&type=json&ServiceKey=hMw9eN6ZYKvMWUUvEykxVelOH07uAKhQYzFMUV5r4QpvdYgJehQANKE5bay%2B8Hgy660JdC9mVQCFhRKupVGwaw%3D%3D&bsnsDivCd=3&pageNo=147\n",
      "http://apis.data.go.kr/1230000/PubDataOpnStdService/getDataSetOpnStdScsbidInfo?numOfRows=999&type=json&ServiceKey=hMw9eN6ZYKvMWUUvEykxVelOH07uAKhQYzFMUV5r4QpvdYgJehQANKE5bay%2B8Hgy660JdC9mVQCFhRKupVGwaw%3D%3D&bsnsDivCd=3&pageNo=148\n",
      "http://apis.data.go.kr/1230000/PubDataOpnStdService/getDataSetOpnStdScsbidInfo?numOfRows=999&type=json&ServiceKey=hMw9eN6ZYKvMWUUvEykxVelOH07uAKhQYzFMUV5r4QpvdYgJehQANKE5bay%2B8Hgy660JdC9mVQCFhRKupVGwaw%3D%3D&bsnsDivCd=3&pageNo=149\n",
      "http://apis.data.go.kr/1230000/PubDataOpnStdService/getDataSetOpnStdScsbidInfo?numOfRows=999&type=json&ServiceKey=hMw9eN6ZYKvMWUUvEykxVelOH07uAKhQYzFMUV5r4QpvdYgJehQANKE5bay%2B8Hgy660JdC9mVQCFhRKupVGwaw%3D%3D&bsnsDivCd=3&pageNo=150\n",
      "http://apis.data.go.kr/1230000/PubDataOpnStdService/getDataSetOpnStdScsbidInfo?numOfRows=999&type=json&ServiceKey=hMw9eN6ZYKvMWUUvEykxVelOH07uAKhQYzFMUV5r4QpvdYgJehQANKE5bay%2B8Hgy660JdC9mVQCFhRKupVGwaw%3D%3D&bsnsDivCd=3&pageNo=151\n",
      "http://apis.data.go.kr/1230000/PubDataOpnStdService/getDataSetOpnStdScsbidInfo?numOfRows=999&type=json&ServiceKey=hMw9eN6ZYKvMWUUvEykxVelOH07uAKhQYzFMUV5r4QpvdYgJehQANKE5bay%2B8Hgy660JdC9mVQCFhRKupVGwaw%3D%3D&bsnsDivCd=3&pageNo=152\n",
      "http://apis.data.go.kr/1230000/PubDataOpnStdService/getDataSetOpnStdScsbidInfo?numOfRows=999&type=json&ServiceKey=hMw9eN6ZYKvMWUUvEykxVelOH07uAKhQYzFMUV5r4QpvdYgJehQANKE5bay%2B8Hgy660JdC9mVQCFhRKupVGwaw%3D%3D&bsnsDivCd=3&pageNo=153\n",
      "http://apis.data.go.kr/1230000/PubDataOpnStdService/getDataSetOpnStdScsbidInfo?numOfRows=999&type=json&ServiceKey=hMw9eN6ZYKvMWUUvEykxVelOH07uAKhQYzFMUV5r4QpvdYgJehQANKE5bay%2B8Hgy660JdC9mVQCFhRKupVGwaw%3D%3D&bsnsDivCd=3&pageNo=154\n",
      "http://apis.data.go.kr/1230000/PubDataOpnStdService/getDataSetOpnStdScsbidInfo?numOfRows=999&type=json&ServiceKey=hMw9eN6ZYKvMWUUvEykxVelOH07uAKhQYzFMUV5r4QpvdYgJehQANKE5bay%2B8Hgy660JdC9mVQCFhRKupVGwaw%3D%3D&bsnsDivCd=3&pageNo=155\n",
      "http://apis.data.go.kr/1230000/PubDataOpnStdService/getDataSetOpnStdScsbidInfo?numOfRows=999&type=json&ServiceKey=hMw9eN6ZYKvMWUUvEykxVelOH07uAKhQYzFMUV5r4QpvdYgJehQANKE5bay%2B8Hgy660JdC9mVQCFhRKupVGwaw%3D%3D&bsnsDivCd=3&pageNo=156\n",
      "http://apis.data.go.kr/1230000/PubDataOpnStdService/getDataSetOpnStdScsbidInfo?numOfRows=999&type=json&ServiceKey=hMw9eN6ZYKvMWUUvEykxVelOH07uAKhQYzFMUV5r4QpvdYgJehQANKE5bay%2B8Hgy660JdC9mVQCFhRKupVGwaw%3D%3D&bsnsDivCd=3&pageNo=157\n",
      "http://apis.data.go.kr/1230000/PubDataOpnStdService/getDataSetOpnStdScsbidInfo?numOfRows=999&type=json&ServiceKey=hMw9eN6ZYKvMWUUvEykxVelOH07uAKhQYzFMUV5r4QpvdYgJehQANKE5bay%2B8Hgy660JdC9mVQCFhRKupVGwaw%3D%3D&bsnsDivCd=3&pageNo=158\n",
      "http://apis.data.go.kr/1230000/PubDataOpnStdService/getDataSetOpnStdScsbidInfo?numOfRows=999&type=json&ServiceKey=hMw9eN6ZYKvMWUUvEykxVelOH07uAKhQYzFMUV5r4QpvdYgJehQANKE5bay%2B8Hgy660JdC9mVQCFhRKupVGwaw%3D%3D&bsnsDivCd=3&pageNo=159\n",
      "http://apis.data.go.kr/1230000/PubDataOpnStdService/getDataSetOpnStdScsbidInfo?numOfRows=999&type=json&ServiceKey=hMw9eN6ZYKvMWUUvEykxVelOH07uAKhQYzFMUV5r4QpvdYgJehQANKE5bay%2B8Hgy660JdC9mVQCFhRKupVGwaw%3D%3D&bsnsDivCd=3&pageNo=160\n",
      "http://apis.data.go.kr/1230000/PubDataOpnStdService/getDataSetOpnStdScsbidInfo?numOfRows=999&type=json&ServiceKey=hMw9eN6ZYKvMWUUvEykxVelOH07uAKhQYzFMUV5r4QpvdYgJehQANKE5bay%2B8Hgy660JdC9mVQCFhRKupVGwaw%3D%3D&bsnsDivCd=3&pageNo=161\n",
      "http://apis.data.go.kr/1230000/PubDataOpnStdService/getDataSetOpnStdScsbidInfo?numOfRows=999&type=json&ServiceKey=hMw9eN6ZYKvMWUUvEykxVelOH07uAKhQYzFMUV5r4QpvdYgJehQANKE5bay%2B8Hgy660JdC9mVQCFhRKupVGwaw%3D%3D&bsnsDivCd=3&pageNo=162\n",
      "http://apis.data.go.kr/1230000/PubDataOpnStdService/getDataSetOpnStdScsbidInfo?numOfRows=999&type=json&ServiceKey=hMw9eN6ZYKvMWUUvEykxVelOH07uAKhQYzFMUV5r4QpvdYgJehQANKE5bay%2B8Hgy660JdC9mVQCFhRKupVGwaw%3D%3D&bsnsDivCd=3&pageNo=163\n",
      "http://apis.data.go.kr/1230000/PubDataOpnStdService/getDataSetOpnStdScsbidInfo?numOfRows=999&type=json&ServiceKey=hMw9eN6ZYKvMWUUvEykxVelOH07uAKhQYzFMUV5r4QpvdYgJehQANKE5bay%2B8Hgy660JdC9mVQCFhRKupVGwaw%3D%3D&bsnsDivCd=3&pageNo=164\n",
      "http://apis.data.go.kr/1230000/PubDataOpnStdService/getDataSetOpnStdScsbidInfo?numOfRows=999&type=json&ServiceKey=hMw9eN6ZYKvMWUUvEykxVelOH07uAKhQYzFMUV5r4QpvdYgJehQANKE5bay%2B8Hgy660JdC9mVQCFhRKupVGwaw%3D%3D&bsnsDivCd=3&pageNo=165\n",
      "http://apis.data.go.kr/1230000/PubDataOpnStdService/getDataSetOpnStdScsbidInfo?numOfRows=999&type=json&ServiceKey=hMw9eN6ZYKvMWUUvEykxVelOH07uAKhQYzFMUV5r4QpvdYgJehQANKE5bay%2B8Hgy660JdC9mVQCFhRKupVGwaw%3D%3D&bsnsDivCd=3&pageNo=166\n",
      "http://apis.data.go.kr/1230000/PubDataOpnStdService/getDataSetOpnStdScsbidInfo?numOfRows=999&type=json&ServiceKey=hMw9eN6ZYKvMWUUvEykxVelOH07uAKhQYzFMUV5r4QpvdYgJehQANKE5bay%2B8Hgy660JdC9mVQCFhRKupVGwaw%3D%3D&bsnsDivCd=3&pageNo=167\n",
      "http://apis.data.go.kr/1230000/PubDataOpnStdService/getDataSetOpnStdScsbidInfo?numOfRows=999&type=json&ServiceKey=hMw9eN6ZYKvMWUUvEykxVelOH07uAKhQYzFMUV5r4QpvdYgJehQANKE5bay%2B8Hgy660JdC9mVQCFhRKupVGwaw%3D%3D&bsnsDivCd=3&pageNo=168\n",
      "http://apis.data.go.kr/1230000/PubDataOpnStdService/getDataSetOpnStdScsbidInfo?numOfRows=999&type=json&ServiceKey=hMw9eN6ZYKvMWUUvEykxVelOH07uAKhQYzFMUV5r4QpvdYgJehQANKE5bay%2B8Hgy660JdC9mVQCFhRKupVGwaw%3D%3D&bsnsDivCd=3&pageNo=169\n",
      "http://apis.data.go.kr/1230000/PubDataOpnStdService/getDataSetOpnStdScsbidInfo?numOfRows=999&type=json&ServiceKey=hMw9eN6ZYKvMWUUvEykxVelOH07uAKhQYzFMUV5r4QpvdYgJehQANKE5bay%2B8Hgy660JdC9mVQCFhRKupVGwaw%3D%3D&bsnsDivCd=3&pageNo=170\n",
      "http://apis.data.go.kr/1230000/PubDataOpnStdService/getDataSetOpnStdScsbidInfo?numOfRows=999&type=json&ServiceKey=hMw9eN6ZYKvMWUUvEykxVelOH07uAKhQYzFMUV5r4QpvdYgJehQANKE5bay%2B8Hgy660JdC9mVQCFhRKupVGwaw%3D%3D&bsnsDivCd=3&pageNo=171\n",
      "http://apis.data.go.kr/1230000/PubDataOpnStdService/getDataSetOpnStdScsbidInfo?numOfRows=999&type=json&ServiceKey=hMw9eN6ZYKvMWUUvEykxVelOH07uAKhQYzFMUV5r4QpvdYgJehQANKE5bay%2B8Hgy660JdC9mVQCFhRKupVGwaw%3D%3D&bsnsDivCd=3&pageNo=172\n",
      "http://apis.data.go.kr/1230000/PubDataOpnStdService/getDataSetOpnStdScsbidInfo?numOfRows=999&type=json&ServiceKey=hMw9eN6ZYKvMWUUvEykxVelOH07uAKhQYzFMUV5r4QpvdYgJehQANKE5bay%2B8Hgy660JdC9mVQCFhRKupVGwaw%3D%3D&bsnsDivCd=3&pageNo=173\n",
      "http://apis.data.go.kr/1230000/PubDataOpnStdService/getDataSetOpnStdScsbidInfo?numOfRows=999&type=json&ServiceKey=hMw9eN6ZYKvMWUUvEykxVelOH07uAKhQYzFMUV5r4QpvdYgJehQANKE5bay%2B8Hgy660JdC9mVQCFhRKupVGwaw%3D%3D&bsnsDivCd=3&pageNo=174\n",
      "http://apis.data.go.kr/1230000/PubDataOpnStdService/getDataSetOpnStdScsbidInfo?numOfRows=999&type=json&ServiceKey=hMw9eN6ZYKvMWUUvEykxVelOH07uAKhQYzFMUV5r4QpvdYgJehQANKE5bay%2B8Hgy660JdC9mVQCFhRKupVGwaw%3D%3D&bsnsDivCd=3&pageNo=175\n",
      "http://apis.data.go.kr/1230000/PubDataOpnStdService/getDataSetOpnStdScsbidInfo?numOfRows=999&type=json&ServiceKey=hMw9eN6ZYKvMWUUvEykxVelOH07uAKhQYzFMUV5r4QpvdYgJehQANKE5bay%2B8Hgy660JdC9mVQCFhRKupVGwaw%3D%3D&bsnsDivCd=3&pageNo=176\n",
      "http://apis.data.go.kr/1230000/PubDataOpnStdService/getDataSetOpnStdScsbidInfo?numOfRows=999&type=json&ServiceKey=hMw9eN6ZYKvMWUUvEykxVelOH07uAKhQYzFMUV5r4QpvdYgJehQANKE5bay%2B8Hgy660JdC9mVQCFhRKupVGwaw%3D%3D&bsnsDivCd=3&pageNo=177\n",
      "http://apis.data.go.kr/1230000/PubDataOpnStdService/getDataSetOpnStdScsbidInfo?numOfRows=999&type=json&ServiceKey=hMw9eN6ZYKvMWUUvEykxVelOH07uAKhQYzFMUV5r4QpvdYgJehQANKE5bay%2B8Hgy660JdC9mVQCFhRKupVGwaw%3D%3D&bsnsDivCd=3&pageNo=178\n",
      "http://apis.data.go.kr/1230000/PubDataOpnStdService/getDataSetOpnStdScsbidInfo?numOfRows=999&type=json&ServiceKey=hMw9eN6ZYKvMWUUvEykxVelOH07uAKhQYzFMUV5r4QpvdYgJehQANKE5bay%2B8Hgy660JdC9mVQCFhRKupVGwaw%3D%3D&bsnsDivCd=3&pageNo=179\n",
      "http://apis.data.go.kr/1230000/PubDataOpnStdService/getDataSetOpnStdScsbidInfo?numOfRows=999&type=json&ServiceKey=hMw9eN6ZYKvMWUUvEykxVelOH07uAKhQYzFMUV5r4QpvdYgJehQANKE5bay%2B8Hgy660JdC9mVQCFhRKupVGwaw%3D%3D&bsnsDivCd=3&pageNo=180\n",
      "http://apis.data.go.kr/1230000/PubDataOpnStdService/getDataSetOpnStdScsbidInfo?numOfRows=999&type=json&ServiceKey=hMw9eN6ZYKvMWUUvEykxVelOH07uAKhQYzFMUV5r4QpvdYgJehQANKE5bay%2B8Hgy660JdC9mVQCFhRKupVGwaw%3D%3D&bsnsDivCd=3&pageNo=181\n",
      "http://apis.data.go.kr/1230000/PubDataOpnStdService/getDataSetOpnStdScsbidInfo?numOfRows=999&type=json&ServiceKey=hMw9eN6ZYKvMWUUvEykxVelOH07uAKhQYzFMUV5r4QpvdYgJehQANKE5bay%2B8Hgy660JdC9mVQCFhRKupVGwaw%3D%3D&bsnsDivCd=3&pageNo=182\n",
      "http://apis.data.go.kr/1230000/PubDataOpnStdService/getDataSetOpnStdScsbidInfo?numOfRows=999&type=json&ServiceKey=hMw9eN6ZYKvMWUUvEykxVelOH07uAKhQYzFMUV5r4QpvdYgJehQANKE5bay%2B8Hgy660JdC9mVQCFhRKupVGwaw%3D%3D&bsnsDivCd=3&pageNo=183\n",
      "http://apis.data.go.kr/1230000/PubDataOpnStdService/getDataSetOpnStdScsbidInfo?numOfRows=999&type=json&ServiceKey=hMw9eN6ZYKvMWUUvEykxVelOH07uAKhQYzFMUV5r4QpvdYgJehQANKE5bay%2B8Hgy660JdC9mVQCFhRKupVGwaw%3D%3D&bsnsDivCd=3&pageNo=184\n",
      "http://apis.data.go.kr/1230000/PubDataOpnStdService/getDataSetOpnStdScsbidInfo?numOfRows=999&type=json&ServiceKey=hMw9eN6ZYKvMWUUvEykxVelOH07uAKhQYzFMUV5r4QpvdYgJehQANKE5bay%2B8Hgy660JdC9mVQCFhRKupVGwaw%3D%3D&bsnsDivCd=3&pageNo=185\n",
      "http://apis.data.go.kr/1230000/PubDataOpnStdService/getDataSetOpnStdScsbidInfo?numOfRows=999&type=json&ServiceKey=hMw9eN6ZYKvMWUUvEykxVelOH07uAKhQYzFMUV5r4QpvdYgJehQANKE5bay%2B8Hgy660JdC9mVQCFhRKupVGwaw%3D%3D&bsnsDivCd=3&pageNo=186\n",
      "http://apis.data.go.kr/1230000/PubDataOpnStdService/getDataSetOpnStdScsbidInfo?numOfRows=999&type=json&ServiceKey=hMw9eN6ZYKvMWUUvEykxVelOH07uAKhQYzFMUV5r4QpvdYgJehQANKE5bay%2B8Hgy660JdC9mVQCFhRKupVGwaw%3D%3D&bsnsDivCd=3&pageNo=187\n",
      "http://apis.data.go.kr/1230000/PubDataOpnStdService/getDataSetOpnStdScsbidInfo?numOfRows=999&type=json&ServiceKey=hMw9eN6ZYKvMWUUvEykxVelOH07uAKhQYzFMUV5r4QpvdYgJehQANKE5bay%2B8Hgy660JdC9mVQCFhRKupVGwaw%3D%3D&bsnsDivCd=3&pageNo=188\n",
      "http://apis.data.go.kr/1230000/PubDataOpnStdService/getDataSetOpnStdScsbidInfo?numOfRows=999&type=json&ServiceKey=hMw9eN6ZYKvMWUUvEykxVelOH07uAKhQYzFMUV5r4QpvdYgJehQANKE5bay%2B8Hgy660JdC9mVQCFhRKupVGwaw%3D%3D&bsnsDivCd=3&pageNo=189\n",
      "http://apis.data.go.kr/1230000/PubDataOpnStdService/getDataSetOpnStdScsbidInfo?numOfRows=999&type=json&ServiceKey=hMw9eN6ZYKvMWUUvEykxVelOH07uAKhQYzFMUV5r4QpvdYgJehQANKE5bay%2B8Hgy660JdC9mVQCFhRKupVGwaw%3D%3D&bsnsDivCd=3&pageNo=190\n",
      "http://apis.data.go.kr/1230000/PubDataOpnStdService/getDataSetOpnStdScsbidInfo?numOfRows=999&type=json&ServiceKey=hMw9eN6ZYKvMWUUvEykxVelOH07uAKhQYzFMUV5r4QpvdYgJehQANKE5bay%2B8Hgy660JdC9mVQCFhRKupVGwaw%3D%3D&bsnsDivCd=3&pageNo=191\n",
      "http://apis.data.go.kr/1230000/PubDataOpnStdService/getDataSetOpnStdScsbidInfo?numOfRows=999&type=json&ServiceKey=hMw9eN6ZYKvMWUUvEykxVelOH07uAKhQYzFMUV5r4QpvdYgJehQANKE5bay%2B8Hgy660JdC9mVQCFhRKupVGwaw%3D%3D&bsnsDivCd=3&pageNo=192\n",
      "http://apis.data.go.kr/1230000/PubDataOpnStdService/getDataSetOpnStdScsbidInfo?numOfRows=999&type=json&ServiceKey=hMw9eN6ZYKvMWUUvEykxVelOH07uAKhQYzFMUV5r4QpvdYgJehQANKE5bay%2B8Hgy660JdC9mVQCFhRKupVGwaw%3D%3D&bsnsDivCd=3&pageNo=193\n",
      "http://apis.data.go.kr/1230000/PubDataOpnStdService/getDataSetOpnStdScsbidInfo?numOfRows=999&type=json&ServiceKey=hMw9eN6ZYKvMWUUvEykxVelOH07uAKhQYzFMUV5r4QpvdYgJehQANKE5bay%2B8Hgy660JdC9mVQCFhRKupVGwaw%3D%3D&bsnsDivCd=3&pageNo=194\n",
      "http://apis.data.go.kr/1230000/PubDataOpnStdService/getDataSetOpnStdScsbidInfo?numOfRows=999&type=json&ServiceKey=hMw9eN6ZYKvMWUUvEykxVelOH07uAKhQYzFMUV5r4QpvdYgJehQANKE5bay%2B8Hgy660JdC9mVQCFhRKupVGwaw%3D%3D&bsnsDivCd=3&pageNo=195\n",
      "http://apis.data.go.kr/1230000/PubDataOpnStdService/getDataSetOpnStdScsbidInfo?numOfRows=999&type=json&ServiceKey=hMw9eN6ZYKvMWUUvEykxVelOH07uAKhQYzFMUV5r4QpvdYgJehQANKE5bay%2B8Hgy660JdC9mVQCFhRKupVGwaw%3D%3D&bsnsDivCd=3&pageNo=196\n",
      "http://apis.data.go.kr/1230000/PubDataOpnStdService/getDataSetOpnStdScsbidInfo?numOfRows=999&type=json&ServiceKey=hMw9eN6ZYKvMWUUvEykxVelOH07uAKhQYzFMUV5r4QpvdYgJehQANKE5bay%2B8Hgy660JdC9mVQCFhRKupVGwaw%3D%3D&bsnsDivCd=3&pageNo=197\n",
      "http://apis.data.go.kr/1230000/PubDataOpnStdService/getDataSetOpnStdScsbidInfo?numOfRows=999&type=json&ServiceKey=hMw9eN6ZYKvMWUUvEykxVelOH07uAKhQYzFMUV5r4QpvdYgJehQANKE5bay%2B8Hgy660JdC9mVQCFhRKupVGwaw%3D%3D&bsnsDivCd=3&pageNo=198\n",
      "http://apis.data.go.kr/1230000/PubDataOpnStdService/getDataSetOpnStdScsbidInfo?numOfRows=999&type=json&ServiceKey=hMw9eN6ZYKvMWUUvEykxVelOH07uAKhQYzFMUV5r4QpvdYgJehQANKE5bay%2B8Hgy660JdC9mVQCFhRKupVGwaw%3D%3D&bsnsDivCd=3&pageNo=199\n",
      "http://apis.data.go.kr/1230000/PubDataOpnStdService/getDataSetOpnStdScsbidInfo?numOfRows=999&type=json&ServiceKey=hMw9eN6ZYKvMWUUvEykxVelOH07uAKhQYzFMUV5r4QpvdYgJehQANKE5bay%2B8Hgy660JdC9mVQCFhRKupVGwaw%3D%3D&bsnsDivCd=3&pageNo=200\n",
      "http://apis.data.go.kr/1230000/PubDataOpnStdService/getDataSetOpnStdScsbidInfo?numOfRows=999&type=json&ServiceKey=hMw9eN6ZYKvMWUUvEykxVelOH07uAKhQYzFMUV5r4QpvdYgJehQANKE5bay%2B8Hgy660JdC9mVQCFhRKupVGwaw%3D%3D&bsnsDivCd=3&pageNo=201\n",
      "http://apis.data.go.kr/1230000/PubDataOpnStdService/getDataSetOpnStdScsbidInfo?numOfRows=999&type=json&ServiceKey=hMw9eN6ZYKvMWUUvEykxVelOH07uAKhQYzFMUV5r4QpvdYgJehQANKE5bay%2B8Hgy660JdC9mVQCFhRKupVGwaw%3D%3D&bsnsDivCd=3&pageNo=202\n",
      "http://apis.data.go.kr/1230000/PubDataOpnStdService/getDataSetOpnStdScsbidInfo?numOfRows=999&type=json&ServiceKey=hMw9eN6ZYKvMWUUvEykxVelOH07uAKhQYzFMUV5r4QpvdYgJehQANKE5bay%2B8Hgy660JdC9mVQCFhRKupVGwaw%3D%3D&bsnsDivCd=3&pageNo=203\n",
      "http://apis.data.go.kr/1230000/PubDataOpnStdService/getDataSetOpnStdScsbidInfo?numOfRows=999&type=json&ServiceKey=hMw9eN6ZYKvMWUUvEykxVelOH07uAKhQYzFMUV5r4QpvdYgJehQANKE5bay%2B8Hgy660JdC9mVQCFhRKupVGwaw%3D%3D&bsnsDivCd=3&pageNo=204\n",
      "http://apis.data.go.kr/1230000/PubDataOpnStdService/getDataSetOpnStdScsbidInfo?numOfRows=999&type=json&ServiceKey=hMw9eN6ZYKvMWUUvEykxVelOH07uAKhQYzFMUV5r4QpvdYgJehQANKE5bay%2B8Hgy660JdC9mVQCFhRKupVGwaw%3D%3D&bsnsDivCd=3&pageNo=205\n",
      "http://apis.data.go.kr/1230000/PubDataOpnStdService/getDataSetOpnStdScsbidInfo?numOfRows=999&type=json&ServiceKey=hMw9eN6ZYKvMWUUvEykxVelOH07uAKhQYzFMUV5r4QpvdYgJehQANKE5bay%2B8Hgy660JdC9mVQCFhRKupVGwaw%3D%3D&bsnsDivCd=3&pageNo=206\n",
      "http://apis.data.go.kr/1230000/PubDataOpnStdService/getDataSetOpnStdScsbidInfo?numOfRows=999&type=json&ServiceKey=hMw9eN6ZYKvMWUUvEykxVelOH07uAKhQYzFMUV5r4QpvdYgJehQANKE5bay%2B8Hgy660JdC9mVQCFhRKupVGwaw%3D%3D&bsnsDivCd=3&pageNo=207\n",
      "http://apis.data.go.kr/1230000/PubDataOpnStdService/getDataSetOpnStdScsbidInfo?numOfRows=999&type=json&ServiceKey=hMw9eN6ZYKvMWUUvEykxVelOH07uAKhQYzFMUV5r4QpvdYgJehQANKE5bay%2B8Hgy660JdC9mVQCFhRKupVGwaw%3D%3D&bsnsDivCd=3&pageNo=208\n",
      "http://apis.data.go.kr/1230000/PubDataOpnStdService/getDataSetOpnStdScsbidInfo?numOfRows=999&type=json&ServiceKey=hMw9eN6ZYKvMWUUvEykxVelOH07uAKhQYzFMUV5r4QpvdYgJehQANKE5bay%2B8Hgy660JdC9mVQCFhRKupVGwaw%3D%3D&bsnsDivCd=3&pageNo=209\n",
      "http://apis.data.go.kr/1230000/PubDataOpnStdService/getDataSetOpnStdScsbidInfo?numOfRows=999&type=json&ServiceKey=hMw9eN6ZYKvMWUUvEykxVelOH07uAKhQYzFMUV5r4QpvdYgJehQANKE5bay%2B8Hgy660JdC9mVQCFhRKupVGwaw%3D%3D&bsnsDivCd=3&pageNo=210\n",
      "http://apis.data.go.kr/1230000/PubDataOpnStdService/getDataSetOpnStdScsbidInfo?numOfRows=999&type=json&ServiceKey=hMw9eN6ZYKvMWUUvEykxVelOH07uAKhQYzFMUV5r4QpvdYgJehQANKE5bay%2B8Hgy660JdC9mVQCFhRKupVGwaw%3D%3D&bsnsDivCd=3&pageNo=211\n",
      "http://apis.data.go.kr/1230000/PubDataOpnStdService/getDataSetOpnStdScsbidInfo?numOfRows=999&type=json&ServiceKey=hMw9eN6ZYKvMWUUvEykxVelOH07uAKhQYzFMUV5r4QpvdYgJehQANKE5bay%2B8Hgy660JdC9mVQCFhRKupVGwaw%3D%3D&bsnsDivCd=3&pageNo=212\n",
      "http://apis.data.go.kr/1230000/PubDataOpnStdService/getDataSetOpnStdScsbidInfo?numOfRows=999&type=json&ServiceKey=hMw9eN6ZYKvMWUUvEykxVelOH07uAKhQYzFMUV5r4QpvdYgJehQANKE5bay%2B8Hgy660JdC9mVQCFhRKupVGwaw%3D%3D&bsnsDivCd=3&pageNo=213\n",
      "http://apis.data.go.kr/1230000/PubDataOpnStdService/getDataSetOpnStdScsbidInfo?numOfRows=999&type=json&ServiceKey=hMw9eN6ZYKvMWUUvEykxVelOH07uAKhQYzFMUV5r4QpvdYgJehQANKE5bay%2B8Hgy660JdC9mVQCFhRKupVGwaw%3D%3D&bsnsDivCd=3&pageNo=214\n",
      "http://apis.data.go.kr/1230000/PubDataOpnStdService/getDataSetOpnStdScsbidInfo?numOfRows=999&type=json&ServiceKey=hMw9eN6ZYKvMWUUvEykxVelOH07uAKhQYzFMUV5r4QpvdYgJehQANKE5bay%2B8Hgy660JdC9mVQCFhRKupVGwaw%3D%3D&bsnsDivCd=3&pageNo=215\n",
      "http://apis.data.go.kr/1230000/PubDataOpnStdService/getDataSetOpnStdScsbidInfo?numOfRows=999&type=json&ServiceKey=hMw9eN6ZYKvMWUUvEykxVelOH07uAKhQYzFMUV5r4QpvdYgJehQANKE5bay%2B8Hgy660JdC9mVQCFhRKupVGwaw%3D%3D&bsnsDivCd=3&pageNo=216\n",
      "http://apis.data.go.kr/1230000/PubDataOpnStdService/getDataSetOpnStdScsbidInfo?numOfRows=999&type=json&ServiceKey=hMw9eN6ZYKvMWUUvEykxVelOH07uAKhQYzFMUV5r4QpvdYgJehQANKE5bay%2B8Hgy660JdC9mVQCFhRKupVGwaw%3D%3D&bsnsDivCd=3&pageNo=217\n",
      "http://apis.data.go.kr/1230000/PubDataOpnStdService/getDataSetOpnStdScsbidInfo?numOfRows=999&type=json&ServiceKey=hMw9eN6ZYKvMWUUvEykxVelOH07uAKhQYzFMUV5r4QpvdYgJehQANKE5bay%2B8Hgy660JdC9mVQCFhRKupVGwaw%3D%3D&bsnsDivCd=3&pageNo=218\n",
      "http://apis.data.go.kr/1230000/PubDataOpnStdService/getDataSetOpnStdScsbidInfo?numOfRows=999&type=json&ServiceKey=hMw9eN6ZYKvMWUUvEykxVelOH07uAKhQYzFMUV5r4QpvdYgJehQANKE5bay%2B8Hgy660JdC9mVQCFhRKupVGwaw%3D%3D&bsnsDivCd=3&pageNo=219\n",
      "http://apis.data.go.kr/1230000/PubDataOpnStdService/getDataSetOpnStdScsbidInfo?numOfRows=999&type=json&ServiceKey=hMw9eN6ZYKvMWUUvEykxVelOH07uAKhQYzFMUV5r4QpvdYgJehQANKE5bay%2B8Hgy660JdC9mVQCFhRKupVGwaw%3D%3D&bsnsDivCd=3&pageNo=220\n",
      "http://apis.data.go.kr/1230000/PubDataOpnStdService/getDataSetOpnStdScsbidInfo?numOfRows=999&type=json&ServiceKey=hMw9eN6ZYKvMWUUvEykxVelOH07uAKhQYzFMUV5r4QpvdYgJehQANKE5bay%2B8Hgy660JdC9mVQCFhRKupVGwaw%3D%3D&bsnsDivCd=3&pageNo=221\n",
      "http://apis.data.go.kr/1230000/PubDataOpnStdService/getDataSetOpnStdScsbidInfo?numOfRows=999&type=json&ServiceKey=hMw9eN6ZYKvMWUUvEykxVelOH07uAKhQYzFMUV5r4QpvdYgJehQANKE5bay%2B8Hgy660JdC9mVQCFhRKupVGwaw%3D%3D&bsnsDivCd=3&pageNo=222\n",
      "http://apis.data.go.kr/1230000/PubDataOpnStdService/getDataSetOpnStdScsbidInfo?numOfRows=999&type=json&ServiceKey=hMw9eN6ZYKvMWUUvEykxVelOH07uAKhQYzFMUV5r4QpvdYgJehQANKE5bay%2B8Hgy660JdC9mVQCFhRKupVGwaw%3D%3D&bsnsDivCd=3&pageNo=223\n",
      "http://apis.data.go.kr/1230000/PubDataOpnStdService/getDataSetOpnStdScsbidInfo?numOfRows=999&type=json&ServiceKey=hMw9eN6ZYKvMWUUvEykxVelOH07uAKhQYzFMUV5r4QpvdYgJehQANKE5bay%2B8Hgy660JdC9mVQCFhRKupVGwaw%3D%3D&bsnsDivCd=3&pageNo=224\n",
      "http://apis.data.go.kr/1230000/PubDataOpnStdService/getDataSetOpnStdScsbidInfo?numOfRows=999&type=json&ServiceKey=hMw9eN6ZYKvMWUUvEykxVelOH07uAKhQYzFMUV5r4QpvdYgJehQANKE5bay%2B8Hgy660JdC9mVQCFhRKupVGwaw%3D%3D&bsnsDivCd=3&pageNo=225\n",
      "http://apis.data.go.kr/1230000/PubDataOpnStdService/getDataSetOpnStdScsbidInfo?numOfRows=999&type=json&ServiceKey=hMw9eN6ZYKvMWUUvEykxVelOH07uAKhQYzFMUV5r4QpvdYgJehQANKE5bay%2B8Hgy660JdC9mVQCFhRKupVGwaw%3D%3D&bsnsDivCd=3&pageNo=226\n",
      "http://apis.data.go.kr/1230000/PubDataOpnStdService/getDataSetOpnStdScsbidInfo?numOfRows=999&type=json&ServiceKey=hMw9eN6ZYKvMWUUvEykxVelOH07uAKhQYzFMUV5r4QpvdYgJehQANKE5bay%2B8Hgy660JdC9mVQCFhRKupVGwaw%3D%3D&bsnsDivCd=3&pageNo=227\n",
      "http://apis.data.go.kr/1230000/PubDataOpnStdService/getDataSetOpnStdScsbidInfo?numOfRows=999&type=json&ServiceKey=hMw9eN6ZYKvMWUUvEykxVelOH07uAKhQYzFMUV5r4QpvdYgJehQANKE5bay%2B8Hgy660JdC9mVQCFhRKupVGwaw%3D%3D&bsnsDivCd=3&pageNo=228\n",
      "http://apis.data.go.kr/1230000/PubDataOpnStdService/getDataSetOpnStdScsbidInfo?numOfRows=999&type=json&ServiceKey=hMw9eN6ZYKvMWUUvEykxVelOH07uAKhQYzFMUV5r4QpvdYgJehQANKE5bay%2B8Hgy660JdC9mVQCFhRKupVGwaw%3D%3D&bsnsDivCd=3&pageNo=229\n",
      "http://apis.data.go.kr/1230000/PubDataOpnStdService/getDataSetOpnStdScsbidInfo?numOfRows=999&type=json&ServiceKey=hMw9eN6ZYKvMWUUvEykxVelOH07uAKhQYzFMUV5r4QpvdYgJehQANKE5bay%2B8Hgy660JdC9mVQCFhRKupVGwaw%3D%3D&bsnsDivCd=3&pageNo=230\n",
      "http://apis.data.go.kr/1230000/PubDataOpnStdService/getDataSetOpnStdScsbidInfo?numOfRows=999&type=json&ServiceKey=hMw9eN6ZYKvMWUUvEykxVelOH07uAKhQYzFMUV5r4QpvdYgJehQANKE5bay%2B8Hgy660JdC9mVQCFhRKupVGwaw%3D%3D&bsnsDivCd=3&pageNo=231\n",
      "http://apis.data.go.kr/1230000/PubDataOpnStdService/getDataSetOpnStdScsbidInfo?numOfRows=999&type=json&ServiceKey=hMw9eN6ZYKvMWUUvEykxVelOH07uAKhQYzFMUV5r4QpvdYgJehQANKE5bay%2B8Hgy660JdC9mVQCFhRKupVGwaw%3D%3D&bsnsDivCd=3&pageNo=232\n",
      "http://apis.data.go.kr/1230000/PubDataOpnStdService/getDataSetOpnStdScsbidInfo?numOfRows=999&type=json&ServiceKey=hMw9eN6ZYKvMWUUvEykxVelOH07uAKhQYzFMUV5r4QpvdYgJehQANKE5bay%2B8Hgy660JdC9mVQCFhRKupVGwaw%3D%3D&bsnsDivCd=3&pageNo=233\n",
      "http://apis.data.go.kr/1230000/PubDataOpnStdService/getDataSetOpnStdScsbidInfo?numOfRows=999&type=json&ServiceKey=hMw9eN6ZYKvMWUUvEykxVelOH07uAKhQYzFMUV5r4QpvdYgJehQANKE5bay%2B8Hgy660JdC9mVQCFhRKupVGwaw%3D%3D&bsnsDivCd=3&pageNo=234\n",
      "http://apis.data.go.kr/1230000/PubDataOpnStdService/getDataSetOpnStdScsbidInfo?numOfRows=999&type=json&ServiceKey=hMw9eN6ZYKvMWUUvEykxVelOH07uAKhQYzFMUV5r4QpvdYgJehQANKE5bay%2B8Hgy660JdC9mVQCFhRKupVGwaw%3D%3D&bsnsDivCd=3&pageNo=235\n",
      "http://apis.data.go.kr/1230000/PubDataOpnStdService/getDataSetOpnStdScsbidInfo?numOfRows=999&type=json&ServiceKey=hMw9eN6ZYKvMWUUvEykxVelOH07uAKhQYzFMUV5r4QpvdYgJehQANKE5bay%2B8Hgy660JdC9mVQCFhRKupVGwaw%3D%3D&bsnsDivCd=3&pageNo=236\n",
      "http://apis.data.go.kr/1230000/PubDataOpnStdService/getDataSetOpnStdScsbidInfo?numOfRows=999&type=json&ServiceKey=hMw9eN6ZYKvMWUUvEykxVelOH07uAKhQYzFMUV5r4QpvdYgJehQANKE5bay%2B8Hgy660JdC9mVQCFhRKupVGwaw%3D%3D&bsnsDivCd=3&pageNo=237\n",
      "http://apis.data.go.kr/1230000/PubDataOpnStdService/getDataSetOpnStdScsbidInfo?numOfRows=999&type=json&ServiceKey=hMw9eN6ZYKvMWUUvEykxVelOH07uAKhQYzFMUV5r4QpvdYgJehQANKE5bay%2B8Hgy660JdC9mVQCFhRKupVGwaw%3D%3D&bsnsDivCd=3&pageNo=238\n",
      "http://apis.data.go.kr/1230000/PubDataOpnStdService/getDataSetOpnStdScsbidInfo?numOfRows=999&type=json&ServiceKey=hMw9eN6ZYKvMWUUvEykxVelOH07uAKhQYzFMUV5r4QpvdYgJehQANKE5bay%2B8Hgy660JdC9mVQCFhRKupVGwaw%3D%3D&bsnsDivCd=3&pageNo=239\n",
      "http://apis.data.go.kr/1230000/PubDataOpnStdService/getDataSetOpnStdScsbidInfo?numOfRows=999&type=json&ServiceKey=hMw9eN6ZYKvMWUUvEykxVelOH07uAKhQYzFMUV5r4QpvdYgJehQANKE5bay%2B8Hgy660JdC9mVQCFhRKupVGwaw%3D%3D&bsnsDivCd=3&pageNo=240\n",
      "http://apis.data.go.kr/1230000/PubDataOpnStdService/getDataSetOpnStdScsbidInfo?numOfRows=999&type=json&ServiceKey=hMw9eN6ZYKvMWUUvEykxVelOH07uAKhQYzFMUV5r4QpvdYgJehQANKE5bay%2B8Hgy660JdC9mVQCFhRKupVGwaw%3D%3D&bsnsDivCd=3&pageNo=241\n",
      "http://apis.data.go.kr/1230000/PubDataOpnStdService/getDataSetOpnStdScsbidInfo?numOfRows=999&type=json&ServiceKey=hMw9eN6ZYKvMWUUvEykxVelOH07uAKhQYzFMUV5r4QpvdYgJehQANKE5bay%2B8Hgy660JdC9mVQCFhRKupVGwaw%3D%3D&bsnsDivCd=3&pageNo=242\n",
      "http://apis.data.go.kr/1230000/PubDataOpnStdService/getDataSetOpnStdScsbidInfo?numOfRows=999&type=json&ServiceKey=hMw9eN6ZYKvMWUUvEykxVelOH07uAKhQYzFMUV5r4QpvdYgJehQANKE5bay%2B8Hgy660JdC9mVQCFhRKupVGwaw%3D%3D&bsnsDivCd=3&pageNo=243\n",
      "http://apis.data.go.kr/1230000/PubDataOpnStdService/getDataSetOpnStdScsbidInfo?numOfRows=999&type=json&ServiceKey=hMw9eN6ZYKvMWUUvEykxVelOH07uAKhQYzFMUV5r4QpvdYgJehQANKE5bay%2B8Hgy660JdC9mVQCFhRKupVGwaw%3D%3D&bsnsDivCd=3&pageNo=244\n",
      "http://apis.data.go.kr/1230000/PubDataOpnStdService/getDataSetOpnStdScsbidInfo?numOfRows=999&type=json&ServiceKey=hMw9eN6ZYKvMWUUvEykxVelOH07uAKhQYzFMUV5r4QpvdYgJehQANKE5bay%2B8Hgy660JdC9mVQCFhRKupVGwaw%3D%3D&bsnsDivCd=3&pageNo=245\n",
      "http://apis.data.go.kr/1230000/PubDataOpnStdService/getDataSetOpnStdScsbidInfo?numOfRows=999&type=json&ServiceKey=hMw9eN6ZYKvMWUUvEykxVelOH07uAKhQYzFMUV5r4QpvdYgJehQANKE5bay%2B8Hgy660JdC9mVQCFhRKupVGwaw%3D%3D&bsnsDivCd=3&pageNo=246\n",
      "http://apis.data.go.kr/1230000/PubDataOpnStdService/getDataSetOpnStdScsbidInfo?numOfRows=999&type=json&ServiceKey=hMw9eN6ZYKvMWUUvEykxVelOH07uAKhQYzFMUV5r4QpvdYgJehQANKE5bay%2B8Hgy660JdC9mVQCFhRKupVGwaw%3D%3D&bsnsDivCd=3&pageNo=247\n",
      "http://apis.data.go.kr/1230000/PubDataOpnStdService/getDataSetOpnStdScsbidInfo?numOfRows=999&type=json&ServiceKey=hMw9eN6ZYKvMWUUvEykxVelOH07uAKhQYzFMUV5r4QpvdYgJehQANKE5bay%2B8Hgy660JdC9mVQCFhRKupVGwaw%3D%3D&bsnsDivCd=3&pageNo=248\n",
      "http://apis.data.go.kr/1230000/PubDataOpnStdService/getDataSetOpnStdScsbidInfo?numOfRows=999&type=json&ServiceKey=hMw9eN6ZYKvMWUUvEykxVelOH07uAKhQYzFMUV5r4QpvdYgJehQANKE5bay%2B8Hgy660JdC9mVQCFhRKupVGwaw%3D%3D&bsnsDivCd=3&pageNo=249\n",
      "http://apis.data.go.kr/1230000/PubDataOpnStdService/getDataSetOpnStdScsbidInfo?numOfRows=999&type=json&ServiceKey=hMw9eN6ZYKvMWUUvEykxVelOH07uAKhQYzFMUV5r4QpvdYgJehQANKE5bay%2B8Hgy660JdC9mVQCFhRKupVGwaw%3D%3D&bsnsDivCd=3&pageNo=250\n",
      "http://apis.data.go.kr/1230000/PubDataOpnStdService/getDataSetOpnStdScsbidInfo?numOfRows=999&type=json&ServiceKey=hMw9eN6ZYKvMWUUvEykxVelOH07uAKhQYzFMUV5r4QpvdYgJehQANKE5bay%2B8Hgy660JdC9mVQCFhRKupVGwaw%3D%3D&bsnsDivCd=3&pageNo=251\n",
      "http://apis.data.go.kr/1230000/PubDataOpnStdService/getDataSetOpnStdScsbidInfo?numOfRows=999&type=json&ServiceKey=hMw9eN6ZYKvMWUUvEykxVelOH07uAKhQYzFMUV5r4QpvdYgJehQANKE5bay%2B8Hgy660JdC9mVQCFhRKupVGwaw%3D%3D&bsnsDivCd=3&pageNo=252\n",
      "http://apis.data.go.kr/1230000/PubDataOpnStdService/getDataSetOpnStdScsbidInfo?numOfRows=999&type=json&ServiceKey=hMw9eN6ZYKvMWUUvEykxVelOH07uAKhQYzFMUV5r4QpvdYgJehQANKE5bay%2B8Hgy660JdC9mVQCFhRKupVGwaw%3D%3D&bsnsDivCd=3&pageNo=253\n",
      "http://apis.data.go.kr/1230000/PubDataOpnStdService/getDataSetOpnStdScsbidInfo?numOfRows=999&type=json&ServiceKey=hMw9eN6ZYKvMWUUvEykxVelOH07uAKhQYzFMUV5r4QpvdYgJehQANKE5bay%2B8Hgy660JdC9mVQCFhRKupVGwaw%3D%3D&bsnsDivCd=3&pageNo=254\n",
      "http://apis.data.go.kr/1230000/PubDataOpnStdService/getDataSetOpnStdScsbidInfo?numOfRows=999&type=json&ServiceKey=hMw9eN6ZYKvMWUUvEykxVelOH07uAKhQYzFMUV5r4QpvdYgJehQANKE5bay%2B8Hgy660JdC9mVQCFhRKupVGwaw%3D%3D&bsnsDivCd=3&pageNo=255\n",
      "http://apis.data.go.kr/1230000/PubDataOpnStdService/getDataSetOpnStdScsbidInfo?numOfRows=999&type=json&ServiceKey=hMw9eN6ZYKvMWUUvEykxVelOH07uAKhQYzFMUV5r4QpvdYgJehQANKE5bay%2B8Hgy660JdC9mVQCFhRKupVGwaw%3D%3D&bsnsDivCd=3&pageNo=256\n",
      "http://apis.data.go.kr/1230000/PubDataOpnStdService/getDataSetOpnStdScsbidInfo?numOfRows=999&type=json&ServiceKey=hMw9eN6ZYKvMWUUvEykxVelOH07uAKhQYzFMUV5r4QpvdYgJehQANKE5bay%2B8Hgy660JdC9mVQCFhRKupVGwaw%3D%3D&bsnsDivCd=3&pageNo=257\n",
      "http://apis.data.go.kr/1230000/PubDataOpnStdService/getDataSetOpnStdScsbidInfo?numOfRows=999&type=json&ServiceKey=hMw9eN6ZYKvMWUUvEykxVelOH07uAKhQYzFMUV5r4QpvdYgJehQANKE5bay%2B8Hgy660JdC9mVQCFhRKupVGwaw%3D%3D&bsnsDivCd=3&pageNo=258\n",
      "http://apis.data.go.kr/1230000/PubDataOpnStdService/getDataSetOpnStdScsbidInfo?numOfRows=999&type=json&ServiceKey=hMw9eN6ZYKvMWUUvEykxVelOH07uAKhQYzFMUV5r4QpvdYgJehQANKE5bay%2B8Hgy660JdC9mVQCFhRKupVGwaw%3D%3D&bsnsDivCd=3&pageNo=259\n",
      "http://apis.data.go.kr/1230000/PubDataOpnStdService/getDataSetOpnStdScsbidInfo?numOfRows=999&type=json&ServiceKey=hMw9eN6ZYKvMWUUvEykxVelOH07uAKhQYzFMUV5r4QpvdYgJehQANKE5bay%2B8Hgy660JdC9mVQCFhRKupVGwaw%3D%3D&bsnsDivCd=3&pageNo=260\n",
      "http://apis.data.go.kr/1230000/PubDataOpnStdService/getDataSetOpnStdScsbidInfo?numOfRows=999&type=json&ServiceKey=hMw9eN6ZYKvMWUUvEykxVelOH07uAKhQYzFMUV5r4QpvdYgJehQANKE5bay%2B8Hgy660JdC9mVQCFhRKupVGwaw%3D%3D&bsnsDivCd=3&pageNo=261\n",
      "http://apis.data.go.kr/1230000/PubDataOpnStdService/getDataSetOpnStdScsbidInfo?numOfRows=999&type=json&ServiceKey=hMw9eN6ZYKvMWUUvEykxVelOH07uAKhQYzFMUV5r4QpvdYgJehQANKE5bay%2B8Hgy660JdC9mVQCFhRKupVGwaw%3D%3D&bsnsDivCd=3&pageNo=262\n",
      "http://apis.data.go.kr/1230000/PubDataOpnStdService/getDataSetOpnStdScsbidInfo?numOfRows=999&type=json&ServiceKey=hMw9eN6ZYKvMWUUvEykxVelOH07uAKhQYzFMUV5r4QpvdYgJehQANKE5bay%2B8Hgy660JdC9mVQCFhRKupVGwaw%3D%3D&bsnsDivCd=3&pageNo=263\n"
     ]
    }
   ],
   "source": [
    "for i in range(0, ranger):\n",
    "    if i == totalCount - 1:\n",
    "        flag = True\n",
    "    # BASEPARAM_Lst[i][\"ServiceKey\"] = each\n",
    "    try:\n",
    "        print(f\"scraping start\")\n",
    "        resultDf = scrapy(URL,SITENAME,DATANAME,SERVICENAME,BASEPARAM_Lst[0],PAGEYN)\n",
    "        savedata(resultDf,SITENAME,DATANAME,SERVICENAME,columnNm)\n",
    "    except Exception as e:\n",
    "        print(e)\n",
    "        breakPoint = i\n",
    "        if e.args[0] == \"22\":\n",
    "            print(\"LIMITED_NUMBER_OF_SERVICE_REQUESTS_EXCEEDS_ERROR\")\n",
    "        elif e.args[0] == \"01\":\n",
    "            print(\"제공기관 서비스 제공 상태가 원활하지 않습니다.\")\n",
    "        else: print(e.args[0])\n",
    "        break"
   ]
  },
  {
   "cell_type": "code",
   "execution_count": null,
   "metadata": {
    "tags": []
   },
   "outputs": [],
   "source": [
    "# print(\"종료 시점 파라미터키 : \",BASEPARAM_Lst[breakPoint])\n",
    "print(\"수집 종료 :\", time.strftime('%T', time.localtime(time.time())), time.time()-starttime)"
   ]
  }
 ],
 "metadata": {
  "kernelspec": {
   "display_name": "Python 3 (ipykernel)",
   "language": "python",
   "name": "python3"
  },
  "language_info": {
   "codemirror_mode": {
    "name": "ipython",
    "version": 3
   },
   "file_extension": ".py",
   "mimetype": "text/x-python",
   "name": "python",
   "nbconvert_exporter": "python",
   "pygments_lexer": "ipython3",
   "version": "3.9.7"
  }
 },
 "nbformat": 4,
 "nbformat_minor": 4
}
