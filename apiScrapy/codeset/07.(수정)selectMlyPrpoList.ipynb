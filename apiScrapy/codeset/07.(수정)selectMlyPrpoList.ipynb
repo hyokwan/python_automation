{
 "cells": [
  {
   "cell_type": "markdown",
   "id": "d2c3a4c0",
   "metadata": {
    "tags": []
   },
   "source": [
    "## 월간공정 현황 수집"
   ]
  },
  {
   "cell_type": "code",
   "execution_count": 1,
   "id": "037817e2",
   "metadata": {
    "tags": []
   },
   "outputs": [
    {
     "data": {
      "text/plain": [
       "'../output/건설사업정보시스템/월간공정 현황/월간공정 현황.csv'"
      ]
     },
     "execution_count": 1,
     "metadata": {},
     "output_type": "execute_result"
    }
   ],
   "source": [
    "from common import commonFunc as cf\n",
    "import pandas as pd\n",
    "import threading\n",
    "\n",
    "\n",
    "pd.set_option('display.max_columns', None)\n",
    "metadata = pd.read_excel(\"../input/datalake_meta22.xlsx\")\n",
    "\n",
    "SITENAME = \"건설사업정보시스템\"\n",
    "DATANAME= \"월간공정 현황\"\n",
    "APIKEY = \"11067238-08C1-4FDE-857B-4C865C85F2A7\"\n",
    "\n",
    "targetData = metadata.loc[metadata.자료명==DATANAME]\n",
    "preSetFolder = targetData[\"저장폴더\"].values[0]\n",
    "\n",
    "preSetFolder"
   ]
  },
  {
   "cell_type": "code",
   "execution_count": 2,
   "id": "204bc620-288e-43f0-b6fd-7e004f15636e",
   "metadata": {},
   "outputs": [],
   "source": [
    "g_totalCount = 0"
   ]
  },
  {
   "cell_type": "code",
   "execution_count": 3,
   "id": "55e2b0cd",
   "metadata": {},
   "outputs": [],
   "source": [
    "#임시 \n",
    "imsiDf = pd.read_csv(\"../output/건설사업정보시스템/연도별 공사계약 목록/연도별 공사계약 목록.csv\", encoding=\"ms949\")"
   ]
  },
  {
   "cell_type": "code",
   "execution_count": 4,
   "id": "752d9b2c",
   "metadata": {},
   "outputs": [
    {
     "data": {
      "text/plain": [
       "7268"
      ]
     },
     "execution_count": 4,
     "metadata": {},
     "output_type": "execute_result"
    }
   ],
   "source": [
    "dfCombi = imsiDf.loc[:,[\"sptno\",\"sptto\"]].drop_duplicates()\n",
    "dfCombi.reset_index(inplace=True, drop=True)\n",
    "dfCombiLen = dfCombi.shape[0]\n",
    "dfCombiLen"
   ]
  },
  {
   "cell_type": "code",
   "execution_count": 5,
   "id": "ed7390cd-1ef3-4d83-8eec-5faad68c5667",
   "metadata": {},
   "outputs": [],
   "source": [
    "numOfThread = 10\n",
    "\n",
    "resultDfMerged = list(pd.DataFrame() for x in range(numOfThread))\n"
   ]
  },
  {
   "cell_type": "code",
   "execution_count": 6,
   "id": "b11ad06d",
   "metadata": {},
   "outputs": [
    {
     "data": {
      "text/plain": [
       "'selectMlyPrpoList'"
      ]
     },
     "execution_count": 6,
     "metadata": {},
     "output_type": "execute_result"
    }
   ],
   "source": [
    "##### 파라미터 설정 #####\n",
    "URL = targetData[\"URL\"].values[0]\n",
    "SERVICENAME = targetData[\"서비스키\"].values[0]\n",
    "SERVICENAME = SERVICENAME.split(\".\")[0]\n",
    "SERVICENAME"
   ]
  },
  {
   "cell_type": "code",
   "execution_count": 7,
   "id": "641b357b-31d1-4d2c-99fb-773e2c19f4d1",
   "metadata": {},
   "outputs": [
    {
     "data": {
      "text/plain": [
       "'serviceKey,sptNo,stpTo,rprtYm'"
      ]
     },
     "execution_count": 7,
     "metadata": {},
     "output_type": "execute_result"
    }
   ],
   "source": [
    "REQPARAM = targetData[\"요청변수\"].values[0]\n",
    "REQPARAM = REQPARAM.split(\",\")\n",
    "PRIMARYKEY = targetData[\"기본키\"].values[0]\n",
    "PRIMARYKEY"
   ]
  },
  {
   "cell_type": "code",
   "execution_count": 8,
   "id": "50dc6a27",
   "metadata": {},
   "outputs": [],
   "source": [
    "JSONKEY = \"detail1\"\n",
    "DUMMY = 0"
   ]
  },
  {
   "cell_type": "code",
   "execution_count": 9,
   "id": "e1c805cd-1cbb-4e05-bb11-4fc95f42a057",
   "metadata": {},
   "outputs": [
    {
     "data": {
      "text/plain": [
       "0"
      ]
     },
     "execution_count": 9,
     "metadata": {},
     "output_type": "execute_result"
    }
   ],
   "source": [
    "#### 페이지번호 설정 ###\n",
    "PAGEYN=1\n",
    "if REQPARAM.count(\"pageyn\") == 0:\n",
    "    PAGEYN = 0\n",
    "else:\n",
    "    PAGEYN = 1\n",
    "PAGEYN"
   ]
  },
  {
   "cell_type": "markdown",
   "id": "3526dee9-52c3-4511-800d-005792698aee",
   "metadata": {},
   "source": [
    "## 보고년월 기간을 추출하기 위한 커스텀 함수"
   ]
  },
  {
   "cell_type": "code",
   "execution_count": 10,
   "id": "9c172fbb-784d-4b3c-a92b-d00ad14df630",
   "metadata": {},
   "outputs": [],
   "source": [
    "from datetime import datetime\n",
    "\n",
    "# d1, d2 : datetime format \n",
    "# d1 >= d2\n",
    "def calc_month(d1, d2):\n",
    "    return (d1.year - d2.year) * 12 + (d1.month - d2.month + 1)"
   ]
  },
  {
   "cell_type": "code",
   "execution_count": 11,
   "id": "f06462b4-8bf6-4e47-bd01-2ef9099821e9",
   "metadata": {},
   "outputs": [],
   "source": [
    "# #### 날짜 생성 ####\n",
    "\n",
    "# import datetime\n",
    "\n",
    "# startDateTime = 199701\n",
    "# now = datetime.datetime.now()\n",
    "# currentDateTime = now.strftime(\"%Y%m\")\n",
    "# dateRange = list(map(int,pd.period_range(199701,currentDateTime,freq='M').strftime('%Y%m').tolist()))"
   ]
  },
  {
   "cell_type": "markdown",
   "id": "0a239b60",
   "metadata": {},
   "source": [
    "## 월간공정 현황 전용 스크랩 함수"
   ]
  },
  {
   "cell_type": "code",
   "execution_count": 12,
   "id": "49c5775a-d9af-4299-9e80-f7e14db2cf9d",
   "metadata": {
    "tags": []
   },
   "outputs": [],
   "source": [
    "import requests\n",
    "from lxml import html\n",
    "from bs4 import BeautifulSoup \n",
    "import pandas as pd\n",
    "from urllib.request import Request, urlopen\n",
    "from urllib.parse import urlencode, quote_plus, unquote\n",
    "import os\n",
    "import time\n",
    "\n",
    "STDENCODING=\"utf-8\"\n",
    "### 함수정의: 사이트 메타정보를 받아 데이터를 수집 후 수집결과를 반환하는 함수\n",
    "### 파마리터정의: \n",
    "###   - inurl: 메타정보의 \"URL\"컬럼값 (예: https://www.calspia.go.kr/io/openapi/cm/selectIoCmConstructionList.do )\n",
    "###   - inSiteName: 메타정보의 \"자료대상\" (예: 건설사업정보시스템)\n",
    "###   - inDataName: 메타정보의 \"자료명\" (예: 공사정보 목록)\n",
    "###   - inServiceName: 메타정보의 \"기본키\" (예: serviceKey + Format)\n",
    "###   - inParam: 메타정보의 \"파라미터 정보\" (예: 페이지 파라미터 존재 시 1 값\")\n",
    "###   - inPageYn: 메타정보의 \"페이지 정보\" (예: 페이지 파라미터 존재 시 1 값\")\n",
    "### 함수정의: 사이트 메타정보를 받아 데이터를 수집 후 수집결과를 반환하는 함수\n",
    "def myscrapy(inUrl, inSiteName, inDataName, inServiceName, inParam, inPageYn, jsonkey=\"items\", dummy=0, inType=\"jsonabnormal\"):\n",
    "    try:\n",
    "        emptyPd = pd.DataFrame()\n",
    "        i=1\n",
    "        while True:\n",
    "            time.sleep(1)\n",
    "            print(\"{} page scraping start\".format(i))\n",
    "            \n",
    "            if(inPageYn==1):\n",
    "                inParam[\"pageNo\"] = i\n",
    "            queryParams = '?' + urlencode(inParam)\n",
    "            requests.packages.urllib3.disable_warnings(requests.packages.urllib3.exceptions.InsecureRequestWarning)\n",
    "\n",
    "            response = requests.get(inUrl+queryParams, verify=False)\n",
    "            print(inUrl+queryParams)\n",
    "            response.encoding=STDENCODING\n",
    "            rowData = pd.DataFrame()\n",
    "            if(inType==\"jsonabnormal\"):\n",
    "                # 비정상 데이터는 response 섹션이 없음\n",
    "                if(response.json().get('response') == None):\n",
    "                    jsondata = response.json()[\"header\"][\"resultMsg\"]\n",
    "                    if( jsondata != \"NORMAL_SERVICE\"):\n",
    "                        print(\"{} page is empty\".format(i))\n",
    "                        break\n",
    "                    \n",
    "#               여기서부터는 데이터는 있는데, totalcount>0 경우는 detailList1~5까지 봐야 한다.\n",
    "               \n",
    "                jsondata = response.json()[\"response\"][\"body\"][jsonkey]\n",
    "                if( jsondata == []):\n",
    "                    print(\"{} page is empty\".format(i))\n",
    "                    break\n",
    "                if( jsonkey == \"detail1\"):\n",
    "                    jsondata[\"index\"]=[0]\n",
    "                rowData = pd.DataFrame(jsondata)\n",
    "                emptyPd = emptyPd.append(rowData)\n",
    "                print(\">totalCount \"+str(response.json()[\"response\"][\"body\"][\"totalCount\"]))\n",
    "                if(0 < int(response.json()[\"response\"][\"body\"][\"totalCount\"])):\n",
    "                    if(response.json()[\"response\"][\"body\"].get('detail1') != None):\n",
    "                        print(\"we have a data on detail1\")\n",
    "                        jsondataDetail = response.json()[\"response\"][\"body\"][\"detail1\"]\n",
    "\n",
    "                    elif(response.json()[\"response\"][\"body\"].get('detail2') != None):\n",
    "                        jsondataDetail = response.json()[\"response\"][\"body\"][\"detail2\"]\n",
    "                        print(\"we have a data on detail2\")\n",
    "\n",
    "                    elif(response.json()[\"response\"][\"body\"].get('detail3') != None):\n",
    "                        jsondataDetail = response.json()[\"response\"][\"body\"][\"detail3\"]\n",
    "                        print(\"we have a data on detail3\")\n",
    "\n",
    "                    elif(response.json()[\"response\"][\"body\"].get('detail4') != None):\n",
    "                        jsondataDetail = response.json()[\"response\"][\"body\"][\"detail4\"]\n",
    "                        print(\"we have a data on detail4\")\n",
    "\n",
    "                    elif(response.json()[\"response\"][\"body\"].get('detail5') != None):\n",
    "                        jsondataDetail = response.json()[\"response\"][\"body\"][\"detail5\"]\n",
    "                        print(\"we have a data on detail5\")\n",
    "#                     print(jsondataDetail)\n",
    "                    rowDataDetail = pd.DataFrame(jsondataDetail)\n",
    "                    emptyPd = pd.merge(emptyPd, rowDataDetail, on=['sptNo','sptTo'])\n",
    "            else:\n",
    "                print(\"Error\")          \n",
    "     \n",
    "            if(inPageYn == 0):\n",
    "                print(\"{} no pageNo\".format(inPageYn))\n",
    "                break\n",
    "            i = i+1\n",
    "\n",
    "        emptyPd.columns = emptyPd.columns.str.lower()\n",
    "        emptyPd.shape\n",
    "#         print(\"dataframe{}, param:{} rows: {} completed\".format(inDataName,inParam, emptyPd.shape[1] )     )\n",
    "        return emptyPd       \n",
    "    except Exception as e:\n",
    "            print(e)     "
   ]
  },
  {
   "cell_type": "code",
   "execution_count": 13,
   "id": "b897048a-be75-4f5b-826f-adbde54b6cc4",
   "metadata": {
    "scrolled": true,
    "tags": []
   },
   "outputs": [],
   "source": [
    "lock = threading.Lock()\n",
    "def threadReq(startIdx, endIdx,x):\n",
    "    resultDf = pd.DataFrame()\n",
    "    global resultDfMerged\n",
    "    dateRange = pd.period_range(resultDf[\"stwrdt\"].values[0],resultDf[\"ccwdt\"].values[0],freq='M').strftime('%Y%m').tolist()\n",
    "            \n",
    "    for i in range(startIdx,endIdx):\n",
    "        sptnoValue = dfCombi.loc[i].sptno\n",
    "        spttoValue = dfCombi.loc[i].sptto\n",
    "        BASEPARAM={\"serviceKey\":APIKEY,\"sptNo\": sptnoValue,\"sptTo\":spttoValue,\"rprtYm\": \"\", \"type\":\"json\"}\n",
    "        resultDf = myscrapy(URL,SITENAME,DATANAME,SERVICENAME,BASEPARAM,PAGEYN, JSONKEY, DUMMY)\n",
    "        print(\"i= \",i)\n",
    "        if resultDf.empty: # 정상 데이터가 없는 경우\n",
    "            print(\"No Data\")\n",
    "        else:\n",
    "            for i in range(0,len(dateRange)):\n",
    "                BASEPARAM={\"serviceKey\":APIKEY,\"sptNo\": sptnoValue,\"sptTo\":spttoValue,\"rprtYm\": str(dateRange[i]), \"type\":\"json\"}\n",
    "                resultDf = myscrapy(URL,SITENAME,DATANAME,SERVICENAME,BASEPARAM,PAGEYN, JSONKEY, DUMMY)\n",
    "                lock.acquire()\n",
    "                resultDfMerged[x] = resultDfMerged[x].append(resultDf) \n",
    "                lock.release()\n"
   ]
  },
  {
   "cell_type": "code",
   "execution_count": 15,
   "id": "7d7a8b06-2ef7-4931-b644-f31c5ee1c8e5",
   "metadata": {
    "scrolled": true,
    "tags": []
   },
   "outputs": [
    {
     "name": "stdout",
     "output_type": "stream",
     "text": [
      "start  0  end  725\n",
      "start  726  end  1451\n",
      "start  1452  end  2177\n",
      "start  2178  end  2903\n",
      "start  2904  end  3629\n",
      "start  3630  end  4355\n",
      "start  4356  end  5081\n",
      "start  5082  end  5807\n",
      "start  5808  end  6533\n",
      "start  6534  end  7267\n"
     ]
    },
    {
     "name": "stderr",
     "output_type": "stream",
     "text": [
      "Exception in thread Thread-8:\n",
      "Traceback (most recent call last):\n",
      "  File \"C:\\ProgramData\\Anaconda3\\lib\\site-packages\\pandas\\core\\indexes\\base.py\", line 3361, in get_loc\n",
      "Exception in thread Thread-9Exception in thread :\n",
      "Thread-10:\n",
      "Traceback (most recent call last):\n",
      "  File \"C:\\ProgramData\\Anaconda3\\lib\\site-packages\\pandas\\core\\indexes\\base.py\", line 3361, in get_loc\n",
      "Traceback (most recent call last):\n",
      "  File \"C:\\ProgramData\\Anaconda3\\lib\\site-packages\\pandas\\core\\indexes\\base.py\", line 3361, in get_loc\n",
      "    return self._engine.get_loc(casted_key)\n",
      "  File \"pandas\\_libs\\index.pyx\", line 76, in pandas._libs.index.IndexEngine.get_loc\n",
      "Exception in thread Thread-11:\n",
      "Traceback (most recent call last):\n",
      "  File \"C:\\ProgramData\\Anaconda3\\lib\\site-packages\\pandas\\core\\indexes\\base.py\", line 3361, in get_loc\n",
      "    return self._engine.get_loc(casted_key)\n",
      "  File \"pandas\\_libs\\index.pyx\", line 76, in pandas._libs.index.IndexEngine.get_loc\n",
      "    return self._engine.get_loc(casted_key)\n",
      "  File \"pandas\\_libs\\index.pyx\", line 76, in pandas._libs.index.IndexEngine.get_loc\n",
      "  File \"pandas\\_libs\\index.pyx\", line 108, in pandas._libs.index.IndexEngine.get_loc\n",
      "    return self._engine.get_loc(casted_key)\n",
      "  File \"pandas\\_libs\\index.pyx\", line 76, in pandas._libs.index.IndexEngine.get_loc\n",
      "  File \"pandas\\_libs\\index.pyx\", line 108, in pandas._libs.index.IndexEngine.get_loc\n",
      "  File \"pandas\\_libs\\index.pyx\", line 108, in pandas._libs.index.IndexEngine.get_loc\n",
      "  File \"pandas\\_libs\\index.pyx\", line 108, in pandas._libs.index.IndexEngine.get_loc\n",
      "  File \"pandas\\_libs\\hashtable_class_helper.pxi\", line 5198, in pandas._libs.hashtable.PyObjectHashTable.get_item\n",
      "  File \"pandas\\_libs\\hashtable_class_helper.pxi\", line 5198, in pandas._libs.hashtable.PyObjectHashTable.get_item\n",
      "  File \"pandas\\_libs\\hashtable_class_helper.pxi\", line 5198, in pandas._libs.hashtable.PyObjectHashTable.get_item\n",
      "  File \"pandas\\_libs\\hashtable_class_helper.pxi\", line 5198, in pandas._libs.hashtable.PyObjectHashTable.get_item\n",
      "  File \"pandas\\_libs\\hashtable_class_helper.pxi\", line 5206, in pandas._libs.hashtable.PyObjectHashTable.get_item\n",
      "Exception in thread Thread-12:\n",
      "Traceback (most recent call last):\n",
      "  File \"C:\\ProgramData\\Anaconda3\\lib\\site-packages\\pandas\\core\\indexes\\base.py\", line 3361, in get_loc\n",
      "  File \"pandas\\_libs\\hashtable_class_helper.pxi\", line 5206, in pandas._libs.hashtable.PyObjectHashTable.get_item\n",
      "  File \"pandas\\_libs\\hashtable_class_helper.pxi\", line 5206, in pandas._libs.hashtable.PyObjectHashTable.get_item\n",
      "Exception in thread KeyError: 'stwrdt'\n",
      "\n",
      "The above exception was the direct cause of the following exception:\n",
      "\n",
      "Thread-13Traceback (most recent call last):\n",
      "  File \"C:\\ProgramData\\Anaconda3\\lib\\threading.py\", line 973, in _bootstrap_inner\n",
      "  File \"pandas\\_libs\\hashtable_class_helper.pxi\", line 5206, in pandas._libs.hashtable.PyObjectHashTable.get_item\n",
      ":\n",
      "Traceback (most recent call last):\n",
      "  File \"C:\\ProgramData\\Anaconda3\\lib\\site-packages\\pandas\\core\\indexes\\base.py\", line 3361, in get_loc\n",
      "KeyError: 'stwrdt'\n",
      "\n",
      "The above exception was the direct cause of the following exception:\n",
      "\n",
      "Traceback (most recent call last):\n",
      "  File \"C:\\ProgramData\\Anaconda3\\lib\\threading.py\", line 973, in _bootstrap_inner\n",
      "KeyError: 'stwrdt'\n",
      "\n",
      "The above exception was the direct cause of the following exception:\n",
      "\n",
      "Traceback (most recent call last):\n",
      "  File \"C:\\ProgramData\\Anaconda3\\lib\\threading.py\", line 973, in _bootstrap_inner\n",
      "        return self._engine.get_loc(casted_key)\n",
      "  File \"pandas\\_libs\\index.pyx\", line 76, in pandas._libs.index.IndexEngine.get_loc\n",
      "KeyErrorself.run()\n",
      ":   File \"C:\\ProgramData\\Anaconda3\\lib\\threading.py\", line 910, in run\n",
      "'stwrdt'\n",
      "\n",
      "The above exception was the direct cause of the following exception:\n",
      "\n",
      "Traceback (most recent call last):\n",
      "  File \"C:\\ProgramData\\Anaconda3\\lib\\threading.py\", line 973, in _bootstrap_inner\n",
      "    self.run()\n",
      "  File \"C:\\ProgramData\\Anaconda3\\lib\\threading.py\", line 910, in run\n",
      "    self.run()\n",
      "  File \"C:\\ProgramData\\Anaconda3\\lib\\threading.py\", line 910, in run\n",
      "    return self._engine.get_loc(casted_key)\n",
      "  File \"pandas\\_libs\\index.pyx\", line 76, in pandas._libs.index.IndexEngine.get_loc\n",
      "Exception in thread     self._target(*self._args, **self._kwargs)\n",
      "  File \"C:\\Users\\luthe\\AppData\\Local\\Temp/ipykernel_18628/1274073374.py\", line 5, in threadReq\n",
      "    Thread-14:\n",
      "Traceback (most recent call last):\n",
      "  File \"C:\\ProgramData\\Anaconda3\\lib\\site-packages\\pandas\\core\\indexes\\base.py\", line 3361, in get_loc\n",
      "self._target(*self._args, **self._kwargs)\n",
      "  File \"C:\\Users\\luthe\\AppData\\Local\\Temp/ipykernel_18628/1274073374.py\", line 5, in threadReq\n",
      "      File \"pandas\\_libs\\index.pyx\", line 108, in pandas._libs.index.IndexEngine.get_loc\n",
      "    self._target(*self._args, **self._kwargs)\n",
      "  File \"C:\\Users\\luthe\\AppData\\Local\\Temp/ipykernel_18628/1274073374.py\", line 5, in threadReq\n",
      "Exception in thread   File \"pandas\\_libs\\hashtable_class_helper.pxi\", line 5198, in pandas._libs.hashtable.PyObjectHashTable.get_item\n",
      "self.run()\n",
      "  File \"C:\\ProgramData\\Anaconda3\\lib\\threading.py\", line 910, in run\n",
      "Thread-15:\n",
      "Traceback (most recent call last):\n",
      "  File \"C:\\ProgramData\\Anaconda3\\lib\\site-packages\\pandas\\core\\indexes\\base.py\", line 3361, in get_loc\n",
      "  File \"C:\\ProgramData\\Anaconda3\\lib\\site-packages\\pandas\\core\\frame.py\", line 3458, in __getitem__\n",
      "Exception in thread Thread-16:\n",
      "Traceback (most recent call last):\n",
      "  File \"C:\\ProgramData\\Anaconda3\\lib\\site-packages\\pandas\\core\\indexes\\base.py\", line 3361, in get_loc\n",
      "  File \"C:\\ProgramData\\Anaconda3\\lib\\site-packages\\pandas\\core\\frame.py\", line 3458, in __getitem__\n",
      "      File \"pandas\\_libs\\index.pyx\", line 108, in pandas._libs.index.IndexEngine.get_loc\n",
      "  File \"C:\\ProgramData\\Anaconda3\\lib\\site-packages\\pandas\\core\\frame.py\", line 3458, in __getitem__\n",
      "return self._engine.get_loc(casted_key)\n",
      "  File \"pandas\\_libs\\index.pyx\", line 76, in pandas._libs.index.IndexEngine.get_loc\n",
      "    self._target(*self._args, **self._kwargs)\n",
      "  File \"C:\\Users\\luthe\\AppData\\Local\\Temp/ipykernel_18628/1274073374.py\", line 5, in threadReq\n",
      "  File \"pandas\\_libs\\hashtable_class_helper.pxi\", line 5206, in pandas._libs.hashtable.PyObjectHashTable.get_item\n",
      "Exception in thread     Thread-17:\n",
      "Traceback (most recent call last):\n",
      "  File \"C:\\ProgramData\\Anaconda3\\lib\\site-packages\\pandas\\core\\indexes\\base.py\", line 3361, in get_loc\n",
      "return self._engine.get_loc(casted_key)\n",
      "  File \"pandas\\_libs\\index.pyx\", line 76, in pandas._libs.index.IndexEngine.get_loc\n",
      "      File \"pandas\\_libs\\hashtable_class_helper.pxi\", line 5198, in pandas._libs.hashtable.PyObjectHashTable.get_item\n",
      "indexer = self.columns.get_loc(key)\n",
      "  File \"C:\\ProgramData\\Anaconda3\\lib\\site-packages\\pandas\\core\\indexes\\base.py\", line 3363, in get_loc\n",
      "  File \"pandas\\_libs\\index.pyx\", line 108, in pandas._libs.index.IndexEngine.get_loc\n",
      "KeyError          File \"C:\\ProgramData\\Anaconda3\\lib\\site-packages\\pandas\\core\\frame.py\", line 3458, in __getitem__\n",
      "indexer = self.columns.get_loc(key)    indexer = self.columns.get_loc(key)\n",
      "return self._engine.get_loc(casted_key)\n",
      "  File \"C:\\ProgramData\\Anaconda3\\lib\\site-packages\\pandas\\core\\indexes\\base.py\", line 3363, in get_loc\n",
      "\n",
      "  File \"pandas\\_libs\\index.pyx\", line 76, in pandas._libs.index.IndexEngine.get_loc\n",
      ": 'stwrdt'\n",
      "\n",
      "The above exception was the direct cause of the following exception:\n",
      "\n",
      "Traceback (most recent call last):\n",
      "  File \"C:\\ProgramData\\Anaconda3\\lib\\threading.py\", line 973, in _bootstrap_inner\n",
      "  File \"C:\\ProgramData\\Anaconda3\\lib\\site-packages\\pandas\\core\\indexes\\base.py\", line 3363, in get_loc\n",
      "  File \"pandas\\_libs\\index.pyx\", line 108, in pandas._libs.index.IndexEngine.get_loc\n",
      "    raise KeyError(key) from err\n",
      "KeyError: 'stwrdt'\n",
      "    self.run()\n",
      "  File \"C:\\ProgramData\\Anaconda3\\lib\\threading.py\", line 910, in run\n",
      "    return self._engine.get_loc(casted_key)\n",
      "  File \"pandas\\_libs\\index.pyx\", line 76, in pandas._libs.index.IndexEngine.get_loc\n",
      "  File \"pandas\\_libs\\hashtable_class_helper.pxi\", line 5206, in pandas._libs.hashtable.PyObjectHashTable.get_item\n",
      "  File \"pandas\\_libs\\hashtable_class_helper.pxi\", line 5198, in pandas._libs.hashtable.PyObjectHashTable.get_item\n",
      "    indexer = self.columns.get_loc(key)\n",
      "  File \"C:\\ProgramData\\Anaconda3\\lib\\site-packages\\pandas\\core\\indexes\\base.py\", line 3363, in get_loc\n",
      "  File \"pandas\\_libs\\index.pyx\", line 108, in pandas._libs.index.IndexEngine.get_loc\n",
      "  File \"pandas\\_libs\\hashtable_class_helper.pxi\", line 5198, in pandas._libs.hashtable.PyObjectHashTable.get_item\n",
      "KeyError  File \"pandas\\_libs\\index.pyx\", line 108, in pandas._libs.index.IndexEngine.get_loc\n",
      "        raise KeyError(key) from err\n",
      "KeyError: 'stwrdt'\n",
      "self._target(*self._args, **self._kwargs)\n",
      "  File \"C:\\Users\\luthe\\AppData\\Local\\Temp/ipykernel_18628/1274073374.py\", line 5, in threadReq\n",
      "  File \"pandas\\_libs\\hashtable_class_helper.pxi\", line 5206, in pandas._libs.hashtable.PyObjectHashTable.get_item\n",
      ": 'stwrdt'\n",
      "\n",
      "The above exception was the direct cause of the following exception:\n",
      "\n",
      "Traceback (most recent call last):\n",
      "  File \"C:\\ProgramData\\Anaconda3\\lib\\threading.py\", line 973, in _bootstrap_inner\n",
      "    raise KeyError(key) from err\n",
      "KeyError: 'stwrdt'\n",
      "    raise KeyError(key) from err\n",
      "KeyError  File \"pandas\\_libs\\hashtable_class_helper.pxi\", line 5198, in pandas._libs.hashtable.PyObjectHashTable.get_item\n",
      ": 'stwrdt'\n",
      "  File \"pandas\\_libs\\hashtable_class_helper.pxi\", line 5206, in pandas._libs.hashtable.PyObjectHashTable.get_item\n",
      "KeyError    : 'stwrdt'\n",
      "\n",
      "The above exception was the direct cause of the following exception:\n",
      "\n",
      "Traceback (most recent call last):\n",
      "  File \"C:\\ProgramData\\Anaconda3\\lib\\threading.py\", line 973, in _bootstrap_inner\n",
      "  File \"pandas\\_libs\\hashtable_class_helper.pxi\", line 5198, in pandas._libs.hashtable.PyObjectHashTable.get_item\n",
      "self.run()\n",
      "  File \"C:\\ProgramData\\Anaconda3\\lib\\threading.py\", line 910, in run\n",
      "  File \"pandas\\_libs\\hashtable_class_helper.pxi\", line 5206, in pandas._libs.hashtable.PyObjectHashTable.get_item\n",
      "  File \"C:\\ProgramData\\Anaconda3\\lib\\site-packages\\pandas\\core\\frame.py\", line 3458, in __getitem__\n",
      "KeyError: 'stwrdt'\n",
      "\n",
      "The above exception was the direct cause of the following exception:\n",
      "\n",
      "Traceback (most recent call last):\n",
      "  File \"C:\\ProgramData\\Anaconda3\\lib\\threading.py\", line 973, in _bootstrap_inner\n",
      "    self.run()\n",
      "  File \"C:\\ProgramData\\Anaconda3\\lib\\threading.py\", line 910, in run\n",
      "        self._target(*self._args, **self._kwargs)\n",
      "  File \"C:\\Users\\luthe\\AppData\\Local\\Temp/ipykernel_18628/1274073374.py\", line 5, in threadReq\n",
      "  File \"pandas\\_libs\\hashtable_class_helper.pxi\", line 5206, in pandas._libs.hashtable.PyObjectHashTable.get_item\n",
      "self.run()\n",
      "  File \"C:\\ProgramData\\Anaconda3\\lib\\threading.py\", line 910, in run\n",
      "    indexer = self.columns.get_loc(key)\n",
      "  File \"C:\\ProgramData\\Anaconda3\\lib\\site-packages\\pandas\\core\\indexes\\base.py\", line 3363, in get_loc\n",
      "KeyError: 'stwrdt'\n",
      "\n",
      "The above exception was the direct cause of the following exception:\n",
      "\n",
      "Traceback (most recent call last):\n",
      "  File \"C:\\ProgramData\\Anaconda3\\lib\\threading.py\", line 973, in _bootstrap_inner\n",
      "        self._target(*self._args, **self._kwargs)\n",
      "  File \"C:\\Users\\luthe\\AppData\\Local\\Temp/ipykernel_18628/1274073374.py\", line 5, in threadReq\n",
      "self._target(*self._args, **self._kwargs)\n",
      "  File \"C:\\Users\\luthe\\AppData\\Local\\Temp/ipykernel_18628/1274073374.py\", line 5, in threadReq\n",
      "  File \"C:\\ProgramData\\Anaconda3\\lib\\site-packages\\pandas\\core\\frame.py\", line 3458, in __getitem__\n",
      "    self.run()\n",
      "  File \"C:\\ProgramData\\Anaconda3\\lib\\threading.py\", line 910, in run\n",
      "KeyError: 'stwrdt'\n",
      "\n",
      "The above exception was the direct cause of the following exception:\n",
      "\n",
      "Traceback (most recent call last):\n",
      "  File \"C:\\ProgramData\\Anaconda3\\lib\\threading.py\", line 973, in _bootstrap_inner\n",
      "  File \"C:\\ProgramData\\Anaconda3\\lib\\site-packages\\pandas\\core\\frame.py\", line 3458, in __getitem__\n",
      "  File \"C:\\ProgramData\\Anaconda3\\lib\\site-packages\\pandas\\core\\frame.py\", line 3458, in __getitem__\n",
      "    indexer = self.columns.get_loc(key)\n",
      "  File \"C:\\ProgramData\\Anaconda3\\lib\\site-packages\\pandas\\core\\indexes\\base.py\", line 3363, in get_loc\n",
      "    raise KeyError(key) from err\n",
      "KeyError: 'stwrdt'\n",
      "        self.run()\n",
      "  File \"C:\\ProgramData\\Anaconda3\\lib\\threading.py\", line 910, in run\n",
      "self._target(*self._args, **self._kwargs)\n",
      "  File \"C:\\Users\\luthe\\AppData\\Local\\Temp/ipykernel_18628/1274073374.py\", line 5, in threadReq\n",
      "    self._target(*self._args, **self._kwargs)\n",
      "  File \"C:\\Users\\luthe\\AppData\\Local\\Temp/ipykernel_18628/1274073374.py\", line 5, in threadReq\n",
      "    indexer = self.columns.get_loc(key)\n",
      "  File \"C:\\ProgramData\\Anaconda3\\lib\\site-packages\\pandas\\core\\indexes\\base.py\", line 3363, in get_loc\n",
      "  File \"C:\\ProgramData\\Anaconda3\\lib\\site-packages\\pandas\\core\\frame.py\", line 3458, in __getitem__\n",
      "    indexer = self.columns.get_loc(key)\n",
      "  File \"C:\\ProgramData\\Anaconda3\\lib\\site-packages\\pandas\\core\\indexes\\base.py\", line 3363, in get_loc\n",
      "    raise KeyError(key) from err\n",
      "KeyError: 'stwrdt'\n",
      "  File \"C:\\ProgramData\\Anaconda3\\lib\\site-packages\\pandas\\core\\frame.py\", line 3458, in __getitem__\n",
      "        indexer = self.columns.get_loc(key)\n",
      "  File \"C:\\ProgramData\\Anaconda3\\lib\\site-packages\\pandas\\core\\indexes\\base.py\", line 3363, in get_loc\n",
      "raise KeyError(key) from err\n",
      "KeyError: 'stwrdt'\n",
      "    raise KeyError(key) from err\n",
      "KeyError: 'stwrdt'\n",
      "    indexer = self.columns.get_loc(key)\n",
      "  File \"C:\\ProgramData\\Anaconda3\\lib\\site-packages\\pandas\\core\\indexes\\base.py\", line 3363, in get_loc\n",
      "    raise KeyError(key) from err\n",
      "KeyError: 'stwrdt'\n",
      "    raise KeyError(key) from err\n",
      "KeyError: 'stwrdt'\n"
     ]
    }
   ],
   "source": [
    "\n",
    "resultDfLastMerged = pd.DataFrame()\n",
    "section = list(range(0, dfCombiLen, int(dfCombiLen/numOfThread))) # we have \"numOfThread +1\" sections\n",
    "\n",
    "# dfCombiLen = 6 # for test\n",
    "if dfCombiLen < numOfThread:\n",
    "    print(\"데이터의 갯수가 적어서 쓰레드를 시작할 수 없습니다.\")\n",
    "else:\n",
    "    x_ls =list(range(numOfThread))\n",
    "    thread_list = []\n",
    "    results = []\n",
    "\n",
    "    for x in x_ls:\n",
    "        startIdx = section[x]\n",
    "        endIdx =  section[x+1] -1 if (x+1 <= numOfThread -1) else dfCombiLen - 1\n",
    "        print(\"start \",startIdx, \" end \",endIdx)\n",
    "        mythread = threading.Thread(target=threadReq, args=(startIdx, endIdx+1,x))\n",
    "        thread_list.append(mythread)\n",
    "    for i in thread_list:\n",
    "        i.start()\n",
    "    for i in thread_list:\n",
    "        i.join()\n",
    "    for i in range(0,numOfThread):\n",
    "        resultDfLastMerged = resultDfLastMerged.append(resultDfMerged[i]) \n",
    "\n"
   ]
  },
  {
   "cell_type": "code",
   "execution_count": 16,
   "id": "ca2a9ba7",
   "metadata": {},
   "outputs": [
    {
     "name": "stdout",
     "output_type": "stream",
     "text": [
      "월간공정 현황 save compled\n"
     ]
    }
   ],
   "source": [
    "cf.savedata(resultDfLastMerged, SITENAME,DATANAME,SERVICENAME)"
   ]
  },
  {
   "cell_type": "code",
   "execution_count": 17,
   "id": "8f4b869c",
   "metadata": {},
   "outputs": [
    {
     "data": {
      "text/plain": [
       "(0, 0)"
      ]
     },
     "execution_count": 17,
     "metadata": {},
     "output_type": "execute_result"
    }
   ],
   "source": [
    "resultDfLastMerged.shape"
   ]
  },
  {
   "cell_type": "code",
   "execution_count": null,
   "id": "7fc11efd",
   "metadata": {},
   "outputs": [],
   "source": []
  }
 ],
 "metadata": {
  "kernelspec": {
   "display_name": "Python 3 (ipykernel)",
   "language": "python",
   "name": "python3"
  },
  "language_info": {
   "codemirror_mode": {
    "name": "ipython",
    "version": 3
   },
   "file_extension": ".py",
   "mimetype": "text/x-python",
   "name": "python",
   "nbconvert_exporter": "python",
   "pygments_lexer": "ipython3",
   "version": "3.9.7"
  }
 },
 "nbformat": 4,
 "nbformat_minor": 5
}
