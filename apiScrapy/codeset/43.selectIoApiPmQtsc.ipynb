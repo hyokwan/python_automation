{
 "cells": [
  {
   "cell_type": "markdown",
   "metadata": {
    "tags": []
   },
   "source": [
    "# 품질검사전문기관 상세정보"
   ]
  },
  {
   "cell_type": "code",
   "execution_count": 1,
   "metadata": {},
   "outputs": [
    {
     "data": {
      "text/plain": [
       "'../output/건설사업정보시스템/품질검사전문기관 상세정보/selectIoApiPmQtsc.csv'"
      ]
     },
     "execution_count": 1,
     "metadata": {},
     "output_type": "execute_result"
    }
   ],
   "source": [
    "from common import commonFunc as cf\n",
    "import pandas as pd\n",
    "import pickle\n",
    "\n",
    "pd.set_option('display.max_columns', None)\n",
    "metadata = pd.read_excel(\"../input/datalake_meta22.xlsx\")\n",
    "\n",
    "SITENAME = \"건설사업정보시스템\"\n",
    "DATANAME= \"품질검사전문기관 상세정보\"\n",
    "with open(\"../input/calsapikey.pickle\",\"rb\") as fr:\n",
    "    APIKEY = pickle.load(fr)\n",
    "\n",
    "targetData = metadata.loc[metadata.자료명==DATANAME]\n",
    "preSetFolder = targetData[\"저장폴더\"].values[0]\n",
    "\n",
    "preSetFolder"
   ]
  },
  {
   "cell_type": "code",
   "execution_count": 2,
   "metadata": {},
   "outputs": [],
   "source": [
    "targetData = metadata.loc[metadata.자료명==DATANAME]\n",
    "\n",
    "##### 파라미터 설정 #####\n",
    "URL = targetData[\"URL\"].values[0]\n",
    "SERVICENAME = targetData[\"서비스키\"].values[0]\n",
    "SERVICENAME = SERVICENAME.split(\".\")[0]\n",
    "REQPARAM = targetData[\"요청변수\"].values[0]\n",
    "REQPARAM = REQPARAM.split(\",\")\n",
    "PRIMARYKEY = targetData[\"기본키\"].values[0]"
   ]
  },
  {
   "cell_type": "code",
   "execution_count": 3,
   "metadata": {},
   "outputs": [],
   "source": [
    "JSONKEY = \"items\"\n",
    "DUMMY = 0"
   ]
  },
  {
   "cell_type": "code",
   "execution_count": 4,
   "metadata": {},
   "outputs": [
    {
     "data": {
      "text/plain": [
       "0"
      ]
     },
     "execution_count": 4,
     "metadata": {},
     "output_type": "execute_result"
    }
   ],
   "source": [
    "# 페이지번호 설정\n",
    "PAGEYN=1\n",
    "if REQPARAM.count(\"pageNo\") == 0:\n",
    "    PAGEYN = 0\n",
    "else:\n",
    "    PAGEYN = 1\n",
    "### 기본정보 설정 및 파라미터 설정 ###\n",
    "PAGEYN"
   ]
  },
  {
   "cell_type": "code",
   "execution_count": 5,
   "metadata": {},
   "outputs": [],
   "source": [
    "#임시 \n",
    "imsiDf = pd.read_csv(\\\n",
    "         \"../output/건설사업정보시스템/품질검사전문기관 목록/selectIoApiPmQtscList.csv\",low_memory=False, encoding=\"ms949\")"
   ]
  },
  {
   "cell_type": "code",
   "execution_count": 6,
   "metadata": {},
   "outputs": [],
   "source": [
    "dfCombi = imsiDf.loc[:,[\"rgsseq\"]].drop_duplicates()\n",
    "dfCombi.reset_index(inplace=True, drop=True)\n",
    "# dfCombiLen = dfCombi.shape[0]\n",
    "# dfCombiLen"
   ]
  },
  {
   "cell_type": "code",
   "execution_count": 7,
   "metadata": {},
   "outputs": [
    {
     "data": {
      "text/plain": [
       "540"
      ]
     },
     "execution_count": 7,
     "metadata": {},
     "output_type": "execute_result"
    }
   ],
   "source": [
    "newParam = dfCombi.rgsseq.drop_duplicates().tolist()\n",
    "len(newParam)"
   ]
  },
  {
   "cell_type": "markdown",
   "metadata": {},
   "source": [
    "## 파라미터정보 불러오기"
   ]
  },
  {
   "cell_type": "code",
   "execution_count": 8,
   "metadata": {},
   "outputs": [
    {
     "name": "stdout",
     "output_type": "stream",
     "text": [
      "[Errno 2] No such file or directory: '../output/건설사업정보시스템/품질검사전문기관 상세정보/selectIoApiPmQtsc.pickle'\n",
      "품질검사전문기관 상세정보 정보 new 모드 2 \n"
     ]
    }
   ],
   "source": [
    "orgParam = []\n",
    "try:\n",
    "    # 기존 데이터 및 파라미터 정보 불러오기\n",
    "    # 리스트로 불러오기로 변경 0425\n",
    "    orgParam = cf.loadparam(SITENAME,DATANAME,SERVICENAME)[0]\n",
    "## 파일이 없는경우\n",
    "except Exception as e:\n",
    "    orgParam = []\n",
    "    print(e)\n",
    "\n",
    "ptlcmnoList = list( set(newParam) - set(orgParam) )\n",
    "# 모드: 0=종료 1=append 2=새로생성\n",
    "mode = 2\n",
    "\n",
    "# 업데이트 할 내용이 없으면 종료\n",
    "if ptlcmnoList == []:\n",
    "    mode = 0\n",
    "    print(\"{} 정보 quit모드 {} \".format(DATANAME, mode))\n",
    "    quit()\n",
    "# orgParam == []\n",
    "elif orgParam == []:\n",
    "    mode = 2\n",
    "    print(\"{} 정보 new 모드 {} \".format(DATANAME, mode))\n",
    "# 이외에는 append 모드\n",
    "else:\n",
    "    mode = 1\n",
    "    print(\"{} 정보 append 모드 {} \".format(DATANAME, mode))\n",
    "\n",
    "# len(ptlcmnoList)"
   ]
  },
  {
   "cell_type": "code",
   "execution_count": 9,
   "metadata": {},
   "outputs": [],
   "source": [
    "resultDfMerged = pd.DataFrame()"
   ]
  },
  {
   "cell_type": "code",
   "execution_count": 11,
   "metadata": {
    "scrolled": true,
    "tags": []
   },
   "outputs": [
    {
     "name": "stdout",
     "output_type": "stream",
     "text": [
      "1 page scraping start apicall iter: 1 / used 49099D1D-E565-48E1-8A6F-D5F47135EA34\n",
      "0 no pageNo\n",
      "dataframe품질검사전문기관 상세정보, param:{'serviceKey': '49099D1D-E565-48E1-8A6F-D5F47135EA34', 'rgsSeq': 2005001, 'type': 'json'} rows: 15 completed\n",
      "1 page scraping start apicall iter: 2 / used 0974320D-C689-4543-8464-10DE1E5505A9\n",
      "0 no pageNo\n",
      "dataframe품질검사전문기관 상세정보, param:{'serviceKey': '0974320D-C689-4543-8464-10DE1E5505A9', 'rgsSeq': 2005002, 'type': 'json'} rows: 15 completed\n",
      "1 page scraping start apicall iter: 3 / used 49099D1D-E565-48E1-8A6F-D5F47135EA34\n",
      "0 no pageNo\n",
      "dataframe품질검사전문기관 상세정보, param:{'serviceKey': '49099D1D-E565-48E1-8A6F-D5F47135EA34', 'rgsSeq': 2005003, 'type': 'json'} rows: 15 completed\n",
      "1 page scraping start apicall iter: 4 / used 0974320D-C689-4543-8464-10DE1E5505A9\n",
      "0 no pageNo\n",
      "dataframe품질검사전문기관 상세정보, param:{'serviceKey': '0974320D-C689-4543-8464-10DE1E5505A9', 'rgsSeq': 2005004, 'type': 'json'} rows: 15 completed\n",
      "1 page scraping start apicall iter: 5 / used 49099D1D-E565-48E1-8A6F-D5F47135EA34\n",
      "0 no pageNo\n",
      "dataframe품질검사전문기관 상세정보, param:{'serviceKey': '49099D1D-E565-48E1-8A6F-D5F47135EA34', 'rgsSeq': 2005005, 'type': 'json'} rows: 15 completed\n",
      "1 page scraping start apicall iter: 6 / used 0974320D-C689-4543-8464-10DE1E5505A9\n",
      "0 no pageNo\n",
      "dataframe품질검사전문기관 상세정보, param:{'serviceKey': '0974320D-C689-4543-8464-10DE1E5505A9', 'rgsSeq': 2003001, 'type': 'json'} rows: 15 completed\n",
      "1 page scraping start apicall iter: 7 / used 49099D1D-E565-48E1-8A6F-D5F47135EA34\n",
      "0 no pageNo\n",
      "dataframe품질검사전문기관 상세정보, param:{'serviceKey': '49099D1D-E565-48E1-8A6F-D5F47135EA34', 'rgsSeq': 2003002, 'type': 'json'} rows: 15 completed\n",
      "1 page scraping start apicall iter: 8 / used 0974320D-C689-4543-8464-10DE1E5505A9\n",
      "0 no pageNo\n",
      "dataframe품질검사전문기관 상세정보, param:{'serviceKey': '0974320D-C689-4543-8464-10DE1E5505A9', 'rgsSeq': 2003003, 'type': 'json'} rows: 15 completed\n"
     ]
    },
    {
     "ename": "KeyboardInterrupt",
     "evalue": "",
     "output_type": "error",
     "traceback": [
      "\u001b[0;31m---------------------------------------------------------------------------\u001b[0m",
      "\u001b[0;31mKeyboardInterrupt\u001b[0m                         Traceback (most recent call last)",
      "\u001b[0;32m<ipython-input-11-87d2da1f9091>\u001b[0m in \u001b[0;36m<module>\u001b[0;34m\u001b[0m\n\u001b[1;32m     10\u001b[0m     \u001b[0mBASEPARAM\u001b[0m\u001b[0;34m=\u001b[0m\u001b[0;34m{\u001b[0m\u001b[0;34m\"serviceKey\"\u001b[0m\u001b[0;34m:\u001b[0m\u001b[0mAPIKEY\u001b[0m\u001b[0;34m[\u001b[0m\u001b[0;36m0\u001b[0m\u001b[0;34m]\u001b[0m\u001b[0;34m,\u001b[0m \u001b[0;34m\"rgsSeq\"\u001b[0m\u001b[0;34m:\u001b[0m \u001b[0mptlcmnoList\u001b[0m\u001b[0;34m[\u001b[0m\u001b[0mi\u001b[0m\u001b[0;34m]\u001b[0m\u001b[0;34m,\u001b[0m \u001b[0;34m\"type\"\u001b[0m\u001b[0;34m:\u001b[0m\u001b[0;34m\"json\"\u001b[0m\u001b[0;34m}\u001b[0m\u001b[0;34m\u001b[0m\u001b[0;34m\u001b[0m\u001b[0m\n\u001b[1;32m     11\u001b[0m     \u001b[0;31m#print(\"BASEPARAM \",BASEPARAM)\u001b[0m\u001b[0;34m\u001b[0m\u001b[0;34m\u001b[0m\u001b[0;34m\u001b[0m\u001b[0m\n\u001b[0;32m---> 12\u001b[0;31m     \u001b[0mscrapyResult\u001b[0m \u001b[0;34m=\u001b[0m \u001b[0mcf\u001b[0m\u001b[0;34m.\u001b[0m\u001b[0mscrapy\u001b[0m\u001b[0;34m(\u001b[0m\u001b[0mURL\u001b[0m\u001b[0;34m,\u001b[0m\u001b[0mSITENAME\u001b[0m\u001b[0;34m,\u001b[0m\u001b[0mDATANAME\u001b[0m\u001b[0;34m,\u001b[0m\u001b[0mSERVICENAME\u001b[0m\u001b[0;34m,\u001b[0m\u001b[0mBASEPARAM\u001b[0m\u001b[0;34m,\u001b[0m\u001b[0mPAGEYN\u001b[0m\u001b[0;34m,\u001b[0m \u001b[0mAPIKEY\u001b[0m\u001b[0;34m,\u001b[0m\u001b[0mAPICALL\u001b[0m\u001b[0;34m,\u001b[0m\u001b[0mJSONKEY\u001b[0m\u001b[0;34m,\u001b[0m \u001b[0mDUMMY\u001b[0m\u001b[0;34m)\u001b[0m\u001b[0;34m\u001b[0m\u001b[0;34m\u001b[0m\u001b[0m\n\u001b[0m\u001b[1;32m     13\u001b[0m     \u001b[0mresultDf\u001b[0m \u001b[0;34m=\u001b[0m \u001b[0mscrapyResult\u001b[0m\u001b[0;34m[\u001b[0m\u001b[0;36m0\u001b[0m\u001b[0;34m]\u001b[0m\u001b[0;34m\u001b[0m\u001b[0;34m\u001b[0m\u001b[0m\n\u001b[1;32m     14\u001b[0m     \u001b[0mpageList\u001b[0m\u001b[0;34m.\u001b[0m\u001b[0mappend\u001b[0m\u001b[0;34m(\u001b[0m \u001b[0mscrapyResult\u001b[0m\u001b[0;34m[\u001b[0m\u001b[0;36m1\u001b[0m\u001b[0;34m]\u001b[0m \u001b[0;34m)\u001b[0m\u001b[0;34m\u001b[0m\u001b[0;34m\u001b[0m\u001b[0m\n",
      "\u001b[0;32m~/Documents/GitHub/python_automation/apiScrapy/codeset/common/commonFunc.py\u001b[0m in \u001b[0;36mscrapy\u001b[0;34m(inUrl, inSiteName, inDataName, inServiceName, inParam, inPageYn, inAPIKey, inApiCall, jsonkey, dummy, inType, prePageNo)\u001b[0m\n\u001b[1;32m     29\u001b[0m             \u001b[0minApiCall\u001b[0m \u001b[0;34m=\u001b[0m \u001b[0minApiCall\u001b[0m \u001b[0;34m+\u001b[0m \u001b[0;36m1\u001b[0m\u001b[0;34m\u001b[0m\u001b[0;34m\u001b[0m\u001b[0m\n\u001b[1;32m     30\u001b[0m             \u001b[0;32mif\u001b[0m \u001b[0minType\u001b[0m \u001b[0;34m==\u001b[0m \u001b[0;34m\"jsonabnormal\"\u001b[0m\u001b[0;34m:\u001b[0m\u001b[0;34m\u001b[0m\u001b[0;34m\u001b[0m\u001b[0m\n\u001b[0;32m---> 31\u001b[0;31m                 \u001b[0mtime\u001b[0m\u001b[0;34m.\u001b[0m\u001b[0msleep\u001b[0m\u001b[0;34m(\u001b[0m\u001b[0;36m1\u001b[0m\u001b[0;34m)\u001b[0m\u001b[0;34m\u001b[0m\u001b[0;34m\u001b[0m\u001b[0m\n\u001b[0m\u001b[1;32m     32\u001b[0m \u001b[0;34m\u001b[0m\u001b[0m\n\u001b[1;32m     33\u001b[0m             \u001b[0minParam\u001b[0m\u001b[0;34m[\u001b[0m\u001b[0;34m\"serviceKey\"\u001b[0m\u001b[0;34m]\u001b[0m \u001b[0;34m=\u001b[0m \u001b[0minAPIKey\u001b[0m\u001b[0;34m[\u001b[0m\u001b[0minApiCall\u001b[0m\u001b[0;34m%\u001b[0m\u001b[0minAPIKeyLen\u001b[0m\u001b[0;34m]\u001b[0m\u001b[0;34m\u001b[0m\u001b[0;34m\u001b[0m\u001b[0m\n",
      "\u001b[0;31mKeyboardInterrupt\u001b[0m: "
     ]
    }
   ],
   "source": [
    "numOfRows = 1000\n",
    "resultDf = pd.DataFrame()\n",
    "APICALL = 0 #추가\n",
    "\n",
    "ptlcmnoListLen = len(ptlcmnoList)\n",
    "pageList = [] #추가\n",
    "\n",
    "\n",
    "for i in range(0,ptlcmnoListLen):\n",
    "    BASEPARAM={\"serviceKey\":APIKEY[0], \"rgsSeq\": ptlcmnoList[i], \"type\":\"json\"}\n",
    "    #print(\"BASEPARAM \",BASEPARAM)\n",
    "    scrapyResult = cf.scrapy(URL,SITENAME,DATANAME,SERVICENAME,BASEPARAM,PAGEYN, APIKEY,APICALL,JSONKEY, DUMMY)\n",
    "    resultDf = scrapyResult[0]\n",
    "    pageList.append( scrapyResult[1] )\n",
    "    APICALL = scrapyResult[2]\n",
    "    if resultDf.empty: # 정상 데이터가 없는 경우\n",
    "        print(\"No Data\")\n",
    "        break\n",
    "    else:\n",
    "        resultDfMerged = resultDfMerged.append(resultDf)\n"
   ]
  },
  {
   "cell_type": "code",
   "execution_count": 12,
   "metadata": {},
   "outputs": [
    {
     "data": {
      "text/html": [
       "<div>\n",
       "<style scoped>\n",
       "    .dataframe tbody tr th:only-of-type {\n",
       "        vertical-align: middle;\n",
       "    }\n",
       "\n",
       "    .dataframe tbody tr th {\n",
       "        vertical-align: top;\n",
       "    }\n",
       "\n",
       "    .dataframe thead th {\n",
       "        text-align: right;\n",
       "    }\n",
       "</style>\n",
       "<table border=\"1\" class=\"dataframe\">\n",
       "  <thead>\n",
       "    <tr style=\"text-align: right;\">\n",
       "      <th></th>\n",
       "      <th>rgsseq</th>\n",
       "      <th>tpincts</th>\n",
       "      <th>perno</th>\n",
       "      <th>bsnrngcts</th>\n",
       "      <th>rgsdt</th>\n",
       "      <th>mtlnm</th>\n",
       "      <th>tpinno</th>\n",
       "      <th>rprnnm</th>\n",
       "      <th>tlno</th>\n",
       "      <th>zc</th>\n",
       "      <th>adr</th>\n",
       "      <th>fxno</th>\n",
       "      <th>lbrtare</th>\n",
       "      <th>orcd</th>\n",
       "      <th>orcdnm</th>\n",
       "    </tr>\n",
       "  </thead>\n",
       "  <tbody>\n",
       "    <tr>\n",
       "      <th>0</th>\n",
       "      <td>2005001</td>\n",
       "      <td>토목(골재,레미콘,아스콘,철강재)</td>\n",
       "      <td>익산2008-11</td>\n",
       "      <td>None</td>\n",
       "      <td>20050202</td>\n",
       "      <td>(주)한국건설시험연구원</td>\n",
       "      <td>None</td>\n",
       "      <td>최현기</td>\n",
       "      <td>061-375-0488</td>\n",
       "      <td>519803</td>\n",
       "      <td>전라남도 화순군 노대길 25</td>\n",
       "      <td>061-375-0412</td>\n",
       "      <td>156.0</td>\n",
       "      <td>A4000</td>\n",
       "      <td>None</td>\n",
       "    </tr>\n",
       "    <tr>\n",
       "      <th>0</th>\n",
       "      <td>2005002</td>\n",
       "      <td>토목(골재,레미콘,아스콘,철강재,정재하,동재하)</td>\n",
       "      <td>익산2008-45</td>\n",
       "      <td>None</td>\n",
       "      <td>20050524</td>\n",
       "      <td>(유)대한건설품질시험원</td>\n",
       "      <td>None</td>\n",
       "      <td>백상헌</td>\n",
       "      <td>063-862-9991</td>\n",
       "      <td>570802</td>\n",
       "      <td>전북 익산시 함열읍 익산대로 1424-5</td>\n",
       "      <td>063-862-9995</td>\n",
       "      <td>152.5</td>\n",
       "      <td>A4000</td>\n",
       "      <td>None</td>\n",
       "    </tr>\n",
       "    <tr>\n",
       "      <th>0</th>\n",
       "      <td>2005003</td>\n",
       "      <td>특수</td>\n",
       "      <td>2013-01</td>\n",
       "      <td>섬유</td>\n",
       "      <td>20050721</td>\n",
       "      <td>(재)한국의류시험연구원부산지원</td>\n",
       "      <td>None</td>\n",
       "      <td>허재호</td>\n",
       "      <td>051-920-2701</td>\n",
       "      <td>612020</td>\n",
       "      <td>부산광역시 해운대구 센텀중앙로 48 610호</td>\n",
       "      <td>051-920-2710</td>\n",
       "      <td>240.0</td>\n",
       "      <td>B2000</td>\n",
       "      <td>None</td>\n",
       "    </tr>\n",
       "    <tr>\n",
       "      <th>0</th>\n",
       "      <td>2005004</td>\n",
       "      <td>특수</td>\n",
       "      <td>2010-17</td>\n",
       "      <td>섬유</td>\n",
       "      <td>20051107</td>\n",
       "      <td>(재)FITI시험연구원 부산지원</td>\n",
       "      <td>None</td>\n",
       "      <td>윤성광</td>\n",
       "      <td>051-463-5477</td>\n",
       "      <td>601838</td>\n",
       "      <td>부산광역시 동구 중앙대로248번길 14</td>\n",
       "      <td>051-462-8803</td>\n",
       "      <td>247.0</td>\n",
       "      <td>B2000</td>\n",
       "      <td>None</td>\n",
       "    </tr>\n",
       "    <tr>\n",
       "      <th>0</th>\n",
       "      <td>2005005</td>\n",
       "      <td>특수</td>\n",
       "      <td>제2013-24, 25호</td>\n",
       "      <td>골재,레디믹스트콘크리트</td>\n",
       "      <td>20051118</td>\n",
       "      <td>고려엔지니어링(주)</td>\n",
       "      <td>None</td>\n",
       "      <td>지봉복</td>\n",
       "      <td>031-285-8200</td>\n",
       "      <td>449831</td>\n",
       "      <td>경기도 용인시 처인구 이동면 백옥대로 260번길 39 (시미리 102-4번지)</td>\n",
       "      <td>031-287-6236</td>\n",
       "      <td>109.0</td>\n",
       "      <td>A1000</td>\n",
       "      <td>None</td>\n",
       "    </tr>\n",
       "    <tr>\n",
       "      <th>0</th>\n",
       "      <td>2003001</td>\n",
       "      <td>토목(골재,레미콘,아스콘,철강재)</td>\n",
       "      <td>익산2009-8</td>\n",
       "      <td>None</td>\n",
       "      <td>20030422</td>\n",
       "      <td>(주)한국건설산업시험연구원</td>\n",
       "      <td>410-81-79265</td>\n",
       "      <td>이민순</td>\n",
       "      <td>062-946-0186</td>\n",
       "      <td>502837</td>\n",
       "      <td>광주광역시 서구 화정로179번길 43</td>\n",
       "      <td>062-946-0188</td>\n",
       "      <td>215.5</td>\n",
       "      <td>A4000</td>\n",
       "      <td>None</td>\n",
       "    </tr>\n",
       "    <tr>\n",
       "      <th>0</th>\n",
       "      <td>2003002</td>\n",
       "      <td>토목(골재,레미콘,아스콘,철강재,정재하,동재하)</td>\n",
       "      <td>익산2008-10</td>\n",
       "      <td>None</td>\n",
       "      <td>20030623</td>\n",
       "      <td>한국품질시험원(주)</td>\n",
       "      <td>None</td>\n",
       "      <td>김생순</td>\n",
       "      <td>062-972-6701</td>\n",
       "      <td>502861</td>\n",
       "      <td>광주광역시 서구 유덕로27번길 13</td>\n",
       "      <td>062-972-6704</td>\n",
       "      <td>154.0</td>\n",
       "      <td>A4000</td>\n",
       "      <td>None</td>\n",
       "    </tr>\n",
       "    <tr>\n",
       "      <th>0</th>\n",
       "      <td>2003003</td>\n",
       "      <td>토목</td>\n",
       "      <td>2013-10</td>\n",
       "      <td>골재,레디믹스트콘크리트,아스팔트콘크리트,철강재,말뚝재하(정재하시험,동재하시험)</td>\n",
       "      <td>20030811</td>\n",
       "      <td>건설기술원(주)</td>\n",
       "      <td>None</td>\n",
       "      <td>김경영</td>\n",
       "      <td>054-971-0114</td>\n",
       "      <td>718912</td>\n",
       "      <td>경상북도 칠곡군 천평2길 29 한국품질시험연구소</td>\n",
       "      <td>054-971-0116</td>\n",
       "      <td>232.8</td>\n",
       "      <td>C4000</td>\n",
       "      <td>None</td>\n",
       "    </tr>\n",
       "  </tbody>\n",
       "</table>\n",
       "</div>"
      ],
      "text/plain": [
       "    rgsseq                     tpincts          perno  \\\n",
       "0  2005001          토목(골재,레미콘,아스콘,철강재)      익산2008-11   \n",
       "0  2005002  토목(골재,레미콘,아스콘,철강재,정재하,동재하)      익산2008-45   \n",
       "0  2005003                          특수        2013-01   \n",
       "0  2005004                          특수        2010-17   \n",
       "0  2005005                          특수  제2013-24, 25호   \n",
       "0  2003001          토목(골재,레미콘,아스콘,철강재)       익산2009-8   \n",
       "0  2003002  토목(골재,레미콘,아스콘,철강재,정재하,동재하)      익산2008-10   \n",
       "0  2003003                          토목        2013-10   \n",
       "\n",
       "                                     bsnrngcts     rgsdt              mtlnm  \\\n",
       "0                                         None  20050202       (주)한국건설시험연구원   \n",
       "0                                         None  20050524       (유)대한건설품질시험원   \n",
       "0                                           섬유  20050721   (재)한국의류시험연구원부산지원   \n",
       "0                                           섬유  20051107  (재)FITI시험연구원 부산지원   \n",
       "0                                 골재,레디믹스트콘크리트  20051118         고려엔지니어링(주)   \n",
       "0                                         None  20030422     (주)한국건설산업시험연구원   \n",
       "0                                         None  20030623         한국품질시험원(주)   \n",
       "0  골재,레디믹스트콘크리트,아스팔트콘크리트,철강재,말뚝재하(정재하시험,동재하시험)  20030811           건설기술원(주)   \n",
       "\n",
       "         tpinno rprnnm          tlno      zc  \\\n",
       "0          None    최현기  061-375-0488  519803   \n",
       "0          None    백상헌  063-862-9991  570802   \n",
       "0          None    허재호  051-920-2701  612020   \n",
       "0          None    윤성광  051-463-5477  601838   \n",
       "0          None    지봉복  031-285-8200  449831   \n",
       "0  410-81-79265    이민순  062-946-0186  502837   \n",
       "0          None    김생순  062-972-6701  502861   \n",
       "0          None    김경영  054-971-0114  718912   \n",
       "\n",
       "                                           adr          fxno  lbrtare   orcd  \\\n",
       "0                              전라남도 화순군 노대길 25  061-375-0412    156.0  A4000   \n",
       "0                       전북 익산시 함열읍 익산대로 1424-5  063-862-9995    152.5  A4000   \n",
       "0                     부산광역시 해운대구 센텀중앙로 48 610호  051-920-2710    240.0  B2000   \n",
       "0                        부산광역시 동구 중앙대로248번길 14  051-462-8803    247.0  B2000   \n",
       "0  경기도 용인시 처인구 이동면 백옥대로 260번길 39 (시미리 102-4번지)  031-287-6236    109.0  A1000   \n",
       "0                         광주광역시 서구 화정로179번길 43  062-946-0188    215.5  A4000   \n",
       "0                          광주광역시 서구 유덕로27번길 13  062-972-6704    154.0  A4000   \n",
       "0                   경상북도 칠곡군 천평2길 29 한국품질시험연구소  054-971-0116    232.8  C4000   \n",
       "\n",
       "  orcdnm  \n",
       "0   None  \n",
       "0   None  \n",
       "0   None  \n",
       "0   None  \n",
       "0   None  \n",
       "0   None  \n",
       "0   None  \n",
       "0   None  "
      ]
     },
     "execution_count": 12,
     "metadata": {},
     "output_type": "execute_result"
    }
   ],
   "source": [
    "resultDfMerged = resultDfMerged.drop_duplicates()\n",
    "resultDfMerged"
   ]
  },
  {
   "cell_type": "code",
   "execution_count": 15,
   "metadata": {
    "scrolled": true
   },
   "outputs": [
    {
     "name": "stdout",
     "output_type": "stream",
     "text": [
      "품질검사전문기관 상세정보 save compled\n"
     ]
    }
   ],
   "source": [
    "cf.savedata(resultDfMerged, SITENAME,DATANAME,SERVICENAME,mode)"
   ]
  },
  {
   "cell_type": "code",
   "execution_count": 16,
   "metadata": {},
   "outputs": [
    {
     "data": {
      "text/plain": [
       "(540, 15)"
      ]
     },
     "execution_count": 16,
     "metadata": {},
     "output_type": "execute_result"
    }
   ],
   "source": [
    "resultDfMerged.shape"
   ]
  },
  {
   "cell_type": "code",
   "execution_count": 13,
   "metadata": {},
   "outputs": [],
   "source": [
    "# 기존사용된 파라미터 정보에 추가 파라미터 append 후 저장\n",
    "ptlcmnoList = orgParam + ptlcmnoList\n",
    "\n",
    "paramList = [ptlcmnoList,pageList]\n",
    "# 최종 파라미터 저장\n",
    "cf.saveparam(paramList, SITENAME,DATANAME,SERVICENAME)"
   ]
  },
  {
   "cell_type": "code",
   "execution_count": null,
   "metadata": {},
   "outputs": [],
   "source": []
  }
 ],
 "metadata": {
  "kernelspec": {
   "display_name": "Python 3",
   "language": "python",
   "name": "python3"
  },
  "language_info": {
   "codemirror_mode": {
    "name": "ipython",
    "version": 3
   },
   "file_extension": ".py",
   "mimetype": "text/x-python",
   "name": "python",
   "nbconvert_exporter": "python",
   "pygments_lexer": "ipython3",
   "version": "3.8.5"
  }
 },
 "nbformat": 4,
 "nbformat_minor": 5
}
