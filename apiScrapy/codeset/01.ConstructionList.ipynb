{
 "cells": [
  {
   "cell_type": "code",
   "execution_count": 1,
   "id": "48c62120-e0e1-4b51-bb8b-0dc20d7215c2",
   "metadata": {},
   "outputs": [],
   "source": [
    "### 기본라이브러리 정의"
   ]
  },
  {
   "cell_type": "code",
   "execution_count": 2,
   "id": "95c78be8-2ab0-4e92-8fbd-0c194d2af445",
   "metadata": {},
   "outputs": [],
   "source": [
    "from common import commonFunc as cf\n",
    "import pandas as pd"
   ]
  },
  {
   "cell_type": "code",
   "execution_count": 3,
   "id": "18fb31ba-f03f-4029-b7e3-4f7be1eefbf5",
   "metadata": {},
   "outputs": [],
   "source": [
    "metadata = pd.read_excel(\"../input/datalake_meta22.xlsx\")"
   ]
  },
  {
   "cell_type": "code",
   "execution_count": 4,
   "id": "e612a735-180a-4bd2-9478-a0867ccbe1d1",
   "metadata": {},
   "outputs": [],
   "source": [
    "### 기본정보 설정 및 파라미터 설정 ###\n",
    "SITENAME = \"건설사업정보시스템\"\n",
    "DATANAME= \"공사정보 목록\"\n",
    "APIKEY = \"1EFCBE0D-3203-4485-A7BA-5F5DB2B476BF\"\n",
    "\n",
    "targetData = metadata.loc[metadata.자료명==DATANAME]\n",
    "URL = targetData[\"URL\"].values[0]\n",
    "SERVICENAME = targetData[\"서비스키\"].values[0]\n",
    "SERVICENAME = SERVICENAME.split(\".\")[0]\n",
    "REQPARAM = targetData[\"요청변수\"].values[0]\n",
    "REQPARAM = REQPARAM.split(\",\")\n",
    "PRIMARYKEY = targetData[\"기본키\"].values[0]\n",
    "\n",
    "# 페이지번호 설정\n",
    "PAGEYN=1\n",
    "if REQPARAM.count(\"pageyn\") == 0:\n",
    "    PAGEYN = 0\n",
    "else:\n",
    "    PAGEYN = 1\n",
    "### 기본정보 설정 및 파라미터 설정 ###"
   ]
  },
  {
   "cell_type": "code",
   "execution_count": 5,
   "id": "0945b012-f43d-4ee0-bd93-9b840d97a130",
   "metadata": {
    "scrolled": true,
    "tags": []
   },
   "outputs": [
    {
     "name": "stdout",
     "output_type": "stream",
     "text": [
      "1 page scraping start\n",
      "2 page scraping start\n",
      "3 page scraping start\n",
      "4 page scraping start\n",
      "5 page scraping start\n",
      "6 page scraping start\n",
      "7 page scraping start\n",
      "8 page scraping start\n",
      "9 page scraping start\n",
      "10 page scraping start\n",
      "11 page scraping start\n",
      "12 page scraping start\n",
      "13 page scraping start\n",
      "14 page scraping start\n",
      "15 page scraping start\n",
      "16 page scraping start\n",
      "17 page scraping start\n",
      "18 page scraping start\n",
      "19 page scraping start\n",
      "20 page scraping start\n",
      "21 page scraping start\n",
      "22 page scraping start\n",
      "23 page scraping start\n",
      "24 page scraping start\n",
      "25 page scraping start\n",
      "26 page scraping start\n",
      "27 page scraping start\n",
      "28 page scraping start\n",
      "29 page scraping start\n",
      "30 page scraping start\n",
      "31 page scraping start\n",
      "32 page scraping start\n",
      "33 page scraping start\n",
      "34 page scraping start\n",
      "35 page scraping start\n",
      "36 page scraping start\n",
      "37 page scraping start\n",
      "38 page scraping start\n",
      "39 page scraping start\n",
      "40 page scraping start\n",
      "41 page scraping start\n",
      "42 page scraping start\n",
      "43 page scraping start\n",
      "44 page scraping start\n",
      "45 page scraping start\n",
      "46 page scraping start\n",
      "47 page scraping start\n",
      "48 page scraping start\n",
      "49 page scraping start\n",
      "50 page scraping start\n",
      "51 page scraping start\n",
      "52 page scraping start\n",
      "53 page scraping start\n",
      "54 page scraping start\n",
      "55 page scraping start\n",
      "56 page scraping start\n",
      "57 page scraping start\n",
      "58 page scraping start\n",
      "59 page scraping start\n",
      "60 page scraping start\n",
      "61 page scraping start\n",
      "62 page scraping start\n",
      "63 page scraping start\n",
      "64 page scraping start\n",
      "65 page scraping start\n",
      "66 page scraping start\n",
      "67 page scraping start\n",
      "68 page scraping start\n",
      "69 page scraping start\n",
      "70 page scraping start\n",
      "71 page scraping start\n",
      "72 page scraping start\n",
      "73 page scraping start\n",
      "74 page scraping start\n",
      "75 page scraping start\n",
      "76 page scraping start\n",
      "77 page scraping start\n",
      "78 page scraping start\n",
      "79 page scraping start\n",
      "80 page scraping start\n",
      "81 page scraping start\n",
      "82 page scraping start\n",
      "83 page scraping start\n",
      "84 page scraping start\n",
      "85 page scraping start\n",
      "86 page scraping start\n",
      "87 page scraping start\n",
      "88 page scraping start\n",
      "89 page scraping start\n",
      "90 page scraping start\n",
      "91 page scraping start\n",
      "92 page scraping start\n",
      "93 page scraping start\n",
      "94 page scraping start\n",
      "95 page scraping start\n",
      "96 page scraping start\n",
      "97 page scraping start\n",
      "98 page scraping start\n",
      "99 page scraping start\n",
      "100 page scraping start\n",
      "101 page scraping start\n",
      "102 page scraping start\n",
      "103 page scraping start\n",
      "104 page scraping start\n",
      "105 page scraping start\n",
      "106 page scraping start\n",
      "107 page scraping start\n",
      "108 page scraping start\n",
      "109 page scraping start\n",
      "110 page scraping start\n",
      "111 page scraping start\n",
      "112 page scraping start\n",
      "113 page scraping start\n",
      "114 page scraping start\n",
      "115 page scraping start\n",
      "116 page scraping start\n",
      "117 page scraping start\n",
      "118 page scraping start\n",
      "119 page scraping start\n",
      "120 page scraping start\n",
      "121 page scraping start\n",
      "122 page scraping start\n",
      "123 page scraping start\n",
      "124 page scraping start\n",
      "125 page scraping start\n",
      "126 page scraping start\n",
      "126 page is empty\n",
      "dataframe공사정보 목록, param:{'serviceKey': '1EFCBE0D-3203-4485-A7BA-5F5DB2B476BF', 'type': 'json', 'pageNo': 126} rows: 21 completed\n"
     ]
    }
   ],
   "source": [
    "# URL = 'https://www.calspia.go.kr/io/openapi/cm/selectIoCmConstructionList.do'\n",
    "BASEPARAM={\"serviceKey\":APIKEY, \"type\":\"json\"}\n",
    "resultDf = cf.scrapy(URL,SITENAME,DATANAME,SERVICENAME,BASEPARAM,1)"
   ]
  },
  {
   "cell_type": "markdown",
   "id": "19a5fb35-f468-4d22-a7c6-ef8077674892",
   "metadata": {
    "tags": []
   },
   "source": [
    "### 2. 디렉토리에 저장 (로컬임시"
   ]
  },
  {
   "cell_type": "code",
   "execution_count": 6,
   "id": "11a967eb-be20-4c98-a88f-b844a80ff2ae",
   "metadata": {},
   "outputs": [
    {
     "name": "stdout",
     "output_type": "stream",
     "text": [
      "공사정보 목록 save compled\n"
     ]
    }
   ],
   "source": [
    "cf.savedata(resultDf, SITENAME,DATANAME,SERVICENAME)"
   ]
  }
 ],
 "metadata": {
  "kernelspec": {
   "display_name": "Python 3 (ipykernel)",
   "language": "python",
   "name": "python3"
  },
  "language_info": {
   "codemirror_mode": {
    "name": "ipython",
    "version": 3
   },
   "file_extension": ".py",
   "mimetype": "text/x-python",
   "name": "python",
   "nbconvert_exporter": "python",
   "pygments_lexer": "ipython3",
   "version": "3.9.7"
  }
 },
 "nbformat": 4,
 "nbformat_minor": 5
}
