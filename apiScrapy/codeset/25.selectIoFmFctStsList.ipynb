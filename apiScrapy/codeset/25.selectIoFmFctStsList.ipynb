{
 "cells": [
  {
   "cell_type": "markdown",
   "metadata": {
    "tags": []
   },
   "source": [
    "## 도로시설물 관리현황 정보"
   ]
  },
  {
   "cell_type": "code",
   "execution_count": 1,
   "metadata": {},
   "outputs": [
    {
     "data": {
      "text/plain": [
       "'../output/건설사업정보시스템/도로시설물 관리현황 정보/selectIoFmFctStsList.csv'"
      ]
     },
     "execution_count": 1,
     "metadata": {},
     "output_type": "execute_result"
    }
   ],
   "source": [
    "from common import commonFunc as cf\n",
    "import pandas as pd\n",
    "pd.set_option('display.max_columns', None)\n",
    "metadata = pd.read_excel(\"../input/datalake_meta22.xlsx\")\n",
    "\n",
    "SITENAME = \"건설사업정보시스템\"\n",
    "DATANAME= \"도로시설물 관리현황 정보\"\n",
    "APIKEY = \"1EFCBE0D-3203-4485-A7BA-5F5DB2B476BF\"\n",
    "\n",
    "targetData = metadata.loc[metadata.자료명==DATANAME]\n",
    "preSetFolder = targetData[\"저장폴더\"].values[0]\n",
    "\n",
    "preSetFolder"
   ]
  },
  {
   "cell_type": "code",
   "execution_count": 2,
   "metadata": {},
   "outputs": [],
   "source": [
    "# 개별 시설물 유지보수대장목록 수\n",
    "g_totalCount = 0"
   ]
  },
  {
   "cell_type": "code",
   "execution_count": 3,
   "metadata": {},
   "outputs": [
    {
     "data": {
      "text/plain": [
       "'selectIoFmFctStsList'"
      ]
     },
     "execution_count": 3,
     "metadata": {},
     "output_type": "execute_result"
    }
   ],
   "source": [
    "##### 파라미터 설정 #####\n",
    "URL = targetData[\"URL\"].values[0]\n",
    "SERVICENAME = targetData[\"서비스키\"].values[0]\n",
    "SERVICENAME = SERVICENAME.split(\".\")[0]\n",
    "SERVICENAME"
   ]
  },
  {
   "cell_type": "code",
   "execution_count": 4,
   "metadata": {},
   "outputs": [],
   "source": [
    "# REQPARAM = targetData[\"요청변수\"].values[0]\n",
    "# REQPARAM = REQPARAM.split(\",\")\n",
    "# PRIMARYKEY = targetData[\"기본키\"].values[0]\n",
    "# REQPARAM"
   ]
  },
  {
   "cell_type": "code",
   "execution_count": 6,
   "metadata": {},
   "outputs": [],
   "source": [
    "JSONKEY = \"items\"\n",
    "DUMMY = 0"
   ]
  },
  {
   "cell_type": "markdown",
   "metadata": {},
   "source": [
    "## 시설물 유지보수대장 목록 전용 스크랩 함수"
   ]
  },
  {
   "cell_type": "code",
   "execution_count": 15,
   "metadata": {},
   "outputs": [],
   "source": [
    "import requests\n",
    "from lxml import html\n",
    "from bs4 import BeautifulSoup \n",
    "import pandas as pd\n",
    "from urllib.request import Request, urlopen\n",
    "from urllib.parse import urlencode, quote_plus, unquote\n",
    "import os\n",
    "\n",
    "STDENCODING=\"utf-8\"\n",
    "### 함수정의: 사이트 메타정보를 받아 데이터를 수집 후 수집결과를 반환하는 함수\n",
    "### 파마리터정의: \n",
    "###   - inurl: 메타정보의 \"URL\"컬럼값 (예: https://www.calspia.go.kr/io/openapi/cm/selectIoCmConstructionList.do )\n",
    "###   - inSiteName: 메타정보의 \"자료대상\" (예: 건설사업정보시스템)\n",
    "###   - inDataName: 메타정보의 \"자료명\" (예: 공사정보 목록)\n",
    "###   - inServiceName: 메타정보의 \"기본키\" (예: serviceKey + Format)\n",
    "###   - inParam: 메타정보의 \"파라미터 정보\" (예: 페이지 파라미터 존재 시 1 값\")\n",
    "###   - inPageYn: 메타정보의 \"페이지 정보\" (예: 페이지 파라미터 존재 시 1 값\")\n",
    "### 함수정의: 사이트 메타정보를 받아 데이터를 수집 후 수집결과를 반환하는 함수\n",
    "def myscrapy(inUrl, inSiteName, inDataName, inServiceName, inParam, inPageYn, jsonkey=\"items\", dummy=0, inType=\"jsonabnormal\"):\n",
    "    try:\n",
    "        emptyPd = pd.DataFrame()\n",
    "        i=1\n",
    "        while True:\n",
    "            print(\"{} page scraping start\".format(i))\n",
    "            \n",
    "            if(inPageYn==1):\n",
    "                inParam[\"pageNo\"] = i\n",
    "            queryParams = '?' + urlencode(inParam)\n",
    "            requests.packages.urllib3.disable_warnings(requests.packages.urllib3.exceptions.InsecureRequestWarning)\n",
    "            response = requests.get(inUrl+queryParams,verify=False)\n",
    "            response.encoding=STDENCODING\n",
    "            rowData = pd.DataFrame()\n",
    "            if(inType==\"jsonabnormal\"):\n",
    "                # 비정상 데이터는 response 섹션이 없음\n",
    "                if(response.json().get('response') == None):\n",
    "                    jsondata = response.json()[\"header\"][\"resultMsg\"]\n",
    "                    if( jsondata != \"NORMAL_SERVICE\"):\n",
    "                        print(\"SERVER ERROR \",jsondata)\n",
    "                        break\n",
    "                    \n",
    "#               여기서부터는 데이터는 있는데, totalcount>0 경우는 items 정보에 세부정보가 더 있음\n",
    "                if(response.json()[\"response\"][\"body\"].get(jsonkey) == None):                  \n",
    "                    print(jsonkey+\"is None !!!!\")\n",
    "                    break\n",
    "                \n",
    "\n",
    "                \n",
    "                print(\">totalCount \"+str(response.json()[\"response\"][\"body\"][\"totalCount\"]))\n",
    "                if(0 < int(response.json()[\"response\"][\"body\"][\"totalCount\"])):\n",
    "                    global g_totalCount\n",
    "                    if g_totalCount == 0:\n",
    "                        g_totalCount = int(response.json()[\"response\"][\"body\"][\"totalCount\"])\n",
    "                    jsondata = response.json()[\"response\"][\"body\"][jsonkey]\n",
    "                    if( jsondata == []):\n",
    "                        print(\"items is empty\")\n",
    "                    else:\n",
    "#                         jsondata[\"index\"]=[0]\n",
    "                        rowData = pd.DataFrame(jsondata)\n",
    "                        print(rowData)\n",
    "                        emptyPd = emptyPd.append(rowData)\n",
    "#                         emptyPd = pd.merge(left = emptyPd , right = rowData, on = \"fcno\")\n",
    "                    \n",
    "            else:\n",
    "                print(\"Error\")          \n",
    "     \n",
    "            if(inPageYn == 0):\n",
    "                print(\"{} no pageNo\".format(inPageYn))\n",
    "                break\n",
    "            i = i+1\n",
    "\n",
    "        emptyPd.columns = emptyPd.columns.str.lower()\n",
    "        emptyPd.shape\n",
    "#         print(\"dataframe{}, param:{} rows: {} completed\".format(inDataName,inParam, emptyPd.shape[1] )     )\n",
    "        return emptyPd       \n",
    "    except Exception as e:\n",
    "            print(e)     "
   ]
  },
  {
   "cell_type": "code",
   "execution_count": 16,
   "metadata": {},
   "outputs": [],
   "source": [
    "\n",
    "numOfRows = 1000\n",
    "PAGEYN=0"
   ]
  },
  {
   "cell_type": "code",
   "execution_count": 17,
   "metadata": {},
   "outputs": [],
   "source": [
    "class noDataFound(Exception): pass  # declare a label\n"
   ]
  },
  {
   "cell_type": "code",
   "execution_count": 23,
   "metadata": {},
   "outputs": [
    {
     "name": "stdout",
     "output_type": "stream",
     "text": [
      "1 page scraping start\n",
      ">totalCount 9274\n",
      "       rn cmofNm       ofcNm     rutNm fctKdNm fctCfNm fctNm       ccwDt\n",
      "0       1    서울청   수원국토관리사무소   일반국도3호선      교량      3종  진암3교  2002-12-01\n",
      "1       2    서울청   수원국토관리사무소   일반국도3호선      교량      기타  진암2교  2002-12-01\n",
      "2       3    서울청   수원국토관리사무소   일반국도3호선      교량      3종  진암1교  2002-12-01\n",
      "3       4    서울청   수원국토관리사무소   일반국도3호선      교량      3종   진암교  2002-12-01\n",
      "4       5    서울청   수원국토관리사무소   일반국도3호선      교량      3종   풍계교  1996-07-25\n",
      "..    ...    ...         ...       ...     ...     ...   ...         ...\n",
      "995   996    서울청  의정부국토관리사무소  일반국도77호선      교량      1종   오금교  1992-07-25\n",
      "996   997    서울청  의정부국토관리사무소  일반국도87호선      교량      1종  영로대교  2017-01-01\n",
      "997   998    원주청   홍천국토관리사무소   일반국도5호선      교량      3종   신림교  1995-03-19\n",
      "998   999    원주청   홍천국토관리사무소   일반국도5호선      교량      기타   중간교  1987-12-31\n",
      "999  1000    원주청   홍천국토관리사무소   일반국도5호선      교량      3종   치악교  1996-12-14\n",
      "\n",
      "[1000 rows x 8 columns]\n",
      "0 no pageNo\n",
      "g_totalCount :  8274  numOfRows :  1000\n",
      "1 page scraping start\n",
      ">totalCount 9274\n",
      "       rn cmofNm      ofcNm     rutNm fctKdNm fctCfNm    fctNm       ccwDt\n",
      "0    1001    원주청  홍천국토관리사무소   일반국도5호선      교량      3종   학곡교(하)  2000-12-29\n",
      "1    1002    원주청  홍천국토관리사무소   일반국도5호선      교량      3종   학곡교(상)  2000-12-29\n",
      "2    1003    원주청  홍천국토관리사무소   일반국도5호선      교량      3종     가담육교  2000-12-29\n",
      "3    1004    원주청  홍천국토관리사무소   일반국도5호선      교량      2종   입석IC육교  2000-12-29\n",
      "4    1005    원주청  홍천국토관리사무소   일반국도5호선      교량      1종  입석육교(하)  2000-12-29\n",
      "..    ...    ...        ...       ...     ...     ...      ...         ...\n",
      "995  1996    원주청  정선국토관리사무소  일반국도42호선      교량      2종      광하교  2018-01-24\n",
      "996  1997    원주청  정선국토관리사무소  일반국도42호선      교량      1종      용탄교  2018-01-24\n",
      "997  1998    원주청  정선국토관리사무소  일반국도42호선      교량      1종     북실대교  2018-01-24\n",
      "998  1999    원주청  정선국토관리사무소  일반국도42호선      교량      1종      미천교  2018-01-24\n",
      "999  2000    원주청  정선국토관리사무소  일반국도42호선      교량      1종      덕송교  2008-12-17\n",
      "\n",
      "[1000 rows x 8 columns]\n",
      "0 no pageNo\n",
      "g_totalCount :  7274  numOfRows :  1000\n",
      "1 page scraping start\n",
      ">totalCount 9274\n",
      "       rn cmofNm      ofcNm     rutNm fctKdNm fctCfNm fctNm       ccwDt\n",
      "0    2001    원주청  정선국토관리사무소  일반국도42호선      교량      1종   광석교  2018-01-24\n",
      "1    2002    원주청  정선국토관리사무소  일반국도42호선      교량      기타   송단교  2018-01-24\n",
      "2    2003    원주청  정선국토관리사무소  일반국도42호선      교량      기타   상평교  2018-01-24\n",
      "3    2004    원주청  정선국토관리사무소  일반국도42호선      교량      기타  덕송육교  2018-01-24\n",
      "4    2005    원주청  정선국토관리사무소  일반국도42호선      교량      2종   마전교  2015-12-31\n",
      "..    ...    ...        ...       ...     ...     ...   ...         ...\n",
      "995  2996    대전청  보은국토관리사무소  일반국도25호선      교량      기타   정북교  2016-09-02\n",
      "996  2997    대전청  보은국토관리사무소  일반국도25호선      교량      기타  정봉육교  2016-09-02\n",
      "997  2998    대전청  보은국토관리사무소  일반국도25호선      교량      기타   정봉교  2016-09-02\n",
      "998  2999    대전청  보은국토관리사무소  일반국도25호선      교량      기타   원평교  2016-09-02\n",
      "999  3000    대전청  보은국토관리사무소  일반국도25호선      교량      기타   외남교  2011-06-30\n",
      "\n",
      "[1000 rows x 8 columns]\n",
      "0 no pageNo\n",
      "g_totalCount :  6274  numOfRows :  1000\n",
      "1 page scraping start\n",
      ">totalCount 9274\n",
      "       rn cmofNm      ofcNm     rutNm fctKdNm fctCfNm    fctNm       ccwDt\n",
      "0    3001    대전청  보은국토관리사무소  일반국도25호선      교량      기타     외남1교  2011-06-30\n",
      "1    3002    대전청  보은국토관리사무소  일반국도25호선      교량      기타     오동2교  2016-09-02\n",
      "2    3003    대전청  보은국토관리사무소  일반국도25호선      교량      기타     오동1교  2016-09-02\n",
      "3    3004    대전청  보은국토관리사무소  일반국도25호선      교량      기타      서촌교  2016-09-02\n",
      "4    3005    대전청  보은국토관리사무소  일반국도25호선      교량      기타      남촌교  2016-09-02\n",
      "..    ...    ...        ...       ...     ...     ...      ...         ...\n",
      "995  3996    익산청  광주국토관리사무소  일반국도13호선      교량      기타  오시육교(하)  2007-08-31\n",
      "996  3997    익산청  광주국토관리사무소  일반국도13호선      교량      기타     월신2교  2002-12-01\n",
      "997  3998    익산청  광주국토관리사무소  일반국도13호선      교량      1종   삼산교(상)  2007-08-31\n",
      "998  3999    익산청  광주국토관리사무소  일반국도13호선      교량      1종   삼산교(하)  2007-08-31\n",
      "999  4000    익산청  광주국토관리사무소  일반국도13호선      교량      3종   원진교(하)  2007-08-31\n",
      "\n",
      "[1000 rows x 8 columns]\n",
      "0 no pageNo\n",
      "g_totalCount :  5274  numOfRows :  1000\n",
      "1 page scraping start\n",
      ">totalCount 9274\n",
      "       rn cmofNm      ofcNm     rutNm fctKdNm fctCfNm         fctNm  \\\n",
      "0    4001    익산청  광주국토관리사무소  일반국도13호선      교량      기타           백운교   \n",
      "1    4002    익산청  광주국토관리사무소  일반국도13호선      터널      2종      풀치재터널(하)   \n",
      "2    4003    익산청  광주국토관리사무소  일반국도13호선      터널      2종      풀치재터널(상)   \n",
      "3    4004    익산청  광주국토관리사무소  일반국도13호선      교량      3종          춘양3교   \n",
      "4    4005    익산청  광주국토관리사무소  일반국도13호선      교량      3종          춘양2교   \n",
      "..    ...    ...        ...       ...     ...     ...           ...   \n",
      "995  4996    익산청  전주국토관리사무소  일반국도30호선      교량      3종       봉황1교(상)   \n",
      "996  4997    익산청  전주국토관리사무소  일반국도30호선      교량      3종      지서IC교(하)   \n",
      "997  4998    익산청  전주국토관리사무소  일반국도30호선      교량      3종      지서IC교(상)   \n",
      "998  4999    익산청  전주국토관리사무소  일반국도30호선      교량      3종  지서I/CRamp-D교   \n",
      "999  5000    익산청  전주국토관리사무소  일반국도30호선      교량      3종  지서I/CRamp-A교   \n",
      "\n",
      "          ccwDt  \n",
      "0    2000-12-01  \n",
      "1    2000-12-31  \n",
      "2    2000-12-31  \n",
      "3    2002-12-01  \n",
      "4    2002-12-01  \n",
      "..          ...  \n",
      "995  2007-05-30  \n",
      "996  2009-12-21  \n",
      "997  2009-12-21  \n",
      "998  2009-12-21  \n",
      "999  2009-12-21  \n",
      "\n",
      "[1000 rows x 8 columns]\n",
      "0 no pageNo\n",
      "g_totalCount :  4274  numOfRows :  1000\n",
      "1 page scraping start\n",
      ">totalCount 9274\n",
      "       rn cmofNm      ofcNm     rutNm fctKdNm fctCfNm    fctNm       ccwDt\n",
      "0    5001    익산청  전주국토관리사무소  일반국도30호선      교량      3종   운산교(하)  2009-12-21\n",
      "1    5002    익산청  전주국토관리사무소  일반국도30호선      교량      3종   운산교(상)  2009-12-21\n",
      "2    5003    익산청  전주국토관리사무소  일반국도30호선      교량      기타  운산육교(하)  2009-12-21\n",
      "3    5004    익산청  전주국토관리사무소  일반국도30호선      교량      기타  운산육교(상)  2009-12-21\n",
      "4    5005    익산청  전주국토관리사무소  일반국도30호선      터널      2종  항가터널(하)  2010-12-31\n",
      "..    ...    ...        ...       ...     ...     ...      ...         ...\n",
      "995  5996    강원도       북부지소   일반국도5호선      교량      기타     생창2교  2005-09-13\n",
      "996  5997    강원도       북부지소   일반국도5호선      교량      3종      원천교  1998-12-30\n",
      "997  5998    강원도       북부지소  일반국도31호선      교량      기타      도사교  1989-01-19\n",
      "998  5999    강원도       북부지소  일반국도31호선      교량      기타      한전교  2008-12-31\n",
      "999  6000    강원도       북부지소  일반국도31호선      교량      2종     송청2교  1991-12-31\n",
      "\n",
      "[1000 rows x 8 columns]\n",
      "0 no pageNo\n",
      "g_totalCount :  3274  numOfRows :  1000\n",
      "1 page scraping start\n",
      ">totalCount 9274\n",
      "       rn cmofNm      ofcNm     rutNm fctKdNm fctCfNm fctNm       ccwDt\n",
      "0    6001    강원도       북부지소  일반국도31호선      교량      3종   죽곡교  2009-12-24\n",
      "1    6002    강원도       북부지소  일반국도31호선      교량      3종  하리1교  1997-08-03\n",
      "2    6003    강원도       북부지소  일반국도46호선      교량      3종   원리교  1991-01-01\n",
      "3    6004    강원도       북부지소  일반국도46호선      교량      2종   양구교  1973-02-01\n",
      "4    6005    강원도       북부지소  일반국도46호선      교량      3종   통일교  1997-12-15\n",
      "..    ...    ...        ...       ...     ...     ...   ...         ...\n",
      "995  6996    부산청  대구국토관리사무소  일반국도25호선      교량      기타   인덕교  2005-11-21\n",
      "996  6997    부산청  대구국토관리사무소  일반국도25호선      교량      3종  월곡육교  2005-11-21\n",
      "997  6998    부산청  대구국토관리사무소  일반국도25호선      교량      3종  용문육교  2005-11-21\n",
      "998  6999    부산청  대구국토관리사무소  일반국도25호선      교량      3종  산동육교  1998-12-31\n",
      "999  7000    부산청  대구국토관리사무소  일반국도25호선      교량      3종   물방교  2005-11-21\n",
      "\n",
      "[1000 rows x 8 columns]\n",
      "0 no pageNo\n",
      "g_totalCount :  2274  numOfRows :  1000\n",
      "1 page scraping start\n",
      ">totalCount 9274\n",
      "       rn cmofNm      ofcNm     rutNm fctKdNm fctCfNm fctNm       ccwDt\n",
      "0    7001    부산청  대구국토관리사무소  일반국도25호선      교량      3종  문량육교  2005-11-21\n",
      "1    7002    부산청  대구국토관리사무소  일반국도25호선      교량      3종  괴곡육교  2005-11-21\n",
      "2    7003    부산청  대구국토관리사무소  일반국도25호선      교량      3종  괴곡1교  2005-11-21\n",
      "3    7004    부산청  대구국토관리사무소  일반국도25호선      교량      2종   습문교  2005-11-21\n",
      "4    7005    부산청  대구국토관리사무소  일반국도25호선      교량      2종   송암교  2005-11-21\n",
      "..    ...    ...        ...       ...     ...     ...   ...         ...\n",
      "995  7996    부산청  포항국토관리사무소   일반국도7호선      교량      1종  울진대교  2003-12-31\n",
      "996  7997    부산청  포항국토관리사무소   일반국도7호선      교량      3종  신수산교  2003-12-31\n",
      "997  7998    부산청  포항국토관리사무소   일반국도7호선      교량      기타   말루교  2003-12-31\n",
      "998  7999    부산청  포항국토관리사무소   일반국도7호선      교량      3종   공세교  2003-12-31\n",
      "999  8000    부산청  포항국토관리사무소   일반국도7호선      교량      3종   연호교  2003-12-31\n",
      "\n",
      "[1000 rows x 8 columns]\n",
      "0 no pageNo\n",
      "g_totalCount :  1274  numOfRows :  1000\n",
      "1 page scraping start\n",
      ">totalCount 9274\n",
      "       rn cmofNm      ofcNm     rutNm fctKdNm fctCfNm    fctNm       ccwDt\n",
      "0    8001    부산청  포항국토관리사무소   일반국도7호선      교량      2종      양정교  2003-12-31\n",
      "1    8002    부산청  포항국토관리사무소   일반국도7호선      교량      2종      온양교  2003-12-31\n",
      "2    8003    부산청  포항국토관리사무소   일반국도7호선      교량      1종     대나리교  2003-12-31\n",
      "3    8004    부산청  포항국토관리사무소   일반국도7호선      터널      2종  태봉터널(하)  2005-12-31\n",
      "4    8005    부산청  포항국토관리사무소   일반국도7호선      터널      2종  태봉터널(상)  2005-12-31\n",
      "..    ...    ...        ...       ...     ...     ...      ...         ...\n",
      "995  8996    부산청  진영국토관리사무소  일반국도14호선      교량      2종      좌천교  1993-07-30\n",
      "996  8997    부산청  진영국토관리사무소  일반국도14호선      교량      1종    좌천고가교  2013-10-10\n",
      "997  8998    부산청  진영국토관리사무소  일반국도14호선      교량      1종    좌천고가교  2012-08-14\n",
      "998  8999    부산청  진영국토관리사무소  일반국도14호선      교량      기타     하근육교  1993-04-30\n",
      "999  9000    부산청  진영국토관리사무소  일반국도14호선      교량      기타     용소천교  2015-12-29\n",
      "\n",
      "[1000 rows x 8 columns]\n",
      "0 no pageNo\n",
      "g_totalCount :  274  numOfRows :  1000\n",
      "1 page scraping start\n"
     ]
    },
    {
     "name": "stdout",
     "output_type": "stream",
     "text": [
      ">totalCount 9274\n",
      "       rn cmofNm      ofcNm     rutNm fctKdNm fctCfNm    fctNm       ccwDt\n",
      "0    9001    부산청  진영국토관리사무소  일반국도14호선      교량      기타      남창교  1997-12-31\n",
      "1    9002    부산청  진영국토관리사무소  일반국도14호선      교량      1종     남창2교  1997-12-31\n",
      "2    9003    부산청  진영국토관리사무소  일반국도14호선      교량      3종     남창1교  1997-12-31\n",
      "3    9004    부산청  진영국토관리사무소  일반국도14호선      교량      3종      운화교  1997-12-31\n",
      "4    9005    부산청  진영국토관리사무소  일반국도14호선      교량      3종      진곡교  2006-12-20\n",
      "..    ...    ...        ...       ...     ...     ...      ...         ...\n",
      "269  9270    부산청  진영국토관리사무소  일반국도58호선      교량      기타      청학교  2018-09-15\n",
      "270  9271    부산청  진영국토관리사무소  일반국도58호선      교량      기타      임천교  2018-09-15\n",
      "271  9272    부산청  진영국토관리사무소  일반국도58호선      교량      기타      용성교  1988-08-01\n",
      "272  9273    부산청  진영국토관리사무소  일반국도58호선      터널      2종  금곡터널(하)  2018-09-15\n",
      "273  9274    부산청  진영국토관리사무소  일반국도79호선      교량      기타  죽남교(이관)  1980-01-01\n",
      "\n",
      "[274 rows x 8 columns]\n",
      "0 no pageNo\n",
      "g_totalCount :  -726  numOfRows :  1000\n"
     ]
    }
   ],
   "source": [
    "resultDfMerged = pd.DataFrame()\n",
    "resultDf = pd.DataFrame()\n",
    "\n",
    "try:\n",
    "    pageNo = 1\n",
    "    global g_totalCount\n",
    "    g_totalCount = 0\n",
    "\n",
    "    while True:\n",
    "        BASEPARAM={\"serviceKey\":APIKEY,\"pageNo\": pageNo, 'numOfRows':numOfRows, \"type\":\"json\"}\n",
    "        resultDf = myscrapy(URL,SITENAME,DATANAME,SERVICENAME,BASEPARAM,PAGEYN, JSONKEY, DUMMY)\n",
    "        if resultDf.empty: # 정상 데이터가 없는 경우\n",
    "            print(\"NO DATA FOUND, CHECK CALS API\")\n",
    "            raise noDataFound()\n",
    "        else:\n",
    "            resultDfMerged = resultDfMerged.append(resultDf) \n",
    "            g_totalCount -= numOfRows\n",
    "            print(\"g_totalCount : \", g_totalCount, \" numOfRows : \", numOfRows)\n",
    "            if(g_totalCount <= 0):\n",
    "                break\n",
    "            pageNo += 1\n",
    "except noDataFound:\n",
    "    print(\"exception handled\")\n",
    "    \n",
    "        "
   ]
  },
  {
   "cell_type": "code",
   "execution_count": 24,
   "metadata": {},
   "outputs": [
    {
     "data": {
      "text/plain": [
       "(9274, 8)"
      ]
     },
     "execution_count": 24,
     "metadata": {},
     "output_type": "execute_result"
    }
   ],
   "source": [
    "resultDfMerged.shape"
   ]
  },
  {
   "cell_type": "code",
   "execution_count": 25,
   "metadata": {},
   "outputs": [
    {
     "name": "stdout",
     "output_type": "stream",
     "text": [
      "도로시설물 관리현황 정보 save compled\n"
     ]
    }
   ],
   "source": [
    "cf.savedata(resultDfMerged, SITENAME,DATANAME,SERVICENAME)"
   ]
  },
  {
   "cell_type": "code",
   "execution_count": 26,
   "metadata": {},
   "outputs": [
    {
     "data": {
      "text/plain": [
       "(9274, 8)"
      ]
     },
     "execution_count": 26,
     "metadata": {},
     "output_type": "execute_result"
    }
   ],
   "source": [
    "resultDfMerged.shape"
   ]
  },
  {
   "cell_type": "code",
   "execution_count": null,
   "metadata": {},
   "outputs": [],
   "source": []
  }
 ],
 "metadata": {
  "kernelspec": {
   "display_name": "Python 3",
   "language": "python",
   "name": "python3"
  },
  "language_info": {
   "codemirror_mode": {
    "name": "ipython",
    "version": 3
   },
   "file_extension": ".py",
   "mimetype": "text/x-python",
   "name": "python",
   "nbconvert_exporter": "python",
   "pygments_lexer": "ipython3",
   "version": "3.8.5"
  }
 },
 "nbformat": 4,
 "nbformat_minor": 5
}
