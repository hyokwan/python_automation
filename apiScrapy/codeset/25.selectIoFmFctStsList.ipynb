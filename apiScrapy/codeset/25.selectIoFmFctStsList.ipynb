{
 "cells": [
  {
   "cell_type": "markdown",
   "metadata": {
    "tags": []
   },
   "source": [
    "## 도로시설물 관리현황 정보"
   ]
  },
  {
   "cell_type": "code",
   "execution_count": 1,
   "metadata": {},
   "outputs": [
    {
     "data": {
      "text/plain": [
       "'../output/건설사업정보시스템/도로시설물 관리현황 정보/selectIoFmFctStsList.csv'"
      ]
     },
     "execution_count": 1,
     "metadata": {},
     "output_type": "execute_result"
    }
   ],
   "source": [
    "from common import commonFunc as cf\n",
    "import pandas as pd\n",
    "import pickle\n",
    "\n",
    "pd.set_option('display.max_columns', None)\n",
    "metadata = pd.read_excel(\"../input/datalake_meta22.xlsx\")\n",
    "\n",
    "SITENAME = \"건설사업정보시스템\"\n",
    "DATANAME= \"도로시설물 관리현황 정보\"\n",
    "with open(\"../input/calsapikey.pickle\",\"rb\") as fr:\n",
    "    APIKEY = pickle.load(fr)\n",
    "\n",
    "targetData = metadata.loc[metadata.자료명==DATANAME]\n",
    "preSetFolder = targetData[\"저장폴더\"].values[0]\n",
    "\n",
    "preSetFolder"
   ]
  },
  {
   "cell_type": "code",
   "execution_count": 2,
   "metadata": {},
   "outputs": [],
   "source": [
    "APIKEYLEN = len(APIKEY)"
   ]
  },
  {
   "cell_type": "code",
   "execution_count": 3,
   "metadata": {},
   "outputs": [],
   "source": [
    "# 개별 시설물 유지보수대장목록 수\n",
    "g_totalCount = 0"
   ]
  },
  {
   "cell_type": "code",
   "execution_count": 4,
   "metadata": {},
   "outputs": [
    {
     "data": {
      "text/plain": [
       "'selectIoFmFctStsList'"
      ]
     },
     "execution_count": 4,
     "metadata": {},
     "output_type": "execute_result"
    }
   ],
   "source": [
    "##### 파라미터 설정 #####\n",
    "URL = targetData[\"URL\"].values[0]\n",
    "SERVICENAME = targetData[\"서비스키\"].values[0]\n",
    "SERVICENAME = SERVICENAME.split(\".\")[0]\n",
    "SERVICENAME"
   ]
  },
  {
   "cell_type": "code",
   "execution_count": 5,
   "metadata": {},
   "outputs": [
    {
     "data": {
      "text/plain": [
       "['serviceKey',\n",
       " 'type',\n",
       " 'pageNo',\n",
       " 'numOfRows',\n",
       " 'sortField',\n",
       " 'sortOrder',\n",
       " 'searchCmofNm',\n",
       " 'searchOfcNm',\n",
       " 'searchFctNm ']"
      ]
     },
     "execution_count": 5,
     "metadata": {},
     "output_type": "execute_result"
    }
   ],
   "source": [
    "REQPARAM = targetData[\"요청변수\"].values[0]\n",
    "REQPARAM = REQPARAM.split(\",\")\n",
    "PRIMARYKEY = targetData[\"기본키\"].values[0]\n",
    "REQPARAM"
   ]
  },
  {
   "cell_type": "code",
   "execution_count": 7,
   "metadata": {},
   "outputs": [
    {
     "data": {
      "text/plain": [
       "1"
      ]
     },
     "execution_count": 7,
     "metadata": {},
     "output_type": "execute_result"
    }
   ],
   "source": [
    "# 페이지번호 설정\n",
    "PAGEYN=1\n",
    "if REQPARAM.count(\"pageNo\") == 0:\n",
    "    PAGEYN = 0\n",
    "else:\n",
    "    PAGEYN = 1\n",
    "### 기본정보 설정 및 파라미터 설정 ###\n",
    "PAGEYN"
   ]
  },
  {
   "cell_type": "code",
   "execution_count": 8,
   "metadata": {},
   "outputs": [],
   "source": [
    "JSONKEY = \"items\"\n",
    "DUMMY = 0"
   ]
  },
  {
   "cell_type": "code",
   "execution_count": 9,
   "metadata": {},
   "outputs": [
    {
     "name": "stdout",
     "output_type": "stream",
     "text": [
      "도로시설물 관리현황 정보 정보 new 모드 2 \n"
     ]
    }
   ],
   "source": [
    "newParam = []\n",
    "mode = 2\n",
    "if newParam==[]:\n",
    "    mode=2\n",
    "    print(\"{} 정보 new 모드 {} \".format(DATANAME, mode))"
   ]
  },
  {
   "cell_type": "markdown",
   "metadata": {},
   "source": [
    "## 시설물 유지보수대장 목록 전용 스크랩 함수"
   ]
  },
  {
   "cell_type": "code",
   "execution_count": 10,
   "metadata": {},
   "outputs": [],
   "source": [
    "\n",
    "pageNo = 1\n",
    "numOfRows = 1000\n"
   ]
  },
  {
   "cell_type": "code",
   "execution_count": 12,
   "metadata": {},
   "outputs": [
    {
     "name": "stdout",
     "output_type": "stream",
     "text": [
      "1 page scraping start apicall iter: 1 / used 49099D1D-E565-48E1-8A6F-D5F47135EA34\n",
      "2 page scraping start apicall iter: 2 / used 0974320D-C689-4543-8464-10DE1E5505A9\n",
      "3 page scraping start apicall iter: 3 / used 49099D1D-E565-48E1-8A6F-D5F47135EA34\n",
      "4 page scraping start apicall iter: 4 / used 0974320D-C689-4543-8464-10DE1E5505A9\n",
      "5 page scraping start apicall iter: 5 / used 49099D1D-E565-48E1-8A6F-D5F47135EA34\n",
      "6 page scraping start apicall iter: 6 / used 0974320D-C689-4543-8464-10DE1E5505A9\n",
      "7 page scraping start apicall iter: 7 / used 49099D1D-E565-48E1-8A6F-D5F47135EA34\n",
      "8 page scraping start apicall iter: 8 / used 0974320D-C689-4543-8464-10DE1E5505A9\n",
      "9 page scraping start apicall iter: 9 / used 49099D1D-E565-48E1-8A6F-D5F47135EA34\n",
      "10 page scraping start apicall iter: 10 / used 0974320D-C689-4543-8464-10DE1E5505A9\n",
      "11 page scraping start apicall iter: 11 / used 49099D1D-E565-48E1-8A6F-D5F47135EA34\n",
      "11 page is empty\n",
      "dataframe도로시설물 관리현황 정보, param:{'serviceKey': '49099D1D-E565-48E1-8A6F-D5F47135EA34', 'pageNo': 11, 'numOfRows': 1000, 'type': 'json'} rows: 8 completed\n"
     ]
    }
   ],
   "source": [
    "resultDfMerged = pd.DataFrame()\n",
    "resultDf = pd.DataFrame()\n",
    "pageList = [] # 4/28 추가\n",
    "APICALL = 0 #4/28 추가\n",
    "\n",
    "for i in range(0, 1):\n",
    "    BASEPARAM={\"serviceKey\":APIKEY[0],\"pageNo\": pageNo, 'numOfRows':numOfRows, \"type\":\"json\"}\n",
    "    scrapyResult = cf.scrapy(URL,SITENAME,DATANAME,SERVICENAME,BASEPARAM,PAGEYN,APIKEY,APICALL) #신규 4/28\n",
    "    resultDf = scrapyResult[0]\n",
    "    pageList.append( scrapyResult[1] )\n",
    "    APICALL = scrapyResult[2] \n",
    "    \n",
    "    if resultDf.empty: # 정상 데이터가 없는 경우\n",
    "        print(\"NO DATA FOUND, CHECK CALS API\")\n",
    "    else:\n",
    "        resultDfMerged = resultDfMerged.append(resultDf) \n",
    "\n",
    "\n",
    "    \n",
    "        "
   ]
  },
  {
   "cell_type": "code",
   "execution_count": 14,
   "metadata": {},
   "outputs": [
    {
     "data": {
      "text/html": [
       "<div>\n",
       "<style scoped>\n",
       "    .dataframe tbody tr th:only-of-type {\n",
       "        vertical-align: middle;\n",
       "    }\n",
       "\n",
       "    .dataframe tbody tr th {\n",
       "        vertical-align: top;\n",
       "    }\n",
       "\n",
       "    .dataframe thead th {\n",
       "        text-align: right;\n",
       "    }\n",
       "</style>\n",
       "<table border=\"1\" class=\"dataframe\">\n",
       "  <thead>\n",
       "    <tr style=\"text-align: right;\">\n",
       "      <th></th>\n",
       "      <th>rn</th>\n",
       "      <th>cmofnm</th>\n",
       "      <th>ofcnm</th>\n",
       "      <th>rutnm</th>\n",
       "      <th>fctkdnm</th>\n",
       "      <th>fctcfnm</th>\n",
       "      <th>fctnm</th>\n",
       "      <th>ccwdt</th>\n",
       "    </tr>\n",
       "  </thead>\n",
       "  <tbody>\n",
       "    <tr>\n",
       "      <th>0</th>\n",
       "      <td>1</td>\n",
       "      <td>서울청</td>\n",
       "      <td>수원국토관리사무소</td>\n",
       "      <td>일반국도3호선</td>\n",
       "      <td>교량</td>\n",
       "      <td>3종</td>\n",
       "      <td>진암교</td>\n",
       "      <td>2002-12-01</td>\n",
       "    </tr>\n",
       "    <tr>\n",
       "      <th>1</th>\n",
       "      <td>2</td>\n",
       "      <td>서울청</td>\n",
       "      <td>수원국토관리사무소</td>\n",
       "      <td>일반국도3호선</td>\n",
       "      <td>교량</td>\n",
       "      <td>기타</td>\n",
       "      <td>진암2교</td>\n",
       "      <td>2002-12-01</td>\n",
       "    </tr>\n",
       "    <tr>\n",
       "      <th>2</th>\n",
       "      <td>3</td>\n",
       "      <td>서울청</td>\n",
       "      <td>수원국토관리사무소</td>\n",
       "      <td>일반국도3호선</td>\n",
       "      <td>교량</td>\n",
       "      <td>3종</td>\n",
       "      <td>진암1교</td>\n",
       "      <td>2002-12-01</td>\n",
       "    </tr>\n",
       "    <tr>\n",
       "      <th>3</th>\n",
       "      <td>4</td>\n",
       "      <td>서울청</td>\n",
       "      <td>수원국토관리사무소</td>\n",
       "      <td>일반국도3호선</td>\n",
       "      <td>교량</td>\n",
       "      <td>3종</td>\n",
       "      <td>진암3교</td>\n",
       "      <td>2002-12-01</td>\n",
       "    </tr>\n",
       "    <tr>\n",
       "      <th>4</th>\n",
       "      <td>5</td>\n",
       "      <td>서울청</td>\n",
       "      <td>수원국토관리사무소</td>\n",
       "      <td>일반국도3호선</td>\n",
       "      <td>교량</td>\n",
       "      <td>3종</td>\n",
       "      <td>풍계교</td>\n",
       "      <td>1996-07-25</td>\n",
       "    </tr>\n",
       "    <tr>\n",
       "      <th>...</th>\n",
       "      <td>...</td>\n",
       "      <td>...</td>\n",
       "      <td>...</td>\n",
       "      <td>...</td>\n",
       "      <td>...</td>\n",
       "      <td>...</td>\n",
       "      <td>...</td>\n",
       "      <td>...</td>\n",
       "    </tr>\n",
       "    <tr>\n",
       "      <th>271</th>\n",
       "      <td>9272</td>\n",
       "      <td>부산청</td>\n",
       "      <td>진영국토관리사무소</td>\n",
       "      <td>일반국도58호선</td>\n",
       "      <td>교량</td>\n",
       "      <td>기타</td>\n",
       "      <td>청학교</td>\n",
       "      <td>2018-09-15</td>\n",
       "    </tr>\n",
       "    <tr>\n",
       "      <th>272</th>\n",
       "      <td>9273</td>\n",
       "      <td>부산청</td>\n",
       "      <td>진영국토관리사무소</td>\n",
       "      <td>일반국도58호선</td>\n",
       "      <td>교량</td>\n",
       "      <td>기타</td>\n",
       "      <td>임천교</td>\n",
       "      <td>2018-09-15</td>\n",
       "    </tr>\n",
       "    <tr>\n",
       "      <th>273</th>\n",
       "      <td>9274</td>\n",
       "      <td>부산청</td>\n",
       "      <td>진영국토관리사무소</td>\n",
       "      <td>일반국도58호선</td>\n",
       "      <td>교량</td>\n",
       "      <td>기타</td>\n",
       "      <td>용성교</td>\n",
       "      <td>1988-08-01</td>\n",
       "    </tr>\n",
       "    <tr>\n",
       "      <th>274</th>\n",
       "      <td>9275</td>\n",
       "      <td>부산청</td>\n",
       "      <td>진영국토관리사무소</td>\n",
       "      <td>일반국도58호선</td>\n",
       "      <td>터널</td>\n",
       "      <td>2종</td>\n",
       "      <td>금곡터널(하)</td>\n",
       "      <td>2018-09-15</td>\n",
       "    </tr>\n",
       "    <tr>\n",
       "      <th>275</th>\n",
       "      <td>9276</td>\n",
       "      <td>부산청</td>\n",
       "      <td>진영국토관리사무소</td>\n",
       "      <td>일반국도79호선</td>\n",
       "      <td>교량</td>\n",
       "      <td>기타</td>\n",
       "      <td>죽남교(이관)</td>\n",
       "      <td>1980-01-01</td>\n",
       "    </tr>\n",
       "  </tbody>\n",
       "</table>\n",
       "<p>9276 rows × 8 columns</p>\n",
       "</div>"
      ],
      "text/plain": [
       "       rn cmofnm      ofcnm     rutnm fctkdnm fctcfnm    fctnm       ccwdt\n",
       "0       1    서울청  수원국토관리사무소   일반국도3호선      교량      3종      진암교  2002-12-01\n",
       "1       2    서울청  수원국토관리사무소   일반국도3호선      교량      기타     진암2교  2002-12-01\n",
       "2       3    서울청  수원국토관리사무소   일반국도3호선      교량      3종     진암1교  2002-12-01\n",
       "3       4    서울청  수원국토관리사무소   일반국도3호선      교량      3종     진암3교  2002-12-01\n",
       "4       5    서울청  수원국토관리사무소   일반국도3호선      교량      3종      풍계교  1996-07-25\n",
       "..    ...    ...        ...       ...     ...     ...      ...         ...\n",
       "271  9272    부산청  진영국토관리사무소  일반국도58호선      교량      기타      청학교  2018-09-15\n",
       "272  9273    부산청  진영국토관리사무소  일반국도58호선      교량      기타      임천교  2018-09-15\n",
       "273  9274    부산청  진영국토관리사무소  일반국도58호선      교량      기타      용성교  1988-08-01\n",
       "274  9275    부산청  진영국토관리사무소  일반국도58호선      터널      2종  금곡터널(하)  2018-09-15\n",
       "275  9276    부산청  진영국토관리사무소  일반국도79호선      교량      기타  죽남교(이관)  1980-01-01\n",
       "\n",
       "[9276 rows x 8 columns]"
      ]
     },
     "execution_count": 14,
     "metadata": {},
     "output_type": "execute_result"
    }
   ],
   "source": [
    "resultDfMerged"
   ]
  },
  {
   "cell_type": "code",
   "execution_count": 15,
   "metadata": {},
   "outputs": [
    {
     "name": "stdout",
     "output_type": "stream",
     "text": [
      "도로시설물 관리현황 정보 save compled\n"
     ]
    }
   ],
   "source": [
    "cf.savedata(resultDfMerged, SITENAME,DATANAME,SERVICENAME,mode)"
   ]
  },
  {
   "cell_type": "code",
   "execution_count": 16,
   "metadata": {},
   "outputs": [
    {
     "data": {
      "text/plain": [
       "(9276, 8)"
      ]
     },
     "execution_count": 16,
     "metadata": {},
     "output_type": "execute_result"
    }
   ],
   "source": [
    "resultDfMerged.shape"
   ]
  },
  {
   "cell_type": "code",
   "execution_count": 17,
   "metadata": {},
   "outputs": [],
   "source": [
    "# 파라미터 저장 : 요청 키가 없는 API이므로, pageList만 저장\n",
    "\n",
    "# 기존사용된 파라미터 정보에 추가 파라미터 append 후 저장\n",
    "# ptlcmnoList = orgParam + ptlcmnoList\n",
    "# 파라미터 없는경우 ptlcmnoList = []\n",
    "ptlcmnoList = []\n",
    "paramList = [ptlcmnoList,pageList]\n",
    "# # 최종 파라미터 저장\n",
    "cf.saveparam(paramList, SITENAME,DATANAME,SERVICENAME)"
   ]
  },
  {
   "cell_type": "code",
   "execution_count": null,
   "metadata": {},
   "outputs": [],
   "source": []
  }
 ],
 "metadata": {
  "kernelspec": {
   "display_name": "Python 3",
   "language": "python",
   "name": "python3"
  },
  "language_info": {
   "codemirror_mode": {
    "name": "ipython",
    "version": 3
   },
   "file_extension": ".py",
   "mimetype": "text/x-python",
   "name": "python",
   "nbconvert_exporter": "python",
   "pygments_lexer": "ipython3",
   "version": "3.8.5"
  }
 },
 "nbformat": 4,
 "nbformat_minor": 5
}
