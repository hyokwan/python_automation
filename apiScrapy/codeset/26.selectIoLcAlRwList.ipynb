{
 "cells": [
  {
   "cell_type": "markdown",
   "metadata": {
    "tags": []
   },
   "source": [
    "# 공공용지 취득실적-전체보상액 규모 기준 실적 현황"
   ]
  },
  {
   "cell_type": "code",
   "execution_count": 4,
   "metadata": {},
   "outputs": [
    {
     "data": {
      "text/plain": [
       "'../output/건설사업정보시스템/공공용지 취득실적-전체보상액 규모 기준 실적 현황/selectIoLcAlRwList.csv'"
      ]
     },
     "execution_count": 4,
     "metadata": {},
     "output_type": "execute_result"
    }
   ],
   "source": [
    "from common import commonFunc as cf\n",
    "import pandas as pd\n",
    "import pickle\n",
    "\n",
    "pd.set_option('display.max_columns', None)\n",
    "metadata = pd.read_excel(\"../input/datalake_meta22.xlsx\")\n",
    "\n",
    "SITENAME = \"건설사업정보시스템\"\n",
    "DATANAME= \"공공용지 취득실적-전체보상액 규모 기준 실적 현황\"\n",
    "with open(\"../input/calsapikey.pickle\",\"rb\") as fr:\n",
    "    APIKEY = pickle.load(fr)\n",
    "\n",
    "\n",
    "targetData = metadata.loc[metadata.자료명==DATANAME]\n",
    "preSetFolder = targetData[\"저장폴더\"].values[0]\n",
    "\n",
    "preSetFolder"
   ]
  },
  {
   "cell_type": "code",
   "execution_count": 5,
   "metadata": {},
   "outputs": [],
   "source": [
    "APIKEYLEN = len(APIKEY)"
   ]
  },
  {
   "cell_type": "code",
   "execution_count": 6,
   "metadata": {},
   "outputs": [],
   "source": [
    "\n",
    "\n",
    "targetData = metadata.loc[metadata.자료명==DATANAME]\n",
    "\n",
    "##### 파라미터 설정 #####\n",
    "URL = targetData[\"URL\"].values[0]\n",
    "SERVICENAME = targetData[\"서비스키\"].values[0]\n",
    "SERVICENAME = SERVICENAME.split(\".\")[0]\n",
    "REQPARAM = targetData[\"요청변수\"].values[0]\n",
    "REQPARAM = REQPARAM.split(\",\")\n",
    "PRIMARYKEY = targetData[\"기본키\"].values[0]"
   ]
  },
  {
   "cell_type": "code",
   "execution_count": 10,
   "metadata": {},
   "outputs": [
    {
     "data": {
      "text/plain": [
       "['serviceKey', 'searchSrYr1', 'searchSrYr2', 'searchSrYr3', 'type']"
      ]
     },
     "execution_count": 10,
     "metadata": {},
     "output_type": "execute_result"
    }
   ],
   "source": [
    "REQPARAM"
   ]
  },
  {
   "cell_type": "code",
   "execution_count": 9,
   "metadata": {},
   "outputs": [
    {
     "data": {
      "text/plain": [
       "0"
      ]
     },
     "execution_count": 9,
     "metadata": {},
     "output_type": "execute_result"
    }
   ],
   "source": [
    "# 페이지번호 설정\n",
    "PAGEYN=1\n",
    "if REQPARAM.count(\"pageNo\") == 0:\n",
    "    PAGEYN = 0\n",
    "else:\n",
    "    PAGEYN = 1\n",
    "### 기본정보 설정 및 파라미터 설정 ###\n",
    "PAGEYN"
   ]
  },
  {
   "cell_type": "code",
   "execution_count": 11,
   "metadata": {},
   "outputs": [
    {
     "name": "stdout",
     "output_type": "stream",
     "text": [
      "공공용지 취득실적-전체보상액 규모 기준 실적 현황 정보 new 모드 2 \n"
     ]
    }
   ],
   "source": [
    "newParam = []\n",
    "mode = 2\n",
    "if newParam==[]:\n",
    "    mode=2\n",
    "    print(\"{} 정보 new 모드 {} \".format(DATANAME, mode))"
   ]
  },
  {
   "cell_type": "code",
   "execution_count": 12,
   "metadata": {},
   "outputs": [],
   "source": [
    "resultDfMerged = pd.DataFrame()"
   ]
  },
  {
   "cell_type": "code",
   "execution_count": 13,
   "metadata": {},
   "outputs": [
    {
     "data": {
      "text/plain": [
       "'2022'"
      ]
     },
     "execution_count": 13,
     "metadata": {},
     "output_type": "execute_result"
    }
   ],
   "source": [
    "import datetime\n",
    "\n",
    "currentDateTime = datetime.datetime.now()\n",
    "date = currentDateTime.date()\n",
    "endYr = date.strftime(\"%Y\")\n",
    "endYr"
   ]
  },
  {
   "cell_type": "code",
   "execution_count": 14,
   "metadata": {
    "scrolled": false
   },
   "outputs": [],
   "source": [
    "# 기준년도 산정\n",
    "# 2007년 부터 데이터 존재하나, 1990년부터 수행\n",
    "startYr = \"1990\"\n",
    "dateRange = list(map(int,pd.period_range(startYr,endYr,freq='Y').strftime('%Y').tolist()))\n",
    "# dateRange"
   ]
  },
  {
   "cell_type": "code",
   "execution_count": 20,
   "metadata": {},
   "outputs": [],
   "source": [
    "pageNo = 1\n",
    "numOfRows = 1000\n",
    "JSONKEY = \"detail1\"\n",
    "DUMMY = 0"
   ]
  },
  {
   "cell_type": "code",
   "execution_count": 21,
   "metadata": {
    "scrolled": true,
    "tags": []
   },
   "outputs": [
    {
     "name": "stdout",
     "output_type": "stream",
     "text": [
      "1990\n",
      "1 page scraping start apicall iter: 1 / used 49099D1D-E565-48E1-8A6F-D5F47135EA34\n",
      "0 no pageNo\n",
      "dataframe공공용지 취득실적-전체보상액 규모 기준 실적 현황, param:{'serviceKey': '49099D1D-E565-48E1-8A6F-D5F47135EA34', 'searchSrYr1': '1990', 'searchSrYr2': '1989', 'searchSrYr3': '1988', 'type': 'json'} rows: 21 completed\n",
      "1991\n",
      "1 page scraping start apicall iter: 2 / used 0974320D-C689-4543-8464-10DE1E5505A9\n",
      "0 no pageNo\n",
      "dataframe공공용지 취득실적-전체보상액 규모 기준 실적 현황, param:{'serviceKey': '0974320D-C689-4543-8464-10DE1E5505A9', 'searchSrYr1': '1991', 'searchSrYr2': '1990', 'searchSrYr3': '1989', 'type': 'json'} rows: 21 completed\n",
      "1992\n",
      "1 page scraping start apicall iter: 3 / used 49099D1D-E565-48E1-8A6F-D5F47135EA34\n",
      "0 no pageNo\n",
      "dataframe공공용지 취득실적-전체보상액 규모 기준 실적 현황, param:{'serviceKey': '49099D1D-E565-48E1-8A6F-D5F47135EA34', 'searchSrYr1': '1992', 'searchSrYr2': '1991', 'searchSrYr3': '1990', 'type': 'json'} rows: 21 completed\n",
      "1993\n",
      "1 page scraping start apicall iter: 4 / used 0974320D-C689-4543-8464-10DE1E5505A9\n",
      "0 no pageNo\n",
      "dataframe공공용지 취득실적-전체보상액 규모 기준 실적 현황, param:{'serviceKey': '0974320D-C689-4543-8464-10DE1E5505A9', 'searchSrYr1': '1993', 'searchSrYr2': '1992', 'searchSrYr3': '1991', 'type': 'json'} rows: 21 completed\n",
      "1994\n",
      "1 page scraping start apicall iter: 5 / used 49099D1D-E565-48E1-8A6F-D5F47135EA34\n",
      "0 no pageNo\n",
      "dataframe공공용지 취득실적-전체보상액 규모 기준 실적 현황, param:{'serviceKey': '49099D1D-E565-48E1-8A6F-D5F47135EA34', 'searchSrYr1': '1994', 'searchSrYr2': '1993', 'searchSrYr3': '1992', 'type': 'json'} rows: 21 completed\n",
      "1995\n",
      "1 page scraping start apicall iter: 6 / used 0974320D-C689-4543-8464-10DE1E5505A9\n",
      "0 no pageNo\n",
      "dataframe공공용지 취득실적-전체보상액 규모 기준 실적 현황, param:{'serviceKey': '0974320D-C689-4543-8464-10DE1E5505A9', 'searchSrYr1': '1995', 'searchSrYr2': '1994', 'searchSrYr3': '1993', 'type': 'json'} rows: 21 completed\n",
      "1996\n",
      "1 page scraping start apicall iter: 7 / used 49099D1D-E565-48E1-8A6F-D5F47135EA34\n",
      "0 no pageNo\n",
      "dataframe공공용지 취득실적-전체보상액 규모 기준 실적 현황, param:{'serviceKey': '49099D1D-E565-48E1-8A6F-D5F47135EA34', 'searchSrYr1': '1996', 'searchSrYr2': '1995', 'searchSrYr3': '1994', 'type': 'json'} rows: 21 completed\n",
      "1997\n",
      "1 page scraping start apicall iter: 8 / used 0974320D-C689-4543-8464-10DE1E5505A9\n",
      "0 no pageNo\n",
      "dataframe공공용지 취득실적-전체보상액 규모 기준 실적 현황, param:{'serviceKey': '0974320D-C689-4543-8464-10DE1E5505A9', 'searchSrYr1': '1997', 'searchSrYr2': '1996', 'searchSrYr3': '1995', 'type': 'json'} rows: 21 completed\n",
      "1998\n",
      "1 page scraping start apicall iter: 9 / used 49099D1D-E565-48E1-8A6F-D5F47135EA34\n",
      "0 no pageNo\n",
      "dataframe공공용지 취득실적-전체보상액 규모 기준 실적 현황, param:{'serviceKey': '49099D1D-E565-48E1-8A6F-D5F47135EA34', 'searchSrYr1': '1998', 'searchSrYr2': '1997', 'searchSrYr3': '1996', 'type': 'json'} rows: 21 completed\n",
      "1999\n",
      "1 page scraping start apicall iter: 10 / used 0974320D-C689-4543-8464-10DE1E5505A9\n",
      "0 no pageNo\n",
      "dataframe공공용지 취득실적-전체보상액 규모 기준 실적 현황, param:{'serviceKey': '0974320D-C689-4543-8464-10DE1E5505A9', 'searchSrYr1': '1999', 'searchSrYr2': '1998', 'searchSrYr3': '1997', 'type': 'json'} rows: 21 completed\n",
      "2000\n",
      "1 page scraping start apicall iter: 11 / used 49099D1D-E565-48E1-8A6F-D5F47135EA34\n",
      "0 no pageNo\n",
      "dataframe공공용지 취득실적-전체보상액 규모 기준 실적 현황, param:{'serviceKey': '49099D1D-E565-48E1-8A6F-D5F47135EA34', 'searchSrYr1': '2000', 'searchSrYr2': '1999', 'searchSrYr3': '1998', 'type': 'json'} rows: 21 completed\n",
      "2001\n",
      "1 page scraping start apicall iter: 12 / used 0974320D-C689-4543-8464-10DE1E5505A9\n",
      "0 no pageNo\n",
      "dataframe공공용지 취득실적-전체보상액 규모 기준 실적 현황, param:{'serviceKey': '0974320D-C689-4543-8464-10DE1E5505A9', 'searchSrYr1': '2001', 'searchSrYr2': '2000', 'searchSrYr3': '1999', 'type': 'json'} rows: 21 completed\n",
      "2002\n",
      "1 page scraping start apicall iter: 13 / used 49099D1D-E565-48E1-8A6F-D5F47135EA34\n",
      "0 no pageNo\n",
      "dataframe공공용지 취득실적-전체보상액 규모 기준 실적 현황, param:{'serviceKey': '49099D1D-E565-48E1-8A6F-D5F47135EA34', 'searchSrYr1': '2002', 'searchSrYr2': '2001', 'searchSrYr3': '2000', 'type': 'json'} rows: 21 completed\n",
      "2003\n",
      "1 page scraping start apicall iter: 14 / used 0974320D-C689-4543-8464-10DE1E5505A9\n",
      "0 no pageNo\n",
      "dataframe공공용지 취득실적-전체보상액 규모 기준 실적 현황, param:{'serviceKey': '0974320D-C689-4543-8464-10DE1E5505A9', 'searchSrYr1': '2003', 'searchSrYr2': '2002', 'searchSrYr3': '2001', 'type': 'json'} rows: 21 completed\n",
      "2004\n",
      "1 page scraping start apicall iter: 15 / used 49099D1D-E565-48E1-8A6F-D5F47135EA34\n",
      "0 no pageNo\n",
      "dataframe공공용지 취득실적-전체보상액 규모 기준 실적 현황, param:{'serviceKey': '49099D1D-E565-48E1-8A6F-D5F47135EA34', 'searchSrYr1': '2004', 'searchSrYr2': '2003', 'searchSrYr3': '2002', 'type': 'json'} rows: 21 completed\n",
      "2005\n",
      "1 page scraping start apicall iter: 16 / used 0974320D-C689-4543-8464-10DE1E5505A9\n",
      "0 no pageNo\n",
      "dataframe공공용지 취득실적-전체보상액 규모 기준 실적 현황, param:{'serviceKey': '0974320D-C689-4543-8464-10DE1E5505A9', 'searchSrYr1': '2005', 'searchSrYr2': '2004', 'searchSrYr3': '2003', 'type': 'json'} rows: 21 completed\n",
      "2006\n",
      "1 page scraping start apicall iter: 17 / used 49099D1D-E565-48E1-8A6F-D5F47135EA34\n",
      "0 no pageNo\n",
      "dataframe공공용지 취득실적-전체보상액 규모 기준 실적 현황, param:{'serviceKey': '49099D1D-E565-48E1-8A6F-D5F47135EA34', 'searchSrYr1': '2006', 'searchSrYr2': '2005', 'searchSrYr3': '2004', 'type': 'json'} rows: 21 completed\n",
      "2007\n",
      "1 page scraping start apicall iter: 18 / used 0974320D-C689-4543-8464-10DE1E5505A9\n",
      "0 no pageNo\n",
      "dataframe공공용지 취득실적-전체보상액 규모 기준 실적 현황, param:{'serviceKey': '0974320D-C689-4543-8464-10DE1E5505A9', 'searchSrYr1': '2007', 'searchSrYr2': '2006', 'searchSrYr3': '2005', 'type': 'json'} rows: 21 completed\n",
      "2008\n",
      "1 page scraping start apicall iter: 19 / used 49099D1D-E565-48E1-8A6F-D5F47135EA34\n",
      "0 no pageNo\n",
      "dataframe공공용지 취득실적-전체보상액 규모 기준 실적 현황, param:{'serviceKey': '49099D1D-E565-48E1-8A6F-D5F47135EA34', 'searchSrYr1': '2008', 'searchSrYr2': '2007', 'searchSrYr3': '2006', 'type': 'json'} rows: 21 completed\n",
      "2009\n",
      "1 page scraping start apicall iter: 20 / used 0974320D-C689-4543-8464-10DE1E5505A9\n",
      "0 no pageNo\n",
      "dataframe공공용지 취득실적-전체보상액 규모 기준 실적 현황, param:{'serviceKey': '0974320D-C689-4543-8464-10DE1E5505A9', 'searchSrYr1': '2009', 'searchSrYr2': '2008', 'searchSrYr3': '2007', 'type': 'json'} rows: 21 completed\n",
      "2010\n",
      "1 page scraping start apicall iter: 21 / used 49099D1D-E565-48E1-8A6F-D5F47135EA34\n",
      "0 no pageNo\n",
      "dataframe공공용지 취득실적-전체보상액 규모 기준 실적 현황, param:{'serviceKey': '49099D1D-E565-48E1-8A6F-D5F47135EA34', 'searchSrYr1': '2010', 'searchSrYr2': '2009', 'searchSrYr3': '2008', 'type': 'json'} rows: 21 completed\n",
      "2011\n",
      "1 page scraping start apicall iter: 22 / used 0974320D-C689-4543-8464-10DE1E5505A9\n",
      "0 no pageNo\n",
      "dataframe공공용지 취득실적-전체보상액 규모 기준 실적 현황, param:{'serviceKey': '0974320D-C689-4543-8464-10DE1E5505A9', 'searchSrYr1': '2011', 'searchSrYr2': '2010', 'searchSrYr3': '2009', 'type': 'json'} rows: 21 completed\n",
      "2012\n",
      "1 page scraping start apicall iter: 23 / used 49099D1D-E565-48E1-8A6F-D5F47135EA34\n",
      "0 no pageNo\n",
      "dataframe공공용지 취득실적-전체보상액 규모 기준 실적 현황, param:{'serviceKey': '49099D1D-E565-48E1-8A6F-D5F47135EA34', 'searchSrYr1': '2012', 'searchSrYr2': '2011', 'searchSrYr3': '2010', 'type': 'json'} rows: 21 completed\n",
      "2013\n",
      "1 page scraping start apicall iter: 24 / used 0974320D-C689-4543-8464-10DE1E5505A9\n",
      "0 no pageNo\n",
      "dataframe공공용지 취득실적-전체보상액 규모 기준 실적 현황, param:{'serviceKey': '0974320D-C689-4543-8464-10DE1E5505A9', 'searchSrYr1': '2013', 'searchSrYr2': '2012', 'searchSrYr3': '2011', 'type': 'json'} rows: 21 completed\n",
      "2014\n",
      "1 page scraping start apicall iter: 25 / used 49099D1D-E565-48E1-8A6F-D5F47135EA34\n",
      "0 no pageNo\n",
      "dataframe공공용지 취득실적-전체보상액 규모 기준 실적 현황, param:{'serviceKey': '49099D1D-E565-48E1-8A6F-D5F47135EA34', 'searchSrYr1': '2014', 'searchSrYr2': '2013', 'searchSrYr3': '2012', 'type': 'json'} rows: 21 completed\n",
      "2015\n",
      "1 page scraping start apicall iter: 26 / used 0974320D-C689-4543-8464-10DE1E5505A9\n",
      "0 no pageNo\n",
      "dataframe공공용지 취득실적-전체보상액 규모 기준 실적 현황, param:{'serviceKey': '0974320D-C689-4543-8464-10DE1E5505A9', 'searchSrYr1': '2015', 'searchSrYr2': '2014', 'searchSrYr3': '2013', 'type': 'json'} rows: 21 completed\n",
      "2016\n",
      "1 page scraping start apicall iter: 27 / used 49099D1D-E565-48E1-8A6F-D5F47135EA34\n",
      "0 no pageNo\n",
      "dataframe공공용지 취득실적-전체보상액 규모 기준 실적 현황, param:{'serviceKey': '49099D1D-E565-48E1-8A6F-D5F47135EA34', 'searchSrYr1': '2016', 'searchSrYr2': '2015', 'searchSrYr3': '2014', 'type': 'json'} rows: 21 completed\n",
      "2017\n",
      "1 page scraping start apicall iter: 28 / used 0974320D-C689-4543-8464-10DE1E5505A9\n"
     ]
    },
    {
     "name": "stdout",
     "output_type": "stream",
     "text": [
      "0 no pageNo\n",
      "dataframe공공용지 취득실적-전체보상액 규모 기준 실적 현황, param:{'serviceKey': '0974320D-C689-4543-8464-10DE1E5505A9', 'searchSrYr1': '2017', 'searchSrYr2': '2016', 'searchSrYr3': '2015', 'type': 'json'} rows: 21 completed\n",
      "2018\n",
      "1 page scraping start apicall iter: 29 / used 49099D1D-E565-48E1-8A6F-D5F47135EA34\n",
      "0 no pageNo\n",
      "dataframe공공용지 취득실적-전체보상액 규모 기준 실적 현황, param:{'serviceKey': '49099D1D-E565-48E1-8A6F-D5F47135EA34', 'searchSrYr1': '2018', 'searchSrYr2': '2017', 'searchSrYr3': '2016', 'type': 'json'} rows: 21 completed\n",
      "2019\n",
      "1 page scraping start apicall iter: 30 / used 0974320D-C689-4543-8464-10DE1E5505A9\n",
      "0 no pageNo\n",
      "dataframe공공용지 취득실적-전체보상액 규모 기준 실적 현황, param:{'serviceKey': '0974320D-C689-4543-8464-10DE1E5505A9', 'searchSrYr1': '2019', 'searchSrYr2': '2018', 'searchSrYr3': '2017', 'type': 'json'} rows: 21 completed\n",
      "2020\n",
      "1 page scraping start apicall iter: 31 / used 49099D1D-E565-48E1-8A6F-D5F47135EA34\n",
      "0 no pageNo\n",
      "dataframe공공용지 취득실적-전체보상액 규모 기준 실적 현황, param:{'serviceKey': '49099D1D-E565-48E1-8A6F-D5F47135EA34', 'searchSrYr1': '2020', 'searchSrYr2': '2019', 'searchSrYr3': '2018', 'type': 'json'} rows: 21 completed\n",
      "2021\n",
      "1 page scraping start apicall iter: 32 / used 0974320D-C689-4543-8464-10DE1E5505A9\n",
      "0 no pageNo\n",
      "dataframe공공용지 취득실적-전체보상액 규모 기준 실적 현황, param:{'serviceKey': '0974320D-C689-4543-8464-10DE1E5505A9', 'searchSrYr1': '2021', 'searchSrYr2': '2020', 'searchSrYr3': '2019', 'type': 'json'} rows: 21 completed\n",
      "2022\n",
      "1 page scraping start apicall iter: 33 / used 49099D1D-E565-48E1-8A6F-D5F47135EA34\n",
      "0 no pageNo\n",
      "dataframe공공용지 취득실적-전체보상액 규모 기준 실적 현황, param:{'serviceKey': '49099D1D-E565-48E1-8A6F-D5F47135EA34', 'searchSrYr1': '2022', 'searchSrYr2': '2021', 'searchSrYr3': '2020', 'type': 'json'} rows: 21 completed\n"
     ]
    }
   ],
   "source": [
    "resultDf = pd.DataFrame()\n",
    "pageList = [] # 4/28 추가\n",
    "APICALL = 0 #4/28 추가\n",
    "\n",
    "for i  in dateRange:\n",
    "    print(i)\n",
    "    BASEPARAM={\"serviceKey\":APIKEY[0],\"searchSrYr1\": str(i), \"searchSrYr2\": str(i-1), \"searchSrYr3\": str(i-2),\"type\":\"json\"}\n",
    "    scrapyResult = cf.scrapy(URL,SITENAME,DATANAME,SERVICENAME,BASEPARAM,PAGEYN, APIKEY,APICALL,JSONKEY, DUMMY)\n",
    "    resultDf = scrapyResult[0]\n",
    "    pageList.append( scrapyResult[1] )\n",
    "    APICALL = scrapyResult[2] \n",
    "    if resultDf.empty: # 정상 데이터가 없는 경우\n",
    "            print(\"No Data\")\n",
    "    else:\n",
    "        resultDfMerged = resultDfMerged.append(resultDf)"
   ]
  },
  {
   "cell_type": "code",
   "execution_count": 24,
   "metadata": {},
   "outputs": [
    {
     "ename": "KeyError",
     "evalue": "\"['index'] not found in axis\"",
     "output_type": "error",
     "traceback": [
      "\u001b[0;31m---------------------------------------------------------------------------\u001b[0m",
      "\u001b[0;31mKeyError\u001b[0m                                  Traceback (most recent call last)",
      "\u001b[0;32m<ipython-input-24-f813e04c637f>\u001b[0m in \u001b[0;36m<module>\u001b[0;34m\u001b[0m\n\u001b[0;32m----> 1\u001b[0;31m \u001b[0mresultDfMerged\u001b[0m \u001b[0;34m=\u001b[0m \u001b[0mresultDfMerged\u001b[0m\u001b[0;34m.\u001b[0m\u001b[0mdrop\u001b[0m\u001b[0;34m(\u001b[0m\u001b[0;34m\"index\"\u001b[0m\u001b[0;34m,\u001b[0m \u001b[0maxis\u001b[0m \u001b[0;34m=\u001b[0m \u001b[0;36m1\u001b[0m\u001b[0;34m)\u001b[0m\u001b[0;34m\u001b[0m\u001b[0;34m\u001b[0m\u001b[0m\n\u001b[0m\u001b[1;32m      2\u001b[0m \u001b[0mresultDfMerged\u001b[0m\u001b[0;34m\u001b[0m\u001b[0;34m\u001b[0m\u001b[0m\n",
      "\u001b[0;32m~/opt/anaconda3/lib/python3.8/site-packages/pandas/core/frame.py\u001b[0m in \u001b[0;36mdrop\u001b[0;34m(self, labels, axis, index, columns, level, inplace, errors)\u001b[0m\n\u001b[1;32m   4161\u001b[0m                 \u001b[0mweight\u001b[0m  \u001b[0;36m1.0\u001b[0m     \u001b[0;36m0.8\u001b[0m\u001b[0;34m\u001b[0m\u001b[0;34m\u001b[0m\u001b[0m\n\u001b[1;32m   4162\u001b[0m         \"\"\"\n\u001b[0;32m-> 4163\u001b[0;31m         return super().drop(\n\u001b[0m\u001b[1;32m   4164\u001b[0m             \u001b[0mlabels\u001b[0m\u001b[0;34m=\u001b[0m\u001b[0mlabels\u001b[0m\u001b[0;34m,\u001b[0m\u001b[0;34m\u001b[0m\u001b[0;34m\u001b[0m\u001b[0m\n\u001b[1;32m   4165\u001b[0m             \u001b[0maxis\u001b[0m\u001b[0;34m=\u001b[0m\u001b[0maxis\u001b[0m\u001b[0;34m,\u001b[0m\u001b[0;34m\u001b[0m\u001b[0;34m\u001b[0m\u001b[0m\n",
      "\u001b[0;32m~/opt/anaconda3/lib/python3.8/site-packages/pandas/core/generic.py\u001b[0m in \u001b[0;36mdrop\u001b[0;34m(self, labels, axis, index, columns, level, inplace, errors)\u001b[0m\n\u001b[1;32m   3885\u001b[0m         \u001b[0;32mfor\u001b[0m \u001b[0maxis\u001b[0m\u001b[0;34m,\u001b[0m \u001b[0mlabels\u001b[0m \u001b[0;32min\u001b[0m \u001b[0maxes\u001b[0m\u001b[0;34m.\u001b[0m\u001b[0mitems\u001b[0m\u001b[0;34m(\u001b[0m\u001b[0;34m)\u001b[0m\u001b[0;34m:\u001b[0m\u001b[0;34m\u001b[0m\u001b[0;34m\u001b[0m\u001b[0m\n\u001b[1;32m   3886\u001b[0m             \u001b[0;32mif\u001b[0m \u001b[0mlabels\u001b[0m \u001b[0;32mis\u001b[0m \u001b[0;32mnot\u001b[0m \u001b[0;32mNone\u001b[0m\u001b[0;34m:\u001b[0m\u001b[0;34m\u001b[0m\u001b[0;34m\u001b[0m\u001b[0m\n\u001b[0;32m-> 3887\u001b[0;31m                 \u001b[0mobj\u001b[0m \u001b[0;34m=\u001b[0m \u001b[0mobj\u001b[0m\u001b[0;34m.\u001b[0m\u001b[0m_drop_axis\u001b[0m\u001b[0;34m(\u001b[0m\u001b[0mlabels\u001b[0m\u001b[0;34m,\u001b[0m \u001b[0maxis\u001b[0m\u001b[0;34m,\u001b[0m \u001b[0mlevel\u001b[0m\u001b[0;34m=\u001b[0m\u001b[0mlevel\u001b[0m\u001b[0;34m,\u001b[0m \u001b[0merrors\u001b[0m\u001b[0;34m=\u001b[0m\u001b[0merrors\u001b[0m\u001b[0;34m)\u001b[0m\u001b[0;34m\u001b[0m\u001b[0;34m\u001b[0m\u001b[0m\n\u001b[0m\u001b[1;32m   3888\u001b[0m \u001b[0;34m\u001b[0m\u001b[0m\n\u001b[1;32m   3889\u001b[0m         \u001b[0;32mif\u001b[0m \u001b[0minplace\u001b[0m\u001b[0;34m:\u001b[0m\u001b[0;34m\u001b[0m\u001b[0;34m\u001b[0m\u001b[0m\n",
      "\u001b[0;32m~/opt/anaconda3/lib/python3.8/site-packages/pandas/core/generic.py\u001b[0m in \u001b[0;36m_drop_axis\u001b[0;34m(self, labels, axis, level, errors)\u001b[0m\n\u001b[1;32m   3919\u001b[0m                 \u001b[0mnew_axis\u001b[0m \u001b[0;34m=\u001b[0m \u001b[0maxis\u001b[0m\u001b[0;34m.\u001b[0m\u001b[0mdrop\u001b[0m\u001b[0;34m(\u001b[0m\u001b[0mlabels\u001b[0m\u001b[0;34m,\u001b[0m \u001b[0mlevel\u001b[0m\u001b[0;34m=\u001b[0m\u001b[0mlevel\u001b[0m\u001b[0;34m,\u001b[0m \u001b[0merrors\u001b[0m\u001b[0;34m=\u001b[0m\u001b[0merrors\u001b[0m\u001b[0;34m)\u001b[0m\u001b[0;34m\u001b[0m\u001b[0;34m\u001b[0m\u001b[0m\n\u001b[1;32m   3920\u001b[0m             \u001b[0;32melse\u001b[0m\u001b[0;34m:\u001b[0m\u001b[0;34m\u001b[0m\u001b[0;34m\u001b[0m\u001b[0m\n\u001b[0;32m-> 3921\u001b[0;31m                 \u001b[0mnew_axis\u001b[0m \u001b[0;34m=\u001b[0m \u001b[0maxis\u001b[0m\u001b[0;34m.\u001b[0m\u001b[0mdrop\u001b[0m\u001b[0;34m(\u001b[0m\u001b[0mlabels\u001b[0m\u001b[0;34m,\u001b[0m \u001b[0merrors\u001b[0m\u001b[0;34m=\u001b[0m\u001b[0merrors\u001b[0m\u001b[0;34m)\u001b[0m\u001b[0;34m\u001b[0m\u001b[0;34m\u001b[0m\u001b[0m\n\u001b[0m\u001b[1;32m   3922\u001b[0m             \u001b[0mresult\u001b[0m \u001b[0;34m=\u001b[0m \u001b[0mself\u001b[0m\u001b[0;34m.\u001b[0m\u001b[0mreindex\u001b[0m\u001b[0;34m(\u001b[0m\u001b[0;34m**\u001b[0m\u001b[0;34m{\u001b[0m\u001b[0maxis_name\u001b[0m\u001b[0;34m:\u001b[0m \u001b[0mnew_axis\u001b[0m\u001b[0;34m}\u001b[0m\u001b[0;34m)\u001b[0m\u001b[0;34m\u001b[0m\u001b[0;34m\u001b[0m\u001b[0m\n\u001b[1;32m   3923\u001b[0m \u001b[0;34m\u001b[0m\u001b[0m\n",
      "\u001b[0;32m~/opt/anaconda3/lib/python3.8/site-packages/pandas/core/indexes/base.py\u001b[0m in \u001b[0;36mdrop\u001b[0;34m(self, labels, errors)\u001b[0m\n\u001b[1;32m   5280\u001b[0m         \u001b[0;32mif\u001b[0m \u001b[0mmask\u001b[0m\u001b[0;34m.\u001b[0m\u001b[0many\u001b[0m\u001b[0;34m(\u001b[0m\u001b[0;34m)\u001b[0m\u001b[0;34m:\u001b[0m\u001b[0;34m\u001b[0m\u001b[0;34m\u001b[0m\u001b[0m\n\u001b[1;32m   5281\u001b[0m             \u001b[0;32mif\u001b[0m \u001b[0merrors\u001b[0m \u001b[0;34m!=\u001b[0m \u001b[0;34m\"ignore\"\u001b[0m\u001b[0;34m:\u001b[0m\u001b[0;34m\u001b[0m\u001b[0;34m\u001b[0m\u001b[0m\n\u001b[0;32m-> 5282\u001b[0;31m                 \u001b[0;32mraise\u001b[0m \u001b[0mKeyError\u001b[0m\u001b[0;34m(\u001b[0m\u001b[0;34mf\"{labels[mask]} not found in axis\"\u001b[0m\u001b[0;34m)\u001b[0m\u001b[0;34m\u001b[0m\u001b[0;34m\u001b[0m\u001b[0m\n\u001b[0m\u001b[1;32m   5283\u001b[0m             \u001b[0mindexer\u001b[0m \u001b[0;34m=\u001b[0m \u001b[0mindexer\u001b[0m\u001b[0;34m[\u001b[0m\u001b[0;34m~\u001b[0m\u001b[0mmask\u001b[0m\u001b[0;34m]\u001b[0m\u001b[0;34m\u001b[0m\u001b[0;34m\u001b[0m\u001b[0m\n\u001b[1;32m   5284\u001b[0m         \u001b[0;32mreturn\u001b[0m \u001b[0mself\u001b[0m\u001b[0;34m.\u001b[0m\u001b[0mdelete\u001b[0m\u001b[0;34m(\u001b[0m\u001b[0mindexer\u001b[0m\u001b[0;34m)\u001b[0m\u001b[0;34m\u001b[0m\u001b[0;34m\u001b[0m\u001b[0m\n",
      "\u001b[0;31mKeyError\u001b[0m: \"['index'] not found in axis\""
     ]
    }
   ],
   "source": [
    "resultDfMerged = resultDfMerged.drop(\"index\", axis = 1)\n",
    "resultDfMerged"
   ]
  },
  {
   "cell_type": "code",
   "execution_count": 10,
   "metadata": {
    "scrolled": true
   },
   "outputs": [
    {
     "name": "stdout",
     "output_type": "stream",
     "text": [
      "공공용지 취득실적-전체보상액 규모 기준 실적 현황 save compled\n"
     ]
    }
   ],
   "source": [
    "cf.savedata(resultDfMerged, SITENAME,DATANAME,SERVICENAME,mode)"
   ]
  },
  {
   "cell_type": "code",
   "execution_count": 11,
   "metadata": {},
   "outputs": [
    {
     "data": {
      "text/plain": [
       "(33, 20)"
      ]
     },
     "execution_count": 11,
     "metadata": {},
     "output_type": "execute_result"
    }
   ],
   "source": [
    "resultDfMerged.shape"
   ]
  },
  {
   "cell_type": "code",
   "execution_count": 25,
   "metadata": {},
   "outputs": [],
   "source": [
    "# 파라미터 저장 : 요청 키가 없는 API이므로, pageList만 저장\n",
    "\n",
    "# 기존사용된 파라미터 정보에 추가 파라미터 append 후 저장\n",
    "# ptlcmnoList = orgParam + ptlcmnoList\n",
    "# 파라미터 없는경우 ptlcmnoList = []\n",
    "ptlcmnoList = []\n",
    "paramList = [ptlcmnoList,pageList]\n",
    "# # 최종 파라미터 저장\n",
    "cf.saveparam(paramList, SITENAME,DATANAME,SERVICENAME)"
   ]
  },
  {
   "cell_type": "code",
   "execution_count": null,
   "metadata": {},
   "outputs": [],
   "source": []
  }
 ],
 "metadata": {
  "kernelspec": {
   "display_name": "Python 3",
   "language": "python",
   "name": "python3"
  },
  "language_info": {
   "codemirror_mode": {
    "name": "ipython",
    "version": 3
   },
   "file_extension": ".py",
   "mimetype": "text/x-python",
   "name": "python",
   "nbconvert_exporter": "python",
   "pygments_lexer": "ipython3",
   "version": "3.8.5"
  }
 },
 "nbformat": 4,
 "nbformat_minor": 5
}
