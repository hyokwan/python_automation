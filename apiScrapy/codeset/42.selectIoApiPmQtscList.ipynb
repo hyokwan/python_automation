{
 "cells": [
  {
   "cell_type": "markdown",
   "metadata": {
    "tags": []
   },
   "source": [
    "# 품질검사전문기관 목록"
   ]
  },
  {
   "cell_type": "code",
   "execution_count": 8,
   "metadata": {},
   "outputs": [
    {
     "data": {
      "text/plain": [
       "'../output/건설사업정보시스템/품질검사전문기관 목록/selectIoApiPmQtscList.csv'"
      ]
     },
     "execution_count": 8,
     "metadata": {},
     "output_type": "execute_result"
    }
   ],
   "source": [
    "from common import commonFunc as cf\n",
    "import pandas as pd\n",
    "import pickle\n",
    "\n",
    "pd.set_option('display.max_columns', None)\n",
    "metadata = pd.read_excel(\"../input/datalake_meta22.xlsx\")\n",
    "\n",
    "SITENAME = \"건설사업정보시스템\"\n",
    "DATANAME= \"품질검사전문기관 목록\"\n",
    "with open(\"../input/calsapikey.pickle\",\"rb\") as fr:\n",
    "    APIKEY = pickle.load(fr)\n",
    "\n",
    "targetData = metadata.loc[metadata.자료명==DATANAME]\n",
    "preSetFolder = targetData[\"저장폴더\"].values[0]\n",
    "\n",
    "preSetFolder"
   ]
  },
  {
   "cell_type": "code",
   "execution_count": 9,
   "metadata": {},
   "outputs": [],
   "source": [
    "targetData = metadata.loc[metadata.자료명==DATANAME]\n",
    "\n",
    "##### 파라미터 설정 #####\n",
    "URL = targetData[\"URL\"].values[0]\n",
    "SERVICENAME = targetData[\"서비스키\"].values[0]\n",
    "SERVICENAME = SERVICENAME.split(\".\")[0]\n",
    "REQPARAM = targetData[\"요청변수\"].values[0]\n",
    "REQPARAM = REQPARAM.split(\",\")\n",
    "PRIMARYKEY = targetData[\"기본키\"].values[0]"
   ]
  },
  {
   "cell_type": "code",
   "execution_count": 10,
   "metadata": {},
   "outputs": [],
   "source": [
    "JSONKEY = \"items\"\n",
    "DUMMY = 0"
   ]
  },
  {
   "cell_type": "code",
   "execution_count": 11,
   "metadata": {},
   "outputs": [
    {
     "data": {
      "text/plain": [
       "1"
      ]
     },
     "execution_count": 11,
     "metadata": {},
     "output_type": "execute_result"
    }
   ],
   "source": [
    "# 페이지번호 설정\n",
    "PAGEYN=1\n",
    "if REQPARAM.count(\"pageNo\") == 0:\n",
    "    PAGEYN = 0\n",
    "else:\n",
    "    PAGEYN = 1\n",
    "### 기본정보 설정 및 파라미터 설정 ###\n",
    "PAGEYN"
   ]
  },
  {
   "cell_type": "code",
   "execution_count": 12,
   "metadata": {},
   "outputs": [],
   "source": [
    "resultDfMerged = pd.DataFrame()"
   ]
  },
  {
   "cell_type": "code",
   "execution_count": 13,
   "metadata": {
    "scrolled": true,
    "tags": []
   },
   "outputs": [
    {
     "name": "stdout",
     "output_type": "stream",
     "text": [
      "1 page scraping start apicall iter: 1 / used 49099D1D-E565-48E1-8A6F-D5F47135EA34\n",
      "0 no pageNo\n",
      "dataframe품질검사전문기관 목록, param:{'serviceKey': '49099D1D-E565-48E1-8A6F-D5F47135EA34', 'pageNo': 1, 'numOfRows': 1000, 'type': 'json'} rows: 9 completed\n",
      "1 page scraping start apicall iter: 2 / used 0974320D-C689-4543-8464-10DE1E5505A9\n",
      "0 no pageNo\n",
      "dataframe품질검사전문기관 목록, param:{'serviceKey': '0974320D-C689-4543-8464-10DE1E5505A9', 'pageNo': 2, 'numOfRows': 1000, 'type': 'json'} rows: 9 completed\n",
      "1 page scraping start apicall iter: 3 / used 49099D1D-E565-48E1-8A6F-D5F47135EA34\n",
      "0 no pageNo\n",
      "dataframe품질검사전문기관 목록, param:{'serviceKey': '49099D1D-E565-48E1-8A6F-D5F47135EA34', 'pageNo': 3, 'numOfRows': 1000, 'type': 'json'} rows: 9 completed\n",
      "1 page scraping start apicall iter: 4 / used 0974320D-C689-4543-8464-10DE1E5505A9\n",
      "0 no pageNo\n",
      "dataframe품질검사전문기관 목록, param:{'serviceKey': '0974320D-C689-4543-8464-10DE1E5505A9', 'pageNo': 4, 'numOfRows': 1000, 'type': 'json'} rows: 9 completed\n"
     ]
    }
   ],
   "source": [
    "numOfRows = 1000\n",
    "resultDf = pd.DataFrame()\n",
    "pageList = [] # 4/28 추가\n",
    "APICALL = 0 #4/28 추가\n",
    "pageNo = 1\n",
    "# 2022.04.01. 541개 정보가 있으며, 그 이후로는 중복/반복 정보만 서버에서 리턴하고 있음 \n",
    "# totalCount를 서버에서 리턴하지 않으므로 전체 건수를 알 수 없음. \n",
    "# 따라서, PAGEYN을 0으로 고정해서 몇 번 반복 호출해봐야 함\n",
    "PAGEYN = 0\n",
    "while True:\n",
    "    if pageNo >= 5: \n",
    "        break\n",
    "    BASEPARAM={\"serviceKey\":APIKEY[0], \"pageNo\": pageNo, 'numOfRows':numOfRows, \"type\":\"json\"}\n",
    "    #print(\"BASEPARAM \",BASEPARAM)\n",
    "    scrapyResult = cf.scrapy(URL,SITENAME,DATANAME,SERVICENAME,BASEPARAM,PAGEYN, APIKEY,APICALL, JSONKEY, DUMMY)\n",
    "    resultDf = scrapyResult[0]\n",
    "    pageList.append( scrapyResult[1] )\n",
    "    APICALL = scrapyResult[2] \n",
    "    if resultDf.empty: # 정상 데이터가 없는 경우\n",
    "        print(\"No Data\")\n",
    "        break\n",
    "    else:\n",
    "        resultDfMerged = resultDfMerged.append(resultDf)\n",
    "        pageNo += 1"
   ]
  },
  {
   "cell_type": "code",
   "execution_count": 14,
   "metadata": {},
   "outputs": [
    {
     "data": {
      "text/html": [
       "<div>\n",
       "<style scoped>\n",
       "    .dataframe tbody tr th:only-of-type {\n",
       "        vertical-align: middle;\n",
       "    }\n",
       "\n",
       "    .dataframe tbody tr th {\n",
       "        vertical-align: top;\n",
       "    }\n",
       "\n",
       "    .dataframe thead th {\n",
       "        text-align: right;\n",
       "    }\n",
       "</style>\n",
       "<table border=\"1\" class=\"dataframe\">\n",
       "  <thead>\n",
       "    <tr style=\"text-align: right;\">\n",
       "      <th></th>\n",
       "      <th>rgsseq</th>\n",
       "      <th>perno</th>\n",
       "      <th>rgsdt</th>\n",
       "      <th>tpincts</th>\n",
       "      <th>bsnrngcts</th>\n",
       "      <th>mtlnm</th>\n",
       "      <th>rprnnm</th>\n",
       "      <th>tlno</th>\n",
       "      <th>bsnprstcdnm</th>\n",
       "    </tr>\n",
       "  </thead>\n",
       "  <tbody>\n",
       "    <tr>\n",
       "      <th>0</th>\n",
       "      <td>2015056</td>\n",
       "      <td>서울-4-3호</td>\n",
       "      <td>20160622</td>\n",
       "      <td>None</td>\n",
       "      <td>골재,레디믹스트콘크리트,아스팔트콘크리트,철강재</td>\n",
       "      <td>(재)한국건설품질연구원</td>\n",
       "      <td>김인식</td>\n",
       "      <td>02-501-5561</td>\n",
       "      <td>이관</td>\n",
       "    </tr>\n",
       "    <tr>\n",
       "      <th>1</th>\n",
       "      <td>2015090</td>\n",
       "      <td>인천-3-2호</td>\n",
       "      <td>20151110</td>\n",
       "      <td>품질검사(일반</td>\n",
       "      <td>골재,레디믹스트콘크리트,아스팔트콘크리트,철강재</td>\n",
       "      <td>(재)한국화학융합시험연구원 인천</td>\n",
       "      <td>권오정</td>\n",
       "      <td>032-5783-6800</td>\n",
       "      <td>이관</td>\n",
       "    </tr>\n",
       "    <tr>\n",
       "      <th>2</th>\n",
       "      <td>2013006</td>\n",
       "      <td>제2013-01호</td>\n",
       "      <td>20130603</td>\n",
       "      <td>특수</td>\n",
       "      <td>골재,레디믹스트콘크리트,아스팔트콘크리트,철강재</td>\n",
       "      <td>(주)건설재료시험연구소</td>\n",
       "      <td>남궁 혁</td>\n",
       "      <td>043-716-1122</td>\n",
       "      <td>등록취소</td>\n",
       "    </tr>\n",
       "    <tr>\n",
       "      <th>3</th>\n",
       "      <td>2019010</td>\n",
       "      <td>충북-3-12호</td>\n",
       "      <td>20150825</td>\n",
       "      <td>품질검사(일반</td>\n",
       "      <td>골재,레디믹스트콘크리트,아스팔트콘크리트,철강재</td>\n",
       "      <td>(주)건설재료시험연구소</td>\n",
       "      <td>성시완</td>\n",
       "      <td>043-716-1122</td>\n",
       "      <td>이관</td>\n",
       "    </tr>\n",
       "    <tr>\n",
       "      <th>4</th>\n",
       "      <td>2015059</td>\n",
       "      <td>충북-3-3호</td>\n",
       "      <td>20150825</td>\n",
       "      <td>품질검사(토목</td>\n",
       "      <td>골재,레디믹스트콘크리트,아스팔트콘크리트,철강재</td>\n",
       "      <td>(주)건설재료시험연구소</td>\n",
       "      <td>성시완</td>\n",
       "      <td>043-716-1122</td>\n",
       "      <td>이관</td>\n",
       "    </tr>\n",
       "    <tr>\n",
       "      <th>...</th>\n",
       "      <td>...</td>\n",
       "      <td>...</td>\n",
       "      <td>...</td>\n",
       "      <td>...</td>\n",
       "      <td>...</td>\n",
       "      <td>...</td>\n",
       "      <td>...</td>\n",
       "      <td>...</td>\n",
       "      <td>...</td>\n",
       "    </tr>\n",
       "    <tr>\n",
       "      <th>536</th>\n",
       "      <td>2022006</td>\n",
       "      <td>부산-3-17호</td>\n",
       "      <td>20220302</td>\n",
       "      <td>품질검사(특수)</td>\n",
       "      <td>용접(방사선비파괴검사),용접(자기비파괴검사),용접(초음파비파괴검사),용접(침투비파괴검사)</td>\n",
       "      <td>케이티이 주식회사</td>\n",
       "      <td>김윤길</td>\n",
       "      <td>051-207-0715</td>\n",
       "      <td>이관</td>\n",
       "    </tr>\n",
       "    <tr>\n",
       "      <th>537</th>\n",
       "      <td>2022007</td>\n",
       "      <td>인천-3-5호</td>\n",
       "      <td>20150324</td>\n",
       "      <td>품질검사(특수)</td>\n",
       "      <td>용접(방사선비파괴검사),용접(자기비파괴검사),용접(초음파비파괴검사),용접(침투비파괴검사)</td>\n",
       "      <td>에이원기술검사(주)</td>\n",
       "      <td>박덕영</td>\n",
       "      <td>032-715-7087</td>\n",
       "      <td>이관</td>\n",
       "    </tr>\n",
       "    <tr>\n",
       "      <th>538</th>\n",
       "      <td>2022008</td>\n",
       "      <td>서울-3-32호</td>\n",
       "      <td>20220317</td>\n",
       "      <td>품질검사(특수)</td>\n",
       "      <td>용접(방사선비파괴검사),용접(자기비파괴검사),용접(초음파비파괴검사),용접(침투비파괴검사)</td>\n",
       "      <td>주식회사 올네이션</td>\n",
       "      <td>김종호</td>\n",
       "      <td>070-4346-3110</td>\n",
       "      <td>이관</td>\n",
       "    </tr>\n",
       "    <tr>\n",
       "      <th>539</th>\n",
       "      <td>2022010</td>\n",
       "      <td>부산-3-14호</td>\n",
       "      <td>20141002</td>\n",
       "      <td>품질검사(일반</td>\n",
       "      <td>골재,레디믹스트콘크리트,아스팔트콘크리트,철강재</td>\n",
       "      <td>(주)한국품질연구원</td>\n",
       "      <td>이미지</td>\n",
       "      <td>051-941-6461</td>\n",
       "      <td>이관</td>\n",
       "    </tr>\n",
       "    <tr>\n",
       "      <th>540</th>\n",
       "      <td>2022009</td>\n",
       "      <td>충북-3-16호</td>\n",
       "      <td>20220323</td>\n",
       "      <td>품질검사(건축)</td>\n",
       "      <td>None</td>\n",
       "      <td>주식회사 한국방재기술시험원</td>\n",
       "      <td>이종명</td>\n",
       "      <td>043-883-8416</td>\n",
       "      <td>이관</td>\n",
       "    </tr>\n",
       "  </tbody>\n",
       "</table>\n",
       "<p>541 rows × 9 columns</p>\n",
       "</div>"
      ],
      "text/plain": [
       "      rgsseq      perno     rgsdt   tpincts  \\\n",
       "0    2015056    서울-4-3호  20160622      None   \n",
       "1    2015090    인천-3-2호  20151110   품질검사(일반   \n",
       "2    2013006  제2013-01호  20130603        특수   \n",
       "3    2019010   충북-3-12호  20150825   품질검사(일반   \n",
       "4    2015059    충북-3-3호  20150825   품질검사(토목   \n",
       "..       ...        ...       ...       ...   \n",
       "536  2022006   부산-3-17호  20220302  품질검사(특수)   \n",
       "537  2022007    인천-3-5호  20150324  품질검사(특수)   \n",
       "538  2022008   서울-3-32호  20220317  품질검사(특수)   \n",
       "539  2022010   부산-3-14호  20141002   품질검사(일반   \n",
       "540  2022009   충북-3-16호  20220323  품질검사(건축)   \n",
       "\n",
       "                                             bsnrngcts              mtlnm  \\\n",
       "0                            골재,레디믹스트콘크리트,아스팔트콘크리트,철강재       (재)한국건설품질연구원   \n",
       "1                            골재,레디믹스트콘크리트,아스팔트콘크리트,철강재  (재)한국화학융합시험연구원 인천   \n",
       "2                            골재,레디믹스트콘크리트,아스팔트콘크리트,철강재       (주)건설재료시험연구소   \n",
       "3                            골재,레디믹스트콘크리트,아스팔트콘크리트,철강재       (주)건설재료시험연구소   \n",
       "4                            골재,레디믹스트콘크리트,아스팔트콘크리트,철강재       (주)건설재료시험연구소   \n",
       "..                                                 ...                ...   \n",
       "536  용접(방사선비파괴검사),용접(자기비파괴검사),용접(초음파비파괴검사),용접(침투비파괴검사)          케이티이 주식회사   \n",
       "537  용접(방사선비파괴검사),용접(자기비파괴검사),용접(초음파비파괴검사),용접(침투비파괴검사)         에이원기술검사(주)   \n",
       "538  용접(방사선비파괴검사),용접(자기비파괴검사),용접(초음파비파괴검사),용접(침투비파괴검사)          주식회사 올네이션   \n",
       "539                          골재,레디믹스트콘크리트,아스팔트콘크리트,철강재         (주)한국품질연구원   \n",
       "540                                               None     주식회사 한국방재기술시험원   \n",
       "\n",
       "    rprnnm           tlno bsnprstcdnm  \n",
       "0      김인식    02-501-5561          이관  \n",
       "1      권오정  032-5783-6800          이관  \n",
       "2     남궁 혁   043-716-1122        등록취소  \n",
       "3      성시완   043-716-1122          이관  \n",
       "4      성시완   043-716-1122          이관  \n",
       "..     ...            ...         ...  \n",
       "536    김윤길   051-207-0715          이관  \n",
       "537    박덕영   032-715-7087          이관  \n",
       "538    김종호  070-4346-3110          이관  \n",
       "539    이미지   051-941-6461          이관  \n",
       "540    이종명   043-883-8416          이관  \n",
       "\n",
       "[541 rows x 9 columns]"
      ]
     },
     "execution_count": 14,
     "metadata": {},
     "output_type": "execute_result"
    }
   ],
   "source": [
    "resultDfMerged = resultDfMerged.drop_duplicates()\n",
    "resultDfMerged"
   ]
  },
  {
   "cell_type": "code",
   "execution_count": 13,
   "metadata": {
    "scrolled": true
   },
   "outputs": [
    {
     "name": "stdout",
     "output_type": "stream",
     "text": [
      "품질검사전문기관 목록 save compled\n"
     ]
    }
   ],
   "source": [
    "cf.savedata(resultDfMerged, SITENAME,DATANAME,SERVICENAME)"
   ]
  },
  {
   "cell_type": "code",
   "execution_count": 15,
   "metadata": {},
   "outputs": [
    {
     "data": {
      "text/plain": [
       "(541, 9)"
      ]
     },
     "execution_count": 15,
     "metadata": {},
     "output_type": "execute_result"
    }
   ],
   "source": [
    "resultDfMerged.shape"
   ]
  },
  {
   "cell_type": "code",
   "execution_count": 16,
   "metadata": {},
   "outputs": [],
   "source": [
    "# 파라미터 저장 : 요청 키가 없는 API이므로, pageList만 저장\n",
    "\n",
    "# 기존사용된 파라미터 정보에 추가 파라미터 append 후 저장\n",
    "# ptlcmnoList = orgParam + ptlcmnoList\n",
    "# 파라미터 없는경우 ptlcmnoList = []\n",
    "ptlcmnoList = []\n",
    "paramList = [ptlcmnoList,pageList]\n",
    "# # 최종 파라미터 저장\n",
    "cf.saveparam(paramList, SITENAME,DATANAME,SERVICENAME)"
   ]
  },
  {
   "cell_type": "code",
   "execution_count": null,
   "metadata": {},
   "outputs": [],
   "source": []
  }
 ],
 "metadata": {
  "kernelspec": {
   "display_name": "Python 3",
   "language": "python",
   "name": "python3"
  },
  "language_info": {
   "codemirror_mode": {
    "name": "ipython",
    "version": 3
   },
   "file_extension": ".py",
   "mimetype": "text/x-python",
   "name": "python",
   "nbconvert_exporter": "python",
   "pygments_lexer": "ipython3",
   "version": "3.8.5"
  }
 },
 "nbformat": 4,
 "nbformat_minor": 5
}
