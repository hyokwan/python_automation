{
 "cells": [
  {
   "cell_type": "code",
   "execution_count": 1,
   "id": "084c4178-364f-4144-9bf7-7abebbc15355",
   "metadata": {},
   "outputs": [],
   "source": [
    "import pandas as pd\n",
    "import requests\n",
    "import bs4\n",
    "import re\n",
    "import os"
   ]
  },
  {
   "cell_type": "markdown",
   "id": "7e5d79bc-6256-4d70-bbe3-a753ce8eb702",
   "metadata": {},
   "source": [
    "# 1. 수집해야할 항목의 링크주소 수집"
   ]
  },
  {
   "cell_type": "code",
   "execution_count": 2,
   "id": "8be2b26c-ecd4-435f-94c1-eb1002fd684b",
   "metadata": {},
   "outputs": [],
   "source": [
    "mainUrl = \"https://www.calspia.go.kr/io/openapi/gid/selectOpenApiSvcListView.do\""
   ]
  },
  {
   "cell_type": "code",
   "execution_count": 3,
   "id": "3d7de90a-df22-43f0-ab00-6499ea610403",
   "metadata": {},
   "outputs": [],
   "source": [
    "mainresp = requests.get(mainUrl)\n",
    "\n",
    "mainhtml = mainresp.text"
   ]
  },
  {
   "cell_type": "code",
   "execution_count": 4,
   "id": "e8d2af80-afe4-4d90-90ca-95cfd07e7e99",
   "metadata": {},
   "outputs": [],
   "source": [
    "mainbs = bs4.BeautifulSoup(mainhtml,\"html.parser\")"
   ]
  },
  {
   "cell_type": "code",
   "execution_count": 5,
   "id": "e4246ada-48bf-4d50-a986-8e887f750444",
   "metadata": {},
   "outputs": [],
   "source": [
    "tableTag = mainbs.find(name=\"table\", attrs={\"id\":\"cmTable\"})"
   ]
  },
  {
   "cell_type": "code",
   "execution_count": 6,
   "id": "ea0a9c59-8370-4a9a-aedb-eb73abc1489c",
   "metadata": {},
   "outputs": [],
   "source": [
    "inputTags = tableTag.findAll(name=\"input\")"
   ]
  },
  {
   "cell_type": "code",
   "execution_count": 7,
   "id": "b8b41010-4152-474d-85e4-7c47641d8872",
   "metadata": {},
   "outputs": [],
   "source": [
    "cmList = []"
   ]
  },
  {
   "cell_type": "code",
   "execution_count": 8,
   "id": "4b14b46a-e212-46d8-932a-f6ebf7cb8a36",
   "metadata": {},
   "outputs": [],
   "source": [
    "for i in range(0, len(inputTags)):\n",
    "    cmValue = inputTags[i].attrs[\"value\"]\n",
    "    cmList.append(cmValue)"
   ]
  },
  {
   "cell_type": "markdown",
   "id": "d5fcc027-39de-41be-b399-1a165271f6d8",
   "metadata": {},
   "source": [
    "### 2. 링크주소 내 타이틀정보 및 컬럼세부정보 수집"
   ]
  },
  {
   "cell_type": "code",
   "execution_count": 9,
   "id": "af8bbfd1-b82f-4d79-b7c5-a95a086aa3ed",
   "metadata": {},
   "outputs": [],
   "source": [
    "preFixUrl = \"https://www.calspia.go.kr/io/openapi/gid/selectOpenApiSvcDtlView.do?apiSvcCd=\""
   ]
  },
  {
   "cell_type": "code",
   "execution_count": 10,
   "id": "a18af7f6-6890-4556-9efe-febe69ba3967",
   "metadata": {},
   "outputs": [
    {
     "name": "stdout",
     "output_type": "stream",
     "text": [
      "공사정보 목록\n"
     ]
    },
    {
     "ename": "NameError",
     "evalue": "name 'tableList' is not defined",
     "output_type": "error",
     "traceback": [
      "\u001b[1;31m---------------------------------------------------------------------------\u001b[0m",
      "\u001b[1;31mNameError\u001b[0m                                 Traceback (most recent call last)",
      "\u001b[1;32m~\\AppData\\Local\\Temp/ipykernel_9816/57864967.py\u001b[0m in \u001b[0;36m<module>\u001b[1;34m\u001b[0m\n\u001b[0;32m     81\u001b[0m     \u001b[0mtableDefine\u001b[0m \u001b[1;33m=\u001b[0m \u001b[0mpd\u001b[0m\u001b[1;33m.\u001b[0m\u001b[0mDataFrame\u001b[0m\u001b[1;33m(\u001b[0m \u001b[0mrowList\u001b[0m\u001b[1;33m[\u001b[0m\u001b[1;33m:\u001b[0m\u001b[1;33m]\u001b[0m\u001b[1;33m,\u001b[0m\u001b[0mcolumns\u001b[0m \u001b[1;33m=\u001b[0m \u001b[0mcolumnNames\u001b[0m\u001b[1;33m)\u001b[0m\u001b[1;33m\u001b[0m\u001b[1;33m\u001b[0m\u001b[0m\n\u001b[0;32m     82\u001b[0m \u001b[1;33m\u001b[0m\u001b[0m\n\u001b[1;32m---> 83\u001b[1;33m     \u001b[0mtableList\u001b[0m\u001b[1;33m.\u001b[0m\u001b[0mappend\u001b[0m\u001b[1;33m(\u001b[0m\u001b[0mtableDefine\u001b[0m\u001b[1;33m)\u001b[0m\u001b[1;33m\u001b[0m\u001b[1;33m\u001b[0m\u001b[0m\n\u001b[0m",
      "\u001b[1;31mNameError\u001b[0m: name 'tableList' is not defined"
     ]
    }
   ],
   "source": [
    "for cm in range(0, len(cmList)):\n",
    "\n",
    "    url = preFixUrl+cmList[cm]\n",
    "\n",
    "    resp = requests.get(url)\n",
    "\n",
    "    html = resp.text\n",
    "\n",
    "    bs = bs4.BeautifulSoup(html,\"html.parser\")\n",
    "\n",
    "    metadata = pd.read_excel(\"../input/datalake_meta22.xlsx\")\n",
    "\n",
    "    ### 기본정보 설정 및 파라미터 설정 ###\n",
    "    SITENAME = \"건설사업정보시스템\"\n",
    "    DATANAME = bs.find(name=\"h2\", attrs={\"class\":\"subnav_tit_lv1\"}).text\n",
    "    print(DATANAME)\n",
    "    APIKEY = \"1EFCBE0D-3203-4485-A7BA-5F5DB2B476BF\"\n",
    "\n",
    "    targetData = metadata.loc[metadata.자료명==DATANAME]\n",
    "    # URL = targetData[\"URL\"].values[0]\n",
    "    # SERVICENAME = targetData[\"서비스키\"].values[0]\n",
    "    # SERVICENAME = SERVICENAME.split(\".\")[0]\n",
    "    # REQPARAM = targetData[\"요청변수\"].values[0]\n",
    "    # REQPARAM = REQPARAM.split(\",\")\n",
    "    # PRIMARYKEY = targetData[\"기본키\"].values[0]\n",
    "\n",
    "    test = bs.find(name=\"table\", attrs={\"class\":\"common_tbl\", \n",
    "                                        \"id\":\"prnItemTable\"} )\n",
    "\n",
    "    tbodyTag = bs.find(name=\"tbody\", attrs={\"id\":\"prnItemTableBody\"} )\n",
    "\n",
    "    columnList = []\n",
    "    rowList = []\n",
    "\n",
    "    tableRows = tbodyTag.findAll(name=\"tr\")\n",
    "\n",
    "    tableRowsLen = len(tableRows)\n",
    "\n",
    "    dataString1 = DATANAME.split(\" \")[0]\n",
    "    dataString2 = DATANAME.split(\" \")[1]\n",
    "    if cmList[cm]== \"CM_0000331\":\n",
    "        dataString1=\"공사현황\"\n",
    "    if cmList[cm]==\"FM_0000332\":\n",
    "        dataString1=\"시설물\"\n",
    "    if (cm >=25) & (cm <=37):\n",
    "        dataString1=\"보상\"\n",
    "    if cmList[cm]==\"LC_0000145\":\n",
    "        dataString1=\"환매권\"\n",
    "    if cmList[cm]==\"LC_0000146\":\n",
    "        dataString1=\"부동산소유사실\"\n",
    "    if cmList[cm]==\"PT_0000190\":\n",
    "        dataString1=\"검토조직\"\n",
    "    if cmList[cm]==\"PT_0000321\":\n",
    "        dataString1=\"바디\"\n",
    "    skipAct=False\n",
    "    for row in range(0, tableRowsLen):\n",
    "\n",
    "        searchString = re.sub(r\"[\\n\\t\\s\\r]*\", \"\", tableRows[row].text)\n",
    "\n",
    "        if  (searchString.count(dataString1) >=1)|(skipAct)|(searchString.count(dataString2) >=1):\n",
    "            skipAct=True\n",
    "        else:\n",
    "            continue\n",
    "\n",
    "        eachRow = tableRows[row]\n",
    "\n",
    "        columns = eachRow.findAll(name=\"td\")\n",
    "\n",
    "        for i in range(0, len(columns)):\n",
    "\n",
    "            columnValue = columns[i].text\n",
    "            columnValue = re.sub(r\"[\\n\\t\\s\\r]*\", \"\", columnValue)\n",
    "            columnList.append(columnValue)\n",
    "\n",
    "        rowList.append(columnList)\n",
    "\n",
    "        columnList = []\n",
    "\n",
    "    columnNames = [\"컬럼명\",\"컬럼타입\",\"컬럼정보\"]\n",
    "\n",
    "    tableDefine = pd.DataFrame( rowList[:],columns = columnNames)\n",
    "\n",
    "    tableList.append(tableDefine)"
   ]
  },
  {
   "cell_type": "markdown",
   "id": "e937bd0b-7a80-4d63-b051-da82932084f0",
   "metadata": {},
   "source": [
    "### 3. 수집된정보 엑셀 내 시트추가하여 저장"
   ]
  },
  {
   "cell_type": "code",
   "execution_count": null,
   "id": "702d4767-5b57-4f96-b7cd-66d9ff77e725",
   "metadata": {},
   "outputs": [],
   "source": [
    "for i in range(0, len(tableList)):\n",
    "    # print(cmList[i])\n",
    "    sheetName = \"sheet\"\n",
    "    try: \n",
    "        sheetName = tableList[i].loc[0].컬럼정보\n",
    "    except:\n",
    "        sheetName = \"sheet\"\n",
    "    sheetName = sheetName.replace(\"/\",\"_\")\n",
    "    print(sheetName)\n",
    "    df = tableList[i].loc[1:]\n",
    "    ## 파일이 존재하지 않으면 생성\n",
    "    ## 파일이 존재하지 않으면 생성\n",
    "    try:\n",
    "        if not os.path.exists(\"output.xlsx\"):\n",
    "            with pd.ExcelWriter(\"output.xlsx\", mode=\"w\", engine=\"openpyxl\") as writer:\n",
    "                df.to_excel(writer, index=False,sheet_name = sheetName)\n",
    "\n",
    "        else:\n",
    "            with pd.ExcelWriter(\"output.xlsx\", mode=\"a\", engine=\"openpyxl\",if_sheet_exists=\"new\") as writer:\n",
    "                df.to_excel(writer, index=False,sheet_name = sheetName)  \n",
    "    except Exception as e:\n",
    "        print(e,i)"
   ]
  }
 ],
 "metadata": {
  "kernelspec": {
   "display_name": "Python 3 (ipykernel)",
   "language": "python",
   "name": "python3"
  },
  "language_info": {
   "codemirror_mode": {
    "name": "ipython",
    "version": 3
   },
   "file_extension": ".py",
   "mimetype": "text/x-python",
   "name": "python",
   "nbconvert_exporter": "python",
   "pygments_lexer": "ipython3",
   "version": "3.9.7"
  }
 },
 "nbformat": 4,
 "nbformat_minor": 5
}
